{
 "cells": [
  {
   "cell_type": "code",
   "execution_count": 9,
   "metadata": {},
   "outputs": [],
   "source": [
    "#this prototype just looks at batch_size and epochs\n",
    "\n",
    "#load all packages\n",
    "\n",
    "import sys\n",
    "\n",
    "sys.path\n",
    "\n",
    "sys.executable\n",
    "\n",
    "import pandas as pd\n",
    "import numpy as np\n",
    "import matplotlib.pyplot as plt\n",
    "import scipy.stats as stats\n",
    "import seaborn as sns\n",
    "from sklearn import preprocessing\n",
    "import random\n",
    "import tensorflow as tf\n",
    "from tensorflow import keras\n",
    "\n",
    "np.random.seed(1337)\n",
    "\n",
    "\n",
    "from keras.preprocessing import sequence\n",
    "from tensorflow.keras.optimizers import RMSprop\n",
    "from keras.models import Sequential\n",
    "from keras.layers.core import Dense\n",
    "from keras.layers.core import Dropout\n",
    "from keras.layers.core import Activation\n",
    "from keras.layers.core import Flatten\n",
    "from keras.layers.convolutional import Conv1D\n",
    "from sklearn import svm, datasets\n",
    "from sklearn.model_selection import GridSearchCV\n",
    "from scikeras.wrappers import KerasClassifier\n",
    "from sklearn.model_selection import train_test_split"
   ]
  },
  {
   "cell_type": "code",
   "execution_count": 13,
   "metadata": {},
   "outputs": [
    {
     "name": "stdout",
     "output_type": "stream",
     "text": [
      "success\n"
     ]
    }
   ],
   "source": [
    "#call the model you are trying to optimize\n",
    "#for every parameter you want to run, you need to put the variable in the function\n",
    "\n",
    "def train_model(x, y, border_mode='same', inp_len=133, nodes=40, layers=3, filter_len=8, nbr_filters=120,\n",
    "                dropout1=0, dropout2=0, dropout3=0, nb_epoch=3, batch_size=128, optimizer=\"Adam\", activation=\"relu\"):\n",
    "    ''' Build model archicture and fit.'''\n",
    "    model = Sequential()\n",
    "    if layers >= 1:\n",
    "        model.add(Conv1D(activation=\"relu\", input_shape=(inp_len, 4), padding=border_mode, filters=nbr_filters, kernel_size=filter_len))\n",
    "    if layers >= 2:\n",
    "        model.add(Conv1D(activation=\"relu\", input_shape=(inp_len, 1), padding=border_mode, filters=nbr_filters, kernel_size=filter_len))\n",
    "        model.add(Dropout(dropout1))\n",
    "    if layers >= 3:\n",
    "        model.add(Conv1D(activation=\"relu\", input_shape=(inp_len, 1), padding=border_mode, filters=nbr_filters, kernel_size=filter_len))\n",
    "        model.add(Dropout(dropout2))\n",
    "    model.add(Flatten())\n",
    "\n",
    "    model.add(Dense(nodes))\n",
    "    model.add(Activation('relu'))\n",
    "    model.add(Dropout(dropout3))\n",
    "    \n",
    "    model.add(Dense(1))\n",
    "    model.add(Activation('linear'))\n",
    "\n",
    "    #compile the model\n",
    "    adam = tf.keras.optimizers.Adam(learning_rate=0.001, beta_1=0.9, beta_2=0.999, epsilon=1e-08)\n",
    "    model.compile(loss='mean_squared_error', optimizer=adam)\n",
    "    \n",
    "\n",
    "    model.fit(x, y, batch_size=20, epochs=nb_epoch, verbose=1)\n",
    "    return model\n",
    "\n",
    "\n",
    "def test_data(df, model, test_seq, obs_col, output_col='pred'):\n",
    "    '''Predict mean ribosome load using model and test set UTRs'''\n",
    "    \n",
    "    # Scale the test set mean ribosome load\n",
    "    scaler = preprocessing.StandardScaler() #sets mrl based on variance rather than mean\n",
    "    scaler.fit(df[obs_col].values.reshape(-1,1))\n",
    "    \n",
    "    # Make predictions\n",
    "    predictions = model.predict(test_seq).reshape(-1,1)\n",
    "    \n",
    "    # Inverse scaled predicted mean ribosome load and return in a column labeled 'pred'\n",
    "    df.loc[:,output_col] = scaler.inverse_transform(predictions)\n",
    "    return df\n",
    "\n",
    "\n",
    "def one_hot_encode(df, col='Alligned Barcode', seq_len=133):\n",
    "    # Dictionary returning one-hot encoding of nucleotides. \n",
    "    nuc_d = {'a':[1,0,0,0],'c':[0,1,0,0],'g':[0,0,1,0],'t':[0,0,0,1], 'n':[0,0,0,0]}\n",
    "    \n",
    "    # Creat empty matrix.\n",
    "    vectors=np.empty([len(df),seq_len,4])\n",
    "    \n",
    "    # Iterate through UTRs and one-hot encode\n",
    "    for i,seq in enumerate(df[col].str[:seq_len]): \n",
    "        seq = seq.lower()\n",
    "        a = np.array([nuc_d[x] for x in seq])\n",
    "        vectors[i] = a\n",
    "    return vectors\n",
    "\n",
    "\n",
    "def r2(x,y):\n",
    "    slope, intercept, r_value, p_value, std_err = stats.linregress(x,y)\n",
    "    return r_value**2\n",
    "\n",
    "print(\"success\")"
   ]
  },
  {
   "cell_type": "code",
   "execution_count": 11,
   "metadata": {},
   "outputs": [
    {
     "name": "stdout",
     "output_type": "stream",
     "text": [
      "Ready for Grid Search\n"
     ]
    }
   ],
   "source": [
    "df = pd.read_pickle('Alligned Barcodes-50bp flanks/Barcode_mg_133bp_Alligned.pkl')       #mod1-added my own file\n",
    "\n",
    "df.sort_values('Count Freq', inplace=True, ascending=False)\n",
    "df.reset_index(inplace=True, drop=True)\n",
    "df = df.iloc[:1565] \n",
    "\n",
    "\n",
    "e_test = df.iloc[:156]  \n",
    "e_train = df.iloc[156:]  \n",
    "\n",
    "\n",
    "\n",
    "#X_train, X_test, y_train, y_test = train_test_split(df[\"Alligned Barcode\"], df[\"Change in Count Freq\"], test_size=0.10, random_state=42) \n",
    "\n",
    "# One-hot encode both training and test UTRs\n",
    "seq_e_train = one_hot_encode(e_train,seq_len=133)\n",
    "seq_e_test = one_hot_encode(e_test, seq_len=133)\n",
    "\n",
    "e_train.loc[:, 'Count Freq']\n",
    "print (\"Ready for Grid Search\")"
   ]
  },
  {
   "cell_type": "code",
   "execution_count": 6,
   "metadata": {},
   "outputs": [
    {
     "name": "stdout",
     "output_type": "stream",
     "text": [
      "Epoch 1/3\n",
      "71/71 [==============================] - 5s 66ms/step - loss: 0.1463\n",
      "Epoch 2/3\n",
      "71/71 [==============================] - 5s 66ms/step - loss: 3.8583e-06\n",
      "Epoch 3/3\n",
      "71/71 [==============================] - 5s 66ms/step - loss: 3.1523e-06\n",
      "Epoch 1/3\n"
     ]
    },
    {
     "name": "stderr",
     "output_type": "stream",
     "text": [
      "/tmp/ipykernel_1952487/1632939407.py:45: SettingWithCopyWarning: \n",
      "A value is trying to be set on a copy of a slice from a DataFrame.\n",
      "Try using .loc[row_indexer,col_indexer] = value instead\n",
      "\n",
      "See the caveats in the documentation: https://pandas.pydata.org/pandas-docs/stable/user_guide/indexing.html#returning-a-view-versus-a-copy\n",
      "  df.loc[:,output_col] = scaler.inverse_transform(predictions)\n"
     ]
    },
    {
     "name": "stdout",
     "output_type": "stream",
     "text": [
      "71/71 [==============================] - 5s 68ms/step - loss: 0.2209\n",
      "Epoch 2/3\n",
      "71/71 [==============================] - 5s 68ms/step - loss: 1.3602e-06\n",
      "Epoch 3/3\n",
      "71/71 [==============================] - 5s 68ms/step - loss: 9.1818e-07\n",
      "Epoch 1/3\n"
     ]
    },
    {
     "name": "stderr",
     "output_type": "stream",
     "text": [
      "/tmp/ipykernel_1952487/1632939407.py:45: SettingWithCopyWarning: \n",
      "A value is trying to be set on a copy of a slice from a DataFrame.\n",
      "Try using .loc[row_indexer,col_indexer] = value instead\n",
      "\n",
      "See the caveats in the documentation: https://pandas.pydata.org/pandas-docs/stable/user_guide/indexing.html#returning-a-view-versus-a-copy\n",
      "  df.loc[:,output_col] = scaler.inverse_transform(predictions)\n"
     ]
    },
    {
     "name": "stdout",
     "output_type": "stream",
     "text": [
      "71/71 [==============================] - 5s 66ms/step - loss: 0.0255\n",
      "Epoch 2/3\n",
      "71/71 [==============================] - 5s 65ms/step - loss: 8.3972e-07\n",
      "Epoch 3/3\n",
      "71/71 [==============================] - 5s 65ms/step - loss: 2.0282e-07\n",
      "Epoch 1/3\n"
     ]
    },
    {
     "name": "stderr",
     "output_type": "stream",
     "text": [
      "/tmp/ipykernel_1952487/1632939407.py:45: SettingWithCopyWarning: \n",
      "A value is trying to be set on a copy of a slice from a DataFrame.\n",
      "Try using .loc[row_indexer,col_indexer] = value instead\n",
      "\n",
      "See the caveats in the documentation: https://pandas.pydata.org/pandas-docs/stable/user_guide/indexing.html#returning-a-view-versus-a-copy\n",
      "  df.loc[:,output_col] = scaler.inverse_transform(predictions)\n"
     ]
    },
    {
     "name": "stdout",
     "output_type": "stream",
     "text": [
      "71/71 [==============================] - 5s 68ms/step - loss: 0.1769\n",
      "Epoch 2/3\n",
      "71/71 [==============================] - 5s 68ms/step - loss: 2.7039e-06\n",
      "Epoch 3/3\n",
      "71/71 [==============================] - 5s 68ms/step - loss: 1.6024e-06\n",
      "Epoch 1/3\n"
     ]
    },
    {
     "name": "stderr",
     "output_type": "stream",
     "text": [
      "/tmp/ipykernel_1952487/1632939407.py:45: SettingWithCopyWarning: \n",
      "A value is trying to be set on a copy of a slice from a DataFrame.\n",
      "Try using .loc[row_indexer,col_indexer] = value instead\n",
      "\n",
      "See the caveats in the documentation: https://pandas.pydata.org/pandas-docs/stable/user_guide/indexing.html#returning-a-view-versus-a-copy\n",
      "  df.loc[:,output_col] = scaler.inverse_transform(predictions)\n"
     ]
    },
    {
     "name": "stdout",
     "output_type": "stream",
     "text": [
      "71/71 [==============================] - 5s 65ms/step - loss: 0.1789\n",
      "Epoch 2/3\n",
      "71/71 [==============================] - 5s 65ms/step - loss: 2.1264e-06\n",
      "Epoch 3/3\n",
      "71/71 [==============================] - 5s 65ms/step - loss: 1.4268e-06\n",
      "Epoch 1/3\n"
     ]
    },
    {
     "name": "stderr",
     "output_type": "stream",
     "text": [
      "/tmp/ipykernel_1952487/1632939407.py:45: SettingWithCopyWarning: \n",
      "A value is trying to be set on a copy of a slice from a DataFrame.\n",
      "Try using .loc[row_indexer,col_indexer] = value instead\n",
      "\n",
      "See the caveats in the documentation: https://pandas.pydata.org/pandas-docs/stable/user_guide/indexing.html#returning-a-view-versus-a-copy\n",
      "  df.loc[:,output_col] = scaler.inverse_transform(predictions)\n"
     ]
    },
    {
     "name": "stdout",
     "output_type": "stream",
     "text": [
      "71/71 [==============================] - 5s 69ms/step - loss: 0.1870\n",
      "Epoch 2/3\n",
      "71/71 [==============================] - 5s 69ms/step - loss: 7.3258e-07\n",
      "Epoch 3/3\n",
      "71/71 [==============================] - 5s 69ms/step - loss: 6.6154e-07\n",
      "Epoch 1/3\n"
     ]
    },
    {
     "name": "stderr",
     "output_type": "stream",
     "text": [
      "/tmp/ipykernel_1952487/1632939407.py:45: SettingWithCopyWarning: \n",
      "A value is trying to be set on a copy of a slice from a DataFrame.\n",
      "Try using .loc[row_indexer,col_indexer] = value instead\n",
      "\n",
      "See the caveats in the documentation: https://pandas.pydata.org/pandas-docs/stable/user_guide/indexing.html#returning-a-view-versus-a-copy\n",
      "  df.loc[:,output_col] = scaler.inverse_transform(predictions)\n"
     ]
    },
    {
     "name": "stdout",
     "output_type": "stream",
     "text": [
      "71/71 [==============================] - 4s 50ms/step - loss: 0.0229\n",
      "Epoch 2/3\n",
      "71/71 [==============================] - 4s 50ms/step - loss: 2.6422e-06\n",
      "Epoch 3/3\n",
      "71/71 [==============================] - 4s 50ms/step - loss: 1.7776e-06\n",
      "Epoch 1/3\n"
     ]
    },
    {
     "name": "stderr",
     "output_type": "stream",
     "text": [
      "/tmp/ipykernel_1952487/1632939407.py:45: SettingWithCopyWarning: \n",
      "A value is trying to be set on a copy of a slice from a DataFrame.\n",
      "Try using .loc[row_indexer,col_indexer] = value instead\n",
      "\n",
      "See the caveats in the documentation: https://pandas.pydata.org/pandas-docs/stable/user_guide/indexing.html#returning-a-view-versus-a-copy\n",
      "  df.loc[:,output_col] = scaler.inverse_transform(predictions)\n"
     ]
    },
    {
     "name": "stdout",
     "output_type": "stream",
     "text": [
      "71/71 [==============================] - 4s 50ms/step - loss: 0.0085\n",
      "Epoch 2/3\n",
      "71/71 [==============================] - 4s 50ms/step - loss: 3.8736e-06\n",
      "Epoch 3/3\n",
      "71/71 [==============================] - 4s 50ms/step - loss: 2.9859e-07\n",
      "Epoch 1/3\n"
     ]
    },
    {
     "name": "stderr",
     "output_type": "stream",
     "text": [
      "/tmp/ipykernel_1952487/1632939407.py:45: SettingWithCopyWarning: \n",
      "A value is trying to be set on a copy of a slice from a DataFrame.\n",
      "Try using .loc[row_indexer,col_indexer] = value instead\n",
      "\n",
      "See the caveats in the documentation: https://pandas.pydata.org/pandas-docs/stable/user_guide/indexing.html#returning-a-view-versus-a-copy\n",
      "  df.loc[:,output_col] = scaler.inverse_transform(predictions)\n"
     ]
    },
    {
     "name": "stdout",
     "output_type": "stream",
     "text": [
      "71/71 [==============================] - 4s 50ms/step - loss: 0.0279\n",
      "Epoch 2/3\n",
      "71/71 [==============================] - 4s 50ms/step - loss: 2.5798e-06\n",
      "Epoch 3/3\n",
      "71/71 [==============================] - 4s 50ms/step - loss: 2.0559e-06\n",
      "Epoch 1/3\n"
     ]
    },
    {
     "name": "stderr",
     "output_type": "stream",
     "text": [
      "/tmp/ipykernel_1952487/1632939407.py:45: SettingWithCopyWarning: \n",
      "A value is trying to be set on a copy of a slice from a DataFrame.\n",
      "Try using .loc[row_indexer,col_indexer] = value instead\n",
      "\n",
      "See the caveats in the documentation: https://pandas.pydata.org/pandas-docs/stable/user_guide/indexing.html#returning-a-view-versus-a-copy\n",
      "  df.loc[:,output_col] = scaler.inverse_transform(predictions)\n"
     ]
    },
    {
     "name": "stdout",
     "output_type": "stream",
     "text": [
      "71/71 [==============================] - 4s 50ms/step - loss: 0.0145\n",
      "Epoch 2/3\n",
      "71/71 [==============================] - 4s 50ms/step - loss: 5.8206e-06\n",
      "Epoch 3/3\n",
      "71/71 [==============================] - 4s 50ms/step - loss: 8.5904e-07\n",
      "Epoch 1/3\n"
     ]
    },
    {
     "name": "stderr",
     "output_type": "stream",
     "text": [
      "/tmp/ipykernel_1952487/1632939407.py:45: SettingWithCopyWarning: \n",
      "A value is trying to be set on a copy of a slice from a DataFrame.\n",
      "Try using .loc[row_indexer,col_indexer] = value instead\n",
      "\n",
      "See the caveats in the documentation: https://pandas.pydata.org/pandas-docs/stable/user_guide/indexing.html#returning-a-view-versus-a-copy\n",
      "  df.loc[:,output_col] = scaler.inverse_transform(predictions)\n"
     ]
    },
    {
     "name": "stdout",
     "output_type": "stream",
     "text": [
      "71/71 [==============================] - 4s 50ms/step - loss: 0.0667\n",
      "Epoch 2/3\n",
      "71/71 [==============================] - 4s 50ms/step - loss: 2.1896e-06\n",
      "Epoch 3/3\n",
      "71/71 [==============================] - 4s 50ms/step - loss: 2.1763e-06\n"
     ]
    },
    {
     "name": "stderr",
     "output_type": "stream",
     "text": [
      "/tmp/ipykernel_1952487/1632939407.py:45: SettingWithCopyWarning: \n",
      "A value is trying to be set on a copy of a slice from a DataFrame.\n",
      "Try using .loc[row_indexer,col_indexer] = value instead\n",
      "\n",
      "See the caveats in the documentation: https://pandas.pydata.org/pandas-docs/stable/user_guide/indexing.html#returning-a-view-versus-a-copy\n",
      "  df.loc[:,output_col] = scaler.inverse_transform(predictions)\n"
     ]
    },
    {
     "name": "stdout",
     "output_type": "stream",
     "text": [
      "Epoch 1/3\n",
      "71/71 [==============================] - 4s 50ms/step - loss: 0.0130\n",
      "Epoch 2/3\n",
      "71/71 [==============================] - 4s 50ms/step - loss: 2.4915e-06\n",
      "Epoch 3/3\n",
      "71/71 [==============================] - 4s 51ms/step - loss: 1.9124e-06\n",
      "Epoch 1/3\n"
     ]
    },
    {
     "name": "stderr",
     "output_type": "stream",
     "text": [
      "/tmp/ipykernel_1952487/1632939407.py:45: SettingWithCopyWarning: \n",
      "A value is trying to be set on a copy of a slice from a DataFrame.\n",
      "Try using .loc[row_indexer,col_indexer] = value instead\n",
      "\n",
      "See the caveats in the documentation: https://pandas.pydata.org/pandas-docs/stable/user_guide/indexing.html#returning-a-view-versus-a-copy\n",
      "  df.loc[:,output_col] = scaler.inverse_transform(predictions)\n"
     ]
    },
    {
     "name": "stdout",
     "output_type": "stream",
     "text": [
      "71/71 [==============================] - 2s 27ms/step - loss: 0.0293\n",
      "Epoch 2/3\n",
      "71/71 [==============================] - 2s 27ms/step - loss: 4.4100e-06\n",
      "Epoch 3/3\n",
      "71/71 [==============================] - 2s 27ms/step - loss: 3.6393e-06\n",
      "Epoch 1/3\n"
     ]
    },
    {
     "name": "stderr",
     "output_type": "stream",
     "text": [
      "/tmp/ipykernel_1952487/1632939407.py:45: SettingWithCopyWarning: \n",
      "A value is trying to be set on a copy of a slice from a DataFrame.\n",
      "Try using .loc[row_indexer,col_indexer] = value instead\n",
      "\n",
      "See the caveats in the documentation: https://pandas.pydata.org/pandas-docs/stable/user_guide/indexing.html#returning-a-view-versus-a-copy\n",
      "  df.loc[:,output_col] = scaler.inverse_transform(predictions)\n"
     ]
    },
    {
     "name": "stdout",
     "output_type": "stream",
     "text": [
      "71/71 [==============================] - 3s 37ms/step - loss: 0.0154\n",
      "Epoch 2/3\n",
      "71/71 [==============================] - 3s 37ms/step - loss: 1.8038e-06\n",
      "Epoch 3/3\n",
      "71/71 [==============================] - 3s 37ms/step - loss: 2.8595e-07\n",
      "Epoch 1/3\n"
     ]
    },
    {
     "name": "stderr",
     "output_type": "stream",
     "text": [
      "/tmp/ipykernel_1952487/1632939407.py:45: SettingWithCopyWarning: \n",
      "A value is trying to be set on a copy of a slice from a DataFrame.\n",
      "Try using .loc[row_indexer,col_indexer] = value instead\n",
      "\n",
      "See the caveats in the documentation: https://pandas.pydata.org/pandas-docs/stable/user_guide/indexing.html#returning-a-view-versus-a-copy\n",
      "  df.loc[:,output_col] = scaler.inverse_transform(predictions)\n"
     ]
    },
    {
     "name": "stdout",
     "output_type": "stream",
     "text": [
      "71/71 [==============================] - 4s 50ms/step - loss: 0.0146\n",
      "Epoch 2/3\n",
      "71/71 [==============================] - 4s 50ms/step - loss: 5.3520e-06\n",
      "Epoch 3/3\n",
      "71/71 [==============================] - 4s 50ms/step - loss: 8.0668e-07\n",
      "Epoch 1/3\n"
     ]
    },
    {
     "name": "stderr",
     "output_type": "stream",
     "text": [
      "/tmp/ipykernel_1952487/1632939407.py:45: SettingWithCopyWarning: \n",
      "A value is trying to be set on a copy of a slice from a DataFrame.\n",
      "Try using .loc[row_indexer,col_indexer] = value instead\n",
      "\n",
      "See the caveats in the documentation: https://pandas.pydata.org/pandas-docs/stable/user_guide/indexing.html#returning-a-view-versus-a-copy\n",
      "  df.loc[:,output_col] = scaler.inverse_transform(predictions)\n"
     ]
    },
    {
     "name": "stdout",
     "output_type": "stream",
     "text": [
      "71/71 [==============================] - 2s 27ms/step - loss: 0.0044\n",
      "Epoch 2/3\n",
      "71/71 [==============================] - 2s 27ms/step - loss: 1.6675e-06\n",
      "Epoch 3/3\n",
      "71/71 [==============================] - 2s 26ms/step - loss: 8.4825e-07\n",
      "Epoch 1/3\n"
     ]
    },
    {
     "name": "stderr",
     "output_type": "stream",
     "text": [
      "/tmp/ipykernel_1952487/1632939407.py:45: SettingWithCopyWarning: \n",
      "A value is trying to be set on a copy of a slice from a DataFrame.\n",
      "Try using .loc[row_indexer,col_indexer] = value instead\n",
      "\n",
      "See the caveats in the documentation: https://pandas.pydata.org/pandas-docs/stable/user_guide/indexing.html#returning-a-view-versus-a-copy\n",
      "  df.loc[:,output_col] = scaler.inverse_transform(predictions)\n"
     ]
    },
    {
     "name": "stdout",
     "output_type": "stream",
     "text": [
      "71/71 [==============================] - 3s 37ms/step - loss: 0.0059\n",
      "Epoch 2/3\n",
      "71/71 [==============================] - 3s 37ms/step - loss: 8.8302e-07\n",
      "Epoch 3/3\n",
      "71/71 [==============================] - 3s 37ms/step - loss: 7.2955e-07\n",
      "Epoch 1/3\n"
     ]
    },
    {
     "name": "stderr",
     "output_type": "stream",
     "text": [
      "/tmp/ipykernel_1952487/1632939407.py:45: SettingWithCopyWarning: \n",
      "A value is trying to be set on a copy of a slice from a DataFrame.\n",
      "Try using .loc[row_indexer,col_indexer] = value instead\n",
      "\n",
      "See the caveats in the documentation: https://pandas.pydata.org/pandas-docs/stable/user_guide/indexing.html#returning-a-view-versus-a-copy\n",
      "  df.loc[:,output_col] = scaler.inverse_transform(predictions)\n"
     ]
    },
    {
     "name": "stdout",
     "output_type": "stream",
     "text": [
      "71/71 [==============================] - 4s 50ms/step - loss: 0.0028\n",
      "Epoch 2/3\n",
      "71/71 [==============================] - 4s 50ms/step - loss: 1.0865e-07\n",
      "Epoch 3/3\n",
      "71/71 [==============================] - 4s 50ms/step - loss: 4.2608e-09\n",
      "Epoch 1/3\n"
     ]
    },
    {
     "name": "stderr",
     "output_type": "stream",
     "text": [
      "/tmp/ipykernel_1952487/1632939407.py:45: SettingWithCopyWarning: \n",
      "A value is trying to be set on a copy of a slice from a DataFrame.\n",
      "Try using .loc[row_indexer,col_indexer] = value instead\n",
      "\n",
      "See the caveats in the documentation: https://pandas.pydata.org/pandas-docs/stable/user_guide/indexing.html#returning-a-view-versus-a-copy\n",
      "  df.loc[:,output_col] = scaler.inverse_transform(predictions)\n"
     ]
    },
    {
     "name": "stdout",
     "output_type": "stream",
     "text": [
      "71/71 [==============================] - 2s 27ms/step - loss: 0.0101\n",
      "Epoch 2/3\n",
      "71/71 [==============================] - 2s 27ms/step - loss: 3.2764e-06\n",
      "Epoch 3/3\n",
      "71/71 [==============================] - 2s 26ms/step - loss: 2.4055e-06\n",
      "Epoch 1/3\n"
     ]
    },
    {
     "name": "stderr",
     "output_type": "stream",
     "text": [
      "/tmp/ipykernel_1952487/1632939407.py:45: SettingWithCopyWarning: \n",
      "A value is trying to be set on a copy of a slice from a DataFrame.\n",
      "Try using .loc[row_indexer,col_indexer] = value instead\n",
      "\n",
      "See the caveats in the documentation: https://pandas.pydata.org/pandas-docs/stable/user_guide/indexing.html#returning-a-view-versus-a-copy\n",
      "  df.loc[:,output_col] = scaler.inverse_transform(predictions)\n"
     ]
    },
    {
     "name": "stdout",
     "output_type": "stream",
     "text": [
      "71/71 [==============================] - 3s 37ms/step - loss: 0.0159\n",
      "Epoch 2/3\n",
      "71/71 [==============================] - 3s 37ms/step - loss: 5.7540e-06\n",
      "Epoch 3/3\n",
      "71/71 [==============================] - 3s 37ms/step - loss: 9.2158e-07\n",
      "Epoch 1/3\n"
     ]
    },
    {
     "name": "stderr",
     "output_type": "stream",
     "text": [
      "/tmp/ipykernel_1952487/1632939407.py:45: SettingWithCopyWarning: \n",
      "A value is trying to be set on a copy of a slice from a DataFrame.\n",
      "Try using .loc[row_indexer,col_indexer] = value instead\n",
      "\n",
      "See the caveats in the documentation: https://pandas.pydata.org/pandas-docs/stable/user_guide/indexing.html#returning-a-view-versus-a-copy\n",
      "  df.loc[:,output_col] = scaler.inverse_transform(predictions)\n"
     ]
    },
    {
     "name": "stdout",
     "output_type": "stream",
     "text": [
      "71/71 [==============================] - 4s 50ms/step - loss: 0.0544\n",
      "Epoch 2/3\n",
      "71/71 [==============================] - 4s 50ms/step - loss: 1.1620e-05\n",
      "Epoch 3/3\n",
      "71/71 [==============================] - 4s 50ms/step - loss: 4.5599e-06\n",
      "Epoch 1/3\n"
     ]
    },
    {
     "name": "stderr",
     "output_type": "stream",
     "text": [
      "/tmp/ipykernel_1952487/1632939407.py:45: SettingWithCopyWarning: \n",
      "A value is trying to be set on a copy of a slice from a DataFrame.\n",
      "Try using .loc[row_indexer,col_indexer] = value instead\n",
      "\n",
      "See the caveats in the documentation: https://pandas.pydata.org/pandas-docs/stable/user_guide/indexing.html#returning-a-view-versus-a-copy\n",
      "  df.loc[:,output_col] = scaler.inverse_transform(predictions)\n"
     ]
    },
    {
     "name": "stdout",
     "output_type": "stream",
     "text": [
      "71/71 [==============================] - 5s 60ms/step - loss: 0.0260\n",
      "Epoch 2/3\n",
      "71/71 [==============================] - 4s 60ms/step - loss: 1.7981e-06\n",
      "Epoch 3/3\n",
      "71/71 [==============================] - 4s 60ms/step - loss: 1.5750e-06\n",
      "Epoch 1/3\n"
     ]
    },
    {
     "name": "stderr",
     "output_type": "stream",
     "text": [
      "/tmp/ipykernel_1952487/1632939407.py:45: SettingWithCopyWarning: \n",
      "A value is trying to be set on a copy of a slice from a DataFrame.\n",
      "Try using .loc[row_indexer,col_indexer] = value instead\n",
      "\n",
      "See the caveats in the documentation: https://pandas.pydata.org/pandas-docs/stable/user_guide/indexing.html#returning-a-view-versus-a-copy\n",
      "  df.loc[:,output_col] = scaler.inverse_transform(predictions)\n"
     ]
    },
    {
     "name": "stdout",
     "output_type": "stream",
     "text": [
      "71/71 [==============================] - 8s 113ms/step - loss: 0.0253\n",
      "Epoch 2/3\n",
      "71/71 [==============================] - 8s 113ms/step - loss: 6.2496e-06\n",
      "Epoch 3/3\n",
      "71/71 [==============================] - 8s 113ms/step - loss: 1.5366e-06\n",
      "Epoch 1/3\n"
     ]
    },
    {
     "name": "stderr",
     "output_type": "stream",
     "text": [
      "/tmp/ipykernel_1952487/1632939407.py:45: SettingWithCopyWarning: \n",
      "A value is trying to be set on a copy of a slice from a DataFrame.\n",
      "Try using .loc[row_indexer,col_indexer] = value instead\n",
      "\n",
      "See the caveats in the documentation: https://pandas.pydata.org/pandas-docs/stable/user_guide/indexing.html#returning-a-view-versus-a-copy\n",
      "  df.loc[:,output_col] = scaler.inverse_transform(predictions)\n"
     ]
    },
    {
     "name": "stdout",
     "output_type": "stream",
     "text": [
      "71/71 [==============================] - 5s 60ms/step - loss: 0.0017\n",
      "Epoch 2/3\n",
      "71/71 [==============================] - 4s 60ms/step - loss: 1.0250e-07\n",
      "Epoch 3/3\n",
      "71/71 [==============================] - 4s 60ms/step - loss: 6.1345e-08\n",
      "Epoch 1/3\n"
     ]
    },
    {
     "name": "stderr",
     "output_type": "stream",
     "text": [
      "/tmp/ipykernel_1952487/1632939407.py:45: SettingWithCopyWarning: \n",
      "A value is trying to be set on a copy of a slice from a DataFrame.\n",
      "Try using .loc[row_indexer,col_indexer] = value instead\n",
      "\n",
      "See the caveats in the documentation: https://pandas.pydata.org/pandas-docs/stable/user_guide/indexing.html#returning-a-view-versus-a-copy\n",
      "  df.loc[:,output_col] = scaler.inverse_transform(predictions)\n"
     ]
    },
    {
     "name": "stdout",
     "output_type": "stream",
     "text": [
      "71/71 [==============================] - 8s 112ms/step - loss: 0.0188\n",
      "Epoch 2/3\n",
      "71/71 [==============================] - 8s 113ms/step - loss: 2.5971e-06\n",
      "Epoch 3/3\n",
      "71/71 [==============================] - 8s 113ms/step - loss: 2.0454e-06\n",
      "Epoch 1/3\n"
     ]
    },
    {
     "name": "stderr",
     "output_type": "stream",
     "text": [
      "/tmp/ipykernel_1952487/1632939407.py:45: SettingWithCopyWarning: \n",
      "A value is trying to be set on a copy of a slice from a DataFrame.\n",
      "Try using .loc[row_indexer,col_indexer] = value instead\n",
      "\n",
      "See the caveats in the documentation: https://pandas.pydata.org/pandas-docs/stable/user_guide/indexing.html#returning-a-view-versus-a-copy\n",
      "  df.loc[:,output_col] = scaler.inverse_transform(predictions)\n"
     ]
    },
    {
     "name": "stdout",
     "output_type": "stream",
     "text": [
      "71/71 [==============================] - 4s 60ms/step - loss: 0.0072\n",
      "Epoch 2/3\n",
      "71/71 [==============================] - 4s 60ms/step - loss: 1.5099e-06\n",
      "Epoch 3/3\n",
      "71/71 [==============================] - 4s 60ms/step - loss: 9.3858e-07\n",
      "Epoch 1/3\n"
     ]
    },
    {
     "name": "stderr",
     "output_type": "stream",
     "text": [
      "/tmp/ipykernel_1952487/1632939407.py:45: SettingWithCopyWarning: \n",
      "A value is trying to be set on a copy of a slice from a DataFrame.\n",
      "Try using .loc[row_indexer,col_indexer] = value instead\n",
      "\n",
      "See the caveats in the documentation: https://pandas.pydata.org/pandas-docs/stable/user_guide/indexing.html#returning-a-view-versus-a-copy\n",
      "  df.loc[:,output_col] = scaler.inverse_transform(predictions)\n"
     ]
    },
    {
     "name": "stdout",
     "output_type": "stream",
     "text": [
      "71/71 [==============================] - 8s 112ms/step - loss: 0.0085\n",
      "Epoch 2/3\n",
      "71/71 [==============================] - 8s 112ms/step - loss: 3.9333e-07\n",
      "Epoch 3/3\n",
      "71/71 [==============================] - 8s 112ms/step - loss: 3.2692e-07\n",
      "Epoch 1/3\n"
     ]
    },
    {
     "name": "stderr",
     "output_type": "stream",
     "text": [
      "/tmp/ipykernel_1952487/1632939407.py:45: SettingWithCopyWarning: \n",
      "A value is trying to be set on a copy of a slice from a DataFrame.\n",
      "Try using .loc[row_indexer,col_indexer] = value instead\n",
      "\n",
      "See the caveats in the documentation: https://pandas.pydata.org/pandas-docs/stable/user_guide/indexing.html#returning-a-view-versus-a-copy\n",
      "  df.loc[:,output_col] = scaler.inverse_transform(predictions)\n"
     ]
    },
    {
     "name": "stdout",
     "output_type": "stream",
     "text": [
      "71/71 [==============================] - 4s 50ms/step - loss: 0.0313\n",
      "Epoch 2/3\n",
      "71/71 [==============================] - 4s 50ms/step - loss: 4.1359e-06\n",
      "Epoch 3/3\n",
      "71/71 [==============================] - 4s 50ms/step - loss: 3.1288e-06\n",
      "Epoch 1/3\n"
     ]
    },
    {
     "name": "stderr",
     "output_type": "stream",
     "text": [
      "/tmp/ipykernel_1952487/1632939407.py:45: SettingWithCopyWarning: \n",
      "A value is trying to be set on a copy of a slice from a DataFrame.\n",
      "Try using .loc[row_indexer,col_indexer] = value instead\n",
      "\n",
      "See the caveats in the documentation: https://pandas.pydata.org/pandas-docs/stable/user_guide/indexing.html#returning-a-view-versus-a-copy\n",
      "  df.loc[:,output_col] = scaler.inverse_transform(predictions)\n"
     ]
    },
    {
     "name": "stdout",
     "output_type": "stream",
     "text": [
      "71/71 [==============================] - 4s 49ms/step - loss: 0.0298\n",
      "Epoch 2/3\n",
      "71/71 [==============================] - 4s 49ms/step - loss: 3.4287e-06\n",
      "Epoch 3/3\n",
      "71/71 [==============================] - 3s 49ms/step - loss: 2.8901e-06\n",
      "Epoch 1/3\n"
     ]
    },
    {
     "name": "stderr",
     "output_type": "stream",
     "text": [
      "/tmp/ipykernel_1952487/1632939407.py:45: SettingWithCopyWarning: \n",
      "A value is trying to be set on a copy of a slice from a DataFrame.\n",
      "Try using .loc[row_indexer,col_indexer] = value instead\n",
      "\n",
      "See the caveats in the documentation: https://pandas.pydata.org/pandas-docs/stable/user_guide/indexing.html#returning-a-view-versus-a-copy\n",
      "  df.loc[:,output_col] = scaler.inverse_transform(predictions)\n"
     ]
    },
    {
     "name": "stdout",
     "output_type": "stream",
     "text": [
      "71/71 [==============================] - 4s 49ms/step - loss: 0.0446\n",
      "Epoch 2/3\n",
      "71/71 [==============================] - 4s 49ms/step - loss: 1.0629e-05\n",
      "Epoch 3/3\n",
      "71/71 [==============================] - 4s 49ms/step - loss: 3.7642e-06\n",
      "Epoch 1/3\n"
     ]
    },
    {
     "name": "stderr",
     "output_type": "stream",
     "text": [
      "/tmp/ipykernel_1952487/1632939407.py:45: SettingWithCopyWarning: \n",
      "A value is trying to be set on a copy of a slice from a DataFrame.\n",
      "Try using .loc[row_indexer,col_indexer] = value instead\n",
      "\n",
      "See the caveats in the documentation: https://pandas.pydata.org/pandas-docs/stable/user_guide/indexing.html#returning-a-view-versus-a-copy\n",
      "  df.loc[:,output_col] = scaler.inverse_transform(predictions)\n"
     ]
    },
    {
     "name": "stdout",
     "output_type": "stream",
     "text": [
      "71/71 [==============================] - 4s 50ms/step - loss: 0.0173\n",
      "Epoch 2/3\n",
      "71/71 [==============================] - 4s 49ms/step - loss: 4.0679e-06\n",
      "Epoch 3/3\n",
      "71/71 [==============================] - 4s 50ms/step - loss: 2.7266e-06\n",
      "Epoch 1/3\n"
     ]
    },
    {
     "name": "stderr",
     "output_type": "stream",
     "text": [
      "/tmp/ipykernel_1952487/1632939407.py:45: SettingWithCopyWarning: \n",
      "A value is trying to be set on a copy of a slice from a DataFrame.\n",
      "Try using .loc[row_indexer,col_indexer] = value instead\n",
      "\n",
      "See the caveats in the documentation: https://pandas.pydata.org/pandas-docs/stable/user_guide/indexing.html#returning-a-view-versus-a-copy\n",
      "  df.loc[:,output_col] = scaler.inverse_transform(predictions)\n"
     ]
    },
    {
     "name": "stdout",
     "output_type": "stream",
     "text": [
      "71/71 [==============================] - 4s 50ms/step - loss: 0.0121\n",
      "Epoch 2/3\n",
      "71/71 [==============================] - 4s 50ms/step - loss: 2.8378e-06\n",
      "Epoch 3/3\n",
      "71/71 [==============================] - 4s 50ms/step - loss: 1.8174e-06\n",
      "Epoch 1/3\n"
     ]
    },
    {
     "name": "stderr",
     "output_type": "stream",
     "text": [
      "/tmp/ipykernel_1952487/1632939407.py:45: SettingWithCopyWarning: \n",
      "A value is trying to be set on a copy of a slice from a DataFrame.\n",
      "Try using .loc[row_indexer,col_indexer] = value instead\n",
      "\n",
      "See the caveats in the documentation: https://pandas.pydata.org/pandas-docs/stable/user_guide/indexing.html#returning-a-view-versus-a-copy\n",
      "  df.loc[:,output_col] = scaler.inverse_transform(predictions)\n"
     ]
    },
    {
     "name": "stdout",
     "output_type": "stream",
     "text": [
      "71/71 [==============================] - 4s 50ms/step - loss: 0.0082\n",
      "Epoch 2/3\n",
      "71/71 [==============================] - 4s 50ms/step - loss: 1.3253e-06\n",
      "Epoch 3/3\n",
      "71/71 [==============================] - 4s 50ms/step - loss: 7.2268e-07\n",
      "Epoch 1/3\n"
     ]
    },
    {
     "name": "stderr",
     "output_type": "stream",
     "text": [
      "/tmp/ipykernel_1952487/1632939407.py:45: SettingWithCopyWarning: \n",
      "A value is trying to be set on a copy of a slice from a DataFrame.\n",
      "Try using .loc[row_indexer,col_indexer] = value instead\n",
      "\n",
      "See the caveats in the documentation: https://pandas.pydata.org/pandas-docs/stable/user_guide/indexing.html#returning-a-view-versus-a-copy\n",
      "  df.loc[:,output_col] = scaler.inverse_transform(predictions)\n"
     ]
    },
    {
     "name": "stdout",
     "output_type": "stream",
     "text": [
      "71/71 [==============================] - 4s 50ms/step - loss: 0.0156\n",
      "Epoch 2/3\n",
      "71/71 [==============================] - 4s 50ms/step - loss: 1.0976e-06\n",
      "Epoch 3/3\n",
      "71/71 [==============================] - 4s 50ms/step - loss: 7.9131e-07\n",
      "Epoch 1/3\n"
     ]
    },
    {
     "name": "stderr",
     "output_type": "stream",
     "text": [
      "/tmp/ipykernel_1952487/1632939407.py:45: SettingWithCopyWarning: \n",
      "A value is trying to be set on a copy of a slice from a DataFrame.\n",
      "Try using .loc[row_indexer,col_indexer] = value instead\n",
      "\n",
      "See the caveats in the documentation: https://pandas.pydata.org/pandas-docs/stable/user_guide/indexing.html#returning-a-view-versus-a-copy\n",
      "  df.loc[:,output_col] = scaler.inverse_transform(predictions)\n"
     ]
    },
    {
     "name": "stdout",
     "output_type": "stream",
     "text": [
      "71/71 [==============================] - 4s 50ms/step - loss: 0.0414\n",
      "Epoch 2/3\n",
      "71/71 [==============================] - 4s 50ms/step - loss: 3.7356e-06\n",
      "Epoch 3/3\n",
      "71/71 [==============================] - 4s 50ms/step - loss: 2.9576e-06\n",
      "Epoch 1/3\n"
     ]
    },
    {
     "name": "stderr",
     "output_type": "stream",
     "text": [
      "/tmp/ipykernel_1952487/1632939407.py:45: SettingWithCopyWarning: \n",
      "A value is trying to be set on a copy of a slice from a DataFrame.\n",
      "Try using .loc[row_indexer,col_indexer] = value instead\n",
      "\n",
      "See the caveats in the documentation: https://pandas.pydata.org/pandas-docs/stable/user_guide/indexing.html#returning-a-view-versus-a-copy\n",
      "  df.loc[:,output_col] = scaler.inverse_transform(predictions)\n"
     ]
    },
    {
     "name": "stdout",
     "output_type": "stream",
     "text": [
      "71/71 [==============================] - 4s 50ms/step - loss: 0.0159\n",
      "Epoch 2/3\n",
      "71/71 [==============================] - 4s 50ms/step - loss: 1.0505e-06\n",
      "Epoch 3/3\n",
      "71/71 [==============================] - 4s 50ms/step - loss: 9.7997e-07\n",
      "Epoch 1/3\n"
     ]
    },
    {
     "name": "stderr",
     "output_type": "stream",
     "text": [
      "/tmp/ipykernel_1952487/1632939407.py:45: SettingWithCopyWarning: \n",
      "A value is trying to be set on a copy of a slice from a DataFrame.\n",
      "Try using .loc[row_indexer,col_indexer] = value instead\n",
      "\n",
      "See the caveats in the documentation: https://pandas.pydata.org/pandas-docs/stable/user_guide/indexing.html#returning-a-view-versus-a-copy\n",
      "  df.loc[:,output_col] = scaler.inverse_transform(predictions)\n"
     ]
    },
    {
     "name": "stdout",
     "output_type": "stream",
     "text": [
      "71/71 [==============================] - 4s 50ms/step - loss: 0.0290\n",
      "Epoch 2/3\n",
      "71/71 [==============================] - 4s 50ms/step - loss: 8.7326e-06\n",
      "Epoch 3/3\n",
      "71/71 [==============================] - 4s 50ms/step - loss: 2.3507e-06\n",
      "Epoch 1/3\n"
     ]
    },
    {
     "name": "stderr",
     "output_type": "stream",
     "text": [
      "/tmp/ipykernel_1952487/1632939407.py:45: SettingWithCopyWarning: \n",
      "A value is trying to be set on a copy of a slice from a DataFrame.\n",
      "Try using .loc[row_indexer,col_indexer] = value instead\n",
      "\n",
      "See the caveats in the documentation: https://pandas.pydata.org/pandas-docs/stable/user_guide/indexing.html#returning-a-view-versus-a-copy\n",
      "  df.loc[:,output_col] = scaler.inverse_transform(predictions)\n"
     ]
    },
    {
     "name": "stdout",
     "output_type": "stream",
     "text": [
      "71/71 [==============================] - 4s 50ms/step - loss: 0.0362\n",
      "Epoch 2/3\n",
      "71/71 [==============================] - 4s 50ms/step - loss: 2.1322e-06\n",
      "Epoch 3/3\n",
      "71/71 [==============================] - 4s 50ms/step - loss: 1.7039e-06\n",
      "Epoch 1/3\n"
     ]
    },
    {
     "name": "stderr",
     "output_type": "stream",
     "text": [
      "/tmp/ipykernel_1952487/1632939407.py:45: SettingWithCopyWarning: \n",
      "A value is trying to be set on a copy of a slice from a DataFrame.\n",
      "Try using .loc[row_indexer,col_indexer] = value instead\n",
      "\n",
      "See the caveats in the documentation: https://pandas.pydata.org/pandas-docs/stable/user_guide/indexing.html#returning-a-view-versus-a-copy\n",
      "  df.loc[:,output_col] = scaler.inverse_transform(predictions)\n"
     ]
    },
    {
     "name": "stdout",
     "output_type": "stream",
     "text": [
      "71/71 [==============================] - 4s 50ms/step - loss: 0.0165\n",
      "Epoch 2/3\n",
      "71/71 [==============================] - 4s 50ms/step - loss: 1.9304e-06\n",
      "Epoch 3/3\n",
      "71/71 [==============================] - 4s 50ms/step - loss: 1.3002e-06\n",
      "Epoch 1/3\n"
     ]
    },
    {
     "name": "stderr",
     "output_type": "stream",
     "text": [
      "/tmp/ipykernel_1952487/1632939407.py:45: SettingWithCopyWarning: \n",
      "A value is trying to be set on a copy of a slice from a DataFrame.\n",
      "Try using .loc[row_indexer,col_indexer] = value instead\n",
      "\n",
      "See the caveats in the documentation: https://pandas.pydata.org/pandas-docs/stable/user_guide/indexing.html#returning-a-view-versus-a-copy\n",
      "  df.loc[:,output_col] = scaler.inverse_transform(predictions)\n"
     ]
    },
    {
     "name": "stdout",
     "output_type": "stream",
     "text": [
      "71/71 [==============================] - 4s 50ms/step - loss: 0.0246\n",
      "Epoch 2/3\n",
      "71/71 [==============================] - 4s 50ms/step - loss: 3.1592e-06\n",
      "Epoch 3/3\n",
      "71/71 [==============================] - 4s 50ms/step - loss: 2.3733e-06\n",
      "Epoch 1/3\n"
     ]
    },
    {
     "name": "stderr",
     "output_type": "stream",
     "text": [
      "/tmp/ipykernel_1952487/1632939407.py:45: SettingWithCopyWarning: \n",
      "A value is trying to be set on a copy of a slice from a DataFrame.\n",
      "Try using .loc[row_indexer,col_indexer] = value instead\n",
      "\n",
      "See the caveats in the documentation: https://pandas.pydata.org/pandas-docs/stable/user_guide/indexing.html#returning-a-view-versus-a-copy\n",
      "  df.loc[:,output_col] = scaler.inverse_transform(predictions)\n"
     ]
    },
    {
     "name": "stdout",
     "output_type": "stream",
     "text": [
      "71/71 [==============================] - 4s 50ms/step - loss: 0.0180\n",
      "Epoch 2/3\n",
      "71/71 [==============================] - 4s 50ms/step - loss: 2.1281e-06\n",
      "Epoch 3/3\n",
      "71/71 [==============================] - 4s 50ms/step - loss: 1.6879e-06\n",
      "Epoch 1/3\n"
     ]
    },
    {
     "name": "stderr",
     "output_type": "stream",
     "text": [
      "/tmp/ipykernel_1952487/1632939407.py:45: SettingWithCopyWarning: \n",
      "A value is trying to be set on a copy of a slice from a DataFrame.\n",
      "Try using .loc[row_indexer,col_indexer] = value instead\n",
      "\n",
      "See the caveats in the documentation: https://pandas.pydata.org/pandas-docs/stable/user_guide/indexing.html#returning-a-view-versus-a-copy\n",
      "  df.loc[:,output_col] = scaler.inverse_transform(predictions)\n"
     ]
    },
    {
     "name": "stdout",
     "output_type": "stream",
     "text": [
      "71/71 [==============================] - 4s 50ms/step - loss: 0.0282\n",
      "Epoch 2/3\n",
      "71/71 [==============================] - 4s 50ms/step - loss: 8.3434e-06\n",
      "Epoch 3/3\n",
      "71/71 [==============================] - 4s 50ms/step - loss: 2.2171e-06\n",
      "Epoch 1/3\n"
     ]
    },
    {
     "name": "stderr",
     "output_type": "stream",
     "text": [
      "/tmp/ipykernel_1952487/1632939407.py:45: SettingWithCopyWarning: \n",
      "A value is trying to be set on a copy of a slice from a DataFrame.\n",
      "Try using .loc[row_indexer,col_indexer] = value instead\n",
      "\n",
      "See the caveats in the documentation: https://pandas.pydata.org/pandas-docs/stable/user_guide/indexing.html#returning-a-view-versus-a-copy\n",
      "  df.loc[:,output_col] = scaler.inverse_transform(predictions)\n"
     ]
    },
    {
     "name": "stdout",
     "output_type": "stream",
     "text": [
      "71/71 [==============================] - 4s 50ms/step - loss: 0.0309\n",
      "Epoch 2/3\n",
      "71/71 [==============================] - 4s 50ms/step - loss: 3.1398e-06\n",
      "Epoch 3/3\n",
      "71/71 [==============================] - 4s 49ms/step - loss: 2.4651e-06\n",
      "Epoch 1/3\n"
     ]
    },
    {
     "name": "stderr",
     "output_type": "stream",
     "text": [
      "/tmp/ipykernel_1952487/1632939407.py:45: SettingWithCopyWarning: \n",
      "A value is trying to be set on a copy of a slice from a DataFrame.\n",
      "Try using .loc[row_indexer,col_indexer] = value instead\n",
      "\n",
      "See the caveats in the documentation: https://pandas.pydata.org/pandas-docs/stable/user_guide/indexing.html#returning-a-view-versus-a-copy\n",
      "  df.loc[:,output_col] = scaler.inverse_transform(predictions)\n"
     ]
    },
    {
     "name": "stdout",
     "output_type": "stream",
     "text": [
      "71/71 [==============================] - 4s 50ms/step - loss: 0.0047\n",
      "Epoch 2/3\n",
      "71/71 [==============================] - 4s 50ms/step - loss: 9.4022e-07\n",
      "Epoch 3/3\n",
      "71/71 [==============================] - 4s 50ms/step - loss: 4.5184e-07\n",
      "Epoch 1/3\n"
     ]
    },
    {
     "name": "stderr",
     "output_type": "stream",
     "text": [
      "/tmp/ipykernel_1952487/1632939407.py:45: SettingWithCopyWarning: \n",
      "A value is trying to be set on a copy of a slice from a DataFrame.\n",
      "Try using .loc[row_indexer,col_indexer] = value instead\n",
      "\n",
      "See the caveats in the documentation: https://pandas.pydata.org/pandas-docs/stable/user_guide/indexing.html#returning-a-view-versus-a-copy\n",
      "  df.loc[:,output_col] = scaler.inverse_transform(predictions)\n"
     ]
    },
    {
     "name": "stdout",
     "output_type": "stream",
     "text": [
      "71/71 [==============================] - 4s 50ms/step - loss: 0.0091\n",
      "Epoch 2/3\n",
      "71/71 [==============================] - 4s 50ms/step - loss: 8.8993e-07\n",
      "Epoch 3/3\n",
      "71/71 [==============================] - 4s 50ms/step - loss: 7.8258e-07\n",
      "Epoch 1/3\n"
     ]
    },
    {
     "name": "stderr",
     "output_type": "stream",
     "text": [
      "/tmp/ipykernel_1952487/1632939407.py:45: SettingWithCopyWarning: \n",
      "A value is trying to be set on a copy of a slice from a DataFrame.\n",
      "Try using .loc[row_indexer,col_indexer] = value instead\n",
      "\n",
      "See the caveats in the documentation: https://pandas.pydata.org/pandas-docs/stable/user_guide/indexing.html#returning-a-view-versus-a-copy\n",
      "  df.loc[:,output_col] = scaler.inverse_transform(predictions)\n"
     ]
    },
    {
     "name": "stdout",
     "output_type": "stream",
     "text": [
      "71/71 [==============================] - 4s 50ms/step - loss: 0.0114\n",
      "Epoch 2/3\n",
      "71/71 [==============================] - 4s 50ms/step - loss: 2.8732e-06\n",
      "Epoch 3/3\n",
      "71/71 [==============================] - 4s 50ms/step - loss: 2.0226e-06\n",
      "Epoch 1/3\n"
     ]
    },
    {
     "name": "stderr",
     "output_type": "stream",
     "text": [
      "/tmp/ipykernel_1952487/1632939407.py:45: SettingWithCopyWarning: \n",
      "A value is trying to be set on a copy of a slice from a DataFrame.\n",
      "Try using .loc[row_indexer,col_indexer] = value instead\n",
      "\n",
      "See the caveats in the documentation: https://pandas.pydata.org/pandas-docs/stable/user_guide/indexing.html#returning-a-view-versus-a-copy\n",
      "  df.loc[:,output_col] = scaler.inverse_transform(predictions)\n"
     ]
    },
    {
     "name": "stdout",
     "output_type": "stream",
     "text": [
      "71/71 [==============================] - 4s 50ms/step - loss: 0.0194\n",
      "Epoch 2/3\n",
      "71/71 [==============================] - 4s 50ms/step - loss: 2.7883e-06\n",
      "Epoch 3/3\n",
      "71/71 [==============================] - 4s 50ms/step - loss: 2.1684e-06\n",
      "Epoch 1/3\n"
     ]
    },
    {
     "name": "stderr",
     "output_type": "stream",
     "text": [
      "/tmp/ipykernel_1952487/1632939407.py:45: SettingWithCopyWarning: \n",
      "A value is trying to be set on a copy of a slice from a DataFrame.\n",
      "Try using .loc[row_indexer,col_indexer] = value instead\n",
      "\n",
      "See the caveats in the documentation: https://pandas.pydata.org/pandas-docs/stable/user_guide/indexing.html#returning-a-view-versus-a-copy\n",
      "  df.loc[:,output_col] = scaler.inverse_transform(predictions)\n"
     ]
    },
    {
     "name": "stdout",
     "output_type": "stream",
     "text": [
      "71/71 [==============================] - 4s 50ms/step - loss: 0.0116\n",
      "Epoch 2/3\n",
      "71/71 [==============================] - 4s 50ms/step - loss: 4.5879e-07\n",
      "Epoch 3/3\n",
      "71/71 [==============================] - 4s 50ms/step - loss: 3.7472e-07\n",
      "Epoch 1/3\n"
     ]
    },
    {
     "name": "stderr",
     "output_type": "stream",
     "text": [
      "/tmp/ipykernel_1952487/1632939407.py:45: SettingWithCopyWarning: \n",
      "A value is trying to be set on a copy of a slice from a DataFrame.\n",
      "Try using .loc[row_indexer,col_indexer] = value instead\n",
      "\n",
      "See the caveats in the documentation: https://pandas.pydata.org/pandas-docs/stable/user_guide/indexing.html#returning-a-view-versus-a-copy\n",
      "  df.loc[:,output_col] = scaler.inverse_transform(predictions)\n"
     ]
    },
    {
     "name": "stdout",
     "output_type": "stream",
     "text": [
      "71/71 [==============================] - 4s 50ms/step - loss: 0.0287\n",
      "Epoch 2/3\n",
      "71/71 [==============================] - 4s 50ms/step - loss: 1.9131e-06\n",
      "Epoch 3/3\n",
      "71/71 [==============================] - 4s 50ms/step - loss: 1.5188e-06\n",
      "Epoch 1/3\n"
     ]
    },
    {
     "name": "stderr",
     "output_type": "stream",
     "text": [
      "/tmp/ipykernel_1952487/1632939407.py:45: SettingWithCopyWarning: \n",
      "A value is trying to be set on a copy of a slice from a DataFrame.\n",
      "Try using .loc[row_indexer,col_indexer] = value instead\n",
      "\n",
      "See the caveats in the documentation: https://pandas.pydata.org/pandas-docs/stable/user_guide/indexing.html#returning-a-view-versus-a-copy\n",
      "  df.loc[:,output_col] = scaler.inverse_transform(predictions)\n"
     ]
    },
    {
     "name": "stdout",
     "output_type": "stream",
     "text": [
      "71/71 [==============================] - 4s 50ms/step - loss: 0.0123\n",
      "Epoch 2/3\n",
      "71/71 [==============================] - 4s 50ms/step - loss: 1.3883e-06\n",
      "Epoch 3/3\n",
      "71/71 [==============================] - 4s 50ms/step - loss: 9.8211e-07\n",
      "Epoch 1/3\n"
     ]
    },
    {
     "name": "stderr",
     "output_type": "stream",
     "text": [
      "/tmp/ipykernel_1952487/1632939407.py:45: SettingWithCopyWarning: \n",
      "A value is trying to be set on a copy of a slice from a DataFrame.\n",
      "Try using .loc[row_indexer,col_indexer] = value instead\n",
      "\n",
      "See the caveats in the documentation: https://pandas.pydata.org/pandas-docs/stable/user_guide/indexing.html#returning-a-view-versus-a-copy\n",
      "  df.loc[:,output_col] = scaler.inverse_transform(predictions)\n"
     ]
    },
    {
     "name": "stdout",
     "output_type": "stream",
     "text": [
      "71/71 [==============================] - 4s 50ms/step - loss: 0.0112\n",
      "Epoch 2/3\n",
      "71/71 [==============================] - 4s 50ms/step - loss: 1.5543e-06\n",
      "Epoch 3/3\n",
      "71/71 [==============================] - 4s 50ms/step - loss: 1.3701e-06\n",
      "Epoch 1/3\n"
     ]
    },
    {
     "name": "stderr",
     "output_type": "stream",
     "text": [
      "/tmp/ipykernel_1952487/1632939407.py:45: SettingWithCopyWarning: \n",
      "A value is trying to be set on a copy of a slice from a DataFrame.\n",
      "Try using .loc[row_indexer,col_indexer] = value instead\n",
      "\n",
      "See the caveats in the documentation: https://pandas.pydata.org/pandas-docs/stable/user_guide/indexing.html#returning-a-view-versus-a-copy\n",
      "  df.loc[:,output_col] = scaler.inverse_transform(predictions)\n"
     ]
    },
    {
     "name": "stdout",
     "output_type": "stream",
     "text": [
      "71/71 [==============================] - 4s 50ms/step - loss: 0.0142\n",
      "Epoch 2/3\n",
      "71/71 [==============================] - 4s 49ms/step - loss: 2.7555e-06\n",
      "Epoch 3/3\n",
      "71/71 [==============================] - 4s 49ms/step - loss: 1.7926e-06\n",
      "Epoch 1/3\n"
     ]
    },
    {
     "name": "stderr",
     "output_type": "stream",
     "text": [
      "/tmp/ipykernel_1952487/1632939407.py:45: SettingWithCopyWarning: \n",
      "A value is trying to be set on a copy of a slice from a DataFrame.\n",
      "Try using .loc[row_indexer,col_indexer] = value instead\n",
      "\n",
      "See the caveats in the documentation: https://pandas.pydata.org/pandas-docs/stable/user_guide/indexing.html#returning-a-view-versus-a-copy\n",
      "  df.loc[:,output_col] = scaler.inverse_transform(predictions)\n"
     ]
    },
    {
     "name": "stdout",
     "output_type": "stream",
     "text": [
      "71/71 [==============================] - 4s 50ms/step - loss: 0.0125\n",
      "Epoch 2/3\n",
      "71/71 [==============================] - 4s 50ms/step - loss: 6.0641e-06\n",
      "Epoch 3/3\n",
      "71/71 [==============================] - 4s 49ms/step - loss: 7.5450e-07\n",
      "Epoch 1/3\n"
     ]
    },
    {
     "name": "stderr",
     "output_type": "stream",
     "text": [
      "/tmp/ipykernel_1952487/1632939407.py:45: SettingWithCopyWarning: \n",
      "A value is trying to be set on a copy of a slice from a DataFrame.\n",
      "Try using .loc[row_indexer,col_indexer] = value instead\n",
      "\n",
      "See the caveats in the documentation: https://pandas.pydata.org/pandas-docs/stable/user_guide/indexing.html#returning-a-view-versus-a-copy\n",
      "  df.loc[:,output_col] = scaler.inverse_transform(predictions)\n"
     ]
    },
    {
     "name": "stdout",
     "output_type": "stream",
     "text": [
      "71/71 [==============================] - 4s 51ms/step - loss: 0.0103\n",
      "Epoch 2/3\n",
      "71/71 [==============================] - 4s 50ms/step - loss: 1.1529e-06\n",
      "Epoch 3/3\n",
      "71/71 [==============================] - 4s 50ms/step - loss: 7.0731e-07\n",
      "Epoch 1/3\n"
     ]
    },
    {
     "name": "stderr",
     "output_type": "stream",
     "text": [
      "/tmp/ipykernel_1952487/1632939407.py:45: SettingWithCopyWarning: \n",
      "A value is trying to be set on a copy of a slice from a DataFrame.\n",
      "Try using .loc[row_indexer,col_indexer] = value instead\n",
      "\n",
      "See the caveats in the documentation: https://pandas.pydata.org/pandas-docs/stable/user_guide/indexing.html#returning-a-view-versus-a-copy\n",
      "  df.loc[:,output_col] = scaler.inverse_transform(predictions)\n"
     ]
    },
    {
     "name": "stdout",
     "output_type": "stream",
     "text": [
      "71/71 [==============================] - 4s 50ms/step - loss: 0.0159\n",
      "Epoch 2/3\n",
      "71/71 [==============================] - 4s 50ms/step - loss: 4.6262e-06\n",
      "Epoch 3/3\n",
      "71/71 [==============================] - 4s 50ms/step - loss: 3.0035e-06\n",
      "Epoch 1/3\n"
     ]
    },
    {
     "name": "stderr",
     "output_type": "stream",
     "text": [
      "/tmp/ipykernel_1952487/1632939407.py:45: SettingWithCopyWarning: \n",
      "A value is trying to be set on a copy of a slice from a DataFrame.\n",
      "Try using .loc[row_indexer,col_indexer] = value instead\n",
      "\n",
      "See the caveats in the documentation: https://pandas.pydata.org/pandas-docs/stable/user_guide/indexing.html#returning-a-view-versus-a-copy\n",
      "  df.loc[:,output_col] = scaler.inverse_transform(predictions)\n"
     ]
    },
    {
     "name": "stdout",
     "output_type": "stream",
     "text": [
      "71/71 [==============================] - 4s 50ms/step - loss: 0.0088\n",
      "Epoch 2/3\n",
      "71/71 [==============================] - 4s 50ms/step - loss: 9.6547e-07\n",
      "Epoch 3/3\n",
      "71/71 [==============================] - 4s 50ms/step - loss: 5.2843e-07\n",
      "Epoch 1/3\n"
     ]
    },
    {
     "name": "stderr",
     "output_type": "stream",
     "text": [
      "/tmp/ipykernel_1952487/1632939407.py:45: SettingWithCopyWarning: \n",
      "A value is trying to be set on a copy of a slice from a DataFrame.\n",
      "Try using .loc[row_indexer,col_indexer] = value instead\n",
      "\n",
      "See the caveats in the documentation: https://pandas.pydata.org/pandas-docs/stable/user_guide/indexing.html#returning-a-view-versus-a-copy\n",
      "  df.loc[:,output_col] = scaler.inverse_transform(predictions)\n"
     ]
    },
    {
     "name": "stdout",
     "output_type": "stream",
     "text": [
      "71/71 [==============================] - 4s 51ms/step - loss: 0.0087\n",
      "Epoch 2/3\n",
      "71/71 [==============================] - 4s 51ms/step - loss: 4.1483e-06\n",
      "Epoch 3/3\n",
      "71/71 [==============================] - 4s 50ms/step - loss: 3.2066e-07\n"
     ]
    },
    {
     "name": "stderr",
     "output_type": "stream",
     "text": [
      "/tmp/ipykernel_1952487/1632939407.py:45: SettingWithCopyWarning: \n",
      "A value is trying to be set on a copy of a slice from a DataFrame.\n",
      "Try using .loc[row_indexer,col_indexer] = value instead\n",
      "\n",
      "See the caveats in the documentation: https://pandas.pydata.org/pandas-docs/stable/user_guide/indexing.html#returning-a-view-versus-a-copy\n",
      "  df.loc[:,output_col] = scaler.inverse_transform(predictions)\n"
     ]
    }
   ],
   "source": [
    "#Grid Search for Individual Parameters\n",
    "\n",
    "runs=range(0,3)\n",
    "row=0\n",
    "#list parameters to test\n",
    "layers=[3, 4] \n",
    "nodes=[300, 400]\n",
    "nbr_filters= [80,120]            #aka filters\n",
    "filter_len= [10, 20]               #aka kernel_size\n",
    "batch_size=[80]\n",
    "optimizer=[ 'Adam', 'Adamax']\n",
    "activation = ['relu','linear']\n",
    "\n",
    "#Make a list of all the Printed Results\n",
    "Nodes_Results=[]\n",
    "Layers_Results=[]\n",
    "Filters_Results=[]\n",
    "Kernels_Results=[]\n",
    "Batch_Sizes_Results=[]\n",
    "Optimizer_Results=[]\n",
    "Activation_Results=[]\n",
    "Results=[]\n",
    "\n",
    "\n",
    "#grid search nodes only\n",
    "#create data frame\n",
    "GS_Nodes=pd.DataFrame()\n",
    "GS_Nodes[\"Nodes\"]=\"\"\n",
    "GS_Nodes[\"R_Squared\"]=\"\"\n",
    "for z in runs:\n",
    "    for i in nodes:\n",
    "        model = train_model(seq_e_train, e_train['Count Freq'], nb_epoch=3,border_mode='same',\n",
    "                            inp_len=133, nodes=i, layers=3, nbr_filters=120, filter_len=8, dropout1=0,\n",
    "                            dropout2=0,dropout3=0.2, batch_size=128, optimizer=\"Adam\", activation=\"relu\")\n",
    "        e_test = test_data(df=e_test, model=model, obs_col='Count Freq',test_seq=seq_e_test)\n",
    "        r = r2(e_test['Count Freq'], e_test['pred'])\n",
    "        e_test['pred']\n",
    "        a= \"When there are\", i, \"nodes,  the r squared value is\", r\n",
    "        Nodes_Results.append(a) \n",
    "        GS_Nodes.loc[row]=(i,r)\n",
    "        row+=1\n",
    "\n",
    "#grid search layers only\n",
    "#create data frame\n",
    "GS_Layers=pd.DataFrame()\n",
    "GS_Layers[\"Layers\"]=\"\"\n",
    "GS_Layers[\"R_Squared\"]=\"\"\n",
    "for z in runs:\n",
    "    for j in layers:\n",
    "        model = train_model(seq_e_train, e_train['Count Freq'], nb_epoch=3,border_mode='same',\n",
    "                            inp_len=133, nodes=40, layers=j, nbr_filters=120, filter_len=8, dropout1=0,\n",
    "                            dropout2=0,dropout3=0.2, batch_size=128, optimizer=\"Adam\", activation=\"relu\")\n",
    "        e_test = test_data(df=e_test, model=model, obs_col='Count Freq',test_seq=seq_e_test)\n",
    "        r = r2(e_test['Count Freq'], e_test['pred'])\n",
    "        e_test['pred']\n",
    "        a= \"When there are\", j, \"layers,  the r squared value is\", r\n",
    "        Layers_Results.append(a)      \n",
    "        GS_Layers.loc[row]=(j,r)\n",
    "        row+=1\n",
    "        \n",
    "#grid search filters only\n",
    "#create data frame\n",
    "GS_Filters=pd.DataFrame()\n",
    "GS_Filters[\"Filters\"]=\"\"\n",
    "GS_Filters[\"R_Squared\"]=\"\"\n",
    "for z in runs:\n",
    "    for k in nbr_filters:\n",
    "        model = train_model(seq_e_train, e_train['Count Freq'], nb_epoch=3,border_mode='same',\n",
    "                            inp_len=133, nodes=40, layers=3, nbr_filters=k, filter_len=8, dropout1=0,\n",
    "                            dropout2=0,dropout3=0.2, batch_size=128, optimizer=\"Adam\", activation=\"relu\")\n",
    "        e_test = test_data(df=e_test, model=model, obs_col='Count Freq',test_seq=seq_e_test)\n",
    "        r = r2(e_test['Count Freq'], e_test['pred'])\n",
    "        e_test['pred']\n",
    "        a= \"When there are\", k, \"filters, the r squared value is\", r\n",
    "        Filters_Results.append(a)\n",
    "        GS_Filters.loc[row]=(k,r)\n",
    "        row+=1\n",
    "        \n",
    "    #grid search kernels only\n",
    "    #create data frame\n",
    "GS_Kernels=pd.DataFrame()\n",
    "GS_Kernels[\"Kernels\"]=\"\"\n",
    "GS_Kernels[\"R_Squared\"]=\"\"\n",
    "for z in runs:\n",
    "    for l in filter_len:\n",
    "        model = train_model(seq_e_train, e_train['Count Freq'], nb_epoch=3,border_mode='same',\n",
    "                            inp_len=133, nodes=40, layers=3, nbr_filters=120, filter_len=l, dropout1=0,\n",
    "                            dropout2=0,dropout3=0.2, batch_size=128, optimizer=\"Adam\", activation=\"relu\")\n",
    "        e_test = test_data(df=e_test, model=model, obs_col='Count Freq',test_seq=seq_e_test)\n",
    "        r = r2(e_test['Count Freq'], e_test['pred'])\n",
    "        e_test['pred']\n",
    "        a= \"When there are\", l, \"kernels, the r squared value is\", r\n",
    "        Kernels_Results.append(a) \n",
    "        GS_Kernels.loc[row]=(l,r)\n",
    "        row+=1\n",
    "\n",
    "#grid search batch size only\n",
    "#create data frame\n",
    "GS_Batch_Sizes=pd.DataFrame()\n",
    "GS_Batch_Sizes[\"Batch Sizes\"]=\"\"\n",
    "GS_Batch_Sizes[\"R_Squared\"]=\"\"\n",
    "for z in runs:\n",
    "    for m in batch_size:\n",
    "        model = train_model(seq_e_train, e_train['Count Freq'], nb_epoch=3,border_mode='same',\n",
    "                            inp_len=133, nodes=40, layers=3, nbr_filters=120, filter_len=8, dropout1=0,\n",
    "                            dropout2=0,dropout3=0.2, batch_size=m, optimizer=\"Adam\", activation=\"relu\")\n",
    "        e_test = test_data(df=e_test, model=model, obs_col='Count Freq',test_seq=seq_e_test)   \n",
    "        r = r2(e_test['Count Freq'], e_test['pred'])\n",
    "        e_test['pred']\n",
    "        a= \"When there is a\", m, \"batch size, the r squared value is\", r\n",
    "        Batch_Sizes_Results.append(a)  \n",
    "        GS_Batch_Sizes.loc[row]=(m,r)\n",
    "        row+=1\n",
    "\n",
    "#grid search optimizer only\n",
    "#create data frame\n",
    "GS_Optimizer=pd.DataFrame()\n",
    "GS_Optimizer[\"Optimizer\"]=\"\"\n",
    "GS_Optimizer[\"R_Squared\"]=\"\"\n",
    "for z in runs:\n",
    "    for n in optimizer:\n",
    "        model = train_model(seq_e_train, e_train['Count Freq'], nb_epoch=3,border_mode='same',\n",
    "                            inp_len=133, nodes=40, layers=3, nbr_filters=120, filter_len=8, dropout1=0,\n",
    "                            dropout2=0,dropout3=0.2, batch_size=128, optimizer=n, activation=\"relu\")\n",
    "        e_test = test_data(df=e_test, model=model, obs_col='Count Freq',test_seq=seq_e_test)   \n",
    "        r = r2(e_test['Count Freq'], e_test['pred'])\n",
    "        e_test['pred']\n",
    "        a= \"When there is a\", n, \"optimizer, the r squared value is\", r\n",
    "        Optimizer_Results.append(a)\n",
    "        GS_Optimizer.loc[row]=(n,r)\n",
    "        row+=1\n",
    "\n",
    "#grid search activation only\n",
    "#create data frame\n",
    "GS_Activation=pd.DataFrame()\n",
    "GS_Activation[\"Activation\"]=\"\"\n",
    "GS_Activation[\"R_Squared\"]=\"\"\n",
    "for z in runs:\n",
    "    for o in activation:\n",
    "        model = train_model(seq_e_train, e_train['Count Freq'], nb_epoch=3,border_mode='same',\n",
    "                            inp_len=133, nodes=40, layers=3, nbr_filters=120, filter_len=8, dropout1=0,\n",
    "                            dropout2=0,dropout3=0.2, batch_size=128, optimizer=\"Adam\", activation=o)\n",
    "        e_test = test_data(df=e_test, model=model, obs_col='Count Freq',test_seq=seq_e_test)   \n",
    "        r = r2(e_test['Count Freq'], e_test['pred'])\n",
    "        e_test['pred']\n",
    "        a= \"When there is a\", o, \"activation, the r squared value is\", r\n",
    "        Activation_Results.append(a)   \n",
    "        GS_Activation.loc[row]=(o,r)\n",
    "        row+=1"
   ]
  },
  {
   "cell_type": "code",
   "execution_count": 7,
   "metadata": {},
   "outputs": [
    {
     "name": "stdout",
     "output_type": "stream",
     "text": [
      "   Nodes  R_Squared\n",
      "0  300.0   0.000000\n",
      "1  400.0   0.005658\n",
      "2  300.0   0.000011\n",
      "3  400.0   0.002381\n",
      "4  300.0   0.002742\n",
      "5  400.0   0.000144\n",
      "('When there are', 300, 'nodes,  the r squared value is', 0.0)\n",
      "('When there are', 400, 'nodes,  the r squared value is', 0.005658266572685479)\n",
      "('When there are', 300, 'nodes,  the r squared value is', 1.1088097006674958e-05)\n",
      "('When there are', 400, 'nodes,  the r squared value is', 0.0023814770696554185)\n",
      "('When there are', 300, 'nodes,  the r squared value is', 0.002741856801300603)\n",
      "('When there are', 400, 'nodes,  the r squared value is', 0.00014350735237667034)\n",
      "       R_Squared\n",
      "Nodes           \n",
      "300.0   0.000918\n",
      "400.0   0.002728\n",
      "    Layers  R_Squared\n",
      "6      3.0   0.000433\n",
      "7      4.0   0.000000\n",
      "8      3.0   0.000284\n",
      "9      4.0   0.000000\n",
      "10     3.0   0.000407\n",
      "11     4.0   0.000003\n",
      "('When there are', 3, 'layers,  the r squared value is', 0.00043279045902714795)\n",
      "('When there are', 4, 'layers,  the r squared value is', 0.0)\n",
      "('When there are', 3, 'layers,  the r squared value is', 0.0002841247478151415)\n",
      "('When there are', 4, 'layers,  the r squared value is', 0.0)\n",
      "('When there are', 3, 'layers,  the r squared value is', 0.0004073622679665273)\n",
      "('When there are', 4, 'layers,  the r squared value is', 2.99009861244543e-06)\n",
      "           R_Squared\n",
      "Layers              \n",
      "3.0     3.747592e-04\n",
      "4.0     9.966995e-07\n",
      "    Filters  R_Squared\n",
      "12     80.0   0.000378\n",
      "13    100.0   0.000000\n",
      "14    120.0   0.000000\n",
      "15     80.0   0.004437\n",
      "16    100.0   0.001282\n",
      "17    120.0   0.000000\n",
      "18     80.0   0.004836\n",
      "19    100.0   0.000000\n",
      "20    120.0   0.000000\n",
      "('When there are', 80, 'filters, the r squared value is', 0.00037770839344989656)\n",
      "('When there are', 100, 'filters, the r squared value is', 0.0)\n",
      "('When there are', 120, 'filters, the r squared value is', 0.0)\n",
      "('When there are', 80, 'filters, the r squared value is', 0.004437445574706888)\n",
      "('When there are', 100, 'filters, the r squared value is', 0.0012822169487393842)\n",
      "('When there are', 120, 'filters, the r squared value is', 0.0)\n",
      "('When there are', 80, 'filters, the r squared value is', 0.004835978574618439)\n",
      "('When there are', 100, 'filters, the r squared value is', 0.0)\n",
      "('When there are', 120, 'filters, the r squared value is', 0.0)\n",
      "         R_Squared\n",
      "Filters           \n",
      "80.0      0.003217\n",
      "100.0     0.000427\n",
      "120.0     0.000000\n",
      "    Kernels  R_Squared\n",
      "21     10.0   0.000005\n",
      "22     20.0   0.000000\n",
      "23     10.0   0.003443\n",
      "24     20.0   0.000217\n",
      "25     10.0   0.000033\n",
      "26     20.0   0.000025\n",
      "('When there are', 10, 'kernels, the r squared value is', 5.123828256119202e-06)\n",
      "('When there are', 20, 'kernels, the r squared value is', 0.0)\n",
      "('When there are', 10, 'kernels, the r squared value is', 0.003443025984341098)\n",
      "('When there are', 20, 'kernels, the r squared value is', 0.00021698459183838175)\n",
      "('When there are', 10, 'kernels, the r squared value is', 3.332380627862493e-05)\n",
      "('When there are', 20, 'kernels, the r squared value is', 2.5326280707573106e-05)\n",
      "         R_Squared\n",
      "Kernels           \n",
      "10.0      0.001160\n",
      "20.0      0.000081\n",
      "    Batch Sizes  R_Squared\n",
      "27         80.0   0.000200\n",
      "28        100.0   0.001002\n",
      "29        120.0   0.000000\n",
      "30         80.0   0.005633\n",
      "31        100.0   0.001686\n",
      "32        120.0   0.000009\n",
      "33         80.0   0.004084\n",
      "34        100.0   0.000029\n",
      "35        120.0   0.003744\n",
      "('When there is a', 80, 'batch size, the r squared value is', 0.0002002189832677407)\n",
      "('When there is a', 100, 'batch size, the r squared value is', 0.0010015505977472047)\n",
      "('When there is a', 120, 'batch size, the r squared value is', 0.0)\n",
      "('When there is a', 80, 'batch size, the r squared value is', 0.0056328077577326805)\n",
      "('When there is a', 100, 'batch size, the r squared value is', 0.0016856234244231384)\n",
      "('When there is a', 120, 'batch size, the r squared value is', 8.974994433843741e-06)\n",
      "('When there is a', 80, 'batch size, the r squared value is', 0.004084159869822293)\n",
      "('When there is a', 100, 'batch size, the r squared value is', 2.924156001104339e-05)\n",
      "('When there is a', 120, 'batch size, the r squared value is', 0.003744471671154733)\n",
      "             R_Squared\n",
      "Batch Sizes           \n",
      "80.0          0.003306\n",
      "100.0         0.000905\n",
      "120.0         0.001251\n",
      "   Optimizer  R_Squared\n",
      "36  Adadelta   0.000000\n",
      "37      Adam   0.007927\n",
      "38    Adamax   0.001507\n",
      "39     Nadam   0.003104\n",
      "40  Adadelta   0.000594\n",
      "41      Adam   0.000000\n",
      "42    Adamax   0.006389\n",
      "43     Nadam   0.002868\n",
      "44  Adadelta   0.005344\n",
      "45      Adam   0.005077\n",
      "46    Adamax   0.000053\n",
      "47     Nadam   0.002976\n",
      "('When there is a', 'Adadelta', 'optimizer, the r squared value is', 0.0)\n",
      "('When there is a', 'Adam', 'optimizer, the r squared value is', 0.007926789763582964)\n",
      "('When there is a', 'Adamax', 'optimizer, the r squared value is', 0.0015074904732396074)\n",
      "('When there is a', 'Nadam', 'optimizer, the r squared value is', 0.003104068676536132)\n",
      "('When there is a', 'Adadelta', 'optimizer, the r squared value is', 0.0005944780622907885)\n",
      "('When there is a', 'Adam', 'optimizer, the r squared value is', 0.0)\n",
      "('When there is a', 'Adamax', 'optimizer, the r squared value is', 0.006389137171037364)\n",
      "('When there is a', 'Nadam', 'optimizer, the r squared value is', 0.0028675970869831142)\n",
      "('When there is a', 'Adadelta', 'optimizer, the r squared value is', 0.005343936518312261)\n",
      "('When there is a', 'Adam', 'optimizer, the r squared value is', 0.005077199345083599)\n",
      "('When there is a', 'Adamax', 'optimizer, the r squared value is', 5.336368539397753e-05)\n",
      "('When there is a', 'Nadam', 'optimizer, the r squared value is', 0.002976447126886776)\n",
      "           R_Squared\n",
      "Optimizer           \n",
      "Adadelta    0.001979\n",
      "Adam        0.004335\n",
      "Adamax      0.002650\n",
      "Nadam       0.002983\n",
      "   Activation  R_Squared\n",
      "48       relu   0.029721\n",
      "49       tanh   0.022310\n",
      "50     linear   0.011261\n",
      "51       relu   0.000738\n",
      "52       tanh   0.000000\n",
      "53     linear   0.003080\n",
      "54       relu   0.002493\n",
      "55       tanh   0.003309\n",
      "56     linear   0.000000\n",
      "('When there is a', 'relu', 'activation, the r squared value is', 0.029720609508341895)\n",
      "('When there is a', 'tanh', 'activation, the r squared value is', 0.022309509682136148)\n",
      "('When there is a', 'linear', 'activation, the r squared value is', 0.01126074211119651)\n",
      "('When there is a', 'relu', 'activation, the r squared value is', 0.0007381558143268482)\n",
      "('When there is a', 'tanh', 'activation, the r squared value is', 0.0)\n",
      "('When there is a', 'linear', 'activation, the r squared value is', 0.003080479947233424)\n",
      "('When there is a', 'relu', 'activation, the r squared value is', 0.0024928704445712924)\n",
      "('When there is a', 'tanh', 'activation, the r squared value is', 0.0033086407192397574)\n",
      "('When there is a', 'linear', 'activation, the r squared value is', 0.0)\n",
      "            R_Squared\n",
      "Activation           \n",
      "linear       0.004780\n",
      "relu         0.010984\n",
      "tanh         0.008539\n"
     ]
    },
    {
     "data": {
      "text/plain": [
       "Text(0.5, 1.0, 'Grid Search-Activation')"
      ]
     },
     "execution_count": 7,
     "metadata": {},
     "output_type": "execute_result"
    },
    {
     "data": {
      "image/png": "[encoded data removed]",
      "text/plain": [
       "<Figure size 640x480 with 1 Axes>"
      ]
     },
     "metadata": {},
     "output_type": "display_data"
    },
    {
     "data": {
      "image/png": "[encoded data removed]",
      "text/plain": [
       "<Figure size 640x480 with 1 Axes>"
      ]
     },
     "metadata": {},
     "output_type": "display_data"
    },
    {
     "data": {
      "image/png": "[encoded data removed]",
      "text/plain": [
       "<Figure size 640x480 with 1 Axes>"
      ]
     },
     "metadata": {},
     "output_type": "display_data"
    },
    {
     "data": {
      "image/png": "[encoded data removed]",
      "text/plain": [
       "<Figure size 640x480 with 1 Axes>"
      ]
     },
     "metadata": {},
     "output_type": "display_data"
    },
    {
     "data": {
      "image/png": "[encoded data removed]",
      "text/plain": [
       "<Figure size 640x480 with 1 Axes>"
      ]
     },
     "metadata": {},
     "output_type": "display_data"
    },
    {
     "data": {
      "image/png": "[encoded data removed]",
      "text/plain": [
       "<Figure size 640x480 with 1 Axes>"
      ]
     },
     "metadata": {},
     "output_type": "display_data"
    },
    {
     "data": {
      "image/png": "[encoded data removed]",
      "text/plain": [
       "<Figure size 640x480 with 1 Axes>"
      ]
     },
     "metadata": {},
     "output_type": "display_data"
    }
   ],
   "source": [
    "#create new data frame that gives mean r squared and plot\n",
    "f1= plt.figure()\n",
    "f2= plt.figure()\n",
    "f3= plt.figure()\n",
    "f4= plt.figure() \n",
    "f5= plt.figure()\n",
    "f6= plt.figure()\n",
    "f7= plt.figure()\n",
    "\n",
    "\n",
    "print(GS_Nodes)\n",
    "for i in Nodes_Results:\n",
    "    print(i)\n",
    "    \n",
    "GS_Nodes_Grouped=(GS_Nodes.groupby(['Nodes']).mean())\n",
    "print(GS_Nodes_Grouped)\n",
    "\n",
    "# plot results\n",
    "ax1 = f1.add_subplot(111)\n",
    "ax1.plot(GS_Nodes_Grouped)\n",
    "ax1.set_xlabel(\"Nodes\")\n",
    "ax1.set_ylabel(\"Mean R Squared\")\n",
    "ax1.set_title (\"Grid Search-Nodes\")\n",
    "\n",
    "\n",
    "\n",
    "\n",
    "print(GS_Layers)\n",
    "for i in Layers_Results:\n",
    "    print(i)\n",
    "    \n",
    "GS_Layers_Grouped=(GS_Layers.groupby(['Layers']).mean())\n",
    "print(GS_Layers_Grouped)\n",
    "\n",
    "# plot results\n",
    "ax2 = f2.add_subplot(111)\n",
    "ax2.plot(GS_Layers_Grouped)\n",
    "ax2.set_xlabel(\"Layers\")\n",
    "ax2.set_ylabel(\"Mean R Squared\")\n",
    "ax2.set_title (\"Grid Search-Layers\")\n",
    "\n",
    "print(GS_Filters)\n",
    "for i in Filters_Results:\n",
    "    print(i)\n",
    "    \n",
    "GS_Filters_Grouped=(GS_Filters.groupby(['Filters']).mean())\n",
    "print(GS_Filters_Grouped)\n",
    "\n",
    "# plot results\n",
    "\n",
    "ax3 = f3.add_subplot(111)\n",
    "ax3.plot(GS_Filters_Grouped)\n",
    "ax3.set_xlabel(\"Filters\")\n",
    "ax3.set_ylabel(\"Mean R Squared\")\n",
    "ax3.set_title (\"Grid Search-Filters\")\n",
    "\n",
    "\n",
    "\n",
    "print(GS_Kernels)\n",
    "for i in Kernels_Results:\n",
    "    print(i)\n",
    "    \n",
    "GS_Kernels_Grouped=(GS_Kernels.groupby(['Kernels']).mean())\n",
    "print(GS_Kernels_Grouped)\n",
    "\n",
    "# plot results\n",
    "ax4 = f4.add_subplot(111)\n",
    "ax4.plot(GS_Kernels_Grouped)\n",
    "ax4.set_xlabel(\"Kernels\")\n",
    "ax4.set_ylabel(\"Mean R Squared\")\n",
    "ax4.set_title (\"Grid Search-Kernels\")\n",
    "\n",
    "\n",
    "print(GS_Batch_Sizes)\n",
    "for i in Batch_Sizes_Results:\n",
    "    print(i)\n",
    "    \n",
    "GS_Batch_Sizes_Grouped=(GS_Batch_Sizes.groupby(['Batch Sizes']).mean())\n",
    "print(GS_Batch_Sizes_Grouped)\n",
    "\n",
    "# plot results\n",
    "ax5 = f5.add_subplot(111)\n",
    "ax5.plot(GS_Batch_Sizes_Grouped)\n",
    "ax5.set_xlabel(\"Batch Size\")\n",
    "ax5.set_ylabel(\"Mean R Squared\")\n",
    "ax5.set_title (\"Grid Search-Batch Size\")\n",
    "\n",
    "\n",
    "print(GS_Optimizer)\n",
    "for i in Optimizer_Results:\n",
    "    print(i)\n",
    "    \n",
    "GS_Optimizer_Grouped=(GS_Optimizer.groupby(['Optimizer']).mean())\n",
    "print(GS_Optimizer_Grouped)\n",
    "\n",
    "# plot results\n",
    "ax6 = f6.add_subplot(111)\n",
    "ax6.plot(GS_Optimizer_Grouped)\n",
    "ax6.set_xlabel(\"Optimizer\")\n",
    "ax6.set_ylabel(\"Mean R Squared\")\n",
    "ax6.set_title (\"Grid Search-Optimizer\")\n",
    "\n",
    "\n",
    "print(GS_Activation)\n",
    "for i in Activation_Results:\n",
    "    print(i)\n",
    "    \n",
    "GS_Activation_Grouped=(GS_Activation.groupby(['Activation']).mean())\n",
    "print(GS_Activation_Grouped)\n",
    "\n",
    "# plot results\n",
    "ax7 = f7.add_subplot(111)\n",
    "ax7.plot(GS_Activation_Grouped)\n",
    "ax7.set_xlabel(\"Activation\")\n",
    "ax7.set_ylabel(\"Mean R Squared\")\n",
    "ax7.set_title (\"Grid Search-Activation\")\n",
    "\n"
   ]
  },
  {
   "cell_type": "code",
   "execution_count": 23,
   "metadata": {},
   "outputs": [
    {
     "name": "stdout",
     "output_type": "stream",
     "text": [
      "192\n",
      "Epoch 1/3\n",
      "71/71 [==============================] - 3s 40ms/step - loss: 0.1079\n",
      "Epoch 2/3\n",
      "71/71 [==============================] - 3s 40ms/step - loss: 2.1603e-06\n",
      "Epoch 3/3\n",
      "71/71 [==============================] - 3s 40ms/step - loss: 9.3998e-07\n",
      "Epoch 1/3\n"
     ]
    },
    {
     "name": "stderr",
     "output_type": "stream",
     "text": [
      "/tmp/ipykernel_1952487/2783961118.py:45: SettingWithCopyWarning: \n",
      "A value is trying to be set on a copy of a slice from a DataFrame.\n",
      "Try using .loc[row_indexer,col_indexer] = value instead\n",
      "\n",
      "See the caveats in the documentation: https://pandas.pydata.org/pandas-docs/stable/user_guide/indexing.html#returning-a-view-versus-a-copy\n",
      "  df.loc[:,output_col] = scaler.inverse_transform(predictions)\n"
     ]
    },
    {
     "name": "stdout",
     "output_type": "stream",
     "text": [
      "71/71 [==============================] - 3s 41ms/step - loss: 0.0352\n",
      "Epoch 2/3\n",
      "71/71 [==============================] - 3s 41ms/step - loss: 1.3647e-06\n",
      "Epoch 3/3\n",
      "71/71 [==============================] - 3s 41ms/step - loss: 6.6845e-07\n",
      "Epoch 1/3\n"
     ]
    },
    {
     "name": "stderr",
     "output_type": "stream",
     "text": [
      "/tmp/ipykernel_1952487/2783961118.py:45: SettingWithCopyWarning: \n",
      "A value is trying to be set on a copy of a slice from a DataFrame.\n",
      "Try using .loc[row_indexer,col_indexer] = value instead\n",
      "\n",
      "See the caveats in the documentation: https://pandas.pydata.org/pandas-docs/stable/user_guide/indexing.html#returning-a-view-versus-a-copy\n",
      "  df.loc[:,output_col] = scaler.inverse_transform(predictions)\n"
     ]
    },
    {
     "name": "stdout",
     "output_type": "stream",
     "text": [
      "71/71 [==============================] - 3s 40ms/step - loss: 0.0628\n",
      "Epoch 2/3\n",
      "71/71 [==============================] - 3s 40ms/step - loss: 3.7738e-06\n",
      "Epoch 3/3\n",
      "71/71 [==============================] - 3s 40ms/step - loss: 2.6253e-06\n",
      "Epoch 1/3\n"
     ]
    },
    {
     "name": "stderr",
     "output_type": "stream",
     "text": [
      "/tmp/ipykernel_1952487/2783961118.py:45: SettingWithCopyWarning: \n",
      "A value is trying to be set on a copy of a slice from a DataFrame.\n",
      "Try using .loc[row_indexer,col_indexer] = value instead\n",
      "\n",
      "See the caveats in the documentation: https://pandas.pydata.org/pandas-docs/stable/user_guide/indexing.html#returning-a-view-versus-a-copy\n",
      "  df.loc[:,output_col] = scaler.inverse_transform(predictions)\n"
     ]
    },
    {
     "name": "stdout",
     "output_type": "stream",
     "text": [
      "71/71 [==============================] - 3s 41ms/step - loss: 0.0964\n",
      "Epoch 2/3\n",
      "71/71 [==============================] - 3s 40ms/step - loss: 9.8380e-07\n",
      "Epoch 3/3\n",
      "71/71 [==============================] - 3s 40ms/step - loss: 4.2749e-07\n",
      "Epoch 1/3\n"
     ]
    },
    {
     "name": "stderr",
     "output_type": "stream",
     "text": [
      "/tmp/ipykernel_1952487/2783961118.py:45: SettingWithCopyWarning: \n",
      "A value is trying to be set on a copy of a slice from a DataFrame.\n",
      "Try using .loc[row_indexer,col_indexer] = value instead\n",
      "\n",
      "See the caveats in the documentation: https://pandas.pydata.org/pandas-docs/stable/user_guide/indexing.html#returning-a-view-versus-a-copy\n",
      "  df.loc[:,output_col] = scaler.inverse_transform(predictions)\n"
     ]
    },
    {
     "name": "stdout",
     "output_type": "stream",
     "text": [
      "71/71 [==============================] - 5s 67ms/step - loss: 0.1178\n",
      "Epoch 2/3\n",
      "71/71 [==============================] - 5s 66ms/step - loss: 2.9880e-07\n",
      "Epoch 3/3\n",
      "71/71 [==============================] - 5s 66ms/step - loss: 2.5298e-07\n",
      "Epoch 1/3\n"
     ]
    },
    {
     "name": "stderr",
     "output_type": "stream",
     "text": [
      "/tmp/ipykernel_1952487/2783961118.py:45: SettingWithCopyWarning: \n",
      "A value is trying to be set on a copy of a slice from a DataFrame.\n",
      "Try using .loc[row_indexer,col_indexer] = value instead\n",
      "\n",
      "See the caveats in the documentation: https://pandas.pydata.org/pandas-docs/stable/user_guide/indexing.html#returning-a-view-versus-a-copy\n",
      "  df.loc[:,output_col] = scaler.inverse_transform(predictions)\n"
     ]
    },
    {
     "name": "stdout",
     "output_type": "stream",
     "text": [
      "71/71 [==============================] - 5s 66ms/step - loss: 0.0794\n",
      "Epoch 2/3\n",
      "71/71 [==============================] - 5s 66ms/step - loss: 1.9908e-06\n",
      "Epoch 3/3\n",
      "71/71 [==============================] - 5s 66ms/step - loss: 1.0887e-06\n",
      "Epoch 1/3\n"
     ]
    },
    {
     "name": "stderr",
     "output_type": "stream",
     "text": [
      "/tmp/ipykernel_1952487/2783961118.py:45: SettingWithCopyWarning: \n",
      "A value is trying to be set on a copy of a slice from a DataFrame.\n",
      "Try using .loc[row_indexer,col_indexer] = value instead\n",
      "\n",
      "See the caveats in the documentation: https://pandas.pydata.org/pandas-docs/stable/user_guide/indexing.html#returning-a-view-versus-a-copy\n",
      "  df.loc[:,output_col] = scaler.inverse_transform(predictions)\n"
     ]
    },
    {
     "name": "stdout",
     "output_type": "stream",
     "text": [
      "71/71 [==============================] - 5s 66ms/step - loss: 0.0221\n",
      "Epoch 2/3\n",
      "71/71 [==============================] - 5s 66ms/step - loss: 1.2700e-06\n",
      "Epoch 3/3\n",
      "71/71 [==============================] - 5s 67ms/step - loss: 8.6033e-07\n",
      "Epoch 1/3\n"
     ]
    },
    {
     "name": "stderr",
     "output_type": "stream",
     "text": [
      "/tmp/ipykernel_1952487/2783961118.py:45: SettingWithCopyWarning: \n",
      "A value is trying to be set on a copy of a slice from a DataFrame.\n",
      "Try using .loc[row_indexer,col_indexer] = value instead\n",
      "\n",
      "See the caveats in the documentation: https://pandas.pydata.org/pandas-docs/stable/user_guide/indexing.html#returning-a-view-versus-a-copy\n",
      "  df.loc[:,output_col] = scaler.inverse_transform(predictions)\n"
     ]
    },
    {
     "name": "stdout",
     "output_type": "stream",
     "text": [
      "71/71 [==============================] - 5s 66ms/step - loss: 0.0607\n",
      "Epoch 2/3\n",
      "71/71 [==============================] - 5s 66ms/step - loss: 3.7451e-06\n",
      "Epoch 3/3\n",
      "71/71 [==============================] - 5s 66ms/step - loss: 2.7595e-06\n",
      "Epoch 1/3\n"
     ]
    },
    {
     "name": "stderr",
     "output_type": "stream",
     "text": [
      "/tmp/ipykernel_1952487/2783961118.py:45: SettingWithCopyWarning: \n",
      "A value is trying to be set on a copy of a slice from a DataFrame.\n",
      "Try using .loc[row_indexer,col_indexer] = value instead\n",
      "\n",
      "See the caveats in the documentation: https://pandas.pydata.org/pandas-docs/stable/user_guide/indexing.html#returning-a-view-versus-a-copy\n",
      "  df.loc[:,output_col] = scaler.inverse_transform(predictions)\n"
     ]
    },
    {
     "name": "stdout",
     "output_type": "stream",
     "text": [
      "71/71 [==============================] - 6s 75ms/step - loss: 0.0847\n",
      "Epoch 2/3\n",
      "71/71 [==============================] - 5s 75ms/step - loss: 7.2535e-07\n",
      "Epoch 3/3\n",
      "71/71 [==============================] - 5s 75ms/step - loss: 2.6318e-07\n",
      "Epoch 1/3\n"
     ]
    },
    {
     "name": "stderr",
     "output_type": "stream",
     "text": [
      "/tmp/ipykernel_1952487/2783961118.py:45: SettingWithCopyWarning: \n",
      "A value is trying to be set on a copy of a slice from a DataFrame.\n",
      "Try using .loc[row_indexer,col_indexer] = value instead\n",
      "\n",
      "See the caveats in the documentation: https://pandas.pydata.org/pandas-docs/stable/user_guide/indexing.html#returning-a-view-versus-a-copy\n",
      "  df.loc[:,output_col] = scaler.inverse_transform(predictions)\n"
     ]
    },
    {
     "name": "stdout",
     "output_type": "stream",
     "text": [
      "71/71 [==============================] - 6s 75ms/step - loss: 0.0489\n",
      "Epoch 2/3\n",
      "71/71 [==============================] - 5s 76ms/step - loss: 1.3126e-06\n",
      "Epoch 3/3\n",
      "71/71 [==============================] - 5s 75ms/step - loss: 1.0147e-06\n",
      "Epoch 1/3\n"
     ]
    },
    {
     "name": "stderr",
     "output_type": "stream",
     "text": [
      "/tmp/ipykernel_1952487/2783961118.py:45: SettingWithCopyWarning: \n",
      "A value is trying to be set on a copy of a slice from a DataFrame.\n",
      "Try using .loc[row_indexer,col_indexer] = value instead\n",
      "\n",
      "See the caveats in the documentation: https://pandas.pydata.org/pandas-docs/stable/user_guide/indexing.html#returning-a-view-versus-a-copy\n",
      "  df.loc[:,output_col] = scaler.inverse_transform(predictions)\n"
     ]
    },
    {
     "name": "stdout",
     "output_type": "stream",
     "text": [
      "71/71 [==============================] - 6s 75ms/step - loss: 0.1065\n",
      "Epoch 2/3\n",
      "71/71 [==============================] - 5s 75ms/step - loss: 6.4854e-07\n",
      "Epoch 3/3\n",
      "71/71 [==============================] - 5s 75ms/step - loss: 3.9306e-07\n",
      "Epoch 1/3\n"
     ]
    },
    {
     "name": "stderr",
     "output_type": "stream",
     "text": [
      "/tmp/ipykernel_1952487/2783961118.py:45: SettingWithCopyWarning: \n",
      "A value is trying to be set on a copy of a slice from a DataFrame.\n",
      "Try using .loc[row_indexer,col_indexer] = value instead\n",
      "\n",
      "See the caveats in the documentation: https://pandas.pydata.org/pandas-docs/stable/user_guide/indexing.html#returning-a-view-versus-a-copy\n",
      "  df.loc[:,output_col] = scaler.inverse_transform(predictions)\n"
     ]
    },
    {
     "name": "stdout",
     "output_type": "stream",
     "text": [
      "71/71 [==============================] - 6s 75ms/step - loss: 0.0776\n",
      "Epoch 2/3\n",
      "71/71 [==============================] - 5s 75ms/step - loss: 4.5722e-07\n",
      "Epoch 3/3\n",
      "71/71 [==============================] - 5s 75ms/step - loss: 2.6433e-07\n",
      "Epoch 1/3\n"
     ]
    },
    {
     "name": "stderr",
     "output_type": "stream",
     "text": [
      "/tmp/ipykernel_1952487/2783961118.py:45: SettingWithCopyWarning: \n",
      "A value is trying to be set on a copy of a slice from a DataFrame.\n",
      "Try using .loc[row_indexer,col_indexer] = value instead\n",
      "\n",
      "See the caveats in the documentation: https://pandas.pydata.org/pandas-docs/stable/user_guide/indexing.html#returning-a-view-versus-a-copy\n",
      "  df.loc[:,output_col] = scaler.inverse_transform(predictions)\n"
     ]
    },
    {
     "name": "stdout",
     "output_type": "stream",
     "text": [
      "71/71 [==============================] - 9s 127ms/step - loss: 0.2736\n",
      "Epoch 2/3\n",
      "71/71 [==============================] - 9s 127ms/step - loss: 3.5076e-07\n",
      "Epoch 3/3\n",
      "71/71 [==============================] - 9s 127ms/step - loss: 2.8923e-07\n",
      "Epoch 1/3\n"
     ]
    },
    {
     "name": "stderr",
     "output_type": "stream",
     "text": [
      "/tmp/ipykernel_1952487/2783961118.py:45: SettingWithCopyWarning: \n",
      "A value is trying to be set on a copy of a slice from a DataFrame.\n",
      "Try using .loc[row_indexer,col_indexer] = value instead\n",
      "\n",
      "See the caveats in the documentation: https://pandas.pydata.org/pandas-docs/stable/user_guide/indexing.html#returning-a-view-versus-a-copy\n",
      "  df.loc[:,output_col] = scaler.inverse_transform(predictions)\n"
     ]
    },
    {
     "name": "stdout",
     "output_type": "stream",
     "text": [
      "71/71 [==============================] - 9s 127ms/step - loss: 0.2994\n",
      "Epoch 2/3\n",
      "71/71 [==============================] - 9s 127ms/step - loss: 9.3061e-07\n",
      "Epoch 3/3\n",
      "71/71 [==============================] - 9s 127ms/step - loss: 3.8203e-07\n",
      "Epoch 1/3\n"
     ]
    },
    {
     "name": "stderr",
     "output_type": "stream",
     "text": [
      "/tmp/ipykernel_1952487/2783961118.py:45: SettingWithCopyWarning: \n",
      "A value is trying to be set on a copy of a slice from a DataFrame.\n",
      "Try using .loc[row_indexer,col_indexer] = value instead\n",
      "\n",
      "See the caveats in the documentation: https://pandas.pydata.org/pandas-docs/stable/user_guide/indexing.html#returning-a-view-versus-a-copy\n",
      "  df.loc[:,output_col] = scaler.inverse_transform(predictions)\n"
     ]
    },
    {
     "name": "stdout",
     "output_type": "stream",
     "text": [
      "71/71 [==============================] - 9s 127ms/step - loss: 0.0629\n",
      "Epoch 2/3\n",
      "71/71 [==============================] - 9s 127ms/step - loss: 4.0104e-07\n",
      "Epoch 3/3\n",
      "71/71 [==============================] - 9s 128ms/step - loss: 1.8963e-07\n",
      "Epoch 1/3\n"
     ]
    },
    {
     "name": "stderr",
     "output_type": "stream",
     "text": [
      "/tmp/ipykernel_1952487/2783961118.py:45: SettingWithCopyWarning: \n",
      "A value is trying to be set on a copy of a slice from a DataFrame.\n",
      "Try using .loc[row_indexer,col_indexer] = value instead\n",
      "\n",
      "See the caveats in the documentation: https://pandas.pydata.org/pandas-docs/stable/user_guide/indexing.html#returning-a-view-versus-a-copy\n",
      "  df.loc[:,output_col] = scaler.inverse_transform(predictions)\n"
     ]
    },
    {
     "name": "stdout",
     "output_type": "stream",
     "text": [
      "71/71 [==============================] - 9s 127ms/step - loss: 0.2466\n",
      "Epoch 2/3\n",
      "71/71 [==============================] - 9s 127ms/step - loss: 6.3710e-07\n",
      "Epoch 3/3\n",
      "71/71 [==============================] - 9s 127ms/step - loss: 4.1024e-07\n",
      "Epoch 1/3\n"
     ]
    },
    {
     "name": "stderr",
     "output_type": "stream",
     "text": [
      "/tmp/ipykernel_1952487/2783961118.py:45: SettingWithCopyWarning: \n",
      "A value is trying to be set on a copy of a slice from a DataFrame.\n",
      "Try using .loc[row_indexer,col_indexer] = value instead\n",
      "\n",
      "See the caveats in the documentation: https://pandas.pydata.org/pandas-docs/stable/user_guide/indexing.html#returning-a-view-versus-a-copy\n",
      "  df.loc[:,output_col] = scaler.inverse_transform(predictions)\n"
     ]
    },
    {
     "name": "stdout",
     "output_type": "stream",
     "text": [
      "71/71 [==============================] - 3s 40ms/step - loss: 0.0983\n",
      "Epoch 2/3\n",
      "71/71 [==============================] - 3s 40ms/step - loss: 3.1333e-06\n",
      "Epoch 3/3\n",
      "71/71 [==============================] - 3s 40ms/step - loss: 1.1894e-06\n"
     ]
    },
    {
     "name": "stderr",
     "output_type": "stream",
     "text": [
      "/tmp/ipykernel_1952487/2783961118.py:45: SettingWithCopyWarning: \n",
      "A value is trying to be set on a copy of a slice from a DataFrame.\n",
      "Try using .loc[row_indexer,col_indexer] = value instead\n",
      "\n",
      "See the caveats in the documentation: https://pandas.pydata.org/pandas-docs/stable/user_guide/indexing.html#returning-a-view-versus-a-copy\n",
      "  df.loc[:,output_col] = scaler.inverse_transform(predictions)\n"
     ]
    },
    {
     "name": "stdout",
     "output_type": "stream",
     "text": [
      "Epoch 1/3\n",
      "71/71 [==============================] - 3s 40ms/step - loss: 0.0877\n",
      "Epoch 2/3\n",
      "71/71 [==============================] - 3s 40ms/step - loss: 1.2087e-06\n",
      "Epoch 3/3\n",
      "71/71 [==============================] - 3s 40ms/step - loss: 5.0779e-07\n",
      "Epoch 1/3\n"
     ]
    },
    {
     "name": "stderr",
     "output_type": "stream",
     "text": [
      "/tmp/ipykernel_1952487/2783961118.py:45: SettingWithCopyWarning: \n",
      "A value is trying to be set on a copy of a slice from a DataFrame.\n",
      "Try using .loc[row_indexer,col_indexer] = value instead\n",
      "\n",
      "See the caveats in the documentation: https://pandas.pydata.org/pandas-docs/stable/user_guide/indexing.html#returning-a-view-versus-a-copy\n",
      "  df.loc[:,output_col] = scaler.inverse_transform(predictions)\n"
     ]
    },
    {
     "name": "stdout",
     "output_type": "stream",
     "text": [
      "71/71 [==============================] - 3s 40ms/step - loss: 0.1100\n",
      "Epoch 2/3\n",
      "71/71 [==============================] - 3s 40ms/step - loss: 1.7722e-06\n",
      "Epoch 3/3\n",
      "71/71 [==============================] - 3s 40ms/step - loss: 1.0826e-06\n",
      "Epoch 1/3\n"
     ]
    },
    {
     "name": "stderr",
     "output_type": "stream",
     "text": [
      "/tmp/ipykernel_1952487/2783961118.py:45: SettingWithCopyWarning: \n",
      "A value is trying to be set on a copy of a slice from a DataFrame.\n",
      "Try using .loc[row_indexer,col_indexer] = value instead\n",
      "\n",
      "See the caveats in the documentation: https://pandas.pydata.org/pandas-docs/stable/user_guide/indexing.html#returning-a-view-versus-a-copy\n",
      "  df.loc[:,output_col] = scaler.inverse_transform(predictions)\n"
     ]
    },
    {
     "name": "stdout",
     "output_type": "stream",
     "text": [
      "71/71 [==============================] - 3s 40ms/step - loss: 0.0684\n",
      "Epoch 2/3\n",
      "71/71 [==============================] - 3s 40ms/step - loss: 1.4282e-06\n",
      "Epoch 3/3\n",
      "71/71 [==============================] - 3s 40ms/step - loss: 7.9379e-07\n",
      "Epoch 1/3\n"
     ]
    },
    {
     "name": "stderr",
     "output_type": "stream",
     "text": [
      "/tmp/ipykernel_1952487/2783961118.py:45: SettingWithCopyWarning: \n",
      "A value is trying to be set on a copy of a slice from a DataFrame.\n",
      "Try using .loc[row_indexer,col_indexer] = value instead\n",
      "\n",
      "See the caveats in the documentation: https://pandas.pydata.org/pandas-docs/stable/user_guide/indexing.html#returning-a-view-versus-a-copy\n",
      "  df.loc[:,output_col] = scaler.inverse_transform(predictions)\n"
     ]
    },
    {
     "name": "stdout",
     "output_type": "stream",
     "text": [
      "71/71 [==============================] - 5s 66ms/step - loss: 0.0872\n",
      "Epoch 2/3\n",
      "71/71 [==============================] - 5s 67ms/step - loss: 1.8138e-06\n",
      "Epoch 3/3\n",
      "71/71 [==============================] - 5s 66ms/step - loss: 8.5764e-07\n",
      "Epoch 1/3\n"
     ]
    },
    {
     "name": "stderr",
     "output_type": "stream",
     "text": [
      "/tmp/ipykernel_1952487/2783961118.py:45: SettingWithCopyWarning: \n",
      "A value is trying to be set on a copy of a slice from a DataFrame.\n",
      "Try using .loc[row_indexer,col_indexer] = value instead\n",
      "\n",
      "See the caveats in the documentation: https://pandas.pydata.org/pandas-docs/stable/user_guide/indexing.html#returning-a-view-versus-a-copy\n",
      "  df.loc[:,output_col] = scaler.inverse_transform(predictions)\n"
     ]
    },
    {
     "name": "stdout",
     "output_type": "stream",
     "text": [
      "71/71 [==============================] - 5s 66ms/step - loss: 0.0649\n",
      "Epoch 2/3\n",
      "71/71 [==============================] - 5s 66ms/step - loss: 3.2238e-06\n",
      "Epoch 3/3\n",
      "71/71 [==============================] - 5s 67ms/step - loss: 2.2895e-06\n",
      "Epoch 1/3\n"
     ]
    },
    {
     "name": "stderr",
     "output_type": "stream",
     "text": [
      "/tmp/ipykernel_1952487/2783961118.py:45: SettingWithCopyWarning: \n",
      "A value is trying to be set on a copy of a slice from a DataFrame.\n",
      "Try using .loc[row_indexer,col_indexer] = value instead\n",
      "\n",
      "See the caveats in the documentation: https://pandas.pydata.org/pandas-docs/stable/user_guide/indexing.html#returning-a-view-versus-a-copy\n",
      "  df.loc[:,output_col] = scaler.inverse_transform(predictions)\n"
     ]
    },
    {
     "name": "stdout",
     "output_type": "stream",
     "text": [
      "71/71 [==============================] - 5s 67ms/step - loss: 0.0680\n",
      "Epoch 2/3\n",
      "71/71 [==============================] - 5s 66ms/step - loss: 1.6820e-06\n",
      "Epoch 3/3\n",
      "71/71 [==============================] - 5s 66ms/step - loss: 1.0197e-06\n",
      "Epoch 1/3\n"
     ]
    },
    {
     "name": "stderr",
     "output_type": "stream",
     "text": [
      "/tmp/ipykernel_1952487/2783961118.py:45: SettingWithCopyWarning: \n",
      "A value is trying to be set on a copy of a slice from a DataFrame.\n",
      "Try using .loc[row_indexer,col_indexer] = value instead\n",
      "\n",
      "See the caveats in the documentation: https://pandas.pydata.org/pandas-docs/stable/user_guide/indexing.html#returning-a-view-versus-a-copy\n",
      "  df.loc[:,output_col] = scaler.inverse_transform(predictions)\n"
     ]
    },
    {
     "name": "stdout",
     "output_type": "stream",
     "text": [
      "71/71 [==============================] - 5s 65ms/step - loss: 0.2284\n",
      "Epoch 2/3\n",
      "71/71 [==============================] - 5s 66ms/step - loss: 1.1329e-06\n",
      "Epoch 3/3\n",
      "71/71 [==============================] - 5s 65ms/step - loss: 6.5500e-07\n",
      "Epoch 1/3\n"
     ]
    },
    {
     "name": "stderr",
     "output_type": "stream",
     "text": [
      "/tmp/ipykernel_1952487/2783961118.py:45: SettingWithCopyWarning: \n",
      "A value is trying to be set on a copy of a slice from a DataFrame.\n",
      "Try using .loc[row_indexer,col_indexer] = value instead\n",
      "\n",
      "See the caveats in the documentation: https://pandas.pydata.org/pandas-docs/stable/user_guide/indexing.html#returning-a-view-versus-a-copy\n",
      "  df.loc[:,output_col] = scaler.inverse_transform(predictions)\n"
     ]
    },
    {
     "name": "stdout",
     "output_type": "stream",
     "text": [
      "71/71 [==============================] - 6s 74ms/step - loss: 0.1578\n",
      "Epoch 2/3\n",
      "71/71 [==============================] - 5s 75ms/step - loss: 3.7402e-06\n",
      "Epoch 3/3\n",
      "71/71 [==============================] - 5s 74ms/step - loss: 1.5452e-06\n",
      "Epoch 1/3\n"
     ]
    },
    {
     "name": "stderr",
     "output_type": "stream",
     "text": [
      "/tmp/ipykernel_1952487/2783961118.py:45: SettingWithCopyWarning: \n",
      "A value is trying to be set on a copy of a slice from a DataFrame.\n",
      "Try using .loc[row_indexer,col_indexer] = value instead\n",
      "\n",
      "See the caveats in the documentation: https://pandas.pydata.org/pandas-docs/stable/user_guide/indexing.html#returning-a-view-versus-a-copy\n",
      "  df.loc[:,output_col] = scaler.inverse_transform(predictions)\n"
     ]
    },
    {
     "name": "stdout",
     "output_type": "stream",
     "text": [
      "71/71 [==============================] - 6s 75ms/step - loss: 0.1065\n",
      "Epoch 2/3\n",
      "71/71 [==============================] - 5s 75ms/step - loss: 2.0133e-06\n",
      "Epoch 3/3\n",
      "71/71 [==============================] - 5s 75ms/step - loss: 2.0662e-06\n",
      "Epoch 1/3\n"
     ]
    },
    {
     "name": "stderr",
     "output_type": "stream",
     "text": [
      "/tmp/ipykernel_1952487/2783961118.py:45: SettingWithCopyWarning: \n",
      "A value is trying to be set on a copy of a slice from a DataFrame.\n",
      "Try using .loc[row_indexer,col_indexer] = value instead\n",
      "\n",
      "See the caveats in the documentation: https://pandas.pydata.org/pandas-docs/stable/user_guide/indexing.html#returning-a-view-versus-a-copy\n",
      "  df.loc[:,output_col] = scaler.inverse_transform(predictions)\n"
     ]
    },
    {
     "name": "stdout",
     "output_type": "stream",
     "text": [
      "71/71 [==============================] - 6s 75ms/step - loss: 0.1760\n",
      "Epoch 2/3\n",
      "71/71 [==============================] - 5s 75ms/step - loss: 2.3009e-06\n",
      "Epoch 3/3\n",
      "71/71 [==============================] - 5s 74ms/step - loss: 7.6438e-07\n",
      "Epoch 1/3\n"
     ]
    },
    {
     "name": "stderr",
     "output_type": "stream",
     "text": [
      "/tmp/ipykernel_1952487/2783961118.py:45: SettingWithCopyWarning: \n",
      "A value is trying to be set on a copy of a slice from a DataFrame.\n",
      "Try using .loc[row_indexer,col_indexer] = value instead\n",
      "\n",
      "See the caveats in the documentation: https://pandas.pydata.org/pandas-docs/stable/user_guide/indexing.html#returning-a-view-versus-a-copy\n",
      "  df.loc[:,output_col] = scaler.inverse_transform(predictions)\n"
     ]
    },
    {
     "name": "stdout",
     "output_type": "stream",
     "text": [
      "71/71 [==============================] - 6s 74ms/step - loss: 0.0863\n",
      "Epoch 2/3\n",
      "71/71 [==============================] - 5s 74ms/step - loss: 2.3560e-06\n",
      "Epoch 3/3\n",
      "71/71 [==============================] - 5s 74ms/step - loss: 2.1888e-06\n",
      "Epoch 1/3\n"
     ]
    },
    {
     "name": "stderr",
     "output_type": "stream",
     "text": [
      "/tmp/ipykernel_1952487/2783961118.py:45: SettingWithCopyWarning: \n",
      "A value is trying to be set on a copy of a slice from a DataFrame.\n",
      "Try using .loc[row_indexer,col_indexer] = value instead\n",
      "\n",
      "See the caveats in the documentation: https://pandas.pydata.org/pandas-docs/stable/user_guide/indexing.html#returning-a-view-versus-a-copy\n",
      "  df.loc[:,output_col] = scaler.inverse_transform(predictions)\n"
     ]
    },
    {
     "name": "stdout",
     "output_type": "stream",
     "text": [
      "71/71 [==============================] - 9s 127ms/step - loss: 0.1844\n",
      "Epoch 2/3\n",
      "71/71 [==============================] - 9s 127ms/step - loss: 1.4348e-06\n",
      "Epoch 3/3\n",
      "71/71 [==============================] - 9s 127ms/step - loss: 2.9489e-07\n",
      "Epoch 1/3\n"
     ]
    },
    {
     "name": "stderr",
     "output_type": "stream",
     "text": [
      "/tmp/ipykernel_1952487/2783961118.py:45: SettingWithCopyWarning: \n",
      "A value is trying to be set on a copy of a slice from a DataFrame.\n",
      "Try using .loc[row_indexer,col_indexer] = value instead\n",
      "\n",
      "See the caveats in the documentation: https://pandas.pydata.org/pandas-docs/stable/user_guide/indexing.html#returning-a-view-versus-a-copy\n",
      "  df.loc[:,output_col] = scaler.inverse_transform(predictions)\n"
     ]
    },
    {
     "name": "stdout",
     "output_type": "stream",
     "text": [
      "71/71 [==============================] - 9s 127ms/step - loss: 0.1761\n",
      "Epoch 2/3\n",
      "71/71 [==============================] - 9s 127ms/step - loss: 1.8663e-06\n",
      "Epoch 3/3\n",
      "71/71 [==============================] - 9s 128ms/step - loss: 3.3288e-07\n",
      "Epoch 1/3\n"
     ]
    },
    {
     "name": "stderr",
     "output_type": "stream",
     "text": [
      "/tmp/ipykernel_1952487/2783961118.py:45: SettingWithCopyWarning: \n",
      "A value is trying to be set on a copy of a slice from a DataFrame.\n",
      "Try using .loc[row_indexer,col_indexer] = value instead\n",
      "\n",
      "See the caveats in the documentation: https://pandas.pydata.org/pandas-docs/stable/user_guide/indexing.html#returning-a-view-versus-a-copy\n",
      "  df.loc[:,output_col] = scaler.inverse_transform(predictions)\n"
     ]
    },
    {
     "name": "stdout",
     "output_type": "stream",
     "text": [
      "71/71 [==============================] - 9s 127ms/step - loss: 0.1567\n",
      "Epoch 2/3\n",
      "71/71 [==============================] - 9s 127ms/step - loss: 1.3802e-06\n",
      "Epoch 3/3\n",
      "71/71 [==============================] - 9s 127ms/step - loss: 4.9643e-07\n",
      "Epoch 1/3\n"
     ]
    },
    {
     "name": "stderr",
     "output_type": "stream",
     "text": [
      "/tmp/ipykernel_1952487/2783961118.py:45: SettingWithCopyWarning: \n",
      "A value is trying to be set on a copy of a slice from a DataFrame.\n",
      "Try using .loc[row_indexer,col_indexer] = value instead\n",
      "\n",
      "See the caveats in the documentation: https://pandas.pydata.org/pandas-docs/stable/user_guide/indexing.html#returning-a-view-versus-a-copy\n",
      "  df.loc[:,output_col] = scaler.inverse_transform(predictions)\n"
     ]
    },
    {
     "name": "stdout",
     "output_type": "stream",
     "text": [
      "71/71 [==============================] - 9s 127ms/step - loss: 0.3342\n",
      "Epoch 2/3\n",
      "71/71 [==============================] - 9s 127ms/step - loss: 4.8120e-06\n",
      "Epoch 3/3\n",
      "71/71 [==============================] - 9s 127ms/step - loss: 3.4394e-06\n",
      "Epoch 1/3\n"
     ]
    },
    {
     "name": "stderr",
     "output_type": "stream",
     "text": [
      "/tmp/ipykernel_1952487/2783961118.py:45: SettingWithCopyWarning: \n",
      "A value is trying to be set on a copy of a slice from a DataFrame.\n",
      "Try using .loc[row_indexer,col_indexer] = value instead\n",
      "\n",
      "See the caveats in the documentation: https://pandas.pydata.org/pandas-docs/stable/user_guide/indexing.html#returning-a-view-versus-a-copy\n",
      "  df.loc[:,output_col] = scaler.inverse_transform(predictions)\n"
     ]
    },
    {
     "name": "stdout",
     "output_type": "stream",
     "text": [
      "71/71 [==============================] - 3s 42ms/step - loss: 0.2088\n",
      "Epoch 2/3\n",
      "71/71 [==============================] - 3s 42ms/step - loss: 8.6271e-07\n",
      "Epoch 3/3\n",
      "71/71 [==============================] - 3s 42ms/step - loss: 4.7609e-07\n",
      "Epoch 1/3\n"
     ]
    },
    {
     "name": "stderr",
     "output_type": "stream",
     "text": [
      "/tmp/ipykernel_1952487/2783961118.py:45: SettingWithCopyWarning: \n",
      "A value is trying to be set on a copy of a slice from a DataFrame.\n",
      "Try using .loc[row_indexer,col_indexer] = value instead\n",
      "\n",
      "See the caveats in the documentation: https://pandas.pydata.org/pandas-docs/stable/user_guide/indexing.html#returning-a-view-versus-a-copy\n",
      "  df.loc[:,output_col] = scaler.inverse_transform(predictions)\n"
     ]
    },
    {
     "name": "stdout",
     "output_type": "stream",
     "text": [
      "71/71 [==============================] - 3s 41ms/step - loss: 0.0785\n",
      "Epoch 2/3\n",
      "71/71 [==============================] - 3s 42ms/step - loss: 2.2132e-06\n",
      "Epoch 3/3\n",
      "71/71 [==============================] - 3s 42ms/step - loss: 1.1815e-06\n",
      "Epoch 1/3\n"
     ]
    },
    {
     "name": "stderr",
     "output_type": "stream",
     "text": [
      "/tmp/ipykernel_1952487/2783961118.py:45: SettingWithCopyWarning: \n",
      "A value is trying to be set on a copy of a slice from a DataFrame.\n",
      "Try using .loc[row_indexer,col_indexer] = value instead\n",
      "\n",
      "See the caveats in the documentation: https://pandas.pydata.org/pandas-docs/stable/user_guide/indexing.html#returning-a-view-versus-a-copy\n",
      "  df.loc[:,output_col] = scaler.inverse_transform(predictions)\n"
     ]
    },
    {
     "name": "stdout",
     "output_type": "stream",
     "text": [
      "71/71 [==============================] - 3s 42ms/step - loss: 0.1014\n",
      "Epoch 2/3\n",
      "71/71 [==============================] - 3s 42ms/step - loss: 3.4939e-06\n",
      "Epoch 3/3\n",
      "71/71 [==============================] - 3s 42ms/step - loss: 2.8348e-06\n",
      "Epoch 1/3\n"
     ]
    },
    {
     "name": "stderr",
     "output_type": "stream",
     "text": [
      "/tmp/ipykernel_1952487/2783961118.py:45: SettingWithCopyWarning: \n",
      "A value is trying to be set on a copy of a slice from a DataFrame.\n",
      "Try using .loc[row_indexer,col_indexer] = value instead\n",
      "\n",
      "See the caveats in the documentation: https://pandas.pydata.org/pandas-docs/stable/user_guide/indexing.html#returning-a-view-versus-a-copy\n",
      "  df.loc[:,output_col] = scaler.inverse_transform(predictions)\n"
     ]
    },
    {
     "name": "stdout",
     "output_type": "stream",
     "text": [
      "71/71 [==============================] - 3s 42ms/step - loss: 0.0971\n",
      "Epoch 2/3\n",
      "71/71 [==============================] - 3s 42ms/step - loss: 1.3128e-06\n",
      "Epoch 3/3\n",
      "71/71 [==============================] - 3s 42ms/step - loss: 5.7664e-07\n",
      "Epoch 1/3\n"
     ]
    },
    {
     "name": "stderr",
     "output_type": "stream",
     "text": [
      "/tmp/ipykernel_1952487/2783961118.py:45: SettingWithCopyWarning: \n",
      "A value is trying to be set on a copy of a slice from a DataFrame.\n",
      "Try using .loc[row_indexer,col_indexer] = value instead\n",
      "\n",
      "See the caveats in the documentation: https://pandas.pydata.org/pandas-docs/stable/user_guide/indexing.html#returning-a-view-versus-a-copy\n",
      "  df.loc[:,output_col] = scaler.inverse_transform(predictions)\n"
     ]
    },
    {
     "name": "stdout",
     "output_type": "stream",
     "text": [
      "71/71 [==============================] - 5s 68ms/step - loss: 0.0143\n",
      "Epoch 2/3\n",
      "71/71 [==============================] - 5s 68ms/step - loss: 9.4658e-07\n",
      "Epoch 3/3\n",
      "71/71 [==============================] - 5s 68ms/step - loss: 7.2241e-07\n",
      "Epoch 1/3\n"
     ]
    },
    {
     "name": "stderr",
     "output_type": "stream",
     "text": [
      "/tmp/ipykernel_1952487/2783961118.py:45: SettingWithCopyWarning: \n",
      "A value is trying to be set on a copy of a slice from a DataFrame.\n",
      "Try using .loc[row_indexer,col_indexer] = value instead\n",
      "\n",
      "See the caveats in the documentation: https://pandas.pydata.org/pandas-docs/stable/user_guide/indexing.html#returning-a-view-versus-a-copy\n",
      "  df.loc[:,output_col] = scaler.inverse_transform(predictions)\n"
     ]
    },
    {
     "name": "stdout",
     "output_type": "stream",
     "text": [
      "71/71 [==============================] - 5s 68ms/step - loss: 0.1552\n",
      "Epoch 2/3\n",
      "71/71 [==============================] - 5s 69ms/step - loss: 1.7351e-06\n",
      "Epoch 3/3\n",
      "71/71 [==============================] - 5s 68ms/step - loss: 5.2500e-07\n",
      "Epoch 1/3\n"
     ]
    },
    {
     "name": "stderr",
     "output_type": "stream",
     "text": [
      "/tmp/ipykernel_1952487/2783961118.py:45: SettingWithCopyWarning: \n",
      "A value is trying to be set on a copy of a slice from a DataFrame.\n",
      "Try using .loc[row_indexer,col_indexer] = value instead\n",
      "\n",
      "See the caveats in the documentation: https://pandas.pydata.org/pandas-docs/stable/user_guide/indexing.html#returning-a-view-versus-a-copy\n",
      "  df.loc[:,output_col] = scaler.inverse_transform(predictions)\n"
     ]
    },
    {
     "name": "stdout",
     "output_type": "stream",
     "text": [
      "71/71 [==============================] - 5s 68ms/step - loss: 0.1731\n",
      "Epoch 2/3\n",
      "71/71 [==============================] - 5s 68ms/step - loss: 1.0494e-06\n",
      "Epoch 3/3\n",
      "71/71 [==============================] - 5s 68ms/step - loss: 4.0722e-07\n",
      "Epoch 1/3\n"
     ]
    },
    {
     "name": "stderr",
     "output_type": "stream",
     "text": [
      "/tmp/ipykernel_1952487/2783961118.py:45: SettingWithCopyWarning: \n",
      "A value is trying to be set on a copy of a slice from a DataFrame.\n",
      "Try using .loc[row_indexer,col_indexer] = value instead\n",
      "\n",
      "See the caveats in the documentation: https://pandas.pydata.org/pandas-docs/stable/user_guide/indexing.html#returning-a-view-versus-a-copy\n",
      "  df.loc[:,output_col] = scaler.inverse_transform(predictions)\n"
     ]
    },
    {
     "name": "stdout",
     "output_type": "stream",
     "text": [
      "71/71 [==============================] - 5s 68ms/step - loss: 0.0650\n",
      "Epoch 2/3\n",
      "71/71 [==============================] - 5s 68ms/step - loss: 1.9123e-06\n",
      "Epoch 3/3\n",
      "71/71 [==============================] - 5s 68ms/step - loss: 8.8042e-07\n",
      "Epoch 1/3\n"
     ]
    },
    {
     "name": "stderr",
     "output_type": "stream",
     "text": [
      "/tmp/ipykernel_1952487/2783961118.py:45: SettingWithCopyWarning: \n",
      "A value is trying to be set on a copy of a slice from a DataFrame.\n",
      "Try using .loc[row_indexer,col_indexer] = value instead\n",
      "\n",
      "See the caveats in the documentation: https://pandas.pydata.org/pandas-docs/stable/user_guide/indexing.html#returning-a-view-versus-a-copy\n",
      "  df.loc[:,output_col] = scaler.inverse_transform(predictions)\n"
     ]
    },
    {
     "name": "stdout",
     "output_type": "stream",
     "text": [
      "71/71 [==============================] - 6s 78ms/step - loss: 0.2660\n",
      "Epoch 2/3\n",
      "71/71 [==============================] - 6s 78ms/step - loss: 3.0584e-06\n",
      "Epoch 3/3\n",
      "71/71 [==============================] - 6s 78ms/step - loss: 1.9057e-06\n",
      "Epoch 1/3\n"
     ]
    },
    {
     "name": "stderr",
     "output_type": "stream",
     "text": [
      "/tmp/ipykernel_1952487/2783961118.py:45: SettingWithCopyWarning: \n",
      "A value is trying to be set on a copy of a slice from a DataFrame.\n",
      "Try using .loc[row_indexer,col_indexer] = value instead\n",
      "\n",
      "See the caveats in the documentation: https://pandas.pydata.org/pandas-docs/stable/user_guide/indexing.html#returning-a-view-versus-a-copy\n",
      "  df.loc[:,output_col] = scaler.inverse_transform(predictions)\n"
     ]
    },
    {
     "name": "stdout",
     "output_type": "stream",
     "text": [
      "71/71 [==============================] - 6s 78ms/step - loss: 0.1061\n",
      "Epoch 2/3\n",
      "71/71 [==============================] - 6s 78ms/step - loss: 2.0212e-06\n",
      "Epoch 3/3\n",
      "71/71 [==============================] - 6s 78ms/step - loss: 1.1494e-06\n",
      "Epoch 1/3\n"
     ]
    },
    {
     "name": "stderr",
     "output_type": "stream",
     "text": [
      "/tmp/ipykernel_1952487/2783961118.py:45: SettingWithCopyWarning: \n",
      "A value is trying to be set on a copy of a slice from a DataFrame.\n",
      "Try using .loc[row_indexer,col_indexer] = value instead\n",
      "\n",
      "See the caveats in the documentation: https://pandas.pydata.org/pandas-docs/stable/user_guide/indexing.html#returning-a-view-versus-a-copy\n",
      "  df.loc[:,output_col] = scaler.inverse_transform(predictions)\n"
     ]
    },
    {
     "name": "stdout",
     "output_type": "stream",
     "text": [
      "71/71 [==============================] - 6s 78ms/step - loss: 0.0872\n",
      "Epoch 2/3\n",
      "71/71 [==============================] - 6s 78ms/step - loss: 1.9833e-06\n",
      "Epoch 3/3\n",
      "71/71 [==============================] - 6s 78ms/step - loss: 1.7655e-06\n",
      "Epoch 1/3\n"
     ]
    },
    {
     "name": "stderr",
     "output_type": "stream",
     "text": [
      "/tmp/ipykernel_1952487/2783961118.py:45: SettingWithCopyWarning: \n",
      "A value is trying to be set on a copy of a slice from a DataFrame.\n",
      "Try using .loc[row_indexer,col_indexer] = value instead\n",
      "\n",
      "See the caveats in the documentation: https://pandas.pydata.org/pandas-docs/stable/user_guide/indexing.html#returning-a-view-versus-a-copy\n",
      "  df.loc[:,output_col] = scaler.inverse_transform(predictions)\n"
     ]
    },
    {
     "name": "stdout",
     "output_type": "stream",
     "text": [
      "71/71 [==============================] - 6s 78ms/step - loss: 0.1100\n",
      "Epoch 2/3\n",
      "71/71 [==============================] - 6s 78ms/step - loss: 1.1878e-06\n",
      "Epoch 3/3\n",
      "71/71 [==============================] - 6s 78ms/step - loss: 4.1334e-07\n",
      "Epoch 1/3\n"
     ]
    },
    {
     "name": "stderr",
     "output_type": "stream",
     "text": [
      "/tmp/ipykernel_1952487/2783961118.py:45: SettingWithCopyWarning: \n",
      "A value is trying to be set on a copy of a slice from a DataFrame.\n",
      "Try using .loc[row_indexer,col_indexer] = value instead\n",
      "\n",
      "See the caveats in the documentation: https://pandas.pydata.org/pandas-docs/stable/user_guide/indexing.html#returning-a-view-versus-a-copy\n",
      "  df.loc[:,output_col] = scaler.inverse_transform(predictions)\n"
     ]
    },
    {
     "name": "stdout",
     "output_type": "stream",
     "text": [
      "71/71 [==============================] - 9s 130ms/step - loss: 0.2196\n",
      "Epoch 2/3\n",
      "71/71 [==============================] - 9s 131ms/step - loss: 2.9778e-06\n",
      "Epoch 3/3\n",
      "71/71 [==============================] - 9s 130ms/step - loss: 5.7464e-07\n",
      "Epoch 1/3\n"
     ]
    },
    {
     "name": "stderr",
     "output_type": "stream",
     "text": [
      "/tmp/ipykernel_1952487/2783961118.py:45: SettingWithCopyWarning: \n",
      "A value is trying to be set on a copy of a slice from a DataFrame.\n",
      "Try using .loc[row_indexer,col_indexer] = value instead\n",
      "\n",
      "See the caveats in the documentation: https://pandas.pydata.org/pandas-docs/stable/user_guide/indexing.html#returning-a-view-versus-a-copy\n",
      "  df.loc[:,output_col] = scaler.inverse_transform(predictions)\n"
     ]
    },
    {
     "name": "stdout",
     "output_type": "stream",
     "text": [
      "71/71 [==============================] - 9s 130ms/step - loss: 0.3539\n",
      "Epoch 2/3\n",
      "71/71 [==============================] - 9s 130ms/step - loss: 4.8577e-06\n",
      "Epoch 3/3\n",
      "71/71 [==============================] - 9s 130ms/step - loss: 1.0337e-06\n",
      "Epoch 1/3\n"
     ]
    },
    {
     "name": "stderr",
     "output_type": "stream",
     "text": [
      "/tmp/ipykernel_1952487/2783961118.py:45: SettingWithCopyWarning: \n",
      "A value is trying to be set on a copy of a slice from a DataFrame.\n",
      "Try using .loc[row_indexer,col_indexer] = value instead\n",
      "\n",
      "See the caveats in the documentation: https://pandas.pydata.org/pandas-docs/stable/user_guide/indexing.html#returning-a-view-versus-a-copy\n",
      "  df.loc[:,output_col] = scaler.inverse_transform(predictions)\n"
     ]
    },
    {
     "name": "stdout",
     "output_type": "stream",
     "text": [
      "71/71 [==============================] - 9s 130ms/step - loss: 0.2148\n",
      "Epoch 2/3\n",
      "71/71 [==============================] - 9s 130ms/step - loss: 2.0275e-06\n",
      "Epoch 3/3\n",
      "71/71 [==============================] - 9s 130ms/step - loss: 1.9492e-06\n",
      "Epoch 1/3\n"
     ]
    },
    {
     "name": "stderr",
     "output_type": "stream",
     "text": [
      "/tmp/ipykernel_1952487/2783961118.py:45: SettingWithCopyWarning: \n",
      "A value is trying to be set on a copy of a slice from a DataFrame.\n",
      "Try using .loc[row_indexer,col_indexer] = value instead\n",
      "\n",
      "See the caveats in the documentation: https://pandas.pydata.org/pandas-docs/stable/user_guide/indexing.html#returning-a-view-versus-a-copy\n",
      "  df.loc[:,output_col] = scaler.inverse_transform(predictions)\n"
     ]
    },
    {
     "name": "stdout",
     "output_type": "stream",
     "text": [
      "71/71 [==============================] - 9s 130ms/step - loss: 0.3996\n",
      "Epoch 2/3\n",
      "71/71 [==============================] - 9s 130ms/step - loss: 1.0491e-06\n",
      "Epoch 3/3\n",
      "71/71 [==============================] - 9s 130ms/step - loss: 2.8192e-07\n",
      "Epoch 1/3\n"
     ]
    },
    {
     "name": "stderr",
     "output_type": "stream",
     "text": [
      "/tmp/ipykernel_1952487/2783961118.py:45: SettingWithCopyWarning: \n",
      "A value is trying to be set on a copy of a slice from a DataFrame.\n",
      "Try using .loc[row_indexer,col_indexer] = value instead\n",
      "\n",
      "See the caveats in the documentation: https://pandas.pydata.org/pandas-docs/stable/user_guide/indexing.html#returning-a-view-versus-a-copy\n",
      "  df.loc[:,output_col] = scaler.inverse_transform(predictions)\n"
     ]
    },
    {
     "name": "stdout",
     "output_type": "stream",
     "text": [
      "71/71 [==============================] - 3s 42ms/step - loss: 0.1494\n",
      "Epoch 2/3\n",
      "71/71 [==============================] - 3s 42ms/step - loss: 2.7727e-06\n",
      "Epoch 3/3\n",
      "71/71 [==============================] - 3s 42ms/step - loss: 2.3427e-06\n",
      "Epoch 1/3\n"
     ]
    },
    {
     "name": "stderr",
     "output_type": "stream",
     "text": [
      "/tmp/ipykernel_1952487/2783961118.py:45: SettingWithCopyWarning: \n",
      "A value is trying to be set on a copy of a slice from a DataFrame.\n",
      "Try using .loc[row_indexer,col_indexer] = value instead\n",
      "\n",
      "See the caveats in the documentation: https://pandas.pydata.org/pandas-docs/stable/user_guide/indexing.html#returning-a-view-versus-a-copy\n",
      "  df.loc[:,output_col] = scaler.inverse_transform(predictions)\n"
     ]
    },
    {
     "name": "stdout",
     "output_type": "stream",
     "text": [
      "71/71 [==============================] - 3s 42ms/step - loss: 0.1071\n",
      "Epoch 2/3\n",
      "71/71 [==============================] - 3s 42ms/step - loss: 3.0429e-06\n",
      "Epoch 3/3\n",
      "71/71 [==============================] - 3s 42ms/step - loss: 2.3779e-06\n",
      "Epoch 1/3\n"
     ]
    },
    {
     "name": "stderr",
     "output_type": "stream",
     "text": [
      "/tmp/ipykernel_1952487/2783961118.py:45: SettingWithCopyWarning: \n",
      "A value is trying to be set on a copy of a slice from a DataFrame.\n",
      "Try using .loc[row_indexer,col_indexer] = value instead\n",
      "\n",
      "See the caveats in the documentation: https://pandas.pydata.org/pandas-docs/stable/user_guide/indexing.html#returning-a-view-versus-a-copy\n",
      "  df.loc[:,output_col] = scaler.inverse_transform(predictions)\n"
     ]
    },
    {
     "name": "stdout",
     "output_type": "stream",
     "text": [
      "71/71 [==============================] - 3s 43ms/step - loss: 0.1138\n",
      "Epoch 2/3\n",
      "71/71 [==============================] - 3s 42ms/step - loss: 3.5995e-06\n",
      "Epoch 3/3\n",
      "71/71 [==============================] - 3s 42ms/step - loss: 5.7285e-07\n",
      "Epoch 1/3\n"
     ]
    },
    {
     "name": "stderr",
     "output_type": "stream",
     "text": [
      "/tmp/ipykernel_1952487/2783961118.py:45: SettingWithCopyWarning: \n",
      "A value is trying to be set on a copy of a slice from a DataFrame.\n",
      "Try using .loc[row_indexer,col_indexer] = value instead\n",
      "\n",
      "See the caveats in the documentation: https://pandas.pydata.org/pandas-docs/stable/user_guide/indexing.html#returning-a-view-versus-a-copy\n",
      "  df.loc[:,output_col] = scaler.inverse_transform(predictions)\n"
     ]
    },
    {
     "name": "stdout",
     "output_type": "stream",
     "text": [
      "71/71 [==============================] - 3s 42ms/step - loss: 0.1305\n",
      "Epoch 2/3\n",
      "71/71 [==============================] - 3s 42ms/step - loss: 2.2900e-06\n",
      "Epoch 3/3\n",
      "71/71 [==============================] - 3s 42ms/step - loss: 2.2911e-06\n",
      "Epoch 1/3\n"
     ]
    },
    {
     "name": "stderr",
     "output_type": "stream",
     "text": [
      "/tmp/ipykernel_1952487/2783961118.py:45: SettingWithCopyWarning: \n",
      "A value is trying to be set on a copy of a slice from a DataFrame.\n",
      "Try using .loc[row_indexer,col_indexer] = value instead\n",
      "\n",
      "See the caveats in the documentation: https://pandas.pydata.org/pandas-docs/stable/user_guide/indexing.html#returning-a-view-versus-a-copy\n",
      "  df.loc[:,output_col] = scaler.inverse_transform(predictions)\n"
     ]
    },
    {
     "name": "stdout",
     "output_type": "stream",
     "text": [
      "71/71 [==============================] - 5s 68ms/step - loss: 0.1265\n",
      "Epoch 2/3\n",
      "71/71 [==============================] - 5s 68ms/step - loss: 2.4893e-06\n",
      "Epoch 3/3\n",
      "71/71 [==============================] - 5s 68ms/step - loss: 4.3931e-07\n",
      "Epoch 1/3\n"
     ]
    },
    {
     "name": "stderr",
     "output_type": "stream",
     "text": [
      "/tmp/ipykernel_1952487/2783961118.py:45: SettingWithCopyWarning: \n",
      "A value is trying to be set on a copy of a slice from a DataFrame.\n",
      "Try using .loc[row_indexer,col_indexer] = value instead\n",
      "\n",
      "See the caveats in the documentation: https://pandas.pydata.org/pandas-docs/stable/user_guide/indexing.html#returning-a-view-versus-a-copy\n",
      "  df.loc[:,output_col] = scaler.inverse_transform(predictions)\n"
     ]
    },
    {
     "name": "stdout",
     "output_type": "stream",
     "text": [
      "71/71 [==============================] - 5s 68ms/step - loss: 0.1732\n",
      "Epoch 2/3\n",
      "71/71 [==============================] - 5s 68ms/step - loss: 2.1737e-06\n",
      "Epoch 3/3\n",
      "71/71 [==============================] - 5s 68ms/step - loss: 3.1839e-07\n",
      "Epoch 1/3\n"
     ]
    },
    {
     "name": "stderr",
     "output_type": "stream",
     "text": [
      "/tmp/ipykernel_1952487/2783961118.py:45: SettingWithCopyWarning: \n",
      "A value is trying to be set on a copy of a slice from a DataFrame.\n",
      "Try using .loc[row_indexer,col_indexer] = value instead\n",
      "\n",
      "See the caveats in the documentation: https://pandas.pydata.org/pandas-docs/stable/user_guide/indexing.html#returning-a-view-versus-a-copy\n",
      "  df.loc[:,output_col] = scaler.inverse_transform(predictions)\n"
     ]
    },
    {
     "name": "stdout",
     "output_type": "stream",
     "text": [
      "71/71 [==============================] - 5s 68ms/step - loss: 0.1354\n",
      "Epoch 2/3\n",
      "71/71 [==============================] - 5s 68ms/step - loss: 2.3908e-06\n",
      "Epoch 3/3\n",
      "71/71 [==============================] - 5s 68ms/step - loss: 2.3860e-06\n",
      "Epoch 1/3\n"
     ]
    },
    {
     "name": "stderr",
     "output_type": "stream",
     "text": [
      "/tmp/ipykernel_1952487/2783961118.py:45: SettingWithCopyWarning: \n",
      "A value is trying to be set on a copy of a slice from a DataFrame.\n",
      "Try using .loc[row_indexer,col_indexer] = value instead\n",
      "\n",
      "See the caveats in the documentation: https://pandas.pydata.org/pandas-docs/stable/user_guide/indexing.html#returning-a-view-versus-a-copy\n",
      "  df.loc[:,output_col] = scaler.inverse_transform(predictions)\n"
     ]
    },
    {
     "name": "stdout",
     "output_type": "stream",
     "text": [
      "71/71 [==============================] - 5s 68ms/step - loss: 0.1191\n",
      "Epoch 2/3\n",
      "71/71 [==============================] - 5s 68ms/step - loss: 3.3011e-06\n",
      "Epoch 3/3\n",
      "71/71 [==============================] - 5s 68ms/step - loss: 2.7641e-06\n",
      "Epoch 1/3\n"
     ]
    },
    {
     "name": "stderr",
     "output_type": "stream",
     "text": [
      "/tmp/ipykernel_1952487/2783961118.py:45: SettingWithCopyWarning: \n",
      "A value is trying to be set on a copy of a slice from a DataFrame.\n",
      "Try using .loc[row_indexer,col_indexer] = value instead\n",
      "\n",
      "See the caveats in the documentation: https://pandas.pydata.org/pandas-docs/stable/user_guide/indexing.html#returning-a-view-versus-a-copy\n",
      "  df.loc[:,output_col] = scaler.inverse_transform(predictions)\n"
     ]
    },
    {
     "name": "stdout",
     "output_type": "stream",
     "text": [
      "71/71 [==============================] - 6s 77ms/step - loss: 0.1187\n",
      "Epoch 2/3\n",
      "71/71 [==============================] - 5s 77ms/step - loss: 2.6529e-06\n",
      "Epoch 3/3\n",
      "71/71 [==============================] - 5s 77ms/step - loss: 2.5186e-06\n",
      "Epoch 1/3\n"
     ]
    },
    {
     "name": "stderr",
     "output_type": "stream",
     "text": [
      "/tmp/ipykernel_1952487/2783961118.py:45: SettingWithCopyWarning: \n",
      "A value is trying to be set on a copy of a slice from a DataFrame.\n",
      "Try using .loc[row_indexer,col_indexer] = value instead\n",
      "\n",
      "See the caveats in the documentation: https://pandas.pydata.org/pandas-docs/stable/user_guide/indexing.html#returning-a-view-versus-a-copy\n",
      "  df.loc[:,output_col] = scaler.inverse_transform(predictions)\n"
     ]
    },
    {
     "name": "stdout",
     "output_type": "stream",
     "text": [
      "71/71 [==============================] - 6s 77ms/step - loss: 0.1234\n",
      "Epoch 2/3\n",
      "71/71 [==============================] - 5s 77ms/step - loss: 9.3130e-07\n",
      "Epoch 3/3\n",
      "71/71 [==============================] - 5s 77ms/step - loss: 2.3481e-07\n",
      "Epoch 1/3\n"
     ]
    },
    {
     "name": "stderr",
     "output_type": "stream",
     "text": [
      "/tmp/ipykernel_1952487/2783961118.py:45: SettingWithCopyWarning: \n",
      "A value is trying to be set on a copy of a slice from a DataFrame.\n",
      "Try using .loc[row_indexer,col_indexer] = value instead\n",
      "\n",
      "See the caveats in the documentation: https://pandas.pydata.org/pandas-docs/stable/user_guide/indexing.html#returning-a-view-versus-a-copy\n",
      "  df.loc[:,output_col] = scaler.inverse_transform(predictions)\n"
     ]
    },
    {
     "name": "stdout",
     "output_type": "stream",
     "text": [
      "71/71 [==============================] - 6s 78ms/step - loss: 0.1902\n",
      "Epoch 2/3\n",
      "71/71 [==============================] - 6s 79ms/step - loss: 1.8777e-06\n",
      "Epoch 3/3\n",
      "71/71 [==============================] - 5s 77ms/step - loss: 6.8922e-07\n",
      "Epoch 1/3\n"
     ]
    },
    {
     "name": "stderr",
     "output_type": "stream",
     "text": [
      "/tmp/ipykernel_1952487/2783961118.py:45: SettingWithCopyWarning: \n",
      "A value is trying to be set on a copy of a slice from a DataFrame.\n",
      "Try using .loc[row_indexer,col_indexer] = value instead\n",
      "\n",
      "See the caveats in the documentation: https://pandas.pydata.org/pandas-docs/stable/user_guide/indexing.html#returning-a-view-versus-a-copy\n",
      "  df.loc[:,output_col] = scaler.inverse_transform(predictions)\n"
     ]
    },
    {
     "name": "stdout",
     "output_type": "stream",
     "text": [
      "71/71 [==============================] - 6s 77ms/step - loss: 0.1878\n",
      "Epoch 2/3\n",
      "71/71 [==============================] - 5s 77ms/step - loss: 8.4295e-07\n",
      "Epoch 3/3\n",
      "71/71 [==============================] - 5s 77ms/step - loss: 3.1441e-07\n",
      "Epoch 1/3\n"
     ]
    },
    {
     "name": "stderr",
     "output_type": "stream",
     "text": [
      "/tmp/ipykernel_1952487/2783961118.py:45: SettingWithCopyWarning: \n",
      "A value is trying to be set on a copy of a slice from a DataFrame.\n",
      "Try using .loc[row_indexer,col_indexer] = value instead\n",
      "\n",
      "See the caveats in the documentation: https://pandas.pydata.org/pandas-docs/stable/user_guide/indexing.html#returning-a-view-versus-a-copy\n",
      "  df.loc[:,output_col] = scaler.inverse_transform(predictions)\n"
     ]
    },
    {
     "name": "stdout",
     "output_type": "stream",
     "text": [
      "71/71 [==============================] - 9s 130ms/step - loss: 0.3343\n",
      "Epoch 2/3\n",
      "71/71 [==============================] - 9s 130ms/step - loss: 4.4003e-07\n",
      "Epoch 3/3\n",
      "71/71 [==============================] - 9s 130ms/step - loss: 3.8655e-07\n",
      "Epoch 1/3\n"
     ]
    },
    {
     "name": "stderr",
     "output_type": "stream",
     "text": [
      "/tmp/ipykernel_1952487/2783961118.py:45: SettingWithCopyWarning: \n",
      "A value is trying to be set on a copy of a slice from a DataFrame.\n",
      "Try using .loc[row_indexer,col_indexer] = value instead\n",
      "\n",
      "See the caveats in the documentation: https://pandas.pydata.org/pandas-docs/stable/user_guide/indexing.html#returning-a-view-versus-a-copy\n",
      "  df.loc[:,output_col] = scaler.inverse_transform(predictions)\n"
     ]
    },
    {
     "name": "stdout",
     "output_type": "stream",
     "text": [
      "71/71 [==============================] - 9s 130ms/step - loss: 0.3013\n",
      "Epoch 2/3\n",
      "71/71 [==============================] - 9s 130ms/step - loss: 1.8317e-06\n",
      "Epoch 3/3\n",
      "71/71 [==============================] - 9s 130ms/step - loss: 5.0039e-07\n",
      "Epoch 1/3\n"
     ]
    },
    {
     "name": "stderr",
     "output_type": "stream",
     "text": [
      "/tmp/ipykernel_1952487/2783961118.py:45: SettingWithCopyWarning: \n",
      "A value is trying to be set on a copy of a slice from a DataFrame.\n",
      "Try using .loc[row_indexer,col_indexer] = value instead\n",
      "\n",
      "See the caveats in the documentation: https://pandas.pydata.org/pandas-docs/stable/user_guide/indexing.html#returning-a-view-versus-a-copy\n",
      "  df.loc[:,output_col] = scaler.inverse_transform(predictions)\n"
     ]
    },
    {
     "name": "stdout",
     "output_type": "stream",
     "text": [
      "71/71 [==============================] - 9s 130ms/step - loss: 0.0643\n",
      "Epoch 2/3\n",
      "71/71 [==============================] - 9s 130ms/step - loss: 1.5620e-06\n",
      "Epoch 3/3\n",
      "71/71 [==============================] - 9s 130ms/step - loss: 4.3353e-07\n",
      "Epoch 1/3\n"
     ]
    },
    {
     "name": "stderr",
     "output_type": "stream",
     "text": [
      "/tmp/ipykernel_1952487/2783961118.py:45: SettingWithCopyWarning: \n",
      "A value is trying to be set on a copy of a slice from a DataFrame.\n",
      "Try using .loc[row_indexer,col_indexer] = value instead\n",
      "\n",
      "See the caveats in the documentation: https://pandas.pydata.org/pandas-docs/stable/user_guide/indexing.html#returning-a-view-versus-a-copy\n",
      "  df.loc[:,output_col] = scaler.inverse_transform(predictions)\n"
     ]
    },
    {
     "name": "stdout",
     "output_type": "stream",
     "text": [
      "71/71 [==============================] - 9s 130ms/step - loss: 0.1359\n",
      "Epoch 2/3\n",
      "71/71 [==============================] - 9s 131ms/step - loss: 1.8458e-06\n",
      "Epoch 3/3\n",
      "71/71 [==============================] - 9s 130ms/step - loss: 1.8842e-07\n",
      "Epoch 1/3\n"
     ]
    },
    {
     "name": "stderr",
     "output_type": "stream",
     "text": [
      "/tmp/ipykernel_1952487/2783961118.py:45: SettingWithCopyWarning: \n",
      "A value is trying to be set on a copy of a slice from a DataFrame.\n",
      "Try using .loc[row_indexer,col_indexer] = value instead\n",
      "\n",
      "See the caveats in the documentation: https://pandas.pydata.org/pandas-docs/stable/user_guide/indexing.html#returning-a-view-versus-a-copy\n",
      "  df.loc[:,output_col] = scaler.inverse_transform(predictions)\n"
     ]
    },
    {
     "name": "stdout",
     "output_type": "stream",
     "text": [
      "71/71 [==============================] - 3s 40ms/step - loss: 0.0579\n",
      "Epoch 2/3\n",
      "71/71 [==============================] - 3s 40ms/step - loss: 1.5635e-06\n",
      "Epoch 3/3\n",
      "71/71 [==============================] - 3s 40ms/step - loss: 1.4163e-06\n",
      "Epoch 1/3\n"
     ]
    },
    {
     "name": "stderr",
     "output_type": "stream",
     "text": [
      "/tmp/ipykernel_1952487/2783961118.py:45: SettingWithCopyWarning: \n",
      "A value is trying to be set on a copy of a slice from a DataFrame.\n",
      "Try using .loc[row_indexer,col_indexer] = value instead\n",
      "\n",
      "See the caveats in the documentation: https://pandas.pydata.org/pandas-docs/stable/user_guide/indexing.html#returning-a-view-versus-a-copy\n",
      "  df.loc[:,output_col] = scaler.inverse_transform(predictions)\n"
     ]
    },
    {
     "name": "stdout",
     "output_type": "stream",
     "text": [
      "71/71 [==============================] - 3s 40ms/step - loss: 0.0692\n",
      "Epoch 2/3\n",
      "71/71 [==============================] - 3s 40ms/step - loss: 7.3490e-07\n",
      "Epoch 3/3\n",
      "71/71 [==============================] - 3s 40ms/step - loss: 5.3004e-07\n",
      "Epoch 1/3\n"
     ]
    },
    {
     "name": "stderr",
     "output_type": "stream",
     "text": [
      "/tmp/ipykernel_1952487/2783961118.py:45: SettingWithCopyWarning: \n",
      "A value is trying to be set on a copy of a slice from a DataFrame.\n",
      "Try using .loc[row_indexer,col_indexer] = value instead\n",
      "\n",
      "See the caveats in the documentation: https://pandas.pydata.org/pandas-docs/stable/user_guide/indexing.html#returning-a-view-versus-a-copy\n",
      "  df.loc[:,output_col] = scaler.inverse_transform(predictions)\n"
     ]
    },
    {
     "name": "stdout",
     "output_type": "stream",
     "text": [
      "71/71 [==============================] - 3s 39ms/step - loss: 0.0679\n",
      "Epoch 2/3\n",
      "71/71 [==============================] - 3s 39ms/step - loss: 2.9097e-06\n",
      "Epoch 3/3\n",
      "71/71 [==============================] - 3s 39ms/step - loss: 2.3538e-06\n",
      "Epoch 1/3\n"
     ]
    },
    {
     "name": "stderr",
     "output_type": "stream",
     "text": [
      "/tmp/ipykernel_1952487/2783961118.py:45: SettingWithCopyWarning: \n",
      "A value is trying to be set on a copy of a slice from a DataFrame.\n",
      "Try using .loc[row_indexer,col_indexer] = value instead\n",
      "\n",
      "See the caveats in the documentation: https://pandas.pydata.org/pandas-docs/stable/user_guide/indexing.html#returning-a-view-versus-a-copy\n",
      "  df.loc[:,output_col] = scaler.inverse_transform(predictions)\n"
     ]
    },
    {
     "name": "stdout",
     "output_type": "stream",
     "text": [
      "71/71 [==============================] - 3s 40ms/step - loss: 0.0881\n",
      "Epoch 2/3\n",
      "71/71 [==============================] - 3s 40ms/step - loss: 1.8776e-06\n",
      "Epoch 3/3\n",
      "71/71 [==============================] - 3s 40ms/step - loss: 1.5782e-06\n",
      "Epoch 1/3\n"
     ]
    },
    {
     "name": "stderr",
     "output_type": "stream",
     "text": [
      "/tmp/ipykernel_1952487/2783961118.py:45: SettingWithCopyWarning: \n",
      "A value is trying to be set on a copy of a slice from a DataFrame.\n",
      "Try using .loc[row_indexer,col_indexer] = value instead\n",
      "\n",
      "See the caveats in the documentation: https://pandas.pydata.org/pandas-docs/stable/user_guide/indexing.html#returning-a-view-versus-a-copy\n",
      "  df.loc[:,output_col] = scaler.inverse_transform(predictions)\n"
     ]
    },
    {
     "name": "stdout",
     "output_type": "stream",
     "text": [
      "71/71 [==============================] - 5s 65ms/step - loss: 0.0411\n",
      "Epoch 2/3\n",
      "71/71 [==============================] - 5s 65ms/step - loss: 8.3536e-07\n",
      "Epoch 3/3\n",
      "71/71 [==============================] - 5s 65ms/step - loss: 4.6379e-07\n",
      "Epoch 1/3\n"
     ]
    },
    {
     "name": "stderr",
     "output_type": "stream",
     "text": [
      "/tmp/ipykernel_1952487/2783961118.py:45: SettingWithCopyWarning: \n",
      "A value is trying to be set on a copy of a slice from a DataFrame.\n",
      "Try using .loc[row_indexer,col_indexer] = value instead\n",
      "\n",
      "See the caveats in the documentation: https://pandas.pydata.org/pandas-docs/stable/user_guide/indexing.html#returning-a-view-versus-a-copy\n",
      "  df.loc[:,output_col] = scaler.inverse_transform(predictions)\n"
     ]
    },
    {
     "name": "stdout",
     "output_type": "stream",
     "text": [
      "71/71 [==============================] - 5s 66ms/step - loss: 0.0815\n",
      "Epoch 2/3\n",
      "71/71 [==============================] - 5s 66ms/step - loss: 9.9112e-07\n",
      "Epoch 3/3\n",
      "71/71 [==============================] - 5s 66ms/step - loss: 4.6344e-07\n",
      "Epoch 1/3\n"
     ]
    },
    {
     "name": "stderr",
     "output_type": "stream",
     "text": [
      "/tmp/ipykernel_1952487/2783961118.py:45: SettingWithCopyWarning: \n",
      "A value is trying to be set on a copy of a slice from a DataFrame.\n",
      "Try using .loc[row_indexer,col_indexer] = value instead\n",
      "\n",
      "See the caveats in the documentation: https://pandas.pydata.org/pandas-docs/stable/user_guide/indexing.html#returning-a-view-versus-a-copy\n",
      "  df.loc[:,output_col] = scaler.inverse_transform(predictions)\n"
     ]
    },
    {
     "name": "stdout",
     "output_type": "stream",
     "text": [
      "71/71 [==============================] - 5s 66ms/step - loss: 0.1335\n",
      "Epoch 2/3\n",
      "71/71 [==============================] - 5s 66ms/step - loss: 7.4056e-07\n",
      "Epoch 3/3\n",
      "71/71 [==============================] - 5s 66ms/step - loss: 4.9673e-07\n",
      "Epoch 1/3\n"
     ]
    },
    {
     "name": "stderr",
     "output_type": "stream",
     "text": [
      "/tmp/ipykernel_1952487/2783961118.py:45: SettingWithCopyWarning: \n",
      "A value is trying to be set on a copy of a slice from a DataFrame.\n",
      "Try using .loc[row_indexer,col_indexer] = value instead\n",
      "\n",
      "See the caveats in the documentation: https://pandas.pydata.org/pandas-docs/stable/user_guide/indexing.html#returning-a-view-versus-a-copy\n",
      "  df.loc[:,output_col] = scaler.inverse_transform(predictions)\n"
     ]
    },
    {
     "name": "stdout",
     "output_type": "stream",
     "text": [
      "71/71 [==============================] - 5s 66ms/step - loss: 0.1079\n",
      "Epoch 2/3\n",
      "71/71 [==============================] - 5s 66ms/step - loss: 2.1146e-06\n",
      "Epoch 3/3\n",
      "71/71 [==============================] - 5s 66ms/step - loss: 1.9232e-06\n",
      "Epoch 1/3\n"
     ]
    },
    {
     "name": "stderr",
     "output_type": "stream",
     "text": [
      "/tmp/ipykernel_1952487/2783961118.py:45: SettingWithCopyWarning: \n",
      "A value is trying to be set on a copy of a slice from a DataFrame.\n",
      "Try using .loc[row_indexer,col_indexer] = value instead\n",
      "\n",
      "See the caveats in the documentation: https://pandas.pydata.org/pandas-docs/stable/user_guide/indexing.html#returning-a-view-versus-a-copy\n",
      "  df.loc[:,output_col] = scaler.inverse_transform(predictions)\n"
     ]
    },
    {
     "name": "stdout",
     "output_type": "stream",
     "text": [
      "71/71 [==============================] - 6s 74ms/step - loss: 0.1457\n",
      "Epoch 2/3\n",
      "71/71 [==============================] - 5s 76ms/step - loss: 5.1921e-07\n",
      "Epoch 3/3\n",
      "71/71 [==============================] - 5s 75ms/step - loss: 4.2707e-07\n",
      "Epoch 1/3\n"
     ]
    },
    {
     "name": "stderr",
     "output_type": "stream",
     "text": [
      "/tmp/ipykernel_1952487/2783961118.py:45: SettingWithCopyWarning: \n",
      "A value is trying to be set on a copy of a slice from a DataFrame.\n",
      "Try using .loc[row_indexer,col_indexer] = value instead\n",
      "\n",
      "See the caveats in the documentation: https://pandas.pydata.org/pandas-docs/stable/user_guide/indexing.html#returning-a-view-versus-a-copy\n",
      "  df.loc[:,output_col] = scaler.inverse_transform(predictions)\n"
     ]
    },
    {
     "name": "stdout",
     "output_type": "stream",
     "text": [
      "71/71 [==============================] - 6s 75ms/step - loss: 0.1232\n",
      "Epoch 2/3\n",
      "71/71 [==============================] - 5s 75ms/step - loss: 4.6701e-07\n",
      "Epoch 3/3\n",
      "71/71 [==============================] - 5s 75ms/step - loss: 3.9813e-07\n",
      "Epoch 1/3\n"
     ]
    },
    {
     "name": "stderr",
     "output_type": "stream",
     "text": [
      "/tmp/ipykernel_1952487/2783961118.py:45: SettingWithCopyWarning: \n",
      "A value is trying to be set on a copy of a slice from a DataFrame.\n",
      "Try using .loc[row_indexer,col_indexer] = value instead\n",
      "\n",
      "See the caveats in the documentation: https://pandas.pydata.org/pandas-docs/stable/user_guide/indexing.html#returning-a-view-versus-a-copy\n",
      "  df.loc[:,output_col] = scaler.inverse_transform(predictions)\n"
     ]
    },
    {
     "name": "stdout",
     "output_type": "stream",
     "text": [
      "71/71 [==============================] - 6s 75ms/step - loss: 0.1263\n",
      "Epoch 2/3\n",
      "71/71 [==============================] - 5s 75ms/step - loss: 1.7026e-06\n",
      "Epoch 3/3\n",
      "71/71 [==============================] - 5s 75ms/step - loss: 5.0823e-07\n",
      "Epoch 1/3\n"
     ]
    },
    {
     "name": "stderr",
     "output_type": "stream",
     "text": [
      "/tmp/ipykernel_1952487/2783961118.py:45: SettingWithCopyWarning: \n",
      "A value is trying to be set on a copy of a slice from a DataFrame.\n",
      "Try using .loc[row_indexer,col_indexer] = value instead\n",
      "\n",
      "See the caveats in the documentation: https://pandas.pydata.org/pandas-docs/stable/user_guide/indexing.html#returning-a-view-versus-a-copy\n",
      "  df.loc[:,output_col] = scaler.inverse_transform(predictions)\n"
     ]
    },
    {
     "name": "stdout",
     "output_type": "stream",
     "text": [
      "71/71 [==============================] - 6s 75ms/step - loss: 0.1224\n",
      "Epoch 2/3\n",
      "71/71 [==============================] - 5s 74ms/step - loss: 2.7992e-06\n",
      "Epoch 3/3\n",
      "71/71 [==============================] - 5s 75ms/step - loss: 2.3290e-06\n",
      "Epoch 1/3\n"
     ]
    },
    {
     "name": "stderr",
     "output_type": "stream",
     "text": [
      "/tmp/ipykernel_1952487/2783961118.py:45: SettingWithCopyWarning: \n",
      "A value is trying to be set on a copy of a slice from a DataFrame.\n",
      "Try using .loc[row_indexer,col_indexer] = value instead\n",
      "\n",
      "See the caveats in the documentation: https://pandas.pydata.org/pandas-docs/stable/user_guide/indexing.html#returning-a-view-versus-a-copy\n",
      "  df.loc[:,output_col] = scaler.inverse_transform(predictions)\n"
     ]
    },
    {
     "name": "stdout",
     "output_type": "stream",
     "text": [
      "71/71 [==============================] - 9s 128ms/step - loss: 0.3249\n",
      "Epoch 2/3\n",
      "71/71 [==============================] - 9s 127ms/step - loss: 4.4768e-07\n",
      "Epoch 3/3\n",
      "71/71 [==============================] - 9s 128ms/step - loss: 4.1566e-07\n",
      "Epoch 1/3\n"
     ]
    },
    {
     "name": "stderr",
     "output_type": "stream",
     "text": [
      "/tmp/ipykernel_1952487/2783961118.py:45: SettingWithCopyWarning: \n",
      "A value is trying to be set on a copy of a slice from a DataFrame.\n",
      "Try using .loc[row_indexer,col_indexer] = value instead\n",
      "\n",
      "See the caveats in the documentation: https://pandas.pydata.org/pandas-docs/stable/user_guide/indexing.html#returning-a-view-versus-a-copy\n",
      "  df.loc[:,output_col] = scaler.inverse_transform(predictions)\n"
     ]
    },
    {
     "name": "stdout",
     "output_type": "stream",
     "text": [
      "71/71 [==============================] - 9s 127ms/step - loss: 0.2084\n",
      "Epoch 2/3\n",
      "71/71 [==============================] - 9s 127ms/step - loss: 4.0042e-07\n",
      "Epoch 3/3\n",
      "71/71 [==============================] - 9s 127ms/step - loss: 3.9708e-07\n",
      "Epoch 1/3\n"
     ]
    },
    {
     "name": "stderr",
     "output_type": "stream",
     "text": [
      "/tmp/ipykernel_1952487/2783961118.py:45: SettingWithCopyWarning: \n",
      "A value is trying to be set on a copy of a slice from a DataFrame.\n",
      "Try using .loc[row_indexer,col_indexer] = value instead\n",
      "\n",
      "See the caveats in the documentation: https://pandas.pydata.org/pandas-docs/stable/user_guide/indexing.html#returning-a-view-versus-a-copy\n",
      "  df.loc[:,output_col] = scaler.inverse_transform(predictions)\n"
     ]
    },
    {
     "name": "stdout",
     "output_type": "stream",
     "text": [
      "71/71 [==============================] - 9s 127ms/step - loss: 0.3797\n",
      "Epoch 2/3\n",
      "71/71 [==============================] - 9s 129ms/step - loss: 7.7556e-07\n",
      "Epoch 3/3\n",
      "71/71 [==============================] - 9s 128ms/step - loss: 4.0067e-07\n",
      "Epoch 1/3\n"
     ]
    },
    {
     "name": "stderr",
     "output_type": "stream",
     "text": [
      "/tmp/ipykernel_1952487/2783961118.py:45: SettingWithCopyWarning: \n",
      "A value is trying to be set on a copy of a slice from a DataFrame.\n",
      "Try using .loc[row_indexer,col_indexer] = value instead\n",
      "\n",
      "See the caveats in the documentation: https://pandas.pydata.org/pandas-docs/stable/user_guide/indexing.html#returning-a-view-versus-a-copy\n",
      "  df.loc[:,output_col] = scaler.inverse_transform(predictions)\n"
     ]
    },
    {
     "name": "stdout",
     "output_type": "stream",
     "text": [
      "71/71 [==============================] - 9s 127ms/step - loss: 0.3803\n",
      "Epoch 2/3\n",
      "71/71 [==============================] - 9s 127ms/step - loss: 1.4365e-06\n",
      "Epoch 3/3\n",
      "71/71 [==============================] - 9s 127ms/step - loss: 7.5982e-07\n",
      "Epoch 1/3\n"
     ]
    },
    {
     "name": "stderr",
     "output_type": "stream",
     "text": [
      "/tmp/ipykernel_1952487/2783961118.py:45: SettingWithCopyWarning: \n",
      "A value is trying to be set on a copy of a slice from a DataFrame.\n",
      "Try using .loc[row_indexer,col_indexer] = value instead\n",
      "\n",
      "See the caveats in the documentation: https://pandas.pydata.org/pandas-docs/stable/user_guide/indexing.html#returning-a-view-versus-a-copy\n",
      "  df.loc[:,output_col] = scaler.inverse_transform(predictions)\n"
     ]
    },
    {
     "name": "stdout",
     "output_type": "stream",
     "text": [
      "71/71 [==============================] - 3s 40ms/step - loss: 0.0853\n",
      "Epoch 2/3\n",
      "71/71 [==============================] - 3s 40ms/step - loss: 2.8238e-06\n",
      "Epoch 3/3\n",
      "71/71 [==============================] - 3s 40ms/step - loss: 1.6039e-06\n",
      "Epoch 1/3\n"
     ]
    },
    {
     "name": "stderr",
     "output_type": "stream",
     "text": [
      "/tmp/ipykernel_1952487/2783961118.py:45: SettingWithCopyWarning: \n",
      "A value is trying to be set on a copy of a slice from a DataFrame.\n",
      "Try using .loc[row_indexer,col_indexer] = value instead\n",
      "\n",
      "See the caveats in the documentation: https://pandas.pydata.org/pandas-docs/stable/user_guide/indexing.html#returning-a-view-versus-a-copy\n",
      "  df.loc[:,output_col] = scaler.inverse_transform(predictions)\n"
     ]
    },
    {
     "name": "stdout",
     "output_type": "stream",
     "text": [
      "71/71 [==============================] - 3s 40ms/step - loss: 0.1075\n",
      "Epoch 2/3\n",
      "71/71 [==============================] - 3s 40ms/step - loss: 2.5886e-06\n",
      "Epoch 3/3\n",
      "71/71 [==============================] - 3s 40ms/step - loss: 1.3791e-06\n",
      "Epoch 1/3\n"
     ]
    },
    {
     "name": "stderr",
     "output_type": "stream",
     "text": [
      "/tmp/ipykernel_1952487/2783961118.py:45: SettingWithCopyWarning: \n",
      "A value is trying to be set on a copy of a slice from a DataFrame.\n",
      "Try using .loc[row_indexer,col_indexer] = value instead\n",
      "\n",
      "See the caveats in the documentation: https://pandas.pydata.org/pandas-docs/stable/user_guide/indexing.html#returning-a-view-versus-a-copy\n",
      "  df.loc[:,output_col] = scaler.inverse_transform(predictions)\n"
     ]
    },
    {
     "name": "stdout",
     "output_type": "stream",
     "text": [
      "71/71 [==============================] - 3s 40ms/step - loss: 0.1241\n",
      "Epoch 2/3\n",
      "71/71 [==============================] - 3s 40ms/step - loss: 1.7108e-06\n",
      "Epoch 3/3\n",
      "71/71 [==============================] - 3s 40ms/step - loss: 5.9472e-07\n",
      "Epoch 1/3\n"
     ]
    },
    {
     "name": "stderr",
     "output_type": "stream",
     "text": [
      "/tmp/ipykernel_1952487/2783961118.py:45: SettingWithCopyWarning: \n",
      "A value is trying to be set on a copy of a slice from a DataFrame.\n",
      "Try using .loc[row_indexer,col_indexer] = value instead\n",
      "\n",
      "See the caveats in the documentation: https://pandas.pydata.org/pandas-docs/stable/user_guide/indexing.html#returning-a-view-versus-a-copy\n",
      "  df.loc[:,output_col] = scaler.inverse_transform(predictions)\n"
     ]
    },
    {
     "name": "stdout",
     "output_type": "stream",
     "text": [
      "71/71 [==============================] - 3s 40ms/step - loss: 0.0552\n",
      "Epoch 2/3\n",
      "71/71 [==============================] - 3s 39ms/step - loss: 2.1394e-06\n",
      "Epoch 3/3\n",
      "71/71 [==============================] - 3s 40ms/step - loss: 1.9092e-06\n",
      "Epoch 1/3\n"
     ]
    },
    {
     "name": "stderr",
     "output_type": "stream",
     "text": [
      "/tmp/ipykernel_1952487/2783961118.py:45: SettingWithCopyWarning: \n",
      "A value is trying to be set on a copy of a slice from a DataFrame.\n",
      "Try using .loc[row_indexer,col_indexer] = value instead\n",
      "\n",
      "See the caveats in the documentation: https://pandas.pydata.org/pandas-docs/stable/user_guide/indexing.html#returning-a-view-versus-a-copy\n",
      "  df.loc[:,output_col] = scaler.inverse_transform(predictions)\n"
     ]
    },
    {
     "name": "stdout",
     "output_type": "stream",
     "text": [
      "71/71 [==============================] - 5s 66ms/step - loss: 0.2112\n",
      "Epoch 2/3\n",
      "71/71 [==============================] - 5s 66ms/step - loss: 3.8855e-07\n",
      "Epoch 3/3\n",
      "71/71 [==============================] - 5s 66ms/step - loss: 2.8859e-07\n",
      "Epoch 1/3\n"
     ]
    },
    {
     "name": "stderr",
     "output_type": "stream",
     "text": [
      "/tmp/ipykernel_1952487/2783961118.py:45: SettingWithCopyWarning: \n",
      "A value is trying to be set on a copy of a slice from a DataFrame.\n",
      "Try using .loc[row_indexer,col_indexer] = value instead\n",
      "\n",
      "See the caveats in the documentation: https://pandas.pydata.org/pandas-docs/stable/user_guide/indexing.html#returning-a-view-versus-a-copy\n",
      "  df.loc[:,output_col] = scaler.inverse_transform(predictions)\n"
     ]
    },
    {
     "name": "stdout",
     "output_type": "stream",
     "text": [
      "71/71 [==============================] - 5s 66ms/step - loss: 0.0707\n",
      "Epoch 2/3\n",
      "71/71 [==============================] - 5s 66ms/step - loss: 9.8091e-07\n",
      "Epoch 3/3\n",
      "71/71 [==============================] - 5s 66ms/step - loss: 3.9644e-07\n",
      "Epoch 1/3\n"
     ]
    },
    {
     "name": "stderr",
     "output_type": "stream",
     "text": [
      "/tmp/ipykernel_1952487/2783961118.py:45: SettingWithCopyWarning: \n",
      "A value is trying to be set on a copy of a slice from a DataFrame.\n",
      "Try using .loc[row_indexer,col_indexer] = value instead\n",
      "\n",
      "See the caveats in the documentation: https://pandas.pydata.org/pandas-docs/stable/user_guide/indexing.html#returning-a-view-versus-a-copy\n",
      "  df.loc[:,output_col] = scaler.inverse_transform(predictions)\n"
     ]
    },
    {
     "name": "stdout",
     "output_type": "stream",
     "text": [
      "71/71 [==============================] - 5s 66ms/step - loss: 0.1168\n",
      "Epoch 2/3\n",
      "71/71 [==============================] - 5s 66ms/step - loss: 4.4304e-07\n",
      "Epoch 3/3\n",
      "71/71 [==============================] - 5s 67ms/step - loss: 3.6042e-07\n",
      "Epoch 1/3\n"
     ]
    },
    {
     "name": "stderr",
     "output_type": "stream",
     "text": [
      "/tmp/ipykernel_1952487/2783961118.py:45: SettingWithCopyWarning: \n",
      "A value is trying to be set on a copy of a slice from a DataFrame.\n",
      "Try using .loc[row_indexer,col_indexer] = value instead\n",
      "\n",
      "See the caveats in the documentation: https://pandas.pydata.org/pandas-docs/stable/user_guide/indexing.html#returning-a-view-versus-a-copy\n",
      "  df.loc[:,output_col] = scaler.inverse_transform(predictions)\n"
     ]
    },
    {
     "name": "stdout",
     "output_type": "stream",
     "text": [
      "71/71 [==============================] - 5s 66ms/step - loss: 0.1147\n",
      "Epoch 2/3\n",
      "71/71 [==============================] - 5s 66ms/step - loss: 3.9126e-06\n",
      "Epoch 3/3\n",
      "71/71 [==============================] - 5s 66ms/step - loss: 4.0015e-06\n",
      "Epoch 1/3\n"
     ]
    },
    {
     "name": "stderr",
     "output_type": "stream",
     "text": [
      "/tmp/ipykernel_1952487/2783961118.py:45: SettingWithCopyWarning: \n",
      "A value is trying to be set on a copy of a slice from a DataFrame.\n",
      "Try using .loc[row_indexer,col_indexer] = value instead\n",
      "\n",
      "See the caveats in the documentation: https://pandas.pydata.org/pandas-docs/stable/user_guide/indexing.html#returning-a-view-versus-a-copy\n",
      "  df.loc[:,output_col] = scaler.inverse_transform(predictions)\n"
     ]
    },
    {
     "name": "stdout",
     "output_type": "stream",
     "text": [
      "71/71 [==============================] - 6s 75ms/step - loss: 0.1379\n",
      "Epoch 2/3\n",
      "71/71 [==============================] - 5s 75ms/step - loss: 9.2395e-07\n",
      "Epoch 3/3\n",
      "71/71 [==============================] - 5s 75ms/step - loss: 4.5343e-07\n",
      "Epoch 1/3\n"
     ]
    },
    {
     "name": "stderr",
     "output_type": "stream",
     "text": [
      "/tmp/ipykernel_1952487/2783961118.py:45: SettingWithCopyWarning: \n",
      "A value is trying to be set on a copy of a slice from a DataFrame.\n",
      "Try using .loc[row_indexer,col_indexer] = value instead\n",
      "\n",
      "See the caveats in the documentation: https://pandas.pydata.org/pandas-docs/stable/user_guide/indexing.html#returning-a-view-versus-a-copy\n",
      "  df.loc[:,output_col] = scaler.inverse_transform(predictions)\n"
     ]
    },
    {
     "name": "stdout",
     "output_type": "stream",
     "text": [
      "71/71 [==============================] - 6s 75ms/step - loss: 0.0961\n",
      "Epoch 2/3\n",
      "71/71 [==============================] - 5s 74ms/step - loss: 1.5807e-06\n",
      "Epoch 3/3\n",
      "71/71 [==============================] - 5s 74ms/step - loss: 5.8781e-07\n",
      "Epoch 1/3\n"
     ]
    },
    {
     "name": "stderr",
     "output_type": "stream",
     "text": [
      "/tmp/ipykernel_1952487/2783961118.py:45: SettingWithCopyWarning: \n",
      "A value is trying to be set on a copy of a slice from a DataFrame.\n",
      "Try using .loc[row_indexer,col_indexer] = value instead\n",
      "\n",
      "See the caveats in the documentation: https://pandas.pydata.org/pandas-docs/stable/user_guide/indexing.html#returning-a-view-versus-a-copy\n",
      "  df.loc[:,output_col] = scaler.inverse_transform(predictions)\n"
     ]
    },
    {
     "name": "stdout",
     "output_type": "stream",
     "text": [
      "71/71 [==============================] - 6s 75ms/step - loss: 0.1646\n",
      "Epoch 2/3\n",
      "71/71 [==============================] - 5s 75ms/step - loss: 1.6869e-06\n",
      "Epoch 3/3\n",
      "71/71 [==============================] - 5s 75ms/step - loss: 6.0388e-07\n",
      "Epoch 1/3\n"
     ]
    },
    {
     "name": "stderr",
     "output_type": "stream",
     "text": [
      "/tmp/ipykernel_1952487/2783961118.py:45: SettingWithCopyWarning: \n",
      "A value is trying to be set on a copy of a slice from a DataFrame.\n",
      "Try using .loc[row_indexer,col_indexer] = value instead\n",
      "\n",
      "See the caveats in the documentation: https://pandas.pydata.org/pandas-docs/stable/user_guide/indexing.html#returning-a-view-versus-a-copy\n",
      "  df.loc[:,output_col] = scaler.inverse_transform(predictions)\n"
     ]
    },
    {
     "name": "stdout",
     "output_type": "stream",
     "text": [
      "71/71 [==============================] - 6s 75ms/step - loss: 0.1404\n",
      "Epoch 2/3\n",
      "71/71 [==============================] - 5s 75ms/step - loss: 1.5640e-06\n",
      "Epoch 3/3\n",
      "71/71 [==============================] - 5s 75ms/step - loss: 9.3044e-07\n",
      "Epoch 1/3\n"
     ]
    },
    {
     "name": "stderr",
     "output_type": "stream",
     "text": [
      "/tmp/ipykernel_1952487/2783961118.py:45: SettingWithCopyWarning: \n",
      "A value is trying to be set on a copy of a slice from a DataFrame.\n",
      "Try using .loc[row_indexer,col_indexer] = value instead\n",
      "\n",
      "See the caveats in the documentation: https://pandas.pydata.org/pandas-docs/stable/user_guide/indexing.html#returning-a-view-versus-a-copy\n",
      "  df.loc[:,output_col] = scaler.inverse_transform(predictions)\n"
     ]
    },
    {
     "name": "stdout",
     "output_type": "stream",
     "text": [
      "71/71 [==============================] - 9s 127ms/step - loss: 0.2497\n",
      "Epoch 2/3\n",
      "71/71 [==============================] - 9s 127ms/step - loss: 2.9004e-06\n",
      "Epoch 3/3\n",
      "71/71 [==============================] - 9s 127ms/step - loss: 2.3370e-06\n",
      "Epoch 1/3\n"
     ]
    },
    {
     "name": "stderr",
     "output_type": "stream",
     "text": [
      "/tmp/ipykernel_1952487/2783961118.py:45: SettingWithCopyWarning: \n",
      "A value is trying to be set on a copy of a slice from a DataFrame.\n",
      "Try using .loc[row_indexer,col_indexer] = value instead\n",
      "\n",
      "See the caveats in the documentation: https://pandas.pydata.org/pandas-docs/stable/user_guide/indexing.html#returning-a-view-versus-a-copy\n",
      "  df.loc[:,output_col] = scaler.inverse_transform(predictions)\n"
     ]
    },
    {
     "name": "stdout",
     "output_type": "stream",
     "text": [
      "71/71 [==============================] - 9s 129ms/step - loss: 0.1111\n",
      "Epoch 2/3\n",
      "71/71 [==============================] - 9s 127ms/step - loss: 2.7238e-06\n",
      "Epoch 3/3\n",
      "71/71 [==============================] - 9s 127ms/step - loss: 2.3937e-06\n",
      "Epoch 1/3\n"
     ]
    },
    {
     "name": "stderr",
     "output_type": "stream",
     "text": [
      "/tmp/ipykernel_1952487/2783961118.py:45: SettingWithCopyWarning: \n",
      "A value is trying to be set on a copy of a slice from a DataFrame.\n",
      "Try using .loc[row_indexer,col_indexer] = value instead\n",
      "\n",
      "See the caveats in the documentation: https://pandas.pydata.org/pandas-docs/stable/user_guide/indexing.html#returning-a-view-versus-a-copy\n",
      "  df.loc[:,output_col] = scaler.inverse_transform(predictions)\n"
     ]
    },
    {
     "name": "stdout",
     "output_type": "stream",
     "text": [
      "71/71 [==============================] - 9s 127ms/step - loss: 0.2325\n",
      "Epoch 2/3\n",
      "71/71 [==============================] - 9s 128ms/step - loss: 7.8955e-07\n",
      "Epoch 3/3\n",
      "71/71 [==============================] - 9s 128ms/step - loss: 6.6568e-07\n",
      "Epoch 1/3\n"
     ]
    },
    {
     "name": "stderr",
     "output_type": "stream",
     "text": [
      "/tmp/ipykernel_1952487/2783961118.py:45: SettingWithCopyWarning: \n",
      "A value is trying to be set on a copy of a slice from a DataFrame.\n",
      "Try using .loc[row_indexer,col_indexer] = value instead\n",
      "\n",
      "See the caveats in the documentation: https://pandas.pydata.org/pandas-docs/stable/user_guide/indexing.html#returning-a-view-versus-a-copy\n",
      "  df.loc[:,output_col] = scaler.inverse_transform(predictions)\n"
     ]
    },
    {
     "name": "stdout",
     "output_type": "stream",
     "text": [
      "71/71 [==============================] - 9s 128ms/step - loss: 0.1662\n",
      "Epoch 2/3\n",
      "71/71 [==============================] - 9s 128ms/step - loss: 6.3528e-07\n",
      "Epoch 3/3\n",
      "71/71 [==============================] - 9s 127ms/step - loss: 3.0959e-07\n",
      "Epoch 1/3\n"
     ]
    },
    {
     "name": "stderr",
     "output_type": "stream",
     "text": [
      "/tmp/ipykernel_1952487/2783961118.py:45: SettingWithCopyWarning: \n",
      "A value is trying to be set on a copy of a slice from a DataFrame.\n",
      "Try using .loc[row_indexer,col_indexer] = value instead\n",
      "\n",
      "See the caveats in the documentation: https://pandas.pydata.org/pandas-docs/stable/user_guide/indexing.html#returning-a-view-versus-a-copy\n",
      "  df.loc[:,output_col] = scaler.inverse_transform(predictions)\n"
     ]
    },
    {
     "name": "stdout",
     "output_type": "stream",
     "text": [
      "71/71 [==============================] - 3s 42ms/step - loss: 0.1085\n",
      "Epoch 2/3\n",
      "71/71 [==============================] - 3s 42ms/step - loss: 7.8155e-07\n",
      "Epoch 3/3\n",
      "71/71 [==============================] - 3s 42ms/step - loss: 5.4287e-07\n",
      "Epoch 1/3\n"
     ]
    },
    {
     "name": "stderr",
     "output_type": "stream",
     "text": [
      "/tmp/ipykernel_1952487/2783961118.py:45: SettingWithCopyWarning: \n",
      "A value is trying to be set on a copy of a slice from a DataFrame.\n",
      "Try using .loc[row_indexer,col_indexer] = value instead\n",
      "\n",
      "See the caveats in the documentation: https://pandas.pydata.org/pandas-docs/stable/user_guide/indexing.html#returning-a-view-versus-a-copy\n",
      "  df.loc[:,output_col] = scaler.inverse_transform(predictions)\n"
     ]
    },
    {
     "name": "stdout",
     "output_type": "stream",
     "text": [
      "71/71 [==============================] - 3s 42ms/step - loss: 0.1333\n",
      "Epoch 2/3\n",
      "71/71 [==============================] - 3s 42ms/step - loss: 1.3966e-06\n",
      "Epoch 3/3\n",
      "71/71 [==============================] - 3s 42ms/step - loss: 5.1351e-07\n",
      "Epoch 1/3\n"
     ]
    },
    {
     "name": "stderr",
     "output_type": "stream",
     "text": [
      "/tmp/ipykernel_1952487/2783961118.py:45: SettingWithCopyWarning: \n",
      "A value is trying to be set on a copy of a slice from a DataFrame.\n",
      "Try using .loc[row_indexer,col_indexer] = value instead\n",
      "\n",
      "See the caveats in the documentation: https://pandas.pydata.org/pandas-docs/stable/user_guide/indexing.html#returning-a-view-versus-a-copy\n",
      "  df.loc[:,output_col] = scaler.inverse_transform(predictions)\n"
     ]
    },
    {
     "name": "stdout",
     "output_type": "stream",
     "text": [
      "71/71 [==============================] - 3s 42ms/step - loss: 0.1098\n",
      "Epoch 2/3\n",
      "71/71 [==============================] - 3s 42ms/step - loss: 2.5075e-06\n",
      "Epoch 3/3\n",
      "71/71 [==============================] - 3s 42ms/step - loss: 2.3459e-06\n",
      "Epoch 1/3\n"
     ]
    },
    {
     "name": "stderr",
     "output_type": "stream",
     "text": [
      "/tmp/ipykernel_1952487/2783961118.py:45: SettingWithCopyWarning: \n",
      "A value is trying to be set on a copy of a slice from a DataFrame.\n",
      "Try using .loc[row_indexer,col_indexer] = value instead\n",
      "\n",
      "See the caveats in the documentation: https://pandas.pydata.org/pandas-docs/stable/user_guide/indexing.html#returning-a-view-versus-a-copy\n",
      "  df.loc[:,output_col] = scaler.inverse_transform(predictions)\n"
     ]
    },
    {
     "name": "stdout",
     "output_type": "stream",
     "text": [
      "71/71 [==============================] - 3s 42ms/step - loss: 0.1042\n",
      "Epoch 2/3\n",
      "71/71 [==============================] - 3s 42ms/step - loss: 1.7831e-06\n",
      "Epoch 3/3\n",
      "71/71 [==============================] - 3s 42ms/step - loss: 4.0749e-07\n",
      "Epoch 1/3\n"
     ]
    },
    {
     "name": "stderr",
     "output_type": "stream",
     "text": [
      "/tmp/ipykernel_1952487/2783961118.py:45: SettingWithCopyWarning: \n",
      "A value is trying to be set on a copy of a slice from a DataFrame.\n",
      "Try using .loc[row_indexer,col_indexer] = value instead\n",
      "\n",
      "See the caveats in the documentation: https://pandas.pydata.org/pandas-docs/stable/user_guide/indexing.html#returning-a-view-versus-a-copy\n",
      "  df.loc[:,output_col] = scaler.inverse_transform(predictions)\n"
     ]
    },
    {
     "name": "stdout",
     "output_type": "stream",
     "text": [
      "71/71 [==============================] - 5s 68ms/step - loss: 0.1739\n",
      "Epoch 2/3\n",
      "71/71 [==============================] - 5s 70ms/step - loss: 1.9241e-06\n",
      "Epoch 3/3\n",
      "71/71 [==============================] - 5s 68ms/step - loss: 1.4954e-06\n",
      "Epoch 1/3\n"
     ]
    },
    {
     "name": "stderr",
     "output_type": "stream",
     "text": [
      "/tmp/ipykernel_1952487/2783961118.py:45: SettingWithCopyWarning: \n",
      "A value is trying to be set on a copy of a slice from a DataFrame.\n",
      "Try using .loc[row_indexer,col_indexer] = value instead\n",
      "\n",
      "See the caveats in the documentation: https://pandas.pydata.org/pandas-docs/stable/user_guide/indexing.html#returning-a-view-versus-a-copy\n",
      "  df.loc[:,output_col] = scaler.inverse_transform(predictions)\n"
     ]
    },
    {
     "name": "stdout",
     "output_type": "stream",
     "text": [
      "71/71 [==============================] - 5s 68ms/step - loss: 0.1300\n",
      "Epoch 2/3\n",
      "71/71 [==============================] - 5s 68ms/step - loss: 2.5067e-06\n",
      "Epoch 3/3\n",
      "71/71 [==============================] - 5s 68ms/step - loss: 1.3308e-06\n",
      "Epoch 1/3\n"
     ]
    },
    {
     "name": "stderr",
     "output_type": "stream",
     "text": [
      "/tmp/ipykernel_1952487/2783961118.py:45: SettingWithCopyWarning: \n",
      "A value is trying to be set on a copy of a slice from a DataFrame.\n",
      "Try using .loc[row_indexer,col_indexer] = value instead\n",
      "\n",
      "See the caveats in the documentation: https://pandas.pydata.org/pandas-docs/stable/user_guide/indexing.html#returning-a-view-versus-a-copy\n",
      "  df.loc[:,output_col] = scaler.inverse_transform(predictions)\n"
     ]
    },
    {
     "name": "stdout",
     "output_type": "stream",
     "text": [
      "71/71 [==============================] - 5s 68ms/step - loss: 0.1039\n",
      "Epoch 2/3\n",
      "71/71 [==============================] - 5s 68ms/step - loss: 1.5520e-06\n",
      "Epoch 3/3\n",
      "71/71 [==============================] - 5s 68ms/step - loss: 1.3188e-06\n",
      "Epoch 1/3\n"
     ]
    },
    {
     "name": "stderr",
     "output_type": "stream",
     "text": [
      "/tmp/ipykernel_1952487/2783961118.py:45: SettingWithCopyWarning: \n",
      "A value is trying to be set on a copy of a slice from a DataFrame.\n",
      "Try using .loc[row_indexer,col_indexer] = value instead\n",
      "\n",
      "See the caveats in the documentation: https://pandas.pydata.org/pandas-docs/stable/user_guide/indexing.html#returning-a-view-versus-a-copy\n",
      "  df.loc[:,output_col] = scaler.inverse_transform(predictions)\n"
     ]
    },
    {
     "name": "stdout",
     "output_type": "stream",
     "text": [
      "71/71 [==============================] - 5s 68ms/step - loss: 0.1228\n",
      "Epoch 2/3\n",
      "71/71 [==============================] - 5s 68ms/step - loss: 2.2687e-06\n",
      "Epoch 3/3\n",
      "71/71 [==============================] - 5s 68ms/step - loss: 1.9613e-06\n",
      "Epoch 1/3\n"
     ]
    },
    {
     "name": "stderr",
     "output_type": "stream",
     "text": [
      "/tmp/ipykernel_1952487/2783961118.py:45: SettingWithCopyWarning: \n",
      "A value is trying to be set on a copy of a slice from a DataFrame.\n",
      "Try using .loc[row_indexer,col_indexer] = value instead\n",
      "\n",
      "See the caveats in the documentation: https://pandas.pydata.org/pandas-docs/stable/user_guide/indexing.html#returning-a-view-versus-a-copy\n",
      "  df.loc[:,output_col] = scaler.inverse_transform(predictions)\n"
     ]
    },
    {
     "name": "stdout",
     "output_type": "stream",
     "text": [
      "71/71 [==============================] - 6s 78ms/step - loss: 0.1624\n",
      "Epoch 2/3\n",
      "71/71 [==============================] - 6s 78ms/step - loss: 2.1520e-06\n",
      "Epoch 3/3\n",
      "71/71 [==============================] - 5s 77ms/step - loss: 1.8818e-06\n",
      "Epoch 1/3\n"
     ]
    },
    {
     "name": "stderr",
     "output_type": "stream",
     "text": [
      "/tmp/ipykernel_1952487/2783961118.py:45: SettingWithCopyWarning: \n",
      "A value is trying to be set on a copy of a slice from a DataFrame.\n",
      "Try using .loc[row_indexer,col_indexer] = value instead\n",
      "\n",
      "See the caveats in the documentation: https://pandas.pydata.org/pandas-docs/stable/user_guide/indexing.html#returning-a-view-versus-a-copy\n",
      "  df.loc[:,output_col] = scaler.inverse_transform(predictions)\n"
     ]
    },
    {
     "name": "stdout",
     "output_type": "stream",
     "text": [
      "71/71 [==============================] - 6s 77ms/step - loss: 0.1385\n",
      "Epoch 2/3\n",
      "71/71 [==============================] - 6s 78ms/step - loss: 1.8608e-06\n",
      "Epoch 3/3\n",
      "71/71 [==============================] - 5s 77ms/step - loss: 1.1341e-06\n",
      "Epoch 1/3\n"
     ]
    },
    {
     "name": "stderr",
     "output_type": "stream",
     "text": [
      "/tmp/ipykernel_1952487/2783961118.py:45: SettingWithCopyWarning: \n",
      "A value is trying to be set on a copy of a slice from a DataFrame.\n",
      "Try using .loc[row_indexer,col_indexer] = value instead\n",
      "\n",
      "See the caveats in the documentation: https://pandas.pydata.org/pandas-docs/stable/user_guide/indexing.html#returning-a-view-versus-a-copy\n",
      "  df.loc[:,output_col] = scaler.inverse_transform(predictions)\n"
     ]
    },
    {
     "name": "stdout",
     "output_type": "stream",
     "text": [
      "71/71 [==============================] - 6s 78ms/step - loss: 0.1557\n",
      "Epoch 2/3\n",
      "71/71 [==============================] - 6s 78ms/step - loss: 2.2251e-06\n",
      "Epoch 3/3\n",
      "71/71 [==============================] - 6s 78ms/step - loss: 1.9339e-06\n",
      "Epoch 1/3\n"
     ]
    },
    {
     "name": "stderr",
     "output_type": "stream",
     "text": [
      "/tmp/ipykernel_1952487/2783961118.py:45: SettingWithCopyWarning: \n",
      "A value is trying to be set on a copy of a slice from a DataFrame.\n",
      "Try using .loc[row_indexer,col_indexer] = value instead\n",
      "\n",
      "See the caveats in the documentation: https://pandas.pydata.org/pandas-docs/stable/user_guide/indexing.html#returning-a-view-versus-a-copy\n",
      "  df.loc[:,output_col] = scaler.inverse_transform(predictions)\n"
     ]
    },
    {
     "name": "stdout",
     "output_type": "stream",
     "text": [
      "71/71 [==============================] - 6s 77ms/step - loss: 0.1547\n",
      "Epoch 2/3\n",
      "71/71 [==============================] - 5s 77ms/step - loss: 8.0281e-07\n",
      "Epoch 3/3\n",
      "71/71 [==============================] - 6s 79ms/step - loss: 2.6732e-07\n",
      "Epoch 1/3\n"
     ]
    },
    {
     "name": "stderr",
     "output_type": "stream",
     "text": [
      "/tmp/ipykernel_1952487/2783961118.py:45: SettingWithCopyWarning: \n",
      "A value is trying to be set on a copy of a slice from a DataFrame.\n",
      "Try using .loc[row_indexer,col_indexer] = value instead\n",
      "\n",
      "See the caveats in the documentation: https://pandas.pydata.org/pandas-docs/stable/user_guide/indexing.html#returning-a-view-versus-a-copy\n",
      "  df.loc[:,output_col] = scaler.inverse_transform(predictions)\n"
     ]
    },
    {
     "name": "stdout",
     "output_type": "stream",
     "text": [
      "71/71 [==============================] - 9s 130ms/step - loss: 0.2576\n",
      "Epoch 2/3\n",
      "71/71 [==============================] - 9s 130ms/step - loss: 5.6937e-07\n",
      "Epoch 3/3\n",
      "71/71 [==============================] - 9s 130ms/step - loss: 1.8681e-07\n",
      "Epoch 1/3\n"
     ]
    },
    {
     "name": "stderr",
     "output_type": "stream",
     "text": [
      "/tmp/ipykernel_1952487/2783961118.py:45: SettingWithCopyWarning: \n",
      "A value is trying to be set on a copy of a slice from a DataFrame.\n",
      "Try using .loc[row_indexer,col_indexer] = value instead\n",
      "\n",
      "See the caveats in the documentation: https://pandas.pydata.org/pandas-docs/stable/user_guide/indexing.html#returning-a-view-versus-a-copy\n",
      "  df.loc[:,output_col] = scaler.inverse_transform(predictions)\n"
     ]
    },
    {
     "name": "stdout",
     "output_type": "stream",
     "text": [
      "71/71 [==============================] - 9s 130ms/step - loss: 0.0230\n",
      "Epoch 2/3\n",
      "71/71 [==============================] - 9s 130ms/step - loss: 2.8884e-07\n",
      "Epoch 3/3\n",
      "71/71 [==============================] - 9s 130ms/step - loss: 1.3966e-07\n",
      "Epoch 1/3\n"
     ]
    },
    {
     "name": "stderr",
     "output_type": "stream",
     "text": [
      "/tmp/ipykernel_1952487/2783961118.py:45: SettingWithCopyWarning: \n",
      "A value is trying to be set on a copy of a slice from a DataFrame.\n",
      "Try using .loc[row_indexer,col_indexer] = value instead\n",
      "\n",
      "See the caveats in the documentation: https://pandas.pydata.org/pandas-docs/stable/user_guide/indexing.html#returning-a-view-versus-a-copy\n",
      "  df.loc[:,output_col] = scaler.inverse_transform(predictions)\n"
     ]
    },
    {
     "name": "stdout",
     "output_type": "stream",
     "text": [
      "71/71 [==============================] - 9s 130ms/step - loss: 0.2987\n",
      "Epoch 2/3\n",
      "71/71 [==============================] - 9s 130ms/step - loss: 1.8798e-06\n",
      "Epoch 3/3\n",
      "71/71 [==============================] - 9s 130ms/step - loss: 1.2346e-06\n",
      "Epoch 1/3\n"
     ]
    },
    {
     "name": "stderr",
     "output_type": "stream",
     "text": [
      "/tmp/ipykernel_1952487/2783961118.py:45: SettingWithCopyWarning: \n",
      "A value is trying to be set on a copy of a slice from a DataFrame.\n",
      "Try using .loc[row_indexer,col_indexer] = value instead\n",
      "\n",
      "See the caveats in the documentation: https://pandas.pydata.org/pandas-docs/stable/user_guide/indexing.html#returning-a-view-versus-a-copy\n",
      "  df.loc[:,output_col] = scaler.inverse_transform(predictions)\n"
     ]
    },
    {
     "name": "stdout",
     "output_type": "stream",
     "text": [
      "71/71 [==============================] - 9s 130ms/step - loss: 0.1367\n",
      "Epoch 2/3\n",
      "71/71 [==============================] - 9s 131ms/step - loss: 2.1594e-06\n",
      "Epoch 3/3\n",
      "71/71 [==============================] - 9s 130ms/step - loss: 3.5270e-07\n",
      "Epoch 1/3\n"
     ]
    },
    {
     "name": "stderr",
     "output_type": "stream",
     "text": [
      "/tmp/ipykernel_1952487/2783961118.py:45: SettingWithCopyWarning: \n",
      "A value is trying to be set on a copy of a slice from a DataFrame.\n",
      "Try using .loc[row_indexer,col_indexer] = value instead\n",
      "\n",
      "See the caveats in the documentation: https://pandas.pydata.org/pandas-docs/stable/user_guide/indexing.html#returning-a-view-versus-a-copy\n",
      "  df.loc[:,output_col] = scaler.inverse_transform(predictions)\n"
     ]
    },
    {
     "name": "stdout",
     "output_type": "stream",
     "text": [
      "71/71 [==============================] - 3s 42ms/step - loss: 0.0911\n",
      "Epoch 2/3\n",
      "71/71 [==============================] - 3s 42ms/step - loss: 1.7264e-06\n",
      "Epoch 3/3\n",
      "71/71 [==============================] - 3s 43ms/step - loss: 1.3233e-06\n",
      "Epoch 1/3\n"
     ]
    },
    {
     "name": "stderr",
     "output_type": "stream",
     "text": [
      "/tmp/ipykernel_1952487/2783961118.py:45: SettingWithCopyWarning: \n",
      "A value is trying to be set on a copy of a slice from a DataFrame.\n",
      "Try using .loc[row_indexer,col_indexer] = value instead\n",
      "\n",
      "See the caveats in the documentation: https://pandas.pydata.org/pandas-docs/stable/user_guide/indexing.html#returning-a-view-versus-a-copy\n",
      "  df.loc[:,output_col] = scaler.inverse_transform(predictions)\n"
     ]
    },
    {
     "name": "stdout",
     "output_type": "stream",
     "text": [
      "71/71 [==============================] - 3s 42ms/step - loss: 0.0809\n",
      "Epoch 2/3\n",
      "71/71 [==============================] - 3s 42ms/step - loss: 2.7972e-06\n",
      "Epoch 3/3\n",
      "71/71 [==============================] - 3s 42ms/step - loss: 8.5248e-07\n",
      "Epoch 1/3\n"
     ]
    },
    {
     "name": "stderr",
     "output_type": "stream",
     "text": [
      "/tmp/ipykernel_1952487/2783961118.py:45: SettingWithCopyWarning: \n",
      "A value is trying to be set on a copy of a slice from a DataFrame.\n",
      "Try using .loc[row_indexer,col_indexer] = value instead\n",
      "\n",
      "See the caveats in the documentation: https://pandas.pydata.org/pandas-docs/stable/user_guide/indexing.html#returning-a-view-versus-a-copy\n",
      "  df.loc[:,output_col] = scaler.inverse_transform(predictions)\n"
     ]
    },
    {
     "name": "stdout",
     "output_type": "stream",
     "text": [
      "71/71 [==============================] - 3s 42ms/step - loss: 0.0894\n",
      "Epoch 2/3\n",
      "71/71 [==============================] - 3s 42ms/step - loss: 3.2586e-06\n",
      "Epoch 3/3\n",
      "71/71 [==============================] - 3s 42ms/step - loss: 1.8734e-06\n",
      "Epoch 1/3\n"
     ]
    },
    {
     "name": "stderr",
     "output_type": "stream",
     "text": [
      "/tmp/ipykernel_1952487/2783961118.py:45: SettingWithCopyWarning: \n",
      "A value is trying to be set on a copy of a slice from a DataFrame.\n",
      "Try using .loc[row_indexer,col_indexer] = value instead\n",
      "\n",
      "See the caveats in the documentation: https://pandas.pydata.org/pandas-docs/stable/user_guide/indexing.html#returning-a-view-versus-a-copy\n",
      "  df.loc[:,output_col] = scaler.inverse_transform(predictions)\n"
     ]
    },
    {
     "name": "stdout",
     "output_type": "stream",
     "text": [
      "71/71 [==============================] - 3s 42ms/step - loss: 0.1304\n",
      "Epoch 2/3\n",
      "71/71 [==============================] - 3s 42ms/step - loss: 2.5643e-06\n",
      "Epoch 3/3\n",
      "71/71 [==============================] - 3s 42ms/step - loss: 4.5866e-07\n",
      "Epoch 1/3\n"
     ]
    },
    {
     "name": "stderr",
     "output_type": "stream",
     "text": [
      "/tmp/ipykernel_1952487/2783961118.py:45: SettingWithCopyWarning: \n",
      "A value is trying to be set on a copy of a slice from a DataFrame.\n",
      "Try using .loc[row_indexer,col_indexer] = value instead\n",
      "\n",
      "See the caveats in the documentation: https://pandas.pydata.org/pandas-docs/stable/user_guide/indexing.html#returning-a-view-versus-a-copy\n",
      "  df.loc[:,output_col] = scaler.inverse_transform(predictions)\n"
     ]
    },
    {
     "name": "stdout",
     "output_type": "stream",
     "text": [
      "71/71 [==============================] - 5s 68ms/step - loss: 0.1643\n",
      "Epoch 2/3\n",
      "71/71 [==============================] - 5s 68ms/step - loss: 3.1698e-06\n",
      "Epoch 3/3\n",
      "71/71 [==============================] - 5s 68ms/step - loss: 2.6173e-06\n",
      "Epoch 1/3\n"
     ]
    },
    {
     "name": "stderr",
     "output_type": "stream",
     "text": [
      "/tmp/ipykernel_1952487/2783961118.py:45: SettingWithCopyWarning: \n",
      "A value is trying to be set on a copy of a slice from a DataFrame.\n",
      "Try using .loc[row_indexer,col_indexer] = value instead\n",
      "\n",
      "See the caveats in the documentation: https://pandas.pydata.org/pandas-docs/stable/user_guide/indexing.html#returning-a-view-versus-a-copy\n",
      "  df.loc[:,output_col] = scaler.inverse_transform(predictions)\n"
     ]
    },
    {
     "name": "stdout",
     "output_type": "stream",
     "text": [
      "71/71 [==============================] - 5s 68ms/step - loss: 0.1721\n",
      "Epoch 2/3\n",
      "71/71 [==============================] - 5s 68ms/step - loss: 3.1247e-06\n",
      "Epoch 3/3\n",
      "71/71 [==============================] - 5s 68ms/step - loss: 3.9789e-07\n",
      "Epoch 1/3\n"
     ]
    },
    {
     "name": "stderr",
     "output_type": "stream",
     "text": [
      "/tmp/ipykernel_1952487/2783961118.py:45: SettingWithCopyWarning: \n",
      "A value is trying to be set on a copy of a slice from a DataFrame.\n",
      "Try using .loc[row_indexer,col_indexer] = value instead\n",
      "\n",
      "See the caveats in the documentation: https://pandas.pydata.org/pandas-docs/stable/user_guide/indexing.html#returning-a-view-versus-a-copy\n",
      "  df.loc[:,output_col] = scaler.inverse_transform(predictions)\n"
     ]
    },
    {
     "name": "stdout",
     "output_type": "stream",
     "text": [
      "71/71 [==============================] - 5s 68ms/step - loss: 0.1538\n",
      "Epoch 2/3\n",
      "71/71 [==============================] - 5s 68ms/step - loss: 1.2865e-06\n",
      "Epoch 3/3\n",
      "71/71 [==============================] - 5s 68ms/step - loss: 2.9767e-07\n",
      "Epoch 1/3\n"
     ]
    },
    {
     "name": "stderr",
     "output_type": "stream",
     "text": [
      "/tmp/ipykernel_1952487/2783961118.py:45: SettingWithCopyWarning: \n",
      "A value is trying to be set on a copy of a slice from a DataFrame.\n",
      "Try using .loc[row_indexer,col_indexer] = value instead\n",
      "\n",
      "See the caveats in the documentation: https://pandas.pydata.org/pandas-docs/stable/user_guide/indexing.html#returning-a-view-versus-a-copy\n",
      "  df.loc[:,output_col] = scaler.inverse_transform(predictions)\n"
     ]
    },
    {
     "name": "stdout",
     "output_type": "stream",
     "text": [
      "71/71 [==============================] - 5s 68ms/step - loss: 0.2667\n",
      "Epoch 2/3\n",
      "71/71 [==============================] - 5s 68ms/step - loss: 1.0831e-06\n",
      "Epoch 3/3\n",
      "71/71 [==============================] - 5s 68ms/step - loss: 4.7874e-07\n",
      "Epoch 1/3\n"
     ]
    },
    {
     "name": "stderr",
     "output_type": "stream",
     "text": [
      "/tmp/ipykernel_1952487/2783961118.py:45: SettingWithCopyWarning: \n",
      "A value is trying to be set on a copy of a slice from a DataFrame.\n",
      "Try using .loc[row_indexer,col_indexer] = value instead\n",
      "\n",
      "See the caveats in the documentation: https://pandas.pydata.org/pandas-docs/stable/user_guide/indexing.html#returning-a-view-versus-a-copy\n",
      "  df.loc[:,output_col] = scaler.inverse_transform(predictions)\n"
     ]
    },
    {
     "name": "stdout",
     "output_type": "stream",
     "text": [
      "71/71 [==============================] - 6s 78ms/step - loss: 0.0909\n",
      "Epoch 2/3\n",
      "71/71 [==============================] - 6s 78ms/step - loss: 2.0982e-06\n",
      "Epoch 3/3\n",
      "71/71 [==============================] - 5s 77ms/step - loss: 8.5157e-07\n",
      "Epoch 1/3\n"
     ]
    },
    {
     "name": "stderr",
     "output_type": "stream",
     "text": [
      "/tmp/ipykernel_1952487/2783961118.py:45: SettingWithCopyWarning: \n",
      "A value is trying to be set on a copy of a slice from a DataFrame.\n",
      "Try using .loc[row_indexer,col_indexer] = value instead\n",
      "\n",
      "See the caveats in the documentation: https://pandas.pydata.org/pandas-docs/stable/user_guide/indexing.html#returning-a-view-versus-a-copy\n",
      "  df.loc[:,output_col] = scaler.inverse_transform(predictions)\n"
     ]
    },
    {
     "name": "stdout",
     "output_type": "stream",
     "text": [
      "71/71 [==============================] - 6s 77ms/step - loss: 0.1286\n",
      "Epoch 2/3\n",
      "71/71 [==============================] - 5s 77ms/step - loss: 2.5401e-06\n",
      "Epoch 3/3\n",
      "71/71 [==============================] - 6s 79ms/step - loss: 2.1790e-06\n",
      "Epoch 1/3\n"
     ]
    },
    {
     "name": "stderr",
     "output_type": "stream",
     "text": [
      "/tmp/ipykernel_1952487/2783961118.py:45: SettingWithCopyWarning: \n",
      "A value is trying to be set on a copy of a slice from a DataFrame.\n",
      "Try using .loc[row_indexer,col_indexer] = value instead\n",
      "\n",
      "See the caveats in the documentation: https://pandas.pydata.org/pandas-docs/stable/user_guide/indexing.html#returning-a-view-versus-a-copy\n",
      "  df.loc[:,output_col] = scaler.inverse_transform(predictions)\n"
     ]
    },
    {
     "name": "stdout",
     "output_type": "stream",
     "text": [
      "71/71 [==============================] - 6s 78ms/step - loss: 0.1039\n",
      "Epoch 2/3\n",
      "71/71 [==============================] - 6s 78ms/step - loss: 1.5627e-06\n",
      "Epoch 3/3\n",
      "71/71 [==============================] - 6s 78ms/step - loss: 1.2883e-06\n",
      "Epoch 1/3\n"
     ]
    },
    {
     "name": "stderr",
     "output_type": "stream",
     "text": [
      "/tmp/ipykernel_1952487/2783961118.py:45: SettingWithCopyWarning: \n",
      "A value is trying to be set on a copy of a slice from a DataFrame.\n",
      "Try using .loc[row_indexer,col_indexer] = value instead\n",
      "\n",
      "See the caveats in the documentation: https://pandas.pydata.org/pandas-docs/stable/user_guide/indexing.html#returning-a-view-versus-a-copy\n",
      "  df.loc[:,output_col] = scaler.inverse_transform(predictions)\n"
     ]
    },
    {
     "name": "stdout",
     "output_type": "stream",
     "text": [
      "71/71 [==============================] - 6s 77ms/step - loss: 0.2234\n",
      "Epoch 2/3\n",
      "71/71 [==============================] - 5s 77ms/step - loss: 1.5293e-06\n",
      "Epoch 3/3\n",
      "71/71 [==============================] - 5s 77ms/step - loss: 3.3877e-07\n",
      "Epoch 1/3\n"
     ]
    },
    {
     "name": "stderr",
     "output_type": "stream",
     "text": [
      "/tmp/ipykernel_1952487/2783961118.py:45: SettingWithCopyWarning: \n",
      "A value is trying to be set on a copy of a slice from a DataFrame.\n",
      "Try using .loc[row_indexer,col_indexer] = value instead\n",
      "\n",
      "See the caveats in the documentation: https://pandas.pydata.org/pandas-docs/stable/user_guide/indexing.html#returning-a-view-versus-a-copy\n",
      "  df.loc[:,output_col] = scaler.inverse_transform(predictions)\n"
     ]
    },
    {
     "name": "stdout",
     "output_type": "stream",
     "text": [
      "71/71 [==============================] - 9s 130ms/step - loss: 0.0195\n",
      "Epoch 2/3\n",
      "71/71 [==============================] - 9s 130ms/step - loss: 1.8518e-06\n",
      "Epoch 3/3\n",
      "71/71 [==============================] - 9s 130ms/step - loss: 1.0359e-06\n",
      "Epoch 1/3\n"
     ]
    },
    {
     "name": "stderr",
     "output_type": "stream",
     "text": [
      "/tmp/ipykernel_1952487/2783961118.py:45: SettingWithCopyWarning: \n",
      "A value is trying to be set on a copy of a slice from a DataFrame.\n",
      "Try using .loc[row_indexer,col_indexer] = value instead\n",
      "\n",
      "See the caveats in the documentation: https://pandas.pydata.org/pandas-docs/stable/user_guide/indexing.html#returning-a-view-versus-a-copy\n",
      "  df.loc[:,output_col] = scaler.inverse_transform(predictions)\n"
     ]
    },
    {
     "name": "stdout",
     "output_type": "stream",
     "text": [
      "71/71 [==============================] - 10s 130ms/step - loss: 0.7234\n",
      "Epoch 2/3\n",
      "71/71 [==============================] - 9s 130ms/step - loss: 1.6528e-06\n",
      "Epoch 3/3\n",
      "71/71 [==============================] - 9s 130ms/step - loss: 1.4452e-06\n",
      "Epoch 1/3\n"
     ]
    },
    {
     "name": "stderr",
     "output_type": "stream",
     "text": [
      "/tmp/ipykernel_1952487/2783961118.py:45: SettingWithCopyWarning: \n",
      "A value is trying to be set on a copy of a slice from a DataFrame.\n",
      "Try using .loc[row_indexer,col_indexer] = value instead\n",
      "\n",
      "See the caveats in the documentation: https://pandas.pydata.org/pandas-docs/stable/user_guide/indexing.html#returning-a-view-versus-a-copy\n",
      "  df.loc[:,output_col] = scaler.inverse_transform(predictions)\n"
     ]
    },
    {
     "name": "stdout",
     "output_type": "stream",
     "text": [
      "71/71 [==============================] - 9s 130ms/step - loss: 0.2543\n",
      "Epoch 2/3\n",
      "71/71 [==============================] - 9s 130ms/step - loss: 1.3705e-06\n",
      "Epoch 3/3\n",
      "71/71 [==============================] - 9s 132ms/step - loss: 9.1139e-07\n",
      "Epoch 1/3\n"
     ]
    },
    {
     "name": "stderr",
     "output_type": "stream",
     "text": [
      "/tmp/ipykernel_1952487/2783961118.py:45: SettingWithCopyWarning: \n",
      "A value is trying to be set on a copy of a slice from a DataFrame.\n",
      "Try using .loc[row_indexer,col_indexer] = value instead\n",
      "\n",
      "See the caveats in the documentation: https://pandas.pydata.org/pandas-docs/stable/user_guide/indexing.html#returning-a-view-versus-a-copy\n",
      "  df.loc[:,output_col] = scaler.inverse_transform(predictions)\n"
     ]
    },
    {
     "name": "stdout",
     "output_type": "stream",
     "text": [
      "71/71 [==============================] - 9s 130ms/step - loss: 0.5567\n",
      "Epoch 2/3\n",
      "71/71 [==============================] - 9s 130ms/step - loss: 1.4903e-06\n",
      "Epoch 3/3\n",
      "71/71 [==============================] - 9s 130ms/step - loss: 7.6604e-07\n",
      "Epoch 1/3\n"
     ]
    },
    {
     "name": "stderr",
     "output_type": "stream",
     "text": [
      "/tmp/ipykernel_1952487/2783961118.py:45: SettingWithCopyWarning: \n",
      "A value is trying to be set on a copy of a slice from a DataFrame.\n",
      "Try using .loc[row_indexer,col_indexer] = value instead\n",
      "\n",
      "See the caveats in the documentation: https://pandas.pydata.org/pandas-docs/stable/user_guide/indexing.html#returning-a-view-versus-a-copy\n",
      "  df.loc[:,output_col] = scaler.inverse_transform(predictions)\n"
     ]
    },
    {
     "name": "stdout",
     "output_type": "stream",
     "text": [
      "71/71 [==============================] - 3s 40ms/step - loss: 0.0300\n",
      "Epoch 2/3\n",
      "71/71 [==============================] - 3s 40ms/step - loss: 1.1912e-06\n",
      "Epoch 3/3\n",
      "71/71 [==============================] - 3s 40ms/step - loss: 2.6653e-07\n",
      "Epoch 1/3\n"
     ]
    },
    {
     "name": "stderr",
     "output_type": "stream",
     "text": [
      "/tmp/ipykernel_1952487/2783961118.py:45: SettingWithCopyWarning: \n",
      "A value is trying to be set on a copy of a slice from a DataFrame.\n",
      "Try using .loc[row_indexer,col_indexer] = value instead\n",
      "\n",
      "See the caveats in the documentation: https://pandas.pydata.org/pandas-docs/stable/user_guide/indexing.html#returning-a-view-versus-a-copy\n",
      "  df.loc[:,output_col] = scaler.inverse_transform(predictions)\n"
     ]
    },
    {
     "name": "stdout",
     "output_type": "stream",
     "text": [
      "71/71 [==============================] - 3s 39ms/step - loss: 0.1419\n",
      "Epoch 2/3\n",
      "71/71 [==============================] - 3s 39ms/step - loss: 9.6814e-07\n",
      "Epoch 3/3\n",
      "71/71 [==============================] - 3s 39ms/step - loss: 6.6811e-07\n",
      "Epoch 1/3\n"
     ]
    },
    {
     "name": "stderr",
     "output_type": "stream",
     "text": [
      "/tmp/ipykernel_1952487/2783961118.py:45: SettingWithCopyWarning: \n",
      "A value is trying to be set on a copy of a slice from a DataFrame.\n",
      "Try using .loc[row_indexer,col_indexer] = value instead\n",
      "\n",
      "See the caveats in the documentation: https://pandas.pydata.org/pandas-docs/stable/user_guide/indexing.html#returning-a-view-versus-a-copy\n",
      "  df.loc[:,output_col] = scaler.inverse_transform(predictions)\n"
     ]
    },
    {
     "name": "stdout",
     "output_type": "stream",
     "text": [
      "71/71 [==============================] - 3s 40ms/step - loss: 0.0681\n",
      "Epoch 2/3\n",
      "71/71 [==============================] - 3s 40ms/step - loss: 3.4910e-06\n",
      "Epoch 3/3\n",
      "71/71 [==============================] - 3s 40ms/step - loss: 1.0327e-06\n",
      "Epoch 1/3\n"
     ]
    },
    {
     "name": "stderr",
     "output_type": "stream",
     "text": [
      "/tmp/ipykernel_1952487/2783961118.py:45: SettingWithCopyWarning: \n",
      "A value is trying to be set on a copy of a slice from a DataFrame.\n",
      "Try using .loc[row_indexer,col_indexer] = value instead\n",
      "\n",
      "See the caveats in the documentation: https://pandas.pydata.org/pandas-docs/stable/user_guide/indexing.html#returning-a-view-versus-a-copy\n",
      "  df.loc[:,output_col] = scaler.inverse_transform(predictions)\n"
     ]
    },
    {
     "name": "stdout",
     "output_type": "stream",
     "text": [
      "71/71 [==============================] - 3s 40ms/step - loss: 0.1189\n",
      "Epoch 2/3\n",
      "71/71 [==============================] - 3s 40ms/step - loss: 2.8758e-06\n",
      "Epoch 3/3\n",
      "71/71 [==============================] - 3s 40ms/step - loss: 2.3291e-06\n",
      "Epoch 1/3\n"
     ]
    },
    {
     "name": "stderr",
     "output_type": "stream",
     "text": [
      "/tmp/ipykernel_1952487/2783961118.py:45: SettingWithCopyWarning: \n",
      "A value is trying to be set on a copy of a slice from a DataFrame.\n",
      "Try using .loc[row_indexer,col_indexer] = value instead\n",
      "\n",
      "See the caveats in the documentation: https://pandas.pydata.org/pandas-docs/stable/user_guide/indexing.html#returning-a-view-versus-a-copy\n",
      "  df.loc[:,output_col] = scaler.inverse_transform(predictions)\n"
     ]
    },
    {
     "name": "stdout",
     "output_type": "stream",
     "text": [
      "71/71 [==============================] - 5s 65ms/step - loss: 0.0717\n",
      "Epoch 2/3\n",
      "71/71 [==============================] - 5s 65ms/step - loss: 1.2214e-06\n",
      "Epoch 3/3\n",
      "71/71 [==============================] - 5s 65ms/step - loss: 7.6506e-07\n",
      "Epoch 1/3\n"
     ]
    },
    {
     "name": "stderr",
     "output_type": "stream",
     "text": [
      "/tmp/ipykernel_1952487/2783961118.py:45: SettingWithCopyWarning: \n",
      "A value is trying to be set on a copy of a slice from a DataFrame.\n",
      "Try using .loc[row_indexer,col_indexer] = value instead\n",
      "\n",
      "See the caveats in the documentation: https://pandas.pydata.org/pandas-docs/stable/user_guide/indexing.html#returning-a-view-versus-a-copy\n",
      "  df.loc[:,output_col] = scaler.inverse_transform(predictions)\n"
     ]
    },
    {
     "name": "stdout",
     "output_type": "stream",
     "text": [
      "71/71 [==============================] - 5s 66ms/step - loss: 0.0803\n",
      "Epoch 2/3\n",
      "71/71 [==============================] - 5s 66ms/step - loss: 7.1471e-07\n",
      "Epoch 3/3\n",
      "71/71 [==============================] - 5s 66ms/step - loss: 6.8944e-07\n",
      "Epoch 1/3\n"
     ]
    },
    {
     "name": "stderr",
     "output_type": "stream",
     "text": [
      "/tmp/ipykernel_1952487/2783961118.py:45: SettingWithCopyWarning: \n",
      "A value is trying to be set on a copy of a slice from a DataFrame.\n",
      "Try using .loc[row_indexer,col_indexer] = value instead\n",
      "\n",
      "See the caveats in the documentation: https://pandas.pydata.org/pandas-docs/stable/user_guide/indexing.html#returning-a-view-versus-a-copy\n",
      "  df.loc[:,output_col] = scaler.inverse_transform(predictions)\n"
     ]
    },
    {
     "name": "stdout",
     "output_type": "stream",
     "text": [
      "71/71 [==============================] - 5s 66ms/step - loss: 0.0275\n",
      "Epoch 2/3\n",
      "71/71 [==============================] - 5s 66ms/step - loss: 8.8298e-07\n",
      "Epoch 3/3\n",
      "71/71 [==============================] - 5s 66ms/step - loss: 2.5810e-07\n",
      "Epoch 1/3\n"
     ]
    },
    {
     "name": "stderr",
     "output_type": "stream",
     "text": [
      "/tmp/ipykernel_1952487/2783961118.py:45: SettingWithCopyWarning: \n",
      "A value is trying to be set on a copy of a slice from a DataFrame.\n",
      "Try using .loc[row_indexer,col_indexer] = value instead\n",
      "\n",
      "See the caveats in the documentation: https://pandas.pydata.org/pandas-docs/stable/user_guide/indexing.html#returning-a-view-versus-a-copy\n",
      "  df.loc[:,output_col] = scaler.inverse_transform(predictions)\n"
     ]
    },
    {
     "name": "stdout",
     "output_type": "stream",
     "text": [
      "71/71 [==============================] - 5s 66ms/step - loss: 0.1120\n",
      "Epoch 2/3\n",
      "71/71 [==============================] - 5s 65ms/step - loss: 1.6038e-06\n",
      "Epoch 3/3\n",
      "71/71 [==============================] - 5s 67ms/step - loss: 4.4510e-07\n",
      "Epoch 1/3\n"
     ]
    },
    {
     "name": "stderr",
     "output_type": "stream",
     "text": [
      "/tmp/ipykernel_1952487/2783961118.py:45: SettingWithCopyWarning: \n",
      "A value is trying to be set on a copy of a slice from a DataFrame.\n",
      "Try using .loc[row_indexer,col_indexer] = value instead\n",
      "\n",
      "See the caveats in the documentation: https://pandas.pydata.org/pandas-docs/stable/user_guide/indexing.html#returning-a-view-versus-a-copy\n",
      "  df.loc[:,output_col] = scaler.inverse_transform(predictions)\n"
     ]
    },
    {
     "name": "stdout",
     "output_type": "stream",
     "text": [
      "71/71 [==============================] - 6s 74ms/step - loss: 0.1407\n",
      "Epoch 2/3\n",
      "71/71 [==============================] - 5s 75ms/step - loss: 1.7072e-06\n",
      "Epoch 3/3\n",
      "71/71 [==============================] - 5s 74ms/step - loss: 4.9703e-07\n",
      "Epoch 1/3\n"
     ]
    },
    {
     "name": "stderr",
     "output_type": "stream",
     "text": [
      "/tmp/ipykernel_1952487/2783961118.py:45: SettingWithCopyWarning: \n",
      "A value is trying to be set on a copy of a slice from a DataFrame.\n",
      "Try using .loc[row_indexer,col_indexer] = value instead\n",
      "\n",
      "See the caveats in the documentation: https://pandas.pydata.org/pandas-docs/stable/user_guide/indexing.html#returning-a-view-versus-a-copy\n",
      "  df.loc[:,output_col] = scaler.inverse_transform(predictions)\n"
     ]
    },
    {
     "name": "stdout",
     "output_type": "stream",
     "text": [
      "71/71 [==============================] - 6s 75ms/step - loss: 0.0737\n",
      "Epoch 2/3\n",
      "71/71 [==============================] - 5s 75ms/step - loss: 2.8863e-06\n",
      "Epoch 3/3\n",
      "71/71 [==============================] - 5s 74ms/step - loss: 2.0879e-06\n",
      "Epoch 1/3\n"
     ]
    },
    {
     "name": "stderr",
     "output_type": "stream",
     "text": [
      "/tmp/ipykernel_1952487/2783961118.py:45: SettingWithCopyWarning: \n",
      "A value is trying to be set on a copy of a slice from a DataFrame.\n",
      "Try using .loc[row_indexer,col_indexer] = value instead\n",
      "\n",
      "See the caveats in the documentation: https://pandas.pydata.org/pandas-docs/stable/user_guide/indexing.html#returning-a-view-versus-a-copy\n",
      "  df.loc[:,output_col] = scaler.inverse_transform(predictions)\n"
     ]
    },
    {
     "name": "stdout",
     "output_type": "stream",
     "text": [
      "71/71 [==============================] - 6s 75ms/step - loss: 0.1069\n",
      "Epoch 2/3\n",
      "71/71 [==============================] - 5s 75ms/step - loss: 1.2611e-06\n",
      "Epoch 3/3\n",
      "71/71 [==============================] - 5s 75ms/step - loss: 6.4774e-07\n",
      "Epoch 1/3\n"
     ]
    },
    {
     "name": "stderr",
     "output_type": "stream",
     "text": [
      "/tmp/ipykernel_1952487/2783961118.py:45: SettingWithCopyWarning: \n",
      "A value is trying to be set on a copy of a slice from a DataFrame.\n",
      "Try using .loc[row_indexer,col_indexer] = value instead\n",
      "\n",
      "See the caveats in the documentation: https://pandas.pydata.org/pandas-docs/stable/user_guide/indexing.html#returning-a-view-versus-a-copy\n",
      "  df.loc[:,output_col] = scaler.inverse_transform(predictions)\n"
     ]
    },
    {
     "name": "stdout",
     "output_type": "stream",
     "text": [
      "71/71 [==============================] - 6s 75ms/step - loss: 0.1393\n",
      "Epoch 2/3\n",
      "71/71 [==============================] - 5s 75ms/step - loss: 2.2753e-06\n",
      "Epoch 3/3\n",
      "71/71 [==============================] - 5s 75ms/step - loss: 1.9593e-06\n",
      "Epoch 1/3\n"
     ]
    },
    {
     "name": "stderr",
     "output_type": "stream",
     "text": [
      "/tmp/ipykernel_1952487/2783961118.py:45: SettingWithCopyWarning: \n",
      "A value is trying to be set on a copy of a slice from a DataFrame.\n",
      "Try using .loc[row_indexer,col_indexer] = value instead\n",
      "\n",
      "See the caveats in the documentation: https://pandas.pydata.org/pandas-docs/stable/user_guide/indexing.html#returning-a-view-versus-a-copy\n",
      "  df.loc[:,output_col] = scaler.inverse_transform(predictions)\n"
     ]
    },
    {
     "name": "stdout",
     "output_type": "stream",
     "text": [
      "71/71 [==============================] - 9s 128ms/step - loss: 0.2249\n",
      "Epoch 2/3\n",
      "71/71 [==============================] - 9s 128ms/step - loss: 3.0468e-06\n",
      "Epoch 3/3\n",
      "71/71 [==============================] - 9s 128ms/step - loss: 2.3902e-06\n",
      "Epoch 1/3\n"
     ]
    },
    {
     "name": "stderr",
     "output_type": "stream",
     "text": [
      "/tmp/ipykernel_1952487/2783961118.py:45: SettingWithCopyWarning: \n",
      "A value is trying to be set on a copy of a slice from a DataFrame.\n",
      "Try using .loc[row_indexer,col_indexer] = value instead\n",
      "\n",
      "See the caveats in the documentation: https://pandas.pydata.org/pandas-docs/stable/user_guide/indexing.html#returning-a-view-versus-a-copy\n",
      "  df.loc[:,output_col] = scaler.inverse_transform(predictions)\n"
     ]
    },
    {
     "name": "stdout",
     "output_type": "stream",
     "text": [
      "71/71 [==============================] - 9s 128ms/step - loss: 0.3782\n",
      "Epoch 2/3\n",
      "71/71 [==============================] - 9s 128ms/step - loss: 6.6672e-07\n",
      "Epoch 3/3\n",
      "71/71 [==============================] - 9s 130ms/step - loss: 3.8236e-07\n",
      "Epoch 1/3\n"
     ]
    },
    {
     "name": "stderr",
     "output_type": "stream",
     "text": [
      "/tmp/ipykernel_1952487/2783961118.py:45: SettingWithCopyWarning: \n",
      "A value is trying to be set on a copy of a slice from a DataFrame.\n",
      "Try using .loc[row_indexer,col_indexer] = value instead\n",
      "\n",
      "See the caveats in the documentation: https://pandas.pydata.org/pandas-docs/stable/user_guide/indexing.html#returning-a-view-versus-a-copy\n",
      "  df.loc[:,output_col] = scaler.inverse_transform(predictions)\n"
     ]
    },
    {
     "name": "stdout",
     "output_type": "stream",
     "text": [
      "71/71 [==============================] - 9s 127ms/step - loss: 0.0188\n",
      "Epoch 2/3\n",
      "71/71 [==============================] - 9s 127ms/step - loss: 2.0397e-06\n",
      "Epoch 3/3\n",
      "71/71 [==============================] - 9s 127ms/step - loss: 1.0836e-06\n",
      "Epoch 1/3\n"
     ]
    },
    {
     "name": "stderr",
     "output_type": "stream",
     "text": [
      "/tmp/ipykernel_1952487/2783961118.py:45: SettingWithCopyWarning: \n",
      "A value is trying to be set on a copy of a slice from a DataFrame.\n",
      "Try using .loc[row_indexer,col_indexer] = value instead\n",
      "\n",
      "See the caveats in the documentation: https://pandas.pydata.org/pandas-docs/stable/user_guide/indexing.html#returning-a-view-versus-a-copy\n",
      "  df.loc[:,output_col] = scaler.inverse_transform(predictions)\n"
     ]
    },
    {
     "name": "stdout",
     "output_type": "stream",
     "text": [
      "71/71 [==============================] - 10s 128ms/step - loss: 0.1670\n",
      "Epoch 2/3\n",
      "71/71 [==============================] - 9s 128ms/step - loss: 7.5355e-07\n",
      "Epoch 3/3\n",
      "71/71 [==============================] - 9s 128ms/step - loss: 5.0068e-07\n",
      "Epoch 1/3\n"
     ]
    },
    {
     "name": "stderr",
     "output_type": "stream",
     "text": [
      "/tmp/ipykernel_1952487/2783961118.py:45: SettingWithCopyWarning: \n",
      "A value is trying to be set on a copy of a slice from a DataFrame.\n",
      "Try using .loc[row_indexer,col_indexer] = value instead\n",
      "\n",
      "See the caveats in the documentation: https://pandas.pydata.org/pandas-docs/stable/user_guide/indexing.html#returning-a-view-versus-a-copy\n",
      "  df.loc[:,output_col] = scaler.inverse_transform(predictions)\n"
     ]
    },
    {
     "name": "stdout",
     "output_type": "stream",
     "text": [
      "71/71 [==============================] - 3s 40ms/step - loss: 0.0505\n",
      "Epoch 2/3\n",
      "71/71 [==============================] - 3s 40ms/step - loss: 1.6563e-06\n",
      "Epoch 3/3\n",
      "71/71 [==============================] - 3s 40ms/step - loss: 1.2104e-06\n",
      "Epoch 1/3\n"
     ]
    },
    {
     "name": "stderr",
     "output_type": "stream",
     "text": [
      "/tmp/ipykernel_1952487/2783961118.py:45: SettingWithCopyWarning: \n",
      "A value is trying to be set on a copy of a slice from a DataFrame.\n",
      "Try using .loc[row_indexer,col_indexer] = value instead\n",
      "\n",
      "See the caveats in the documentation: https://pandas.pydata.org/pandas-docs/stable/user_guide/indexing.html#returning-a-view-versus-a-copy\n",
      "  df.loc[:,output_col] = scaler.inverse_transform(predictions)\n"
     ]
    },
    {
     "name": "stdout",
     "output_type": "stream",
     "text": [
      "71/71 [==============================] - 3s 40ms/step - loss: 0.0527\n",
      "Epoch 2/3\n",
      "71/71 [==============================] - 3s 40ms/step - loss: 2.3519e-06\n",
      "Epoch 3/3\n",
      "71/71 [==============================] - 3s 40ms/step - loss: 2.0523e-06\n",
      "Epoch 1/3\n"
     ]
    },
    {
     "name": "stderr",
     "output_type": "stream",
     "text": [
      "/tmp/ipykernel_1952487/2783961118.py:45: SettingWithCopyWarning: \n",
      "A value is trying to be set on a copy of a slice from a DataFrame.\n",
      "Try using .loc[row_indexer,col_indexer] = value instead\n",
      "\n",
      "See the caveats in the documentation: https://pandas.pydata.org/pandas-docs/stable/user_guide/indexing.html#returning-a-view-versus-a-copy\n",
      "  df.loc[:,output_col] = scaler.inverse_transform(predictions)\n"
     ]
    },
    {
     "name": "stdout",
     "output_type": "stream",
     "text": [
      "71/71 [==============================] - 3s 40ms/step - loss: 0.1504\n",
      "Epoch 2/3\n",
      "71/71 [==============================] - 3s 40ms/step - loss: 1.1760e-06\n",
      "Epoch 3/3\n",
      "71/71 [==============================] - 3s 40ms/step - loss: 8.3664e-07\n",
      "Epoch 1/3\n"
     ]
    },
    {
     "name": "stderr",
     "output_type": "stream",
     "text": [
      "/tmp/ipykernel_1952487/2783961118.py:45: SettingWithCopyWarning: \n",
      "A value is trying to be set on a copy of a slice from a DataFrame.\n",
      "Try using .loc[row_indexer,col_indexer] = value instead\n",
      "\n",
      "See the caveats in the documentation: https://pandas.pydata.org/pandas-docs/stable/user_guide/indexing.html#returning-a-view-versus-a-copy\n",
      "  df.loc[:,output_col] = scaler.inverse_transform(predictions)\n"
     ]
    },
    {
     "name": "stdout",
     "output_type": "stream",
     "text": [
      "71/71 [==============================] - 3s 40ms/step - loss: 0.0342\n",
      "Epoch 2/3\n",
      "71/71 [==============================] - 3s 40ms/step - loss: 5.0801e-07\n",
      "Epoch 3/3\n",
      "71/71 [==============================] - 3s 40ms/step - loss: 3.7230e-07\n",
      "Epoch 1/3\n"
     ]
    },
    {
     "name": "stderr",
     "output_type": "stream",
     "text": [
      "/tmp/ipykernel_1952487/2783961118.py:45: SettingWithCopyWarning: \n",
      "A value is trying to be set on a copy of a slice from a DataFrame.\n",
      "Try using .loc[row_indexer,col_indexer] = value instead\n",
      "\n",
      "See the caveats in the documentation: https://pandas.pydata.org/pandas-docs/stable/user_guide/indexing.html#returning-a-view-versus-a-copy\n",
      "  df.loc[:,output_col] = scaler.inverse_transform(predictions)\n"
     ]
    },
    {
     "name": "stdout",
     "output_type": "stream",
     "text": [
      "71/71 [==============================] - 5s 66ms/step - loss: 0.1044\n",
      "Epoch 2/3\n",
      "71/71 [==============================] - 5s 66ms/step - loss: 4.3587e-07\n",
      "Epoch 3/3\n",
      "71/71 [==============================] - 5s 66ms/step - loss: 3.3225e-07\n",
      "Epoch 1/3\n"
     ]
    },
    {
     "name": "stderr",
     "output_type": "stream",
     "text": [
      "/tmp/ipykernel_1952487/2783961118.py:45: SettingWithCopyWarning: \n",
      "A value is trying to be set on a copy of a slice from a DataFrame.\n",
      "Try using .loc[row_indexer,col_indexer] = value instead\n",
      "\n",
      "See the caveats in the documentation: https://pandas.pydata.org/pandas-docs/stable/user_guide/indexing.html#returning-a-view-versus-a-copy\n",
      "  df.loc[:,output_col] = scaler.inverse_transform(predictions)\n"
     ]
    },
    {
     "name": "stdout",
     "output_type": "stream",
     "text": [
      "71/71 [==============================] - 5s 66ms/step - loss: 0.0457\n",
      "Epoch 2/3\n",
      "71/71 [==============================] - 5s 67ms/step - loss: 4.7495e-06\n",
      "Epoch 3/3\n",
      "71/71 [==============================] - 5s 67ms/step - loss: 2.8254e-06\n",
      "Epoch 1/3\n"
     ]
    },
    {
     "name": "stderr",
     "output_type": "stream",
     "text": [
      "/tmp/ipykernel_1952487/2783961118.py:45: SettingWithCopyWarning: \n",
      "A value is trying to be set on a copy of a slice from a DataFrame.\n",
      "Try using .loc[row_indexer,col_indexer] = value instead\n",
      "\n",
      "See the caveats in the documentation: https://pandas.pydata.org/pandas-docs/stable/user_guide/indexing.html#returning-a-view-versus-a-copy\n",
      "  df.loc[:,output_col] = scaler.inverse_transform(predictions)\n"
     ]
    },
    {
     "name": "stdout",
     "output_type": "stream",
     "text": [
      "71/71 [==============================] - 5s 66ms/step - loss: 0.1126\n",
      "Epoch 2/3\n",
      "71/71 [==============================] - 5s 67ms/step - loss: 6.8132e-07\n",
      "Epoch 3/3\n",
      "71/71 [==============================] - 5s 66ms/step - loss: 5.0294e-07\n",
      "Epoch 1/3\n"
     ]
    },
    {
     "name": "stderr",
     "output_type": "stream",
     "text": [
      "/tmp/ipykernel_1952487/2783961118.py:45: SettingWithCopyWarning: \n",
      "A value is trying to be set on a copy of a slice from a DataFrame.\n",
      "Try using .loc[row_indexer,col_indexer] = value instead\n",
      "\n",
      "See the caveats in the documentation: https://pandas.pydata.org/pandas-docs/stable/user_guide/indexing.html#returning-a-view-versus-a-copy\n",
      "  df.loc[:,output_col] = scaler.inverse_transform(predictions)\n"
     ]
    },
    {
     "name": "stdout",
     "output_type": "stream",
     "text": [
      "71/71 [==============================] - 5s 66ms/step - loss: 0.1223\n",
      "Epoch 2/3\n",
      "71/71 [==============================] - 5s 66ms/step - loss: 1.0218e-06\n",
      "Epoch 3/3\n",
      "71/71 [==============================] - 5s 66ms/step - loss: 3.9020e-07\n",
      "Epoch 1/3\n"
     ]
    },
    {
     "name": "stderr",
     "output_type": "stream",
     "text": [
      "/tmp/ipykernel_1952487/2783961118.py:45: SettingWithCopyWarning: \n",
      "A value is trying to be set on a copy of a slice from a DataFrame.\n",
      "Try using .loc[row_indexer,col_indexer] = value instead\n",
      "\n",
      "See the caveats in the documentation: https://pandas.pydata.org/pandas-docs/stable/user_guide/indexing.html#returning-a-view-versus-a-copy\n",
      "  df.loc[:,output_col] = scaler.inverse_transform(predictions)\n"
     ]
    },
    {
     "name": "stdout",
     "output_type": "stream",
     "text": [
      "71/71 [==============================] - 6s 74ms/step - loss: 0.2770\n",
      "Epoch 2/3\n",
      "71/71 [==============================] - 5s 75ms/step - loss: 3.5059e-06\n",
      "Epoch 3/3\n",
      "71/71 [==============================] - 5s 74ms/step - loss: 2.9103e-06\n",
      "Epoch 1/3\n"
     ]
    },
    {
     "name": "stderr",
     "output_type": "stream",
     "text": [
      "/tmp/ipykernel_1952487/2783961118.py:45: SettingWithCopyWarning: \n",
      "A value is trying to be set on a copy of a slice from a DataFrame.\n",
      "Try using .loc[row_indexer,col_indexer] = value instead\n",
      "\n",
      "See the caveats in the documentation: https://pandas.pydata.org/pandas-docs/stable/user_guide/indexing.html#returning-a-view-versus-a-copy\n",
      "  df.loc[:,output_col] = scaler.inverse_transform(predictions)\n"
     ]
    },
    {
     "name": "stdout",
     "output_type": "stream",
     "text": [
      "71/71 [==============================] - 6s 75ms/step - loss: 0.1252\n",
      "Epoch 2/3\n",
      "71/71 [==============================] - 5s 75ms/step - loss: 1.4706e-06\n",
      "Epoch 3/3\n",
      "71/71 [==============================] - 5s 75ms/step - loss: 2.9470e-07\n",
      "Epoch 1/3\n"
     ]
    },
    {
     "name": "stderr",
     "output_type": "stream",
     "text": [
      "/tmp/ipykernel_1952487/2783961118.py:45: SettingWithCopyWarning: \n",
      "A value is trying to be set on a copy of a slice from a DataFrame.\n",
      "Try using .loc[row_indexer,col_indexer] = value instead\n",
      "\n",
      "See the caveats in the documentation: https://pandas.pydata.org/pandas-docs/stable/user_guide/indexing.html#returning-a-view-versus-a-copy\n",
      "  df.loc[:,output_col] = scaler.inverse_transform(predictions)\n"
     ]
    },
    {
     "name": "stdout",
     "output_type": "stream",
     "text": [
      "71/71 [==============================] - 6s 74ms/step - loss: 0.1263\n",
      "Epoch 2/3\n",
      "71/71 [==============================] - 5s 74ms/step - loss: 4.0911e-06\n",
      "Epoch 3/3\n",
      "71/71 [==============================] - 5s 74ms/step - loss: 3.4768e-06\n",
      "Epoch 1/3\n"
     ]
    },
    {
     "name": "stderr",
     "output_type": "stream",
     "text": [
      "/tmp/ipykernel_1952487/2783961118.py:45: SettingWithCopyWarning: \n",
      "A value is trying to be set on a copy of a slice from a DataFrame.\n",
      "Try using .loc[row_indexer,col_indexer] = value instead\n",
      "\n",
      "See the caveats in the documentation: https://pandas.pydata.org/pandas-docs/stable/user_guide/indexing.html#returning-a-view-versus-a-copy\n",
      "  df.loc[:,output_col] = scaler.inverse_transform(predictions)\n"
     ]
    },
    {
     "name": "stdout",
     "output_type": "stream",
     "text": [
      "71/71 [==============================] - 5s 74ms/step - loss: 0.1365\n",
      "Epoch 2/3\n",
      "71/71 [==============================] - 5s 74ms/step - loss: 1.6364e-06\n",
      "Epoch 3/3\n",
      "71/71 [==============================] - 5s 74ms/step - loss: 9.7705e-07\n",
      "Epoch 1/3\n"
     ]
    },
    {
     "name": "stderr",
     "output_type": "stream",
     "text": [
      "/tmp/ipykernel_1952487/2783961118.py:45: SettingWithCopyWarning: \n",
      "A value is trying to be set on a copy of a slice from a DataFrame.\n",
      "Try using .loc[row_indexer,col_indexer] = value instead\n",
      "\n",
      "See the caveats in the documentation: https://pandas.pydata.org/pandas-docs/stable/user_guide/indexing.html#returning-a-view-versus-a-copy\n",
      "  df.loc[:,output_col] = scaler.inverse_transform(predictions)\n"
     ]
    },
    {
     "name": "stdout",
     "output_type": "stream",
     "text": [
      "71/71 [==============================] - 9s 127ms/step - loss: 0.2026\n",
      "Epoch 2/3\n",
      "71/71 [==============================] - 9s 127ms/step - loss: 8.3099e-07\n",
      "Epoch 3/3\n",
      "71/71 [==============================] - 9s 129ms/step - loss: 5.8711e-07\n",
      "Epoch 1/3\n"
     ]
    },
    {
     "name": "stderr",
     "output_type": "stream",
     "text": [
      "/tmp/ipykernel_1952487/2783961118.py:45: SettingWithCopyWarning: \n",
      "A value is trying to be set on a copy of a slice from a DataFrame.\n",
      "Try using .loc[row_indexer,col_indexer] = value instead\n",
      "\n",
      "See the caveats in the documentation: https://pandas.pydata.org/pandas-docs/stable/user_guide/indexing.html#returning-a-view-versus-a-copy\n",
      "  df.loc[:,output_col] = scaler.inverse_transform(predictions)\n"
     ]
    },
    {
     "name": "stdout",
     "output_type": "stream",
     "text": [
      "71/71 [==============================] - 9s 127ms/step - loss: 0.2153\n",
      "Epoch 2/3\n",
      "71/71 [==============================] - 9s 127ms/step - loss: 1.6542e-06\n",
      "Epoch 3/3\n",
      "71/71 [==============================] - 9s 127ms/step - loss: 9.0161e-07\n",
      "Epoch 1/3\n"
     ]
    },
    {
     "name": "stderr",
     "output_type": "stream",
     "text": [
      "/tmp/ipykernel_1952487/2783961118.py:45: SettingWithCopyWarning: \n",
      "A value is trying to be set on a copy of a slice from a DataFrame.\n",
      "Try using .loc[row_indexer,col_indexer] = value instead\n",
      "\n",
      "See the caveats in the documentation: https://pandas.pydata.org/pandas-docs/stable/user_guide/indexing.html#returning-a-view-versus-a-copy\n",
      "  df.loc[:,output_col] = scaler.inverse_transform(predictions)\n"
     ]
    },
    {
     "name": "stdout",
     "output_type": "stream",
     "text": [
      "71/71 [==============================] - 9s 127ms/step - loss: 0.2286\n",
      "Epoch 2/3\n",
      "71/71 [==============================] - 9s 127ms/step - loss: 7.1713e-07\n",
      "Epoch 3/3\n",
      "71/71 [==============================] - 9s 127ms/step - loss: 3.1746e-07\n",
      "Epoch 1/3\n"
     ]
    },
    {
     "name": "stderr",
     "output_type": "stream",
     "text": [
      "/tmp/ipykernel_1952487/2783961118.py:45: SettingWithCopyWarning: \n",
      "A value is trying to be set on a copy of a slice from a DataFrame.\n",
      "Try using .loc[row_indexer,col_indexer] = value instead\n",
      "\n",
      "See the caveats in the documentation: https://pandas.pydata.org/pandas-docs/stable/user_guide/indexing.html#returning-a-view-versus-a-copy\n",
      "  df.loc[:,output_col] = scaler.inverse_transform(predictions)\n"
     ]
    },
    {
     "name": "stdout",
     "output_type": "stream",
     "text": [
      "71/71 [==============================] - 9s 127ms/step - loss: 0.0679\n",
      "Epoch 2/3\n",
      "71/71 [==============================] - 9s 127ms/step - loss: 3.2159e-06\n",
      "Epoch 3/3\n",
      "71/71 [==============================] - 9s 127ms/step - loss: 2.2837e-06\n",
      "Epoch 1/3\n"
     ]
    },
    {
     "name": "stderr",
     "output_type": "stream",
     "text": [
      "/tmp/ipykernel_1952487/2783961118.py:45: SettingWithCopyWarning: \n",
      "A value is trying to be set on a copy of a slice from a DataFrame.\n",
      "Try using .loc[row_indexer,col_indexer] = value instead\n",
      "\n",
      "See the caveats in the documentation: https://pandas.pydata.org/pandas-docs/stable/user_guide/indexing.html#returning-a-view-versus-a-copy\n",
      "  df.loc[:,output_col] = scaler.inverse_transform(predictions)\n"
     ]
    },
    {
     "name": "stdout",
     "output_type": "stream",
     "text": [
      "71/71 [==============================] - 3s 42ms/step - loss: 0.1121\n",
      "Epoch 2/3\n",
      "71/71 [==============================] - 3s 42ms/step - loss: 3.9670e-06\n",
      "Epoch 3/3\n",
      "71/71 [==============================] - 3s 41ms/step - loss: 2.7246e-06\n",
      "Epoch 1/3\n"
     ]
    },
    {
     "name": "stderr",
     "output_type": "stream",
     "text": [
      "/tmp/ipykernel_1952487/2783961118.py:45: SettingWithCopyWarning: \n",
      "A value is trying to be set on a copy of a slice from a DataFrame.\n",
      "Try using .loc[row_indexer,col_indexer] = value instead\n",
      "\n",
      "See the caveats in the documentation: https://pandas.pydata.org/pandas-docs/stable/user_guide/indexing.html#returning-a-view-versus-a-copy\n",
      "  df.loc[:,output_col] = scaler.inverse_transform(predictions)\n"
     ]
    },
    {
     "name": "stdout",
     "output_type": "stream",
     "text": [
      "71/71 [==============================] - 3s 42ms/step - loss: 0.1202\n",
      "Epoch 2/3\n",
      "71/71 [==============================] - 3s 42ms/step - loss: 2.4886e-06\n",
      "Epoch 3/3\n",
      "71/71 [==============================] - 3s 42ms/step - loss: 1.8429e-06\n",
      "Epoch 1/3\n"
     ]
    },
    {
     "name": "stderr",
     "output_type": "stream",
     "text": [
      "/tmp/ipykernel_1952487/2783961118.py:45: SettingWithCopyWarning: \n",
      "A value is trying to be set on a copy of a slice from a DataFrame.\n",
      "Try using .loc[row_indexer,col_indexer] = value instead\n",
      "\n",
      "See the caveats in the documentation: https://pandas.pydata.org/pandas-docs/stable/user_guide/indexing.html#returning-a-view-versus-a-copy\n",
      "  df.loc[:,output_col] = scaler.inverse_transform(predictions)\n"
     ]
    },
    {
     "name": "stdout",
     "output_type": "stream",
     "text": [
      "71/71 [==============================] - 4s 42ms/step - loss: 0.0642\n",
      "Epoch 2/3\n",
      "71/71 [==============================] - 3s 42ms/step - loss: 2.3505e-06\n",
      "Epoch 3/3\n",
      "71/71 [==============================] - 3s 42ms/step - loss: 1.8220e-06\n",
      "Epoch 1/3\n"
     ]
    },
    {
     "name": "stderr",
     "output_type": "stream",
     "text": [
      "/tmp/ipykernel_1952487/2783961118.py:45: SettingWithCopyWarning: \n",
      "A value is trying to be set on a copy of a slice from a DataFrame.\n",
      "Try using .loc[row_indexer,col_indexer] = value instead\n",
      "\n",
      "See the caveats in the documentation: https://pandas.pydata.org/pandas-docs/stable/user_guide/indexing.html#returning-a-view-versus-a-copy\n",
      "  df.loc[:,output_col] = scaler.inverse_transform(predictions)\n"
     ]
    },
    {
     "name": "stdout",
     "output_type": "stream",
     "text": [
      "71/71 [==============================] - 3s 44ms/step - loss: 0.1022\n",
      "Epoch 2/3\n",
      "71/71 [==============================] - 3s 42ms/step - loss: 2.1985e-06\n",
      "Epoch 3/3\n",
      "71/71 [==============================] - 3s 42ms/step - loss: 1.8776e-06\n",
      "Epoch 1/3\n"
     ]
    },
    {
     "name": "stderr",
     "output_type": "stream",
     "text": [
      "/tmp/ipykernel_1952487/2783961118.py:45: SettingWithCopyWarning: \n",
      "A value is trying to be set on a copy of a slice from a DataFrame.\n",
      "Try using .loc[row_indexer,col_indexer] = value instead\n",
      "\n",
      "See the caveats in the documentation: https://pandas.pydata.org/pandas-docs/stable/user_guide/indexing.html#returning-a-view-versus-a-copy\n",
      "  df.loc[:,output_col] = scaler.inverse_transform(predictions)\n"
     ]
    },
    {
     "name": "stdout",
     "output_type": "stream",
     "text": [
      "71/71 [==============================] - 5s 68ms/step - loss: 0.1129\n",
      "Epoch 2/3\n",
      "71/71 [==============================] - 5s 68ms/step - loss: 6.5599e-07\n",
      "Epoch 3/3\n",
      "71/71 [==============================] - 5s 68ms/step - loss: 2.1806e-07\n",
      "Epoch 1/3\n"
     ]
    },
    {
     "name": "stderr",
     "output_type": "stream",
     "text": [
      "/tmp/ipykernel_1952487/2783961118.py:45: SettingWithCopyWarning: \n",
      "A value is trying to be set on a copy of a slice from a DataFrame.\n",
      "Try using .loc[row_indexer,col_indexer] = value instead\n",
      "\n",
      "See the caveats in the documentation: https://pandas.pydata.org/pandas-docs/stable/user_guide/indexing.html#returning-a-view-versus-a-copy\n",
      "  df.loc[:,output_col] = scaler.inverse_transform(predictions)\n"
     ]
    },
    {
     "name": "stdout",
     "output_type": "stream",
     "text": [
      "71/71 [==============================] - 5s 68ms/step - loss: 0.0151\n",
      "Epoch 2/3\n",
      "71/71 [==============================] - 5s 68ms/step - loss: 1.0260e-06\n",
      "Epoch 3/3\n",
      "71/71 [==============================] - 5s 68ms/step - loss: 6.8850e-08\n",
      "Epoch 1/3\n"
     ]
    },
    {
     "name": "stderr",
     "output_type": "stream",
     "text": [
      "/tmp/ipykernel_1952487/2783961118.py:45: SettingWithCopyWarning: \n",
      "A value is trying to be set on a copy of a slice from a DataFrame.\n",
      "Try using .loc[row_indexer,col_indexer] = value instead\n",
      "\n",
      "See the caveats in the documentation: https://pandas.pydata.org/pandas-docs/stable/user_guide/indexing.html#returning-a-view-versus-a-copy\n",
      "  df.loc[:,output_col] = scaler.inverse_transform(predictions)\n"
     ]
    },
    {
     "name": "stdout",
     "output_type": "stream",
     "text": [
      "71/71 [==============================] - 5s 68ms/step - loss: 0.1057\n",
      "Epoch 2/3\n",
      "71/71 [==============================] - 5s 68ms/step - loss: 1.3838e-06\n",
      "Epoch 3/3\n",
      "71/71 [==============================] - 5s 68ms/step - loss: 6.6844e-07\n",
      "Epoch 1/3\n"
     ]
    },
    {
     "name": "stderr",
     "output_type": "stream",
     "text": [
      "/tmp/ipykernel_1952487/2783961118.py:45: SettingWithCopyWarning: \n",
      "A value is trying to be set on a copy of a slice from a DataFrame.\n",
      "Try using .loc[row_indexer,col_indexer] = value instead\n",
      "\n",
      "See the caveats in the documentation: https://pandas.pydata.org/pandas-docs/stable/user_guide/indexing.html#returning-a-view-versus-a-copy\n",
      "  df.loc[:,output_col] = scaler.inverse_transform(predictions)\n"
     ]
    },
    {
     "name": "stdout",
     "output_type": "stream",
     "text": [
      "71/71 [==============================] - 5s 68ms/step - loss: 0.1536\n",
      "Epoch 2/3\n",
      "71/71 [==============================] - 5s 68ms/step - loss: 2.4809e-06\n",
      "Epoch 3/3\n",
      "71/71 [==============================] - 5s 68ms/step - loss: 1.9975e-06\n",
      "Epoch 1/3\n"
     ]
    },
    {
     "name": "stderr",
     "output_type": "stream",
     "text": [
      "/tmp/ipykernel_1952487/2783961118.py:45: SettingWithCopyWarning: \n",
      "A value is trying to be set on a copy of a slice from a DataFrame.\n",
      "Try using .loc[row_indexer,col_indexer] = value instead\n",
      "\n",
      "See the caveats in the documentation: https://pandas.pydata.org/pandas-docs/stable/user_guide/indexing.html#returning-a-view-versus-a-copy\n",
      "  df.loc[:,output_col] = scaler.inverse_transform(predictions)\n"
     ]
    },
    {
     "name": "stdout",
     "output_type": "stream",
     "text": [
      "71/71 [==============================] - 6s 77ms/step - loss: 0.0951\n",
      "Epoch 2/3\n",
      "71/71 [==============================] - 6s 77ms/step - loss: 6.4980e-07\n",
      "Epoch 3/3\n",
      "71/71 [==============================] - 6s 78ms/step - loss: 3.3747e-07\n",
      "Epoch 1/3\n"
     ]
    },
    {
     "name": "stderr",
     "output_type": "stream",
     "text": [
      "/tmp/ipykernel_1952487/2783961118.py:45: SettingWithCopyWarning: \n",
      "A value is trying to be set on a copy of a slice from a DataFrame.\n",
      "Try using .loc[row_indexer,col_indexer] = value instead\n",
      "\n",
      "See the caveats in the documentation: https://pandas.pydata.org/pandas-docs/stable/user_guide/indexing.html#returning-a-view-versus-a-copy\n",
      "  df.loc[:,output_col] = scaler.inverse_transform(predictions)\n"
     ]
    },
    {
     "name": "stdout",
     "output_type": "stream",
     "text": [
      "71/71 [==============================] - 6s 78ms/step - loss: 0.2376\n",
      "Epoch 2/3\n",
      "71/71 [==============================] - 6s 78ms/step - loss: 1.9818e-06\n",
      "Epoch 3/3\n",
      "71/71 [==============================] - 6s 78ms/step - loss: 3.1600e-07\n",
      "Epoch 1/3\n"
     ]
    },
    {
     "name": "stderr",
     "output_type": "stream",
     "text": [
      "/tmp/ipykernel_1952487/2783961118.py:45: SettingWithCopyWarning: \n",
      "A value is trying to be set on a copy of a slice from a DataFrame.\n",
      "Try using .loc[row_indexer,col_indexer] = value instead\n",
      "\n",
      "See the caveats in the documentation: https://pandas.pydata.org/pandas-docs/stable/user_guide/indexing.html#returning-a-view-versus-a-copy\n",
      "  df.loc[:,output_col] = scaler.inverse_transform(predictions)\n"
     ]
    },
    {
     "name": "stdout",
     "output_type": "stream",
     "text": [
      "71/71 [==============================] - 6s 78ms/step - loss: 0.1345\n",
      "Epoch 2/3\n",
      "71/71 [==============================] - 6s 78ms/step - loss: 1.8646e-06\n",
      "Epoch 3/3\n",
      "71/71 [==============================] - 6s 78ms/step - loss: 1.2632e-06\n",
      "Epoch 1/3\n"
     ]
    },
    {
     "name": "stderr",
     "output_type": "stream",
     "text": [
      "/tmp/ipykernel_1952487/2783961118.py:45: SettingWithCopyWarning: \n",
      "A value is trying to be set on a copy of a slice from a DataFrame.\n",
      "Try using .loc[row_indexer,col_indexer] = value instead\n",
      "\n",
      "See the caveats in the documentation: https://pandas.pydata.org/pandas-docs/stable/user_guide/indexing.html#returning-a-view-versus-a-copy\n",
      "  df.loc[:,output_col] = scaler.inverse_transform(predictions)\n"
     ]
    },
    {
     "name": "stdout",
     "output_type": "stream",
     "text": [
      "71/71 [==============================] - 6s 80ms/step - loss: 0.1848\n",
      "Epoch 2/3\n",
      "71/71 [==============================] - 6s 78ms/step - loss: 9.9298e-07\n",
      "Epoch 3/3\n",
      "71/71 [==============================] - 6s 78ms/step - loss: 2.6437e-07\n",
      "Epoch 1/3\n"
     ]
    },
    {
     "name": "stderr",
     "output_type": "stream",
     "text": [
      "/tmp/ipykernel_1952487/2783961118.py:45: SettingWithCopyWarning: \n",
      "A value is trying to be set on a copy of a slice from a DataFrame.\n",
      "Try using .loc[row_indexer,col_indexer] = value instead\n",
      "\n",
      "See the caveats in the documentation: https://pandas.pydata.org/pandas-docs/stable/user_guide/indexing.html#returning-a-view-versus-a-copy\n",
      "  df.loc[:,output_col] = scaler.inverse_transform(predictions)\n"
     ]
    },
    {
     "name": "stdout",
     "output_type": "stream",
     "text": [
      "71/71 [==============================] - 9s 130ms/step - loss: 0.2744\n",
      "Epoch 2/3\n",
      "71/71 [==============================] - 9s 130ms/step - loss: 1.3322e-06\n",
      "Epoch 3/3\n",
      "71/71 [==============================] - 9s 130ms/step - loss: 5.0741e-07\n",
      "Epoch 1/3\n"
     ]
    },
    {
     "name": "stderr",
     "output_type": "stream",
     "text": [
      "/tmp/ipykernel_1952487/2783961118.py:45: SettingWithCopyWarning: \n",
      "A value is trying to be set on a copy of a slice from a DataFrame.\n",
      "Try using .loc[row_indexer,col_indexer] = value instead\n",
      "\n",
      "See the caveats in the documentation: https://pandas.pydata.org/pandas-docs/stable/user_guide/indexing.html#returning-a-view-versus-a-copy\n",
      "  df.loc[:,output_col] = scaler.inverse_transform(predictions)\n"
     ]
    },
    {
     "name": "stdout",
     "output_type": "stream",
     "text": [
      "71/71 [==============================] - 9s 130ms/step - loss: 0.3313\n",
      "Epoch 2/3\n",
      "71/71 [==============================] - 9s 130ms/step - loss: 2.5859e-06\n",
      "Epoch 3/3\n",
      "71/71 [==============================] - 9s 130ms/step - loss: 2.3820e-06\n",
      "Epoch 1/3\n"
     ]
    },
    {
     "name": "stderr",
     "output_type": "stream",
     "text": [
      "/tmp/ipykernel_1952487/2783961118.py:45: SettingWithCopyWarning: \n",
      "A value is trying to be set on a copy of a slice from a DataFrame.\n",
      "Try using .loc[row_indexer,col_indexer] = value instead\n",
      "\n",
      "See the caveats in the documentation: https://pandas.pydata.org/pandas-docs/stable/user_guide/indexing.html#returning-a-view-versus-a-copy\n",
      "  df.loc[:,output_col] = scaler.inverse_transform(predictions)\n"
     ]
    },
    {
     "name": "stdout",
     "output_type": "stream",
     "text": [
      "71/71 [==============================] - 9s 130ms/step - loss: 0.3991\n",
      "Epoch 2/3\n",
      "71/71 [==============================] - 9s 130ms/step - loss: 1.9746e-06\n",
      "Epoch 3/3\n",
      "71/71 [==============================] - 9s 130ms/step - loss: 1.5348e-06\n",
      "Epoch 1/3\n"
     ]
    },
    {
     "name": "stderr",
     "output_type": "stream",
     "text": [
      "/tmp/ipykernel_1952487/2783961118.py:45: SettingWithCopyWarning: \n",
      "A value is trying to be set on a copy of a slice from a DataFrame.\n",
      "Try using .loc[row_indexer,col_indexer] = value instead\n",
      "\n",
      "See the caveats in the documentation: https://pandas.pydata.org/pandas-docs/stable/user_guide/indexing.html#returning-a-view-versus-a-copy\n",
      "  df.loc[:,output_col] = scaler.inverse_transform(predictions)\n"
     ]
    },
    {
     "name": "stdout",
     "output_type": "stream",
     "text": [
      "71/71 [==============================] - 9s 130ms/step - loss: 0.3127\n",
      "Epoch 2/3\n",
      "71/71 [==============================] - 9s 131ms/step - loss: 4.6166e-07\n",
      "Epoch 3/3\n",
      "71/71 [==============================] - 9s 133ms/step - loss: 2.4805e-07\n",
      "Epoch 1/3\n"
     ]
    },
    {
     "name": "stderr",
     "output_type": "stream",
     "text": [
      "/tmp/ipykernel_1952487/2783961118.py:45: SettingWithCopyWarning: \n",
      "A value is trying to be set on a copy of a slice from a DataFrame.\n",
      "Try using .loc[row_indexer,col_indexer] = value instead\n",
      "\n",
      "See the caveats in the documentation: https://pandas.pydata.org/pandas-docs/stable/user_guide/indexing.html#returning-a-view-versus-a-copy\n",
      "  df.loc[:,output_col] = scaler.inverse_transform(predictions)\n"
     ]
    },
    {
     "name": "stdout",
     "output_type": "stream",
     "text": [
      "71/71 [==============================] - 3s 42ms/step - loss: 0.1149\n",
      "Epoch 2/3\n",
      "71/71 [==============================] - 3s 42ms/step - loss: 2.1299e-06\n",
      "Epoch 3/3\n",
      "71/71 [==============================] - 3s 42ms/step - loss: 1.0133e-06\n",
      "Epoch 1/3\n"
     ]
    },
    {
     "name": "stderr",
     "output_type": "stream",
     "text": [
      "/tmp/ipykernel_1952487/2783961118.py:45: SettingWithCopyWarning: \n",
      "A value is trying to be set on a copy of a slice from a DataFrame.\n",
      "Try using .loc[row_indexer,col_indexer] = value instead\n",
      "\n",
      "See the caveats in the documentation: https://pandas.pydata.org/pandas-docs/stable/user_guide/indexing.html#returning-a-view-versus-a-copy\n",
      "  df.loc[:,output_col] = scaler.inverse_transform(predictions)\n"
     ]
    },
    {
     "name": "stdout",
     "output_type": "stream",
     "text": [
      "71/71 [==============================] - 3s 42ms/step - loss: 0.0762\n",
      "Epoch 2/3\n",
      "71/71 [==============================] - 3s 42ms/step - loss: 2.6061e-06\n",
      "Epoch 3/3\n",
      "71/71 [==============================] - 3s 42ms/step - loss: 1.9121e-06\n",
      "Epoch 1/3\n"
     ]
    },
    {
     "name": "stderr",
     "output_type": "stream",
     "text": [
      "/tmp/ipykernel_1952487/2783961118.py:45: SettingWithCopyWarning: \n",
      "A value is trying to be set on a copy of a slice from a DataFrame.\n",
      "Try using .loc[row_indexer,col_indexer] = value instead\n",
      "\n",
      "See the caveats in the documentation: https://pandas.pydata.org/pandas-docs/stable/user_guide/indexing.html#returning-a-view-versus-a-copy\n",
      "  df.loc[:,output_col] = scaler.inverse_transform(predictions)\n"
     ]
    },
    {
     "name": "stdout",
     "output_type": "stream",
     "text": [
      "71/71 [==============================] - 3s 42ms/step - loss: 0.0655\n",
      "Epoch 2/3\n",
      "71/71 [==============================] - 3s 42ms/step - loss: 8.9193e-07\n",
      "Epoch 3/3\n",
      "71/71 [==============================] - 3s 42ms/step - loss: 4.0317e-07\n",
      "Epoch 1/3\n"
     ]
    },
    {
     "name": "stderr",
     "output_type": "stream",
     "text": [
      "/tmp/ipykernel_1952487/2783961118.py:45: SettingWithCopyWarning: \n",
      "A value is trying to be set on a copy of a slice from a DataFrame.\n",
      "Try using .loc[row_indexer,col_indexer] = value instead\n",
      "\n",
      "See the caveats in the documentation: https://pandas.pydata.org/pandas-docs/stable/user_guide/indexing.html#returning-a-view-versus-a-copy\n",
      "  df.loc[:,output_col] = scaler.inverse_transform(predictions)\n"
     ]
    },
    {
     "name": "stdout",
     "output_type": "stream",
     "text": [
      "71/71 [==============================] - 3s 42ms/step - loss: 0.0383\n",
      "Epoch 2/3\n",
      "71/71 [==============================] - 3s 43ms/step - loss: 2.6421e-06\n",
      "Epoch 3/3\n",
      "71/71 [==============================] - 3s 42ms/step - loss: 1.8911e-06\n",
      "Epoch 1/3\n"
     ]
    },
    {
     "name": "stderr",
     "output_type": "stream",
     "text": [
      "/tmp/ipykernel_1952487/2783961118.py:45: SettingWithCopyWarning: \n",
      "A value is trying to be set on a copy of a slice from a DataFrame.\n",
      "Try using .loc[row_indexer,col_indexer] = value instead\n",
      "\n",
      "See the caveats in the documentation: https://pandas.pydata.org/pandas-docs/stable/user_guide/indexing.html#returning-a-view-versus-a-copy\n",
      "  df.loc[:,output_col] = scaler.inverse_transform(predictions)\n"
     ]
    },
    {
     "name": "stdout",
     "output_type": "stream",
     "text": [
      "71/71 [==============================] - 6s 68ms/step - loss: 0.1802\n",
      "Epoch 2/3\n",
      "71/71 [==============================] - 5s 68ms/step - loss: 1.7166e-06\n",
      "Epoch 3/3\n",
      "71/71 [==============================] - 5s 68ms/step - loss: 1.0405e-06\n",
      "Epoch 1/3\n"
     ]
    },
    {
     "name": "stderr",
     "output_type": "stream",
     "text": [
      "/tmp/ipykernel_1952487/2783961118.py:45: SettingWithCopyWarning: \n",
      "A value is trying to be set on a copy of a slice from a DataFrame.\n",
      "Try using .loc[row_indexer,col_indexer] = value instead\n",
      "\n",
      "See the caveats in the documentation: https://pandas.pydata.org/pandas-docs/stable/user_guide/indexing.html#returning-a-view-versus-a-copy\n",
      "  df.loc[:,output_col] = scaler.inverse_transform(predictions)\n"
     ]
    },
    {
     "name": "stdout",
     "output_type": "stream",
     "text": [
      "71/71 [==============================] - 5s 68ms/step - loss: 0.2213\n",
      "Epoch 2/3\n",
      "71/71 [==============================] - 5s 68ms/step - loss: 1.1878e-06\n",
      "Epoch 3/3\n",
      "71/71 [==============================] - 5s 68ms/step - loss: 6.7967e-07\n",
      "Epoch 1/3\n"
     ]
    },
    {
     "name": "stderr",
     "output_type": "stream",
     "text": [
      "/tmp/ipykernel_1952487/2783961118.py:45: SettingWithCopyWarning: \n",
      "A value is trying to be set on a copy of a slice from a DataFrame.\n",
      "Try using .loc[row_indexer,col_indexer] = value instead\n",
      "\n",
      "See the caveats in the documentation: https://pandas.pydata.org/pandas-docs/stable/user_guide/indexing.html#returning-a-view-versus-a-copy\n",
      "  df.loc[:,output_col] = scaler.inverse_transform(predictions)\n"
     ]
    },
    {
     "name": "stdout",
     "output_type": "stream",
     "text": [
      "71/71 [==============================] - 5s 68ms/step - loss: 0.2787\n",
      "Epoch 2/3\n",
      "71/71 [==============================] - 5s 68ms/step - loss: 2.5588e-06\n",
      "Epoch 3/3\n",
      "71/71 [==============================] - 5s 68ms/step - loss: 1.5811e-06\n",
      "Epoch 1/3\n"
     ]
    },
    {
     "name": "stderr",
     "output_type": "stream",
     "text": [
      "/tmp/ipykernel_1952487/2783961118.py:45: SettingWithCopyWarning: \n",
      "A value is trying to be set on a copy of a slice from a DataFrame.\n",
      "Try using .loc[row_indexer,col_indexer] = value instead\n",
      "\n",
      "See the caveats in the documentation: https://pandas.pydata.org/pandas-docs/stable/user_guide/indexing.html#returning-a-view-versus-a-copy\n",
      "  df.loc[:,output_col] = scaler.inverse_transform(predictions)\n"
     ]
    },
    {
     "name": "stdout",
     "output_type": "stream",
     "text": [
      "71/71 [==============================] - 5s 68ms/step - loss: 0.0901\n",
      "Epoch 2/3\n",
      "71/71 [==============================] - 5s 68ms/step - loss: 2.1581e-06\n",
      "Epoch 3/3\n",
      "71/71 [==============================] - 5s 68ms/step - loss: 4.2351e-07\n",
      "Epoch 1/3\n"
     ]
    },
    {
     "name": "stderr",
     "output_type": "stream",
     "text": [
      "/tmp/ipykernel_1952487/2783961118.py:45: SettingWithCopyWarning: \n",
      "A value is trying to be set on a copy of a slice from a DataFrame.\n",
      "Try using .loc[row_indexer,col_indexer] = value instead\n",
      "\n",
      "See the caveats in the documentation: https://pandas.pydata.org/pandas-docs/stable/user_guide/indexing.html#returning-a-view-versus-a-copy\n",
      "  df.loc[:,output_col] = scaler.inverse_transform(predictions)\n"
     ]
    },
    {
     "name": "stdout",
     "output_type": "stream",
     "text": [
      "71/71 [==============================] - 6s 77ms/step - loss: 0.1550\n",
      "Epoch 2/3\n",
      "71/71 [==============================] - 6s 78ms/step - loss: 2.0451e-06\n",
      "Epoch 3/3\n",
      "71/71 [==============================] - 6s 80ms/step - loss: 1.5536e-06\n",
      "Epoch 1/3\n"
     ]
    },
    {
     "name": "stderr",
     "output_type": "stream",
     "text": [
      "/tmp/ipykernel_1952487/2783961118.py:45: SettingWithCopyWarning: \n",
      "A value is trying to be set on a copy of a slice from a DataFrame.\n",
      "Try using .loc[row_indexer,col_indexer] = value instead\n",
      "\n",
      "See the caveats in the documentation: https://pandas.pydata.org/pandas-docs/stable/user_guide/indexing.html#returning-a-view-versus-a-copy\n",
      "  df.loc[:,output_col] = scaler.inverse_transform(predictions)\n"
     ]
    },
    {
     "name": "stdout",
     "output_type": "stream",
     "text": [
      "71/71 [==============================] - 6s 77ms/step - loss: 0.1342\n",
      "Epoch 2/3\n",
      "71/71 [==============================] - 5s 77ms/step - loss: 2.3349e-06\n",
      "Epoch 3/3\n",
      "71/71 [==============================] - 5s 77ms/step - loss: 1.9093e-06\n",
      "Epoch 1/3\n"
     ]
    },
    {
     "name": "stderr",
     "output_type": "stream",
     "text": [
      "/tmp/ipykernel_1952487/2783961118.py:45: SettingWithCopyWarning: \n",
      "A value is trying to be set on a copy of a slice from a DataFrame.\n",
      "Try using .loc[row_indexer,col_indexer] = value instead\n",
      "\n",
      "See the caveats in the documentation: https://pandas.pydata.org/pandas-docs/stable/user_guide/indexing.html#returning-a-view-versus-a-copy\n",
      "  df.loc[:,output_col] = scaler.inverse_transform(predictions)\n"
     ]
    },
    {
     "name": "stdout",
     "output_type": "stream",
     "text": [
      "71/71 [==============================] - 6s 78ms/step - loss: 0.2701\n",
      "Epoch 2/3\n",
      "71/71 [==============================] - 5s 77ms/step - loss: 3.9029e-06\n",
      "Epoch 3/3\n",
      "71/71 [==============================] - 5s 77ms/step - loss: 2.5168e-06\n",
      "Epoch 1/3\n"
     ]
    },
    {
     "name": "stderr",
     "output_type": "stream",
     "text": [
      "/tmp/ipykernel_1952487/2783961118.py:45: SettingWithCopyWarning: \n",
      "A value is trying to be set on a copy of a slice from a DataFrame.\n",
      "Try using .loc[row_indexer,col_indexer] = value instead\n",
      "\n",
      "See the caveats in the documentation: https://pandas.pydata.org/pandas-docs/stable/user_guide/indexing.html#returning-a-view-versus-a-copy\n",
      "  df.loc[:,output_col] = scaler.inverse_transform(predictions)\n"
     ]
    },
    {
     "name": "stdout",
     "output_type": "stream",
     "text": [
      "71/71 [==============================] - 6s 77ms/step - loss: 0.2237\n",
      "Epoch 2/3\n",
      "71/71 [==============================] - 5s 77ms/step - loss: 2.6757e-06\n",
      "Epoch 3/3\n",
      "71/71 [==============================] - 6s 78ms/step - loss: 1.3232e-06\n",
      "Epoch 1/3\n"
     ]
    },
    {
     "name": "stderr",
     "output_type": "stream",
     "text": [
      "/tmp/ipykernel_1952487/2783961118.py:45: SettingWithCopyWarning: \n",
      "A value is trying to be set on a copy of a slice from a DataFrame.\n",
      "Try using .loc[row_indexer,col_indexer] = value instead\n",
      "\n",
      "See the caveats in the documentation: https://pandas.pydata.org/pandas-docs/stable/user_guide/indexing.html#returning-a-view-versus-a-copy\n",
      "  df.loc[:,output_col] = scaler.inverse_transform(predictions)\n"
     ]
    },
    {
     "name": "stdout",
     "output_type": "stream",
     "text": [
      "71/71 [==============================] - 9s 130ms/step - loss: 0.1763\n",
      "Epoch 2/3\n",
      "71/71 [==============================] - 9s 130ms/step - loss: 3.5837e-07\n",
      "Epoch 3/3\n",
      "71/71 [==============================] - 9s 130ms/step - loss: 2.9341e-07\n",
      "Epoch 1/3\n"
     ]
    },
    {
     "name": "stderr",
     "output_type": "stream",
     "text": [
      "/tmp/ipykernel_1952487/2783961118.py:45: SettingWithCopyWarning: \n",
      "A value is trying to be set on a copy of a slice from a DataFrame.\n",
      "Try using .loc[row_indexer,col_indexer] = value instead\n",
      "\n",
      "See the caveats in the documentation: https://pandas.pydata.org/pandas-docs/stable/user_guide/indexing.html#returning-a-view-versus-a-copy\n",
      "  df.loc[:,output_col] = scaler.inverse_transform(predictions)\n"
     ]
    },
    {
     "name": "stdout",
     "output_type": "stream",
     "text": [
      "71/71 [==============================] - 9s 130ms/step - loss: 0.4883\n",
      "Epoch 2/3\n",
      "71/71 [==============================] - 9s 130ms/step - loss: 3.1045e-06\n",
      "Epoch 3/3\n",
      "71/71 [==============================] - 9s 130ms/step - loss: 2.1969e-06\n",
      "Epoch 1/3\n"
     ]
    },
    {
     "name": "stderr",
     "output_type": "stream",
     "text": [
      "/tmp/ipykernel_1952487/2783961118.py:45: SettingWithCopyWarning: \n",
      "A value is trying to be set on a copy of a slice from a DataFrame.\n",
      "Try using .loc[row_indexer,col_indexer] = value instead\n",
      "\n",
      "See the caveats in the documentation: https://pandas.pydata.org/pandas-docs/stable/user_guide/indexing.html#returning-a-view-versus-a-copy\n",
      "  df.loc[:,output_col] = scaler.inverse_transform(predictions)\n"
     ]
    },
    {
     "name": "stdout",
     "output_type": "stream",
     "text": [
      "71/71 [==============================] - 9s 130ms/step - loss: 0.3065\n",
      "Epoch 2/3\n",
      "71/71 [==============================] - 9s 132ms/step - loss: 4.9159e-07\n",
      "Epoch 3/3\n",
      "71/71 [==============================] - 9s 130ms/step - loss: 4.0935e-07\n",
      "Epoch 1/3\n"
     ]
    },
    {
     "name": "stderr",
     "output_type": "stream",
     "text": [
      "/tmp/ipykernel_1952487/2783961118.py:45: SettingWithCopyWarning: \n",
      "A value is trying to be set on a copy of a slice from a DataFrame.\n",
      "Try using .loc[row_indexer,col_indexer] = value instead\n",
      "\n",
      "See the caveats in the documentation: https://pandas.pydata.org/pandas-docs/stable/user_guide/indexing.html#returning-a-view-versus-a-copy\n",
      "  df.loc[:,output_col] = scaler.inverse_transform(predictions)\n"
     ]
    },
    {
     "name": "stdout",
     "output_type": "stream",
     "text": [
      "71/71 [==============================] - 9s 130ms/step - loss: 0.3086\n",
      "Epoch 2/3\n",
      "71/71 [==============================] - 9s 130ms/step - loss: 9.0387e-07\n",
      "Epoch 3/3\n",
      "71/71 [==============================] - 9s 130ms/step - loss: 2.7202e-07\n",
      "     Nodes  Layers  Filters  Kernels  Batch_Sizes Optimizer Activation  \\\n",
      "0      300       3       80       10           80      Adam       relu   \n",
      "1      300       3       80       10           80      Adam     linear   \n",
      "2      300       3       80       10           80    Adamax       relu   \n",
      "3      300       3       80       10           80    Adamax     linear   \n",
      "4      300       3       80       20           80      Adam       relu   \n",
      "..     ...     ...      ...      ...          ...       ...        ...   \n",
      "187    400       4      120       10           80    Adamax     linear   \n",
      "188    400       4      120       20           80      Adam       relu   \n",
      "189    400       4      120       20           80      Adam     linear   \n",
      "190    400       4      120       20           80    Adamax       relu   \n",
      "191    400       4      120       20           80    Adamax     linear   \n",
      "\n",
      "     R Squared  \n",
      "0     0.001153  \n",
      "1     0.000078  \n",
      "2     0.000064  \n",
      "3     0.007142  \n",
      "4     0.004187  \n",
      "..         ...  \n",
      "187   0.002548  \n",
      "188   0.015794  \n",
      "189   0.000207  \n",
      "190   0.003018  \n",
      "191   0.001002  \n",
      "\n",
      "[192 rows x 8 columns]\n"
     ]
    },
    {
     "name": "stderr",
     "output_type": "stream",
     "text": [
      "/tmp/ipykernel_1952487/2783961118.py:45: SettingWithCopyWarning: \n",
      "A value is trying to be set on a copy of a slice from a DataFrame.\n",
      "Try using .loc[row_indexer,col_indexer] = value instead\n",
      "\n",
      "See the caveats in the documentation: https://pandas.pydata.org/pandas-docs/stable/user_guide/indexing.html#returning-a-view-versus-a-copy\n",
      "  df.loc[:,output_col] = scaler.inverse_transform(predictions)\n"
     ]
    }
   ],
   "source": [
    "layers=[3, 4] \n",
    "nodes=[300, 400]\n",
    "nbr_filters= [80,120]            #aka filters\n",
    "filter_len= [10, 20]               #aka kernel_size\n",
    "batch_size=[80]\n",
    "optimizer=[ 'Adam', 'Adamax']\n",
    "activation = ['relu','linear']\n",
    "R_Squared=[]\n",
    "\n",
    "#for grid search of multiple parameters\n",
    "#Make a table of all the variations and output r squared\n",
    "Grid_Search=pd.DataFrame()\n",
    "row=0\n",
    "Grid_Search[\"Nodes\"]=\"\"\n",
    "Grid_Search[\"Layers\"]=\"\"\n",
    "Grid_Search[\"Filters\"]=\"\"\n",
    "Grid_Search[\"Kernels\"]=\"\"\n",
    "Grid_Search[\"Batch_Sizes\"]=\"\"\n",
    "Grid_Search[\"Optimizer\"]=\"\"\n",
    "Grid_Search[\"Activation\"]=\"\"\n",
    "for z in runs:\n",
    "    for i in nodes:\n",
    "        for j in layers:\n",
    "            for k in nbr_filters:\n",
    "                for l in filter_len:\n",
    "                    for m in batch_size:\n",
    "                        for n in optimizer:\n",
    "                            for o in activation:\n",
    "                                Grid_Search.loc[row]=(i,j,k,l,m,n,o)\n",
    "                                row+=1\n",
    "print(len(Grid_Search))\n",
    "\n",
    "for z in runs:\n",
    "    for i in nodes:\n",
    "        for j in layers:\n",
    "                for k in nbr_filters:\n",
    "                    for l in filter_len:\n",
    "                        for m in batch_size:\n",
    "                            for n in optimizer:\n",
    "                                for o in activation:\n",
    "                                    model = train_model(seq_e_train, e_train['Count Freq'], nb_epoch=3,border_mode='same',\n",
    "                                                inp_len=133, nodes=i, layers=j, nbr_filters=k, filter_len=l, dropout1=0,\n",
    "                                               dropout2=0,dropout3=0.2, batch_size=m, optimizer=n, activation=o)\n",
    "                                    e_test = test_data(df=e_test, model=model, obs_col='Count Freq',test_seq=seq_e_test)\n",
    "                                    r = r2(e_test['Count Freq'], e_test['pred'])\n",
    "                                    e_test['pred']\n",
    "                                    R_Squared.append(r)\n",
    "                                    a= \"When there are\", i,\"nodes\", j, \"layers\", k, \"filters\", l, \"kernels\", m, \"batch size\", n, \"optimizer, and\", o, \"activation,  the r squared value is\", r\n",
    "                                    Results.append(a)\n",
    "                        \n",
    "Grid_Search[\"R Squared\"]=R_Squared\n",
    "\n",
    "print(Grid_Search)"
   ]
  },
  {
   "cell_type": "code",
   "execution_count": 25,
   "metadata": {},
   "outputs": [
    {
     "name": "stdout",
     "output_type": "stream",
     "text": [
      "0.025122639871836706\n"
     ]
    }
   ],
   "source": [
    "print(Grid_Search[\"R Squared\"].max())\n",
    "\n",
    "Grid_Search.to_csv(\"Grid Search 02-28-23.csv\")"
   ]
  }
 ],
 "metadata": {
  "kernelspec": {
   "display_name": "labwork",
   "language": "python",
   "name": "labwork"
  },
  "language_info": {
   "codemirror_mode": {
    "name": "ipython",
    "version": 3
   },
   "file_extension": ".py",
   "mimetype": "text/x-python",
   "name": "python",
   "nbconvert_exporter": "python",
   "pygments_lexer": "ipython3",
   "version": "3.10.9"
  }
 },
 "nbformat": 4,
 "nbformat_minor": 4
}
