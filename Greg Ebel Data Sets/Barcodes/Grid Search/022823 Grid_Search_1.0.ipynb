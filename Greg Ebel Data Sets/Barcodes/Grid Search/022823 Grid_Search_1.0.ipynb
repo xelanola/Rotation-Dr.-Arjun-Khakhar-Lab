{
 "cells": [
  {
   "cell_type": "code",
   "execution_count": 1,
   "metadata": {},
   "outputs": [],
   "source": [
    "#this prototype just looks at batch_size and epochs\n",
    "\n",
    "#load all packages\n",
    "\n",
    "import sys\n",
    "\n",
    "sys.path\n",
    "\n",
    "sys.executable\n",
    "\n",
    "import pandas as pd\n",
    "import numpy as np\n",
    "import matplotlib.pyplot as plt\n",
    "import scipy.stats as stats\n",
    "import seaborn as sns\n",
    "from sklearn import preprocessing\n",
    "import random\n",
    "import tensorflow as tf\n",
    "from tensorflow import keras\n",
    "\n",
    "np.random.seed(1337)\n",
    "\n",
    "\n",
    "from keras.preprocessing import sequence\n",
    "from tensorflow.keras.optimizers import RMSprop\n",
    "from keras.models import Sequential\n",
    "from keras.layers.core import Dense\n",
    "from keras.layers.core import Dropout\n",
    "from keras.layers.core import Activation\n",
    "from keras.layers.core import Flatten\n",
    "from keras.layers.convolutional import Conv1D\n",
    "from sklearn import svm, datasets\n",
    "from sklearn.model_selection import GridSearchCV\n",
    "from scikeras.wrappers import KerasClassifier\n",
    "from sklearn.model_selection import train_test_split"
   ]
  },
  {
   "cell_type": "code",
   "execution_count": 2,
   "metadata": {},
   "outputs": [
    {
     "name": "stdout",
     "output_type": "stream",
     "text": [
      "success\n"
     ]
    }
   ],
   "source": [
    "#call the model you are trying to optimize\n",
    "#for every parameter you want to run, you need to put the variable in the function\n",
    "\n",
    "def train_model(x, y, border_mode='same', inp_len=133, nodes=40, layers=3, filter_len=8, nbr_filters=120,\n",
    "                dropout1=0, dropout2=0, dropout3=0, nb_epoch=3, batch_size=128, optimizer=\"Adam\", avtivation=\"relu\"):\n",
    "    ''' Build model archicture and fit.'''\n",
    "    model = Sequential()\n",
    "    if layers >= 1:\n",
    "        model.add(Conv1D(activation=\"relu\", input_shape=(inp_len, 4), padding=border_mode, filters=nbr_filters, kernel_size=filter_len))\n",
    "    if layers >= 2:\n",
    "        model.add(Conv1D(activation=\"relu\", input_shape=(inp_len, 1), padding=border_mode, filters=nbr_filters, kernel_size=filter_len))\n",
    "        model.add(Dropout(dropout1))\n",
    "    if layers >= 3:\n",
    "        model.add(Conv1D(activation=\"relu\", input_shape=(inp_len, 1), padding=border_mode, filters=nbr_filters, kernel_size=filter_len))\n",
    "        model.add(Dropout(dropout2))\n",
    "    model.add(Flatten())\n",
    "\n",
    "    model.add(Dense(nodes))\n",
    "    model.add(Activation('relu'))\n",
    "    model.add(Dropout(dropout3))\n",
    "    \n",
    "    model.add(Dense(1))\n",
    "    model.add(Activation('linear'))\n",
    "\n",
    "    #compile the model\n",
    "    adam = tf.keras.optimizers.Adam(learning_rate=0.001, beta_1=0.9, beta_2=0.999, epsilon=1e-08)\n",
    "    model.compile(loss='mean_squared_error', optimizer=adam)\n",
    "    \n",
    "\n",
    "    model.fit(x, y, batch_size=20, epochs=nb_epoch, verbose=1)\n",
    "    return model\n",
    "\n",
    "\n",
    "def test_data(df, model, test_seq, obs_col, output_col='pred'):\n",
    "    '''Predict mean ribosome load using model and test set UTRs'''\n",
    "    \n",
    "    # Scale the test set mean ribosome load\n",
    "    scaler = preprocessing.StandardScaler() #sets mrl based on variance rather than mean\n",
    "    scaler.fit(df[obs_col].values.reshape(-1,1))\n",
    "    \n",
    "    # Make predictions\n",
    "    predictions = model.predict(test_seq).reshape(-1,1)\n",
    "    \n",
    "    # Inverse scaled predicted mean ribosome load and return in a column labeled 'pred'\n",
    "    df.loc[:,output_col] = scaler.inverse_transform(predictions)\n",
    "    return df\n",
    "\n",
    "\n",
    "def one_hot_encode(df, col='Alligned Barcode', seq_len=133):\n",
    "    # Dictionary returning one-hot encoding of nucleotides. \n",
    "    nuc_d = {'a':[1,0,0,0],'c':[0,1,0,0],'g':[0,0,1,0],'t':[0,0,0,1], 'n':[0,0,0,0]}\n",
    "    \n",
    "    # Creat empty matrix.\n",
    "    vectors=np.empty([len(df),seq_len,4])\n",
    "    \n",
    "    # Iterate through UTRs and one-hot encode\n",
    "    for i,seq in enumerate(df[col].str[:seq_len]): \n",
    "        seq = seq.lower()\n",
    "        a = np.array([nuc_d[x] for x in seq])\n",
    "        vectors[i] = a\n",
    "    return vectors\n",
    "\n",
    "\n",
    "def r2(x,y):\n",
    "    slope, intercept, r_value, p_value, std_err = stats.linregress(x,y)\n",
    "    return r_value**2\n",
    "\n",
    "print(\"success\")"
   ]
  },
  {
   "cell_type": "code",
   "execution_count": 43,
   "metadata": {},
   "outputs": [
    {
     "name": "stdout",
     "output_type": "stream",
     "text": [
      "Ready for Grid Search\n"
     ]
    }
   ],
   "source": [
    "df = pd.read_pickle('Alligned Barcodes-50bp flanks/Barcode_mg_133bp_Alligned.pkl')       #mod1-added my own file\n",
    "\n",
    "df.sort_values('Count Freq', inplace=True, ascending=False)\n",
    "df.reset_index(inplace=True, drop=True)\n",
    "df = df.iloc[:1565] \n",
    "\n",
    "\n",
    "e_test = df.iloc[:156]  \n",
    "e_train = df.iloc[156:]  \n",
    "\n",
    "\n",
    "\n",
    "#X_train, X_test, y_train, y_test = train_test_split(df[\"Alligned Barcode\"], df[\"Change in Count Freq\"], test_size=0.10, random_state=42) \n",
    "\n",
    "# One-hot encode both training and test UTRs\n",
    "seq_e_train = one_hot_encode(e_train,seq_len=133)\n",
    "seq_e_test = one_hot_encode(e_test, seq_len=133)\n",
    "\n",
    "e_train.loc[:, 'Count Freq']\n",
    "print (\"Ready for Grid Search\")"
   ]
  },
  {
   "cell_type": "code",
   "execution_count": 41,
   "metadata": {},
   "outputs": [
    {
     "name": "stdout",
     "output_type": "stream",
     "text": [
      "Epoch 1/3\n",
      "71/71 [==============================] - 4s 51ms/step - loss: 0.0430\n",
      "Epoch 2/3\n",
      "71/71 [==============================] - 4s 51ms/step - loss: 2.7287e-06\n",
      "Epoch 3/3\n",
      "71/71 [==============================] - 4s 51ms/step - loss: 2.1977e-06\n",
      "Epoch 1/3\n"
     ]
    },
    {
     "name": "stderr",
     "output_type": "stream",
     "text": [
      "/tmp/ipykernel_1925610/474618250.py:42: SettingWithCopyWarning: \n",
      "A value is trying to be set on a copy of a slice from a DataFrame.\n",
      "Try using .loc[row_indexer,col_indexer] = value instead\n",
      "\n",
      "See the caveats in the documentation: https://pandas.pydata.org/pandas-docs/stable/user_guide/indexing.html#returning-a-view-versus-a-copy\n",
      "  df.loc[:,output_col] = scaler.inverse_transform(predictions)\n"
     ]
    },
    {
     "name": "stdout",
     "output_type": "stream",
     "text": [
      "71/71 [==============================] - 4s 54ms/step - loss: 0.0395\n",
      "Epoch 2/3\n",
      "71/71 [==============================] - 4s 54ms/step - loss: 7.8861e-07\n",
      "Epoch 3/3\n",
      "71/71 [==============================] - 4s 54ms/step - loss: 7.2573e-07\n",
      "Epoch 1/3\n"
     ]
    },
    {
     "name": "stderr",
     "output_type": "stream",
     "text": [
      "/tmp/ipykernel_1925610/474618250.py:42: SettingWithCopyWarning: \n",
      "A value is trying to be set on a copy of a slice from a DataFrame.\n",
      "Try using .loc[row_indexer,col_indexer] = value instead\n",
      "\n",
      "See the caveats in the documentation: https://pandas.pydata.org/pandas-docs/stable/user_guide/indexing.html#returning-a-view-versus-a-copy\n",
      "  df.loc[:,output_col] = scaler.inverse_transform(predictions)\n"
     ]
    },
    {
     "name": "stdout",
     "output_type": "stream",
     "text": [
      "71/71 [==============================] - 5s 62ms/step - loss: 0.0187\n",
      "Epoch 2/3\n",
      "71/71 [==============================] - 4s 62ms/step - loss: 1.2257e-06\n",
      "Epoch 3/3\n",
      "71/71 [==============================] - 4s 62ms/step - loss: 8.1035e-07\n",
      "Epoch 1/3\n"
     ]
    },
    {
     "name": "stderr",
     "output_type": "stream",
     "text": [
      "/tmp/ipykernel_1925610/474618250.py:42: SettingWithCopyWarning: \n",
      "A value is trying to be set on a copy of a slice from a DataFrame.\n",
      "Try using .loc[row_indexer,col_indexer] = value instead\n",
      "\n",
      "See the caveats in the documentation: https://pandas.pydata.org/pandas-docs/stable/user_guide/indexing.html#returning-a-view-versus-a-copy\n",
      "  df.loc[:,output_col] = scaler.inverse_transform(predictions)\n"
     ]
    },
    {
     "name": "stdout",
     "output_type": "stream",
     "text": [
      "71/71 [==============================] - 5s 65ms/step - loss: 0.1051\n",
      "Epoch 2/3\n",
      "71/71 [==============================] - 5s 65ms/step - loss: 1.4182e-06\n",
      "Epoch 3/3\n",
      "71/71 [==============================] - 5s 65ms/step - loss: 7.5858e-07\n",
      "Epoch 1/3\n"
     ]
    },
    {
     "name": "stderr",
     "output_type": "stream",
     "text": [
      "/tmp/ipykernel_1925610/474618250.py:42: SettingWithCopyWarning: \n",
      "A value is trying to be set on a copy of a slice from a DataFrame.\n",
      "Try using .loc[row_indexer,col_indexer] = value instead\n",
      "\n",
      "See the caveats in the documentation: https://pandas.pydata.org/pandas-docs/stable/user_guide/indexing.html#returning-a-view-versus-a-copy\n",
      "  df.loc[:,output_col] = scaler.inverse_transform(predictions)\n"
     ]
    },
    {
     "name": "stdout",
     "output_type": "stream",
     "text": [
      "71/71 [==============================] - 5s 68ms/step - loss: 0.1263\n",
      "Epoch 2/3\n",
      "71/71 [==============================] - 5s 68ms/step - loss: 2.0524e-06\n",
      "Epoch 3/3\n",
      "71/71 [==============================] - 5s 68ms/step - loss: 1.2086e-06\n",
      "Epoch 1/3\n"
     ]
    },
    {
     "name": "stderr",
     "output_type": "stream",
     "text": [
      "/tmp/ipykernel_1925610/474618250.py:42: SettingWithCopyWarning: \n",
      "A value is trying to be set on a copy of a slice from a DataFrame.\n",
      "Try using .loc[row_indexer,col_indexer] = value instead\n",
      "\n",
      "See the caveats in the documentation: https://pandas.pydata.org/pandas-docs/stable/user_guide/indexing.html#returning-a-view-versus-a-copy\n",
      "  df.loc[:,output_col] = scaler.inverse_transform(predictions)\n"
     ]
    },
    {
     "name": "stdout",
     "output_type": "stream",
     "text": [
      "71/71 [==============================] - 6s 76ms/step - loss: 0.1541\n",
      "Epoch 2/3\n",
      "71/71 [==============================] - 5s 76ms/step - loss: 4.6080e-07\n",
      "Epoch 3/3\n",
      "71/71 [==============================] - 5s 76ms/step - loss: 2.2091e-07\n",
      "Epoch 1/3\n"
     ]
    },
    {
     "name": "stderr",
     "output_type": "stream",
     "text": [
      "/tmp/ipykernel_1925610/474618250.py:42: SettingWithCopyWarning: \n",
      "A value is trying to be set on a copy of a slice from a DataFrame.\n",
      "Try using .loc[row_indexer,col_indexer] = value instead\n",
      "\n",
      "See the caveats in the documentation: https://pandas.pydata.org/pandas-docs/stable/user_guide/indexing.html#returning-a-view-versus-a-copy\n",
      "  df.loc[:,output_col] = scaler.inverse_transform(predictions)\n"
     ]
    },
    {
     "name": "stdout",
     "output_type": "stream",
     "text": [
      "71/71 [==============================] - 4s 51ms/step - loss: 0.0187\n",
      "Epoch 2/3\n",
      "71/71 [==============================] - 4s 51ms/step - loss: 3.1340e-06\n",
      "Epoch 3/3\n",
      "71/71 [==============================] - 4s 51ms/step - loss: 2.4465e-06\n",
      "Epoch 1/3\n"
     ]
    },
    {
     "name": "stderr",
     "output_type": "stream",
     "text": [
      "/tmp/ipykernel_1925610/474618250.py:42: SettingWithCopyWarning: \n",
      "A value is trying to be set on a copy of a slice from a DataFrame.\n",
      "Try using .loc[row_indexer,col_indexer] = value instead\n",
      "\n",
      "See the caveats in the documentation: https://pandas.pydata.org/pandas-docs/stable/user_guide/indexing.html#returning-a-view-versus-a-copy\n",
      "  df.loc[:,output_col] = scaler.inverse_transform(predictions)\n"
     ]
    },
    {
     "name": "stdout",
     "output_type": "stream",
     "text": [
      "71/71 [==============================] - 4s 54ms/step - loss: 0.0417\n",
      "Epoch 2/3\n",
      "71/71 [==============================] - 4s 54ms/step - loss: 1.2786e-06\n",
      "Epoch 3/3\n",
      "71/71 [==============================] - 4s 54ms/step - loss: 1.1331e-06\n",
      "Epoch 1/3\n"
     ]
    },
    {
     "name": "stderr",
     "output_type": "stream",
     "text": [
      "/tmp/ipykernel_1925610/474618250.py:42: SettingWithCopyWarning: \n",
      "A value is trying to be set on a copy of a slice from a DataFrame.\n",
      "Try using .loc[row_indexer,col_indexer] = value instead\n",
      "\n",
      "See the caveats in the documentation: https://pandas.pydata.org/pandas-docs/stable/user_guide/indexing.html#returning-a-view-versus-a-copy\n",
      "  df.loc[:,output_col] = scaler.inverse_transform(predictions)\n"
     ]
    },
    {
     "name": "stdout",
     "output_type": "stream",
     "text": [
      "71/71 [==============================] - 5s 62ms/step - loss: 0.1313\n",
      "Epoch 2/3\n",
      "71/71 [==============================] - 4s 62ms/step - loss: 3.2274e-06\n",
      "Epoch 3/3\n",
      "71/71 [==============================] - 4s 62ms/step - loss: 1.6230e-06\n",
      "Epoch 1/3\n"
     ]
    },
    {
     "name": "stderr",
     "output_type": "stream",
     "text": [
      "/tmp/ipykernel_1925610/474618250.py:42: SettingWithCopyWarning: \n",
      "A value is trying to be set on a copy of a slice from a DataFrame.\n",
      "Try using .loc[row_indexer,col_indexer] = value instead\n",
      "\n",
      "See the caveats in the documentation: https://pandas.pydata.org/pandas-docs/stable/user_guide/indexing.html#returning-a-view-versus-a-copy\n",
      "  df.loc[:,output_col] = scaler.inverse_transform(predictions)\n"
     ]
    },
    {
     "name": "stdout",
     "output_type": "stream",
     "text": [
      "71/71 [==============================] - 5s 66ms/step - loss: 0.1050\n",
      "Epoch 2/3\n",
      "71/71 [==============================] - 5s 65ms/step - loss: 1.9754e-06\n",
      "Epoch 3/3\n",
      "71/71 [==============================] - 5s 65ms/step - loss: 1.6884e-06\n",
      "Epoch 1/3\n"
     ]
    },
    {
     "name": "stderr",
     "output_type": "stream",
     "text": [
      "/tmp/ipykernel_1925610/474618250.py:42: SettingWithCopyWarning: \n",
      "A value is trying to be set on a copy of a slice from a DataFrame.\n",
      "Try using .loc[row_indexer,col_indexer] = value instead\n",
      "\n",
      "See the caveats in the documentation: https://pandas.pydata.org/pandas-docs/stable/user_guide/indexing.html#returning-a-view-versus-a-copy\n",
      "  df.loc[:,output_col] = scaler.inverse_transform(predictions)\n"
     ]
    },
    {
     "name": "stdout",
     "output_type": "stream",
     "text": [
      "71/71 [==============================] - 5s 68ms/step - loss: 0.2095\n",
      "Epoch 2/3\n",
      "71/71 [==============================] - 5s 68ms/step - loss: 3.3639e-06\n",
      "Epoch 3/3\n",
      "71/71 [==============================] - 5s 68ms/step - loss: 2.6047e-06\n",
      "Epoch 1/3\n"
     ]
    },
    {
     "name": "stderr",
     "output_type": "stream",
     "text": [
      "/tmp/ipykernel_1925610/474618250.py:42: SettingWithCopyWarning: \n",
      "A value is trying to be set on a copy of a slice from a DataFrame.\n",
      "Try using .loc[row_indexer,col_indexer] = value instead\n",
      "\n",
      "See the caveats in the documentation: https://pandas.pydata.org/pandas-docs/stable/user_guide/indexing.html#returning-a-view-versus-a-copy\n",
      "  df.loc[:,output_col] = scaler.inverse_transform(predictions)\n"
     ]
    },
    {
     "name": "stdout",
     "output_type": "stream",
     "text": [
      "71/71 [==============================] - 6s 76ms/step - loss: 0.2053\n",
      "Epoch 2/3\n",
      "71/71 [==============================] - 5s 76ms/step - loss: 2.8698e-06\n",
      "Epoch 3/3\n",
      "71/71 [==============================] - 5s 76ms/step - loss: 2.3100e-06\n",
      "Epoch 1/3\n"
     ]
    },
    {
     "name": "stderr",
     "output_type": "stream",
     "text": [
      "/tmp/ipykernel_1925610/474618250.py:42: SettingWithCopyWarning: \n",
      "A value is trying to be set on a copy of a slice from a DataFrame.\n",
      "Try using .loc[row_indexer,col_indexer] = value instead\n",
      "\n",
      "See the caveats in the documentation: https://pandas.pydata.org/pandas-docs/stable/user_guide/indexing.html#returning-a-view-versus-a-copy\n",
      "  df.loc[:,output_col] = scaler.inverse_transform(predictions)\n"
     ]
    },
    {
     "name": "stdout",
     "output_type": "stream",
     "text": [
      "71/71 [==============================] - 4s 51ms/step - loss: 0.0025\n",
      "Epoch 2/3\n",
      "71/71 [==============================] - 4s 51ms/step - loss: 4.7083e-07\n",
      "Epoch 3/3\n",
      "71/71 [==============================] - 4s 51ms/step - loss: 2.1640e-07\n",
      "Epoch 1/3\n"
     ]
    },
    {
     "name": "stderr",
     "output_type": "stream",
     "text": [
      "/tmp/ipykernel_1925610/474618250.py:42: SettingWithCopyWarning: \n",
      "A value is trying to be set on a copy of a slice from a DataFrame.\n",
      "Try using .loc[row_indexer,col_indexer] = value instead\n",
      "\n",
      "See the caveats in the documentation: https://pandas.pydata.org/pandas-docs/stable/user_guide/indexing.html#returning-a-view-versus-a-copy\n",
      "  df.loc[:,output_col] = scaler.inverse_transform(predictions)\n"
     ]
    },
    {
     "name": "stdout",
     "output_type": "stream",
     "text": [
      "71/71 [==============================] - 4s 54ms/step - loss: 0.0397\n",
      "Epoch 2/3\n",
      "71/71 [==============================] - 4s 54ms/step - loss: 1.3195e-06\n",
      "Epoch 3/3\n",
      "71/71 [==============================] - 4s 54ms/step - loss: 1.3632e-06\n",
      "Epoch 1/3\n"
     ]
    },
    {
     "name": "stderr",
     "output_type": "stream",
     "text": [
      "/tmp/ipykernel_1925610/474618250.py:42: SettingWithCopyWarning: \n",
      "A value is trying to be set on a copy of a slice from a DataFrame.\n",
      "Try using .loc[row_indexer,col_indexer] = value instead\n",
      "\n",
      "See the caveats in the documentation: https://pandas.pydata.org/pandas-docs/stable/user_guide/indexing.html#returning-a-view-versus-a-copy\n",
      "  df.loc[:,output_col] = scaler.inverse_transform(predictions)\n"
     ]
    },
    {
     "name": "stdout",
     "output_type": "stream",
     "text": [
      "71/71 [==============================] - 5s 62ms/step - loss: 0.0077\n",
      "Epoch 2/3\n",
      "71/71 [==============================] - 4s 62ms/step - loss: 5.6835e-07\n",
      "Epoch 3/3\n",
      "71/71 [==============================] - 4s 62ms/step - loss: 4.1150e-07\n",
      "Epoch 1/3\n"
     ]
    },
    {
     "name": "stderr",
     "output_type": "stream",
     "text": [
      "/tmp/ipykernel_1925610/474618250.py:42: SettingWithCopyWarning: \n",
      "A value is trying to be set on a copy of a slice from a DataFrame.\n",
      "Try using .loc[row_indexer,col_indexer] = value instead\n",
      "\n",
      "See the caveats in the documentation: https://pandas.pydata.org/pandas-docs/stable/user_guide/indexing.html#returning-a-view-versus-a-copy\n",
      "  df.loc[:,output_col] = scaler.inverse_transform(predictions)\n"
     ]
    },
    {
     "name": "stdout",
     "output_type": "stream",
     "text": [
      "71/71 [==============================] - 5s 65ms/step - loss: 0.1389\n",
      "Epoch 2/3\n",
      "71/71 [==============================] - 5s 65ms/step - loss: 9.0414e-07\n",
      "Epoch 3/3\n",
      "71/71 [==============================] - 5s 65ms/step - loss: 5.9111e-07\n",
      "Epoch 1/3\n"
     ]
    },
    {
     "name": "stderr",
     "output_type": "stream",
     "text": [
      "/tmp/ipykernel_1925610/474618250.py:42: SettingWithCopyWarning: \n",
      "A value is trying to be set on a copy of a slice from a DataFrame.\n",
      "Try using .loc[row_indexer,col_indexer] = value instead\n",
      "\n",
      "See the caveats in the documentation: https://pandas.pydata.org/pandas-docs/stable/user_guide/indexing.html#returning-a-view-versus-a-copy\n",
      "  df.loc[:,output_col] = scaler.inverse_transform(predictions)\n"
     ]
    },
    {
     "name": "stdout",
     "output_type": "stream",
     "text": [
      "71/71 [==============================] - 5s 68ms/step - loss: 0.1690\n",
      "Epoch 2/3\n",
      "71/71 [==============================] - 5s 68ms/step - loss: 2.8878e-06\n",
      "Epoch 3/3\n",
      "71/71 [==============================] - 5s 68ms/step - loss: 2.7319e-06\n",
      "Epoch 1/3\n"
     ]
    },
    {
     "name": "stderr",
     "output_type": "stream",
     "text": [
      "/tmp/ipykernel_1925610/474618250.py:42: SettingWithCopyWarning: \n",
      "A value is trying to be set on a copy of a slice from a DataFrame.\n",
      "Try using .loc[row_indexer,col_indexer] = value instead\n",
      "\n",
      "See the caveats in the documentation: https://pandas.pydata.org/pandas-docs/stable/user_guide/indexing.html#returning-a-view-versus-a-copy\n",
      "  df.loc[:,output_col] = scaler.inverse_transform(predictions)\n"
     ]
    },
    {
     "name": "stdout",
     "output_type": "stream",
     "text": [
      "71/71 [==============================] - 6s 76ms/step - loss: 0.4028\n",
      "Epoch 2/3\n",
      "71/71 [==============================] - 5s 77ms/step - loss: 3.1082e-06\n",
      "Epoch 3/3\n",
      "71/71 [==============================] - 5s 76ms/step - loss: 2.6949e-06\n",
      "Epoch 1/3\n",
      " 1/71 [..............................] - ETA: 12s - loss: 0.0213"
     ]
    },
    {
     "name": "stderr",
     "output_type": "stream",
     "text": [
      "/tmp/ipykernel_1925610/474618250.py:42: SettingWithCopyWarning: \n",
      "A value is trying to be set on a copy of a slice from a DataFrame.\n",
      "Try using .loc[row_indexer,col_indexer] = value instead\n",
      "\n",
      "See the caveats in the documentation: https://pandas.pydata.org/pandas-docs/stable/user_guide/indexing.html#returning-a-view-versus-a-copy\n",
      "  df.loc[:,output_col] = scaler.inverse_transform(predictions)\n"
     ]
    },
    {
     "name": "stdout",
     "output_type": "stream",
     "text": [
      "71/71 [==============================] - 0s 4ms/step - loss: 0.0482\n",
      "Epoch 2/3\n",
      "71/71 [==============================] - 0s 4ms/step - loss: 1.6580e-05\n",
      "Epoch 3/3\n",
      "71/71 [==============================] - 0s 4ms/step - loss: 6.1278e-06\n",
      "Epoch 1/3\n"
     ]
    },
    {
     "name": "stderr",
     "output_type": "stream",
     "text": [
      "/tmp/ipykernel_1925610/474618250.py:42: SettingWithCopyWarning: \n",
      "A value is trying to be set on a copy of a slice from a DataFrame.\n",
      "Try using .loc[row_indexer,col_indexer] = value instead\n",
      "\n",
      "See the caveats in the documentation: https://pandas.pydata.org/pandas-docs/stable/user_guide/indexing.html#returning-a-view-versus-a-copy\n",
      "  df.loc[:,output_col] = scaler.inverse_transform(predictions)\n"
     ]
    },
    {
     "name": "stdout",
     "output_type": "stream",
     "text": [
      "71/71 [==============================] - 2s 27ms/step - loss: 0.0325\n",
      "Epoch 2/3\n",
      "71/71 [==============================] - 2s 27ms/step - loss: 5.7607e-06\n",
      "Epoch 3/3\n",
      "71/71 [==============================] - 2s 27ms/step - loss: 3.8405e-06\n",
      "Epoch 1/3\n"
     ]
    },
    {
     "name": "stderr",
     "output_type": "stream",
     "text": [
      "/tmp/ipykernel_1925610/474618250.py:42: SettingWithCopyWarning: \n",
      "A value is trying to be set on a copy of a slice from a DataFrame.\n",
      "Try using .loc[row_indexer,col_indexer] = value instead\n",
      "\n",
      "See the caveats in the documentation: https://pandas.pydata.org/pandas-docs/stable/user_guide/indexing.html#returning-a-view-versus-a-copy\n",
      "  df.loc[:,output_col] = scaler.inverse_transform(predictions)\n"
     ]
    },
    {
     "name": "stdout",
     "output_type": "stream",
     "text": [
      "71/71 [==============================] - 4s 50ms/step - loss: 0.0095\n",
      "Epoch 2/3\n",
      "71/71 [==============================] - 4s 50ms/step - loss: 2.6732e-06\n",
      "Epoch 3/3\n",
      "71/71 [==============================] - 4s 50ms/step - loss: 1.7853e-06\n",
      "Epoch 1/3\n"
     ]
    },
    {
     "name": "stderr",
     "output_type": "stream",
     "text": [
      "/tmp/ipykernel_1925610/474618250.py:42: SettingWithCopyWarning: \n",
      "A value is trying to be set on a copy of a slice from a DataFrame.\n",
      "Try using .loc[row_indexer,col_indexer] = value instead\n",
      "\n",
      "See the caveats in the documentation: https://pandas.pydata.org/pandas-docs/stable/user_guide/indexing.html#returning-a-view-versus-a-copy\n",
      "  df.loc[:,output_col] = scaler.inverse_transform(predictions)\n"
     ]
    },
    {
     "name": "stdout",
     "output_type": "stream",
     "text": [
      "71/71 [==============================] - 4s 50ms/step - loss: 0.0085\n",
      "Epoch 2/3\n",
      "71/71 [==============================] - 4s 50ms/step - loss: 1.5070e-06\n",
      "Epoch 3/3\n",
      "71/71 [==============================] - 4s 50ms/step - loss: 9.2087e-07\n",
      "Epoch 1/3\n"
     ]
    },
    {
     "name": "stderr",
     "output_type": "stream",
     "text": [
      "/tmp/ipykernel_1925610/474618250.py:42: SettingWithCopyWarning: \n",
      "A value is trying to be set on a copy of a slice from a DataFrame.\n",
      "Try using .loc[row_indexer,col_indexer] = value instead\n",
      "\n",
      "See the caveats in the documentation: https://pandas.pydata.org/pandas-docs/stable/user_guide/indexing.html#returning-a-view-versus-a-copy\n",
      "  df.loc[:,output_col] = scaler.inverse_transform(predictions)\n"
     ]
    },
    {
     "name": "stdout",
     "output_type": "stream",
     "text": [
      "71/71 [==============================] - 4s 50ms/step - loss: 0.0109\n",
      "Epoch 2/3\n",
      "71/71 [==============================] - 4s 50ms/step - loss: 1.1506e-06\n",
      "Epoch 3/3\n",
      "71/71 [==============================] - 4s 50ms/step - loss: 1.0625e-06\n",
      "Epoch 1/3\n",
      " 1/71 [..............................] - ETA: 12s - loss: 0.0636"
     ]
    },
    {
     "name": "stderr",
     "output_type": "stream",
     "text": [
      "/tmp/ipykernel_1925610/474618250.py:42: SettingWithCopyWarning: \n",
      "A value is trying to be set on a copy of a slice from a DataFrame.\n",
      "Try using .loc[row_indexer,col_indexer] = value instead\n",
      "\n",
      "See the caveats in the documentation: https://pandas.pydata.org/pandas-docs/stable/user_guide/indexing.html#returning-a-view-versus-a-copy\n",
      "  df.loc[:,output_col] = scaler.inverse_transform(predictions)\n"
     ]
    },
    {
     "name": "stdout",
     "output_type": "stream",
     "text": [
      "71/71 [==============================] - 0s 4ms/step - loss: 0.0050\n",
      "Epoch 2/3\n",
      "71/71 [==============================] - 0s 4ms/step - loss: 6.0525e-07\n",
      "Epoch 3/3\n",
      "71/71 [==============================] - 0s 4ms/step - loss: 1.8973e-08\n",
      "Epoch 1/3\n"
     ]
    },
    {
     "name": "stderr",
     "output_type": "stream",
     "text": [
      "/tmp/ipykernel_1925610/474618250.py:42: SettingWithCopyWarning: \n",
      "A value is trying to be set on a copy of a slice from a DataFrame.\n",
      "Try using .loc[row_indexer,col_indexer] = value instead\n",
      "\n",
      "See the caveats in the documentation: https://pandas.pydata.org/pandas-docs/stable/user_guide/indexing.html#returning-a-view-versus-a-copy\n",
      "  df.loc[:,output_col] = scaler.inverse_transform(predictions)\n"
     ]
    },
    {
     "name": "stdout",
     "output_type": "stream",
     "text": [
      "71/71 [==============================] - 2s 28ms/step - loss: 0.0147\n",
      "Epoch 2/3\n",
      "71/71 [==============================] - 2s 27ms/step - loss: 1.1799e-06\n",
      "Epoch 3/3\n",
      "71/71 [==============================] - 2s 27ms/step - loss: 1.7529e-07\n",
      "Epoch 1/3\n"
     ]
    },
    {
     "name": "stderr",
     "output_type": "stream",
     "text": [
      "/tmp/ipykernel_1925610/474618250.py:42: SettingWithCopyWarning: \n",
      "A value is trying to be set on a copy of a slice from a DataFrame.\n",
      "Try using .loc[row_indexer,col_indexer] = value instead\n",
      "\n",
      "See the caveats in the documentation: https://pandas.pydata.org/pandas-docs/stable/user_guide/indexing.html#returning-a-view-versus-a-copy\n",
      "  df.loc[:,output_col] = scaler.inverse_transform(predictions)\n"
     ]
    },
    {
     "name": "stdout",
     "output_type": "stream",
     "text": [
      "71/71 [==============================] - 4s 50ms/step - loss: 0.0050\n",
      "Epoch 2/3\n",
      "71/71 [==============================] - 4s 50ms/step - loss: 3.3779e-07\n",
      "Epoch 3/3\n",
      "71/71 [==============================] - 4s 51ms/step - loss: 2.0364e-07\n",
      "Epoch 1/3\n"
     ]
    },
    {
     "name": "stderr",
     "output_type": "stream",
     "text": [
      "/tmp/ipykernel_1925610/474618250.py:42: SettingWithCopyWarning: \n",
      "A value is trying to be set on a copy of a slice from a DataFrame.\n",
      "Try using .loc[row_indexer,col_indexer] = value instead\n",
      "\n",
      "See the caveats in the documentation: https://pandas.pydata.org/pandas-docs/stable/user_guide/indexing.html#returning-a-view-versus-a-copy\n",
      "  df.loc[:,output_col] = scaler.inverse_transform(predictions)\n"
     ]
    },
    {
     "name": "stdout",
     "output_type": "stream",
     "text": [
      "71/71 [==============================] - 4s 52ms/step - loss: 0.0340\n",
      "Epoch 2/3\n",
      "71/71 [==============================] - 4s 52ms/step - loss: 4.3537e-06\n",
      "Epoch 3/3\n",
      "71/71 [==============================] - 4s 52ms/step - loss: 3.5069e-06\n",
      "Epoch 1/3\n"
     ]
    },
    {
     "name": "stderr",
     "output_type": "stream",
     "text": [
      "/tmp/ipykernel_1925610/474618250.py:42: SettingWithCopyWarning: \n",
      "A value is trying to be set on a copy of a slice from a DataFrame.\n",
      "Try using .loc[row_indexer,col_indexer] = value instead\n",
      "\n",
      "See the caveats in the documentation: https://pandas.pydata.org/pandas-docs/stable/user_guide/indexing.html#returning-a-view-versus-a-copy\n",
      "  df.loc[:,output_col] = scaler.inverse_transform(predictions)\n"
     ]
    },
    {
     "name": "stdout",
     "output_type": "stream",
     "text": [
      "71/71 [==============================] - 4s 51ms/step - loss: 0.0248\n",
      "Epoch 2/3\n",
      "71/71 [==============================] - 4s 50ms/step - loss: 3.6285e-06\n",
      "Epoch 3/3\n",
      "71/71 [==============================] - 4s 50ms/step - loss: 2.3960e-06\n",
      "Epoch 1/3\n",
      " 1/71 [..............................] - ETA: 12s - loss: 0.0090"
     ]
    },
    {
     "name": "stderr",
     "output_type": "stream",
     "text": [
      "/tmp/ipykernel_1925610/474618250.py:42: SettingWithCopyWarning: \n",
      "A value is trying to be set on a copy of a slice from a DataFrame.\n",
      "Try using .loc[row_indexer,col_indexer] = value instead\n",
      "\n",
      "See the caveats in the documentation: https://pandas.pydata.org/pandas-docs/stable/user_guide/indexing.html#returning-a-view-versus-a-copy\n",
      "  df.loc[:,output_col] = scaler.inverse_transform(predictions)\n"
     ]
    },
    {
     "name": "stdout",
     "output_type": "stream",
     "text": [
      "71/71 [==============================] - 0s 4ms/step - loss: 0.0309\n",
      "Epoch 2/3\n",
      "71/71 [==============================] - 0s 4ms/step - loss: 3.2354e-06\n",
      "Epoch 3/3\n",
      "71/71 [==============================] - 0s 4ms/step - loss: 9.0726e-07\n",
      "Epoch 1/3\n"
     ]
    },
    {
     "name": "stderr",
     "output_type": "stream",
     "text": [
      "/tmp/ipykernel_1925610/474618250.py:42: SettingWithCopyWarning: \n",
      "A value is trying to be set on a copy of a slice from a DataFrame.\n",
      "Try using .loc[row_indexer,col_indexer] = value instead\n",
      "\n",
      "See the caveats in the documentation: https://pandas.pydata.org/pandas-docs/stable/user_guide/indexing.html#returning-a-view-versus-a-copy\n",
      "  df.loc[:,output_col] = scaler.inverse_transform(predictions)\n"
     ]
    },
    {
     "name": "stdout",
     "output_type": "stream",
     "text": [
      "71/71 [==============================] - 2s 27ms/step - loss: 0.0339\n",
      "Epoch 2/3\n",
      "71/71 [==============================] - 2s 27ms/step - loss: 9.9464e-06\n",
      "Epoch 3/3\n",
      "71/71 [==============================] - 2s 27ms/step - loss: 2.9289e-06\n",
      "Epoch 1/3\n"
     ]
    },
    {
     "name": "stderr",
     "output_type": "stream",
     "text": [
      "/tmp/ipykernel_1925610/474618250.py:42: SettingWithCopyWarning: \n",
      "A value is trying to be set on a copy of a slice from a DataFrame.\n",
      "Try using .loc[row_indexer,col_indexer] = value instead\n",
      "\n",
      "See the caveats in the documentation: https://pandas.pydata.org/pandas-docs/stable/user_guide/indexing.html#returning-a-view-versus-a-copy\n",
      "  df.loc[:,output_col] = scaler.inverse_transform(predictions)\n"
     ]
    },
    {
     "name": "stdout",
     "output_type": "stream",
     "text": [
      "71/71 [==============================] - 4s 50ms/step - loss: 0.0126\n",
      "Epoch 2/3\n",
      "71/71 [==============================] - 4s 50ms/step - loss: 2.0479e-06\n",
      "Epoch 3/3\n",
      "71/71 [==============================] - 4s 50ms/step - loss: 1.6242e-06\n",
      "Epoch 1/3\n"
     ]
    },
    {
     "name": "stderr",
     "output_type": "stream",
     "text": [
      "/tmp/ipykernel_1925610/474618250.py:42: SettingWithCopyWarning: \n",
      "A value is trying to be set on a copy of a slice from a DataFrame.\n",
      "Try using .loc[row_indexer,col_indexer] = value instead\n",
      "\n",
      "See the caveats in the documentation: https://pandas.pydata.org/pandas-docs/stable/user_guide/indexing.html#returning-a-view-versus-a-copy\n",
      "  df.loc[:,output_col] = scaler.inverse_transform(predictions)\n"
     ]
    },
    {
     "name": "stdout",
     "output_type": "stream",
     "text": [
      "71/71 [==============================] - 4s 50ms/step - loss: 0.0161\n",
      "Epoch 2/3\n",
      "71/71 [==============================] - 4s 50ms/step - loss: 1.3117e-06\n",
      "Epoch 3/3\n",
      "71/71 [==============================] - 4s 50ms/step - loss: 1.0023e-06\n",
      "Epoch 1/3\n"
     ]
    },
    {
     "name": "stderr",
     "output_type": "stream",
     "text": [
      "/tmp/ipykernel_1925610/474618250.py:42: SettingWithCopyWarning: \n",
      "A value is trying to be set on a copy of a slice from a DataFrame.\n",
      "Try using .loc[row_indexer,col_indexer] = value instead\n",
      "\n",
      "See the caveats in the documentation: https://pandas.pydata.org/pandas-docs/stable/user_guide/indexing.html#returning-a-view-versus-a-copy\n",
      "  df.loc[:,output_col] = scaler.inverse_transform(predictions)\n"
     ]
    },
    {
     "name": "stdout",
     "output_type": "stream",
     "text": [
      "71/71 [==============================] - 4s 50ms/step - loss: 0.0130\n",
      "Epoch 2/3\n",
      "71/71 [==============================] - 4s 50ms/step - loss: 4.3737e-06\n",
      "Epoch 3/3\n",
      "71/71 [==============================] - 4s 50ms/step - loss: 5.8318e-07\n",
      "Epoch 1/3\n"
     ]
    },
    {
     "name": "stderr",
     "output_type": "stream",
     "text": [
      "/tmp/ipykernel_1925610/474618250.py:42: SettingWithCopyWarning: \n",
      "A value is trying to be set on a copy of a slice from a DataFrame.\n",
      "Try using .loc[row_indexer,col_indexer] = value instead\n",
      "\n",
      "See the caveats in the documentation: https://pandas.pydata.org/pandas-docs/stable/user_guide/indexing.html#returning-a-view-versus-a-copy\n",
      "  df.loc[:,output_col] = scaler.inverse_transform(predictions)\n"
     ]
    },
    {
     "name": "stdout",
     "output_type": "stream",
     "text": [
      "71/71 [==============================] - 1s 4ms/step - loss: 0.0016\n",
      "Epoch 2/3\n",
      "71/71 [==============================] - 0s 4ms/step - loss: 7.4302e-09\n",
      "Epoch 3/3\n",
      "71/71 [==============================] - 0s 4ms/step - loss: 4.5024e-09\n",
      "Epoch 1/3\n"
     ]
    },
    {
     "name": "stderr",
     "output_type": "stream",
     "text": [
      "/tmp/ipykernel_1925610/474618250.py:42: SettingWithCopyWarning: \n",
      "A value is trying to be set on a copy of a slice from a DataFrame.\n",
      "Try using .loc[row_indexer,col_indexer] = value instead\n",
      "\n",
      "See the caveats in the documentation: https://pandas.pydata.org/pandas-docs/stable/user_guide/indexing.html#returning-a-view-versus-a-copy\n",
      "  df.loc[:,output_col] = scaler.inverse_transform(predictions)\n"
     ]
    },
    {
     "name": "stdout",
     "output_type": "stream",
     "text": [
      "71/71 [==============================] - 1s 12ms/step - loss: 0.0148\n",
      "Epoch 2/3\n",
      "71/71 [==============================] - 1s 12ms/step - loss: 5.3009e-06\n",
      "Epoch 3/3\n",
      "71/71 [==============================] - 1s 12ms/step - loss: 3.5356e-06\n",
      "Epoch 1/3\n"
     ]
    },
    {
     "name": "stderr",
     "output_type": "stream",
     "text": [
      "/tmp/ipykernel_1925610/474618250.py:42: SettingWithCopyWarning: \n",
      "A value is trying to be set on a copy of a slice from a DataFrame.\n",
      "Try using .loc[row_indexer,col_indexer] = value instead\n",
      "\n",
      "See the caveats in the documentation: https://pandas.pydata.org/pandas-docs/stable/user_guide/indexing.html#returning-a-view-versus-a-copy\n",
      "  df.loc[:,output_col] = scaler.inverse_transform(predictions)\n"
     ]
    },
    {
     "name": "stdout",
     "output_type": "stream",
     "text": [
      "71/71 [==============================] - 3s 37ms/step - loss: 0.0150\n",
      "Epoch 2/3\n",
      "71/71 [==============================] - 3s 37ms/step - loss: 5.2017e-06\n",
      "Epoch 3/3\n",
      "71/71 [==============================] - 3s 37ms/step - loss: 8.0264e-07\n",
      "Epoch 1/3\n"
     ]
    },
    {
     "name": "stderr",
     "output_type": "stream",
     "text": [
      "/tmp/ipykernel_1925610/474618250.py:42: SettingWithCopyWarning: \n",
      "A value is trying to be set on a copy of a slice from a DataFrame.\n",
      "Try using .loc[row_indexer,col_indexer] = value instead\n",
      "\n",
      "See the caveats in the documentation: https://pandas.pydata.org/pandas-docs/stable/user_guide/indexing.html#returning-a-view-versus-a-copy\n",
      "  df.loc[:,output_col] = scaler.inverse_transform(predictions)\n"
     ]
    },
    {
     "name": "stdout",
     "output_type": "stream",
     "text": [
      "71/71 [==============================] - 6s 75ms/step - loss: 0.0013\n",
      "Epoch 2/3\n",
      "71/71 [==============================] - 5s 74ms/step - loss: 5.5316e-07\n",
      "Epoch 3/3\n",
      "71/71 [==============================] - 6s 78ms/step - loss: 3.3630e-07\n",
      "Epoch 1/3\n"
     ]
    },
    {
     "name": "stderr",
     "output_type": "stream",
     "text": [
      "/tmp/ipykernel_1925610/474618250.py:42: SettingWithCopyWarning: \n",
      "A value is trying to be set on a copy of a slice from a DataFrame.\n",
      "Try using .loc[row_indexer,col_indexer] = value instead\n",
      "\n",
      "See the caveats in the documentation: https://pandas.pydata.org/pandas-docs/stable/user_guide/indexing.html#returning-a-view-versus-a-copy\n",
      "  df.loc[:,output_col] = scaler.inverse_transform(predictions)\n"
     ]
    },
    {
     "name": "stdout",
     "output_type": "stream",
     "text": [
      "71/71 [==============================] - 9s 121ms/step - loss: 0.0371\n",
      "Epoch 2/3\n",
      "71/71 [==============================] - 9s 122ms/step - loss: 8.9966e-07\n",
      "Epoch 3/3\n",
      "71/71 [==============================] - 9s 122ms/step - loss: 8.0348e-07\n",
      "Epoch 1/3\n"
     ]
    },
    {
     "name": "stderr",
     "output_type": "stream",
     "text": [
      "/tmp/ipykernel_1925610/474618250.py:42: SettingWithCopyWarning: \n",
      "A value is trying to be set on a copy of a slice from a DataFrame.\n",
      "Try using .loc[row_indexer,col_indexer] = value instead\n",
      "\n",
      "See the caveats in the documentation: https://pandas.pydata.org/pandas-docs/stable/user_guide/indexing.html#returning-a-view-versus-a-copy\n",
      "  df.loc[:,output_col] = scaler.inverse_transform(predictions)\n"
     ]
    },
    {
     "name": "stdout",
     "output_type": "stream",
     "text": [
      "71/71 [==============================] - 1s 4ms/step - loss: 0.0060\n",
      "Epoch 2/3\n",
      "71/71 [==============================] - 0s 4ms/step - loss: 1.6702e-06\n",
      "Epoch 3/3\n",
      "71/71 [==============================] - 0s 4ms/step - loss: 5.2700e-07\n",
      "Epoch 1/3\n"
     ]
    },
    {
     "name": "stderr",
     "output_type": "stream",
     "text": [
      "/tmp/ipykernel_1925610/474618250.py:42: SettingWithCopyWarning: \n",
      "A value is trying to be set on a copy of a slice from a DataFrame.\n",
      "Try using .loc[row_indexer,col_indexer] = value instead\n",
      "\n",
      "See the caveats in the documentation: https://pandas.pydata.org/pandas-docs/stable/user_guide/indexing.html#returning-a-view-versus-a-copy\n",
      "  df.loc[:,output_col] = scaler.inverse_transform(predictions)\n"
     ]
    },
    {
     "name": "stdout",
     "output_type": "stream",
     "text": [
      "71/71 [==============================] - 1s 12ms/step - loss: 0.0133\n",
      "Epoch 2/3\n",
      "71/71 [==============================] - 1s 12ms/step - loss: 5.2504e-06\n",
      "Epoch 3/3\n",
      "71/71 [==============================] - 1s 12ms/step - loss: 7.2011e-07\n",
      "Epoch 1/3\n"
     ]
    },
    {
     "name": "stderr",
     "output_type": "stream",
     "text": [
      "/tmp/ipykernel_1925610/474618250.py:42: SettingWithCopyWarning: \n",
      "A value is trying to be set on a copy of a slice from a DataFrame.\n",
      "Try using .loc[row_indexer,col_indexer] = value instead\n",
      "\n",
      "See the caveats in the documentation: https://pandas.pydata.org/pandas-docs/stable/user_guide/indexing.html#returning-a-view-versus-a-copy\n",
      "  df.loc[:,output_col] = scaler.inverse_transform(predictions)\n"
     ]
    },
    {
     "name": "stdout",
     "output_type": "stream",
     "text": [
      "71/71 [==============================] - 3s 37ms/step - loss: 0.0035\n",
      "Epoch 2/3\n",
      "71/71 [==============================] - 3s 37ms/step - loss: 9.1808e-08\n",
      "Epoch 3/3\n",
      "71/71 [==============================] - 3s 37ms/step - loss: 4.9621e-08\n",
      "Epoch 1/3\n"
     ]
    },
    {
     "name": "stderr",
     "output_type": "stream",
     "text": [
      "/tmp/ipykernel_1925610/474618250.py:42: SettingWithCopyWarning: \n",
      "A value is trying to be set on a copy of a slice from a DataFrame.\n",
      "Try using .loc[row_indexer,col_indexer] = value instead\n",
      "\n",
      "See the caveats in the documentation: https://pandas.pydata.org/pandas-docs/stable/user_guide/indexing.html#returning-a-view-versus-a-copy\n",
      "  df.loc[:,output_col] = scaler.inverse_transform(predictions)\n"
     ]
    },
    {
     "name": "stdout",
     "output_type": "stream",
     "text": [
      "71/71 [==============================] - 6s 74ms/step - loss: 0.0224\n",
      "Epoch 2/3\n",
      "71/71 [==============================] - 5s 75ms/step - loss: 1.7340e-06\n",
      "Epoch 3/3\n",
      "71/71 [==============================] - 5s 74ms/step - loss: 1.4001e-06\n",
      "Epoch 1/3\n"
     ]
    },
    {
     "name": "stderr",
     "output_type": "stream",
     "text": [
      "/tmp/ipykernel_1925610/474618250.py:42: SettingWithCopyWarning: \n",
      "A value is trying to be set on a copy of a slice from a DataFrame.\n",
      "Try using .loc[row_indexer,col_indexer] = value instead\n",
      "\n",
      "See the caveats in the documentation: https://pandas.pydata.org/pandas-docs/stable/user_guide/indexing.html#returning-a-view-versus-a-copy\n",
      "  df.loc[:,output_col] = scaler.inverse_transform(predictions)\n"
     ]
    },
    {
     "name": "stdout",
     "output_type": "stream",
     "text": [
      "71/71 [==============================] - 9s 121ms/step - loss: 0.0459\n",
      "Epoch 2/3\n",
      "71/71 [==============================] - 9s 121ms/step - loss: 2.9660e-06\n",
      "Epoch 3/3\n",
      "71/71 [==============================] - 9s 121ms/step - loss: 2.2943e-06\n",
      "Epoch 1/3\n"
     ]
    },
    {
     "name": "stderr",
     "output_type": "stream",
     "text": [
      "/tmp/ipykernel_1925610/474618250.py:42: SettingWithCopyWarning: \n",
      "A value is trying to be set on a copy of a slice from a DataFrame.\n",
      "Try using .loc[row_indexer,col_indexer] = value instead\n",
      "\n",
      "See the caveats in the documentation: https://pandas.pydata.org/pandas-docs/stable/user_guide/indexing.html#returning-a-view-versus-a-copy\n",
      "  df.loc[:,output_col] = scaler.inverse_transform(predictions)\n"
     ]
    },
    {
     "name": "stdout",
     "output_type": "stream",
     "text": [
      "71/71 [==============================] - 1s 4ms/step - loss: 0.0031\n",
      "Epoch 2/3\n",
      "71/71 [==============================] - 0s 4ms/step - loss: 8.0700e-08\n",
      "Epoch 3/3\n",
      "71/71 [==============================] - 0s 4ms/step - loss: 8.5230e-09\n",
      "Epoch 1/3\n"
     ]
    },
    {
     "name": "stderr",
     "output_type": "stream",
     "text": [
      "/tmp/ipykernel_1925610/474618250.py:42: SettingWithCopyWarning: \n",
      "A value is trying to be set on a copy of a slice from a DataFrame.\n",
      "Try using .loc[row_indexer,col_indexer] = value instead\n",
      "\n",
      "See the caveats in the documentation: https://pandas.pydata.org/pandas-docs/stable/user_guide/indexing.html#returning-a-view-versus-a-copy\n",
      "  df.loc[:,output_col] = scaler.inverse_transform(predictions)\n"
     ]
    },
    {
     "name": "stdout",
     "output_type": "stream",
     "text": [
      "71/71 [==============================] - 1s 12ms/step - loss: 0.0061\n",
      "Epoch 2/3\n",
      "71/71 [==============================] - 1s 12ms/step - loss: 3.2989e-06\n",
      "Epoch 3/3\n",
      "71/71 [==============================] - 1s 12ms/step - loss: 1.4331e-07\n",
      "Epoch 1/3\n"
     ]
    },
    {
     "name": "stderr",
     "output_type": "stream",
     "text": [
      "/tmp/ipykernel_1925610/474618250.py:42: SettingWithCopyWarning: \n",
      "A value is trying to be set on a copy of a slice from a DataFrame.\n",
      "Try using .loc[row_indexer,col_indexer] = value instead\n",
      "\n",
      "See the caveats in the documentation: https://pandas.pydata.org/pandas-docs/stable/user_guide/indexing.html#returning-a-view-versus-a-copy\n",
      "  df.loc[:,output_col] = scaler.inverse_transform(predictions)\n"
     ]
    },
    {
     "name": "stdout",
     "output_type": "stream",
     "text": [
      "71/71 [==============================] - 3s 39ms/step - loss: 0.0101\n",
      "Epoch 2/3\n",
      "71/71 [==============================] - 3s 39ms/step - loss: 2.5930e-06\n",
      "Epoch 3/3\n",
      "71/71 [==============================] - 3s 39ms/step - loss: 1.5414e-06\n",
      "Epoch 1/3\n"
     ]
    },
    {
     "name": "stderr",
     "output_type": "stream",
     "text": [
      "/tmp/ipykernel_1925610/474618250.py:42: SettingWithCopyWarning: \n",
      "A value is trying to be set on a copy of a slice from a DataFrame.\n",
      "Try using .loc[row_indexer,col_indexer] = value instead\n",
      "\n",
      "See the caveats in the documentation: https://pandas.pydata.org/pandas-docs/stable/user_guide/indexing.html#returning-a-view-versus-a-copy\n",
      "  df.loc[:,output_col] = scaler.inverse_transform(predictions)\n"
     ]
    },
    {
     "name": "stdout",
     "output_type": "stream",
     "text": [
      "71/71 [==============================] - 6s 78ms/step - loss: 0.0153\n",
      "Epoch 2/3\n",
      "71/71 [==============================] - 5s 76ms/step - loss: 1.3782e-06\n",
      "Epoch 3/3\n",
      "71/71 [==============================] - 5s 74ms/step - loss: 9.4077e-07\n",
      "Epoch 1/3\n"
     ]
    },
    {
     "name": "stderr",
     "output_type": "stream",
     "text": [
      "/tmp/ipykernel_1925610/474618250.py:42: SettingWithCopyWarning: \n",
      "A value is trying to be set on a copy of a slice from a DataFrame.\n",
      "Try using .loc[row_indexer,col_indexer] = value instead\n",
      "\n",
      "See the caveats in the documentation: https://pandas.pydata.org/pandas-docs/stable/user_guide/indexing.html#returning-a-view-versus-a-copy\n",
      "  df.loc[:,output_col] = scaler.inverse_transform(predictions)\n"
     ]
    },
    {
     "name": "stdout",
     "output_type": "stream",
     "text": [
      "71/71 [==============================] - 9s 121ms/step - loss: 0.0270\n",
      "Epoch 2/3\n",
      "71/71 [==============================] - 9s 121ms/step - loss: 3.8173e-06\n",
      "Epoch 3/3\n",
      "71/71 [==============================] - 9s 124ms/step - loss: 2.9101e-06\n",
      "Epoch 1/3\n"
     ]
    },
    {
     "name": "stderr",
     "output_type": "stream",
     "text": [
      "/tmp/ipykernel_1925610/474618250.py:42: SettingWithCopyWarning: \n",
      "A value is trying to be set on a copy of a slice from a DataFrame.\n",
      "Try using .loc[row_indexer,col_indexer] = value instead\n",
      "\n",
      "See the caveats in the documentation: https://pandas.pydata.org/pandas-docs/stable/user_guide/indexing.html#returning-a-view-versus-a-copy\n",
      "  df.loc[:,output_col] = scaler.inverse_transform(predictions)\n"
     ]
    },
    {
     "name": "stdout",
     "output_type": "stream",
     "text": [
      "71/71 [==============================] - 2s 18ms/step - loss: 0.0046\n",
      "Epoch 2/3\n",
      "71/71 [==============================] - 1s 18ms/step - loss: 3.4923e-07\n",
      "Epoch 3/3\n",
      "71/71 [==============================] - 1s 17ms/step - loss: 1.6060e-07\n",
      "Epoch 1/3\n"
     ]
    },
    {
     "name": "stderr",
     "output_type": "stream",
     "text": [
      "/tmp/ipykernel_1925610/474618250.py:42: SettingWithCopyWarning: \n",
      "A value is trying to be set on a copy of a slice from a DataFrame.\n",
      "Try using .loc[row_indexer,col_indexer] = value instead\n",
      "\n",
      "See the caveats in the documentation: https://pandas.pydata.org/pandas-docs/stable/user_guide/indexing.html#returning-a-view-versus-a-copy\n",
      "  df.loc[:,output_col] = scaler.inverse_transform(predictions)\n"
     ]
    },
    {
     "name": "stdout",
     "output_type": "stream",
     "text": [
      "71/71 [==============================] - 3s 33ms/step - loss: 0.0267\n",
      "Epoch 2/3\n",
      "71/71 [==============================] - 2s 33ms/step - loss: 6.9136e-06\n",
      "Epoch 3/3\n",
      "71/71 [==============================] - 2s 33ms/step - loss: 1.7564e-06\n",
      "Epoch 1/3\n"
     ]
    },
    {
     "name": "stderr",
     "output_type": "stream",
     "text": [
      "/tmp/ipykernel_1925610/474618250.py:42: SettingWithCopyWarning: \n",
      "A value is trying to be set on a copy of a slice from a DataFrame.\n",
      "Try using .loc[row_indexer,col_indexer] = value instead\n",
      "\n",
      "See the caveats in the documentation: https://pandas.pydata.org/pandas-docs/stable/user_guide/indexing.html#returning-a-view-versus-a-copy\n",
      "  df.loc[:,output_col] = scaler.inverse_transform(predictions)\n"
     ]
    },
    {
     "name": "stdout",
     "output_type": "stream",
     "text": [
      "71/71 [==============================] - 4s 60ms/step - loss: 0.0021\n",
      "Epoch 2/3\n",
      "71/71 [==============================] - 4s 60ms/step - loss: 8.6834e-07\n",
      "Epoch 3/3\n",
      "71/71 [==============================] - 4s 60ms/step - loss: 5.3590e-07\n",
      "Epoch 1/3\n"
     ]
    },
    {
     "name": "stderr",
     "output_type": "stream",
     "text": [
      "/tmp/ipykernel_1925610/474618250.py:42: SettingWithCopyWarning: \n",
      "A value is trying to be set on a copy of a slice from a DataFrame.\n",
      "Try using .loc[row_indexer,col_indexer] = value instead\n",
      "\n",
      "See the caveats in the documentation: https://pandas.pydata.org/pandas-docs/stable/user_guide/indexing.html#returning-a-view-versus-a-copy\n",
      "  df.loc[:,output_col] = scaler.inverse_transform(predictions)\n"
     ]
    },
    {
     "name": "stdout",
     "output_type": "stream",
     "text": [
      "71/71 [==============================] - 6s 84ms/step - loss: 0.0352\n",
      "Epoch 2/3\n",
      "71/71 [==============================] - 6s 86ms/step - loss: 1.9131e-06\n",
      "Epoch 3/3\n",
      "71/71 [==============================] - 6s 88ms/step - loss: 1.6716e-06\n",
      "Epoch 1/3\n"
     ]
    },
    {
     "name": "stderr",
     "output_type": "stream",
     "text": [
      "/tmp/ipykernel_1925610/474618250.py:42: SettingWithCopyWarning: \n",
      "A value is trying to be set on a copy of a slice from a DataFrame.\n",
      "Try using .loc[row_indexer,col_indexer] = value instead\n",
      "\n",
      "See the caveats in the documentation: https://pandas.pydata.org/pandas-docs/stable/user_guide/indexing.html#returning-a-view-versus-a-copy\n",
      "  df.loc[:,output_col] = scaler.inverse_transform(predictions)\n"
     ]
    },
    {
     "name": "stdout",
     "output_type": "stream",
     "text": [
      "71/71 [==============================] - 8s 116ms/step - loss: 0.0476\n",
      "Epoch 2/3\n",
      "71/71 [==============================] - 8s 113ms/step - loss: 3.6685e-06\n",
      "Epoch 3/3\n",
      "71/71 [==============================] - 8s 113ms/step - loss: 3.5285e-06\n",
      "Epoch 1/3\n"
     ]
    },
    {
     "name": "stderr",
     "output_type": "stream",
     "text": [
      "/tmp/ipykernel_1925610/474618250.py:42: SettingWithCopyWarning: \n",
      "A value is trying to be set on a copy of a slice from a DataFrame.\n",
      "Try using .loc[row_indexer,col_indexer] = value instead\n",
      "\n",
      "See the caveats in the documentation: https://pandas.pydata.org/pandas-docs/stable/user_guide/indexing.html#returning-a-view-versus-a-copy\n",
      "  df.loc[:,output_col] = scaler.inverse_transform(predictions)\n"
     ]
    },
    {
     "name": "stdout",
     "output_type": "stream",
     "text": [
      "71/71 [==============================] - 1s 16ms/step - loss: 0.0123\n",
      "Epoch 2/3\n",
      "71/71 [==============================] - 1s 16ms/step - loss: 1.3731e-06\n",
      "Epoch 3/3\n",
      "71/71 [==============================] - 1s 16ms/step - loss: 4.6934e-08\n",
      "Epoch 1/3\n"
     ]
    },
    {
     "name": "stderr",
     "output_type": "stream",
     "text": [
      "/tmp/ipykernel_1925610/474618250.py:42: SettingWithCopyWarning: \n",
      "A value is trying to be set on a copy of a slice from a DataFrame.\n",
      "Try using .loc[row_indexer,col_indexer] = value instead\n",
      "\n",
      "See the caveats in the documentation: https://pandas.pydata.org/pandas-docs/stable/user_guide/indexing.html#returning-a-view-versus-a-copy\n",
      "  df.loc[:,output_col] = scaler.inverse_transform(predictions)\n"
     ]
    },
    {
     "name": "stdout",
     "output_type": "stream",
     "text": [
      "71/71 [==============================] - 3s 32ms/step - loss: 0.0106\n",
      "Epoch 2/3\n",
      "71/71 [==============================] - 2s 33ms/step - loss: 5.0583e-06\n",
      "Epoch 3/3\n",
      "71/71 [==============================] - 2s 33ms/step - loss: 4.9582e-07\n",
      "Epoch 1/3\n"
     ]
    },
    {
     "name": "stderr",
     "output_type": "stream",
     "text": [
      "/tmp/ipykernel_1925610/474618250.py:42: SettingWithCopyWarning: \n",
      "A value is trying to be set on a copy of a slice from a DataFrame.\n",
      "Try using .loc[row_indexer,col_indexer] = value instead\n",
      "\n",
      "See the caveats in the documentation: https://pandas.pydata.org/pandas-docs/stable/user_guide/indexing.html#returning-a-view-versus-a-copy\n",
      "  df.loc[:,output_col] = scaler.inverse_transform(predictions)\n"
     ]
    },
    {
     "name": "stdout",
     "output_type": "stream",
     "text": [
      "71/71 [==============================] - 5s 60ms/step - loss: 0.0475\n",
      "Epoch 2/3\n",
      "71/71 [==============================] - 4s 60ms/step - loss: 3.2957e-06\n",
      "Epoch 3/3\n",
      "71/71 [==============================] - 4s 60ms/step - loss: 2.8692e-06\n",
      "Epoch 1/3\n"
     ]
    },
    {
     "name": "stderr",
     "output_type": "stream",
     "text": [
      "/tmp/ipykernel_1925610/474618250.py:42: SettingWithCopyWarning: \n",
      "A value is trying to be set on a copy of a slice from a DataFrame.\n",
      "Try using .loc[row_indexer,col_indexer] = value instead\n",
      "\n",
      "See the caveats in the documentation: https://pandas.pydata.org/pandas-docs/stable/user_guide/indexing.html#returning-a-view-versus-a-copy\n",
      "  df.loc[:,output_col] = scaler.inverse_transform(predictions)\n"
     ]
    },
    {
     "name": "stdout",
     "output_type": "stream",
     "text": [
      "71/71 [==============================] - 6s 84ms/step - loss: 0.0112\n",
      "Epoch 2/3\n",
      "71/71 [==============================] - 6s 84ms/step - loss: 7.4643e-07\n",
      "Epoch 3/3\n",
      "71/71 [==============================] - 6s 84ms/step - loss: 5.1613e-07\n",
      "Epoch 1/3\n"
     ]
    },
    {
     "name": "stderr",
     "output_type": "stream",
     "text": [
      "/tmp/ipykernel_1925610/474618250.py:42: SettingWithCopyWarning: \n",
      "A value is trying to be set on a copy of a slice from a DataFrame.\n",
      "Try using .loc[row_indexer,col_indexer] = value instead\n",
      "\n",
      "See the caveats in the documentation: https://pandas.pydata.org/pandas-docs/stable/user_guide/indexing.html#returning-a-view-versus-a-copy\n",
      "  df.loc[:,output_col] = scaler.inverse_transform(predictions)\n"
     ]
    },
    {
     "name": "stdout",
     "output_type": "stream",
     "text": [
      "71/71 [==============================] - 8s 114ms/step - loss: 0.1327\n",
      "Epoch 2/3\n",
      "71/71 [==============================] - 8s 113ms/step - loss: 3.3785e-06\n",
      "Epoch 3/3\n",
      "71/71 [==============================] - 8s 113ms/step - loss: 3.1478e-06\n",
      "Epoch 1/3\n"
     ]
    },
    {
     "name": "stderr",
     "output_type": "stream",
     "text": [
      "/tmp/ipykernel_1925610/474618250.py:42: SettingWithCopyWarning: \n",
      "A value is trying to be set on a copy of a slice from a DataFrame.\n",
      "Try using .loc[row_indexer,col_indexer] = value instead\n",
      "\n",
      "See the caveats in the documentation: https://pandas.pydata.org/pandas-docs/stable/user_guide/indexing.html#returning-a-view-versus-a-copy\n",
      "  df.loc[:,output_col] = scaler.inverse_transform(predictions)\n"
     ]
    },
    {
     "name": "stdout",
     "output_type": "stream",
     "text": [
      "71/71 [==============================] - 1s 16ms/step - loss: 0.0100\n",
      "Epoch 2/3\n",
      "71/71 [==============================] - 1s 16ms/step - loss: 2.2669e-06\n",
      "Epoch 3/3\n",
      "71/71 [==============================] - 1s 16ms/step - loss: 1.6541e-06\n",
      "Epoch 1/3\n"
     ]
    },
    {
     "name": "stderr",
     "output_type": "stream",
     "text": [
      "/tmp/ipykernel_1925610/474618250.py:42: SettingWithCopyWarning: \n",
      "A value is trying to be set on a copy of a slice from a DataFrame.\n",
      "Try using .loc[row_indexer,col_indexer] = value instead\n",
      "\n",
      "See the caveats in the documentation: https://pandas.pydata.org/pandas-docs/stable/user_guide/indexing.html#returning-a-view-versus-a-copy\n",
      "  df.loc[:,output_col] = scaler.inverse_transform(predictions)\n"
     ]
    },
    {
     "name": "stdout",
     "output_type": "stream",
     "text": [
      "71/71 [==============================] - 3s 33ms/step - loss: 0.0217\n",
      "Epoch 2/3\n",
      "71/71 [==============================] - 2s 33ms/step - loss: 4.6255e-06\n",
      "Epoch 3/3\n",
      "71/71 [==============================] - 2s 33ms/step - loss: 3.3207e-06\n",
      "Epoch 1/3\n"
     ]
    },
    {
     "name": "stderr",
     "output_type": "stream",
     "text": [
      "/tmp/ipykernel_1925610/474618250.py:42: SettingWithCopyWarning: \n",
      "A value is trying to be set on a copy of a slice from a DataFrame.\n",
      "Try using .loc[row_indexer,col_indexer] = value instead\n",
      "\n",
      "See the caveats in the documentation: https://pandas.pydata.org/pandas-docs/stable/user_guide/indexing.html#returning-a-view-versus-a-copy\n",
      "  df.loc[:,output_col] = scaler.inverse_transform(predictions)\n"
     ]
    },
    {
     "name": "stdout",
     "output_type": "stream",
     "text": [
      "71/71 [==============================] - 4s 60ms/step - loss: 0.0340\n",
      "Epoch 2/3\n",
      "71/71 [==============================] - 4s 60ms/step - loss: 3.9140e-06\n",
      "Epoch 3/3\n",
      "71/71 [==============================] - 4s 60ms/step - loss: 2.9227e-06\n",
      "Epoch 1/3\n"
     ]
    },
    {
     "name": "stderr",
     "output_type": "stream",
     "text": [
      "/tmp/ipykernel_1925610/474618250.py:42: SettingWithCopyWarning: \n",
      "A value is trying to be set on a copy of a slice from a DataFrame.\n",
      "Try using .loc[row_indexer,col_indexer] = value instead\n",
      "\n",
      "See the caveats in the documentation: https://pandas.pydata.org/pandas-docs/stable/user_guide/indexing.html#returning-a-view-versus-a-copy\n",
      "  df.loc[:,output_col] = scaler.inverse_transform(predictions)\n"
     ]
    },
    {
     "name": "stdout",
     "output_type": "stream",
     "text": [
      "71/71 [==============================] - 6s 84ms/step - loss: 0.0175\n",
      "Epoch 2/3\n",
      "71/71 [==============================] - 6s 84ms/step - loss: 1.6480e-06\n",
      "Epoch 3/3\n",
      "71/71 [==============================] - 6s 84ms/step - loss: 1.3530e-06\n",
      "Epoch 1/3\n"
     ]
    },
    {
     "name": "stderr",
     "output_type": "stream",
     "text": [
      "/tmp/ipykernel_1925610/474618250.py:42: SettingWithCopyWarning: \n",
      "A value is trying to be set on a copy of a slice from a DataFrame.\n",
      "Try using .loc[row_indexer,col_indexer] = value instead\n",
      "\n",
      "See the caveats in the documentation: https://pandas.pydata.org/pandas-docs/stable/user_guide/indexing.html#returning-a-view-versus-a-copy\n",
      "  df.loc[:,output_col] = scaler.inverse_transform(predictions)\n"
     ]
    },
    {
     "name": "stdout",
     "output_type": "stream",
     "text": [
      "71/71 [==============================] - 8s 113ms/step - loss: 0.0567\n",
      "Epoch 2/3\n",
      "71/71 [==============================] - 8s 113ms/step - loss: 9.7478e-06\n",
      "Epoch 3/3\n",
      "71/71 [==============================] - 8s 113ms/step - loss: 3.9159e-06\n",
      "Epoch 1/3\n"
     ]
    },
    {
     "name": "stderr",
     "output_type": "stream",
     "text": [
      "/tmp/ipykernel_1925610/474618250.py:42: SettingWithCopyWarning: \n",
      "A value is trying to be set on a copy of a slice from a DataFrame.\n",
      "Try using .loc[row_indexer,col_indexer] = value instead\n",
      "\n",
      "See the caveats in the documentation: https://pandas.pydata.org/pandas-docs/stable/user_guide/indexing.html#returning-a-view-versus-a-copy\n",
      "  df.loc[:,output_col] = scaler.inverse_transform(predictions)\n"
     ]
    },
    {
     "name": "stdout",
     "output_type": "stream",
     "text": [
      "71/71 [==============================] - 4s 50ms/step - loss: 0.0347\n",
      "Epoch 2/3\n",
      "71/71 [==============================] - 4s 50ms/step - loss: 1.1393e-05\n",
      "Epoch 3/3\n",
      "71/71 [==============================] - 4s 50ms/step - loss: 3.4407e-06\n",
      "Epoch 1/3\n"
     ]
    },
    {
     "name": "stderr",
     "output_type": "stream",
     "text": [
      "/tmp/ipykernel_1925610/474618250.py:42: SettingWithCopyWarning: \n",
      "A value is trying to be set on a copy of a slice from a DataFrame.\n",
      "Try using .loc[row_indexer,col_indexer] = value instead\n",
      "\n",
      "See the caveats in the documentation: https://pandas.pydata.org/pandas-docs/stable/user_guide/indexing.html#returning-a-view-versus-a-copy\n",
      "  df.loc[:,output_col] = scaler.inverse_transform(predictions)\n"
     ]
    },
    {
     "name": "stdout",
     "output_type": "stream",
     "text": [
      "71/71 [==============================] - 4s 50ms/step - loss: 0.0182\n",
      "Epoch 2/3\n",
      "71/71 [==============================] - 4s 50ms/step - loss: 3.4227e-06\n",
      "Epoch 3/3\n",
      "71/71 [==============================] - 4s 50ms/step - loss: 2.4340e-06\n",
      "Epoch 1/3\n"
     ]
    },
    {
     "name": "stderr",
     "output_type": "stream",
     "text": [
      "/tmp/ipykernel_1925610/474618250.py:42: SettingWithCopyWarning: \n",
      "A value is trying to be set on a copy of a slice from a DataFrame.\n",
      "Try using .loc[row_indexer,col_indexer] = value instead\n",
      "\n",
      "See the caveats in the documentation: https://pandas.pydata.org/pandas-docs/stable/user_guide/indexing.html#returning-a-view-versus-a-copy\n",
      "  df.loc[:,output_col] = scaler.inverse_transform(predictions)\n"
     ]
    },
    {
     "name": "stdout",
     "output_type": "stream",
     "text": [
      "71/71 [==============================] - 4s 50ms/step - loss: 0.0137\n",
      "Epoch 2/3\n",
      "71/71 [==============================] - 4s 50ms/step - loss: 2.3326e-06\n",
      "Epoch 3/3\n",
      "71/71 [==============================] - 4s 51ms/step - loss: 1.5145e-06\n",
      "Epoch 1/3\n"
     ]
    },
    {
     "name": "stderr",
     "output_type": "stream",
     "text": [
      "/tmp/ipykernel_1925610/474618250.py:42: SettingWithCopyWarning: \n",
      "A value is trying to be set on a copy of a slice from a DataFrame.\n",
      "Try using .loc[row_indexer,col_indexer] = value instead\n",
      "\n",
      "See the caveats in the documentation: https://pandas.pydata.org/pandas-docs/stable/user_guide/indexing.html#returning-a-view-versus-a-copy\n",
      "  df.loc[:,output_col] = scaler.inverse_transform(predictions)\n"
     ]
    },
    {
     "name": "stdout",
     "output_type": "stream",
     "text": [
      "71/71 [==============================] - 4s 50ms/step - loss: 0.0283\n",
      "Epoch 2/3\n",
      "71/71 [==============================] - 4s 50ms/step - loss: 8.6311e-06\n",
      "Epoch 3/3\n",
      "71/71 [==============================] - 4s 50ms/step - loss: 2.3159e-06\n",
      "Epoch 1/3\n"
     ]
    },
    {
     "name": "stderr",
     "output_type": "stream",
     "text": [
      "/tmp/ipykernel_1925610/474618250.py:42: SettingWithCopyWarning: \n",
      "A value is trying to be set on a copy of a slice from a DataFrame.\n",
      "Try using .loc[row_indexer,col_indexer] = value instead\n",
      "\n",
      "See the caveats in the documentation: https://pandas.pydata.org/pandas-docs/stable/user_guide/indexing.html#returning-a-view-versus-a-copy\n",
      "  df.loc[:,output_col] = scaler.inverse_transform(predictions)\n"
     ]
    },
    {
     "name": "stdout",
     "output_type": "stream",
     "text": [
      "71/71 [==============================] - 4s 50ms/step - loss: 0.0045\n",
      "Epoch 2/3\n",
      "71/71 [==============================] - 4s 50ms/step - loss: 1.4439e-06\n",
      "Epoch 3/3\n",
      "71/71 [==============================] - 4s 50ms/step - loss: 1.0831e-06\n",
      "Epoch 1/3\n"
     ]
    },
    {
     "name": "stderr",
     "output_type": "stream",
     "text": [
      "/tmp/ipykernel_1925610/474618250.py:42: SettingWithCopyWarning: \n",
      "A value is trying to be set on a copy of a slice from a DataFrame.\n",
      "Try using .loc[row_indexer,col_indexer] = value instead\n",
      "\n",
      "See the caveats in the documentation: https://pandas.pydata.org/pandas-docs/stable/user_guide/indexing.html#returning-a-view-versus-a-copy\n",
      "  df.loc[:,output_col] = scaler.inverse_transform(predictions)\n"
     ]
    },
    {
     "name": "stdout",
     "output_type": "stream",
     "text": [
      "71/71 [==============================] - 4s 50ms/step - loss: 0.0289\n",
      "Epoch 2/3\n",
      "71/71 [==============================] - 4s 50ms/step - loss: 3.7657e-06\n",
      "Epoch 3/3\n",
      "71/71 [==============================] - 4s 50ms/step - loss: 2.9121e-06\n",
      "Epoch 1/3\n"
     ]
    },
    {
     "name": "stderr",
     "output_type": "stream",
     "text": [
      "/tmp/ipykernel_1925610/474618250.py:42: SettingWithCopyWarning: \n",
      "A value is trying to be set on a copy of a slice from a DataFrame.\n",
      "Try using .loc[row_indexer,col_indexer] = value instead\n",
      "\n",
      "See the caveats in the documentation: https://pandas.pydata.org/pandas-docs/stable/user_guide/indexing.html#returning-a-view-versus-a-copy\n",
      "  df.loc[:,output_col] = scaler.inverse_transform(predictions)\n"
     ]
    },
    {
     "name": "stdout",
     "output_type": "stream",
     "text": [
      "71/71 [==============================] - 4s 50ms/step - loss: 7.0836e-04\n",
      "Epoch 2/3\n",
      "71/71 [==============================] - 4s 50ms/step - loss: 6.1612e-07\n",
      "Epoch 3/3\n",
      "71/71 [==============================] - 4s 50ms/step - loss: 1.5390e-07\n",
      "Epoch 1/3\n"
     ]
    },
    {
     "name": "stderr",
     "output_type": "stream",
     "text": [
      "/tmp/ipykernel_1925610/474618250.py:42: SettingWithCopyWarning: \n",
      "A value is trying to be set on a copy of a slice from a DataFrame.\n",
      "Try using .loc[row_indexer,col_indexer] = value instead\n",
      "\n",
      "See the caveats in the documentation: https://pandas.pydata.org/pandas-docs/stable/user_guide/indexing.html#returning-a-view-versus-a-copy\n",
      "  df.loc[:,output_col] = scaler.inverse_transform(predictions)\n"
     ]
    },
    {
     "name": "stdout",
     "output_type": "stream",
     "text": [
      "71/71 [==============================] - 4s 51ms/step - loss: 0.0112\n",
      "Epoch 2/3\n",
      "71/71 [==============================] - 4s 50ms/step - loss: 7.2773e-07\n",
      "Epoch 3/3\n",
      "71/71 [==============================] - 4s 50ms/step - loss: 5.0537e-07\n",
      "Epoch 1/3\n"
     ]
    },
    {
     "name": "stderr",
     "output_type": "stream",
     "text": [
      "/tmp/ipykernel_1925610/474618250.py:42: SettingWithCopyWarning: \n",
      "A value is trying to be set on a copy of a slice from a DataFrame.\n",
      "Try using .loc[row_indexer,col_indexer] = value instead\n",
      "\n",
      "See the caveats in the documentation: https://pandas.pydata.org/pandas-docs/stable/user_guide/indexing.html#returning-a-view-versus-a-copy\n",
      "  df.loc[:,output_col] = scaler.inverse_transform(predictions)\n"
     ]
    },
    {
     "name": "stdout",
     "output_type": "stream",
     "text": [
      "71/71 [==============================] - 4s 51ms/step - loss: 0.0093\n",
      "Epoch 2/3\n",
      "71/71 [==============================] - 4s 50ms/step - loss: 1.7194e-06\n",
      "Epoch 3/3\n",
      "71/71 [==============================] - 4s 50ms/step - loss: 1.2245e-06\n",
      "Epoch 1/3\n"
     ]
    },
    {
     "name": "stderr",
     "output_type": "stream",
     "text": [
      "/tmp/ipykernel_1925610/474618250.py:42: SettingWithCopyWarning: \n",
      "A value is trying to be set on a copy of a slice from a DataFrame.\n",
      "Try using .loc[row_indexer,col_indexer] = value instead\n",
      "\n",
      "See the caveats in the documentation: https://pandas.pydata.org/pandas-docs/stable/user_guide/indexing.html#returning-a-view-versus-a-copy\n",
      "  df.loc[:,output_col] = scaler.inverse_transform(predictions)\n"
     ]
    },
    {
     "name": "stdout",
     "output_type": "stream",
     "text": [
      "71/71 [==============================] - 4s 50ms/step - loss: 0.0087\n",
      "Epoch 2/3\n",
      "71/71 [==============================] - 4s 50ms/step - loss: 2.2699e-06\n",
      "Epoch 3/3\n",
      "71/71 [==============================] - 4s 50ms/step - loss: 1.5441e-06\n",
      "Epoch 1/3\n"
     ]
    },
    {
     "name": "stderr",
     "output_type": "stream",
     "text": [
      "/tmp/ipykernel_1925610/474618250.py:42: SettingWithCopyWarning: \n",
      "A value is trying to be set on a copy of a slice from a DataFrame.\n",
      "Try using .loc[row_indexer,col_indexer] = value instead\n",
      "\n",
      "See the caveats in the documentation: https://pandas.pydata.org/pandas-docs/stable/user_guide/indexing.html#returning-a-view-versus-a-copy\n",
      "  df.loc[:,output_col] = scaler.inverse_transform(predictions)\n"
     ]
    },
    {
     "name": "stdout",
     "output_type": "stream",
     "text": [
      "71/71 [==============================] - 4s 50ms/step - loss: 0.0161\n",
      "Epoch 2/3\n",
      "71/71 [==============================] - 4s 50ms/step - loss: 1.5282e-06\n",
      "Epoch 3/3\n",
      "71/71 [==============================] - 4s 50ms/step - loss: 1.3290e-06\n",
      "Epoch 1/3\n"
     ]
    },
    {
     "name": "stderr",
     "output_type": "stream",
     "text": [
      "/tmp/ipykernel_1925610/474618250.py:42: SettingWithCopyWarning: \n",
      "A value is trying to be set on a copy of a slice from a DataFrame.\n",
      "Try using .loc[row_indexer,col_indexer] = value instead\n",
      "\n",
      "See the caveats in the documentation: https://pandas.pydata.org/pandas-docs/stable/user_guide/indexing.html#returning-a-view-versus-a-copy\n",
      "  df.loc[:,output_col] = scaler.inverse_transform(predictions)\n"
     ]
    },
    {
     "name": "stdout",
     "output_type": "stream",
     "text": [
      "71/71 [==============================] - 4s 50ms/step - loss: 0.0052\n",
      "Epoch 2/3\n",
      "71/71 [==============================] - 4s 50ms/step - loss: 1.9028e-07\n",
      "Epoch 3/3\n",
      "71/71 [==============================] - 4s 50ms/step - loss: 1.5640e-07\n",
      "Epoch 1/3\n"
     ]
    },
    {
     "name": "stderr",
     "output_type": "stream",
     "text": [
      "/tmp/ipykernel_1925610/474618250.py:42: SettingWithCopyWarning: \n",
      "A value is trying to be set on a copy of a slice from a DataFrame.\n",
      "Try using .loc[row_indexer,col_indexer] = value instead\n",
      "\n",
      "See the caveats in the documentation: https://pandas.pydata.org/pandas-docs/stable/user_guide/indexing.html#returning-a-view-versus-a-copy\n",
      "  df.loc[:,output_col] = scaler.inverse_transform(predictions)\n"
     ]
    },
    {
     "name": "stdout",
     "output_type": "stream",
     "text": [
      "71/71 [==============================] - 4s 50ms/step - loss: 0.0232\n",
      "Epoch 2/3\n",
      "71/71 [==============================] - 4s 50ms/step - loss: 8.5692e-06\n",
      "Epoch 3/3\n",
      "71/71 [==============================] - 4s 50ms/step - loss: 1.9718e-06\n",
      "Epoch 1/3\n"
     ]
    },
    {
     "name": "stderr",
     "output_type": "stream",
     "text": [
      "/tmp/ipykernel_1925610/474618250.py:42: SettingWithCopyWarning: \n",
      "A value is trying to be set on a copy of a slice from a DataFrame.\n",
      "Try using .loc[row_indexer,col_indexer] = value instead\n",
      "\n",
      "See the caveats in the documentation: https://pandas.pydata.org/pandas-docs/stable/user_guide/indexing.html#returning-a-view-versus-a-copy\n",
      "  df.loc[:,output_col] = scaler.inverse_transform(predictions)\n"
     ]
    },
    {
     "name": "stdout",
     "output_type": "stream",
     "text": [
      "71/71 [==============================] - 4s 50ms/step - loss: 0.0177\n",
      "Epoch 2/3\n",
      "71/71 [==============================] - 4s 51ms/step - loss: 2.0268e-06\n",
      "Epoch 3/3\n",
      "71/71 [==============================] - 4s 50ms/step - loss: 1.6174e-06\n",
      "Epoch 1/3\n"
     ]
    },
    {
     "name": "stderr",
     "output_type": "stream",
     "text": [
      "/tmp/ipykernel_1925610/474618250.py:42: SettingWithCopyWarning: \n",
      "A value is trying to be set on a copy of a slice from a DataFrame.\n",
      "Try using .loc[row_indexer,col_indexer] = value instead\n",
      "\n",
      "See the caveats in the documentation: https://pandas.pydata.org/pandas-docs/stable/user_guide/indexing.html#returning-a-view-versus-a-copy\n",
      "  df.loc[:,output_col] = scaler.inverse_transform(predictions)\n"
     ]
    },
    {
     "name": "stdout",
     "output_type": "stream",
     "text": [
      "71/71 [==============================] - 4s 50ms/step - loss: 0.0199\n",
      "Epoch 2/3\n",
      "71/71 [==============================] - 4s 50ms/step - loss: 6.1000e-06\n",
      "Epoch 3/3\n",
      "71/71 [==============================] - 4s 50ms/step - loss: 1.2312e-06\n",
      "Epoch 1/3\n"
     ]
    },
    {
     "name": "stderr",
     "output_type": "stream",
     "text": [
      "/tmp/ipykernel_1925610/474618250.py:42: SettingWithCopyWarning: \n",
      "A value is trying to be set on a copy of a slice from a DataFrame.\n",
      "Try using .loc[row_indexer,col_indexer] = value instead\n",
      "\n",
      "See the caveats in the documentation: https://pandas.pydata.org/pandas-docs/stable/user_guide/indexing.html#returning-a-view-versus-a-copy\n",
      "  df.loc[:,output_col] = scaler.inverse_transform(predictions)\n"
     ]
    },
    {
     "name": "stdout",
     "output_type": "stream",
     "text": [
      "71/71 [==============================] - 4s 50ms/step - loss: 0.0070\n",
      "Epoch 2/3\n",
      "71/71 [==============================] - 4s 50ms/step - loss: 2.2552e-06\n",
      "Epoch 3/3\n",
      "71/71 [==============================] - 4s 50ms/step - loss: 1.4719e-06\n",
      "Epoch 1/3\n"
     ]
    },
    {
     "name": "stderr",
     "output_type": "stream",
     "text": [
      "/tmp/ipykernel_1925610/474618250.py:42: SettingWithCopyWarning: \n",
      "A value is trying to be set on a copy of a slice from a DataFrame.\n",
      "Try using .loc[row_indexer,col_indexer] = value instead\n",
      "\n",
      "See the caveats in the documentation: https://pandas.pydata.org/pandas-docs/stable/user_guide/indexing.html#returning-a-view-versus-a-copy\n",
      "  df.loc[:,output_col] = scaler.inverse_transform(predictions)\n"
     ]
    },
    {
     "name": "stdout",
     "output_type": "stream",
     "text": [
      "71/71 [==============================] - 4s 50ms/step - loss: 0.0153\n",
      "Epoch 2/3\n",
      "71/71 [==============================] - 4s 50ms/step - loss: 1.1849e-06\n",
      "Epoch 3/3\n",
      "71/71 [==============================] - 4s 50ms/step - loss: 8.1312e-07\n",
      "Epoch 1/3\n"
     ]
    },
    {
     "name": "stderr",
     "output_type": "stream",
     "text": [
      "/tmp/ipykernel_1925610/474618250.py:42: SettingWithCopyWarning: \n",
      "A value is trying to be set on a copy of a slice from a DataFrame.\n",
      "Try using .loc[row_indexer,col_indexer] = value instead\n",
      "\n",
      "See the caveats in the documentation: https://pandas.pydata.org/pandas-docs/stable/user_guide/indexing.html#returning-a-view-versus-a-copy\n",
      "  df.loc[:,output_col] = scaler.inverse_transform(predictions)\n"
     ]
    },
    {
     "name": "stdout",
     "output_type": "stream",
     "text": [
      "71/71 [==============================] - 4s 50ms/step - loss: 0.0159\n",
      "Epoch 2/3\n",
      "71/71 [==============================] - 4s 50ms/step - loss: 6.6590e-06\n",
      "Epoch 3/3\n",
      "71/71 [==============================] - 4s 50ms/step - loss: 1.0813e-06\n",
      "Epoch 1/3\n"
     ]
    },
    {
     "name": "stderr",
     "output_type": "stream",
     "text": [
      "/tmp/ipykernel_1925610/474618250.py:42: SettingWithCopyWarning: \n",
      "A value is trying to be set on a copy of a slice from a DataFrame.\n",
      "Try using .loc[row_indexer,col_indexer] = value instead\n",
      "\n",
      "See the caveats in the documentation: https://pandas.pydata.org/pandas-docs/stable/user_guide/indexing.html#returning-a-view-versus-a-copy\n",
      "  df.loc[:,output_col] = scaler.inverse_transform(predictions)\n"
     ]
    },
    {
     "name": "stdout",
     "output_type": "stream",
     "text": [
      "71/71 [==============================] - 4s 50ms/step - loss: 0.0074\n",
      "Epoch 2/3\n",
      "71/71 [==============================] - 4s 50ms/step - loss: 2.4853e-06\n",
      "Epoch 3/3\n",
      "71/71 [==============================] - 4s 50ms/step - loss: 1.6219e-06\n",
      "Epoch 1/3\n"
     ]
    },
    {
     "name": "stderr",
     "output_type": "stream",
     "text": [
      "/tmp/ipykernel_1925610/474618250.py:42: SettingWithCopyWarning: \n",
      "A value is trying to be set on a copy of a slice from a DataFrame.\n",
      "Try using .loc[row_indexer,col_indexer] = value instead\n",
      "\n",
      "See the caveats in the documentation: https://pandas.pydata.org/pandas-docs/stable/user_guide/indexing.html#returning-a-view-versus-a-copy\n",
      "  df.loc[:,output_col] = scaler.inverse_transform(predictions)\n"
     ]
    },
    {
     "name": "stdout",
     "output_type": "stream",
     "text": [
      "71/71 [==============================] - 4s 50ms/step - loss: 0.0028\n",
      "Epoch 2/3\n",
      "71/71 [==============================] - 4s 50ms/step - loss: 6.8451e-07\n",
      "Epoch 3/3\n",
      "71/71 [==============================] - 4s 50ms/step - loss: 6.3125e-09\n",
      "Epoch 1/3\n"
     ]
    },
    {
     "name": "stderr",
     "output_type": "stream",
     "text": [
      "/tmp/ipykernel_1925610/474618250.py:42: SettingWithCopyWarning: \n",
      "A value is trying to be set on a copy of a slice from a DataFrame.\n",
      "Try using .loc[row_indexer,col_indexer] = value instead\n",
      "\n",
      "See the caveats in the documentation: https://pandas.pydata.org/pandas-docs/stable/user_guide/indexing.html#returning-a-view-versus-a-copy\n",
      "  df.loc[:,output_col] = scaler.inverse_transform(predictions)\n"
     ]
    },
    {
     "name": "stdout",
     "output_type": "stream",
     "text": [
      "71/71 [==============================] - 4s 50ms/step - loss: 0.0400\n",
      "Epoch 2/3\n",
      "71/71 [==============================] - 4s 50ms/step - loss: 4.6801e-06\n",
      "Epoch 3/3\n",
      "71/71 [==============================] - 4s 50ms/step - loss: 1.5329e-06\n",
      "Epoch 1/3\n"
     ]
    },
    {
     "name": "stderr",
     "output_type": "stream",
     "text": [
      "/tmp/ipykernel_1925610/474618250.py:42: SettingWithCopyWarning: \n",
      "A value is trying to be set on a copy of a slice from a DataFrame.\n",
      "Try using .loc[row_indexer,col_indexer] = value instead\n",
      "\n",
      "See the caveats in the documentation: https://pandas.pydata.org/pandas-docs/stable/user_guide/indexing.html#returning-a-view-versus-a-copy\n",
      "  df.loc[:,output_col] = scaler.inverse_transform(predictions)\n"
     ]
    },
    {
     "name": "stdout",
     "output_type": "stream",
     "text": [
      "71/71 [==============================] - 4s 50ms/step - loss: 0.0276\n",
      "Epoch 2/3\n",
      "71/71 [==============================] - 4s 50ms/step - loss: 1.8696e-06\n",
      "Epoch 3/3\n",
      "71/71 [==============================] - 4s 50ms/step - loss: 1.6108e-06\n",
      "Epoch 1/3\n"
     ]
    },
    {
     "name": "stderr",
     "output_type": "stream",
     "text": [
      "/tmp/ipykernel_1925610/474618250.py:42: SettingWithCopyWarning: \n",
      "A value is trying to be set on a copy of a slice from a DataFrame.\n",
      "Try using .loc[row_indexer,col_indexer] = value instead\n",
      "\n",
      "See the caveats in the documentation: https://pandas.pydata.org/pandas-docs/stable/user_guide/indexing.html#returning-a-view-versus-a-copy\n",
      "  df.loc[:,output_col] = scaler.inverse_transform(predictions)\n"
     ]
    },
    {
     "name": "stdout",
     "output_type": "stream",
     "text": [
      "71/71 [==============================] - 4s 50ms/step - loss: 0.0944\n",
      "Epoch 2/3\n",
      "71/71 [==============================] - 4s 50ms/step - loss: 4.5024e-06\n",
      "Epoch 3/3\n",
      "71/71 [==============================] - 4s 50ms/step - loss: 3.9929e-06\n",
      "Epoch 1/3\n"
     ]
    },
    {
     "name": "stderr",
     "output_type": "stream",
     "text": [
      "/tmp/ipykernel_1925610/474618250.py:42: SettingWithCopyWarning: \n",
      "A value is trying to be set on a copy of a slice from a DataFrame.\n",
      "Try using .loc[row_indexer,col_indexer] = value instead\n",
      "\n",
      "See the caveats in the documentation: https://pandas.pydata.org/pandas-docs/stable/user_guide/indexing.html#returning-a-view-versus-a-copy\n",
      "  df.loc[:,output_col] = scaler.inverse_transform(predictions)\n"
     ]
    },
    {
     "name": "stdout",
     "output_type": "stream",
     "text": [
      "71/71 [==============================] - 4s 50ms/step - loss: 0.0221\n",
      "Epoch 2/3\n",
      "71/71 [==============================] - 4s 50ms/step - loss: 2.2737e-06\n",
      "Epoch 3/3\n",
      "71/71 [==============================] - 4s 50ms/step - loss: 1.8485e-06\n",
      "Epoch 1/3\n"
     ]
    },
    {
     "name": "stderr",
     "output_type": "stream",
     "text": [
      "/tmp/ipykernel_1925610/474618250.py:42: SettingWithCopyWarning: \n",
      "A value is trying to be set on a copy of a slice from a DataFrame.\n",
      "Try using .loc[row_indexer,col_indexer] = value instead\n",
      "\n",
      "See the caveats in the documentation: https://pandas.pydata.org/pandas-docs/stable/user_guide/indexing.html#returning-a-view-versus-a-copy\n",
      "  df.loc[:,output_col] = scaler.inverse_transform(predictions)\n"
     ]
    },
    {
     "name": "stdout",
     "output_type": "stream",
     "text": [
      "71/71 [==============================] - 4s 51ms/step - loss: 0.0056\n",
      "Epoch 2/3\n",
      "71/71 [==============================] - 4s 50ms/step - loss: 6.6741e-07\n",
      "Epoch 3/3\n",
      "71/71 [==============================] - 4s 50ms/step - loss: 2.7354e-08\n",
      "Epoch 1/3\n"
     ]
    },
    {
     "name": "stderr",
     "output_type": "stream",
     "text": [
      "/tmp/ipykernel_1925610/474618250.py:42: SettingWithCopyWarning: \n",
      "A value is trying to be set on a copy of a slice from a DataFrame.\n",
      "Try using .loc[row_indexer,col_indexer] = value instead\n",
      "\n",
      "See the caveats in the documentation: https://pandas.pydata.org/pandas-docs/stable/user_guide/indexing.html#returning-a-view-versus-a-copy\n",
      "  df.loc[:,output_col] = scaler.inverse_transform(predictions)\n"
     ]
    },
    {
     "name": "stdout",
     "output_type": "stream",
     "text": [
      "71/71 [==============================] - 4s 50ms/step - loss: 0.0093\n",
      "Epoch 2/3\n",
      "71/71 [==============================] - 4s 50ms/step - loss: 5.3476e-07\n",
      "Epoch 3/3\n",
      "71/71 [==============================] - 4s 50ms/step - loss: 2.6030e-07\n",
      "Epoch 1/3\n"
     ]
    },
    {
     "name": "stderr",
     "output_type": "stream",
     "text": [
      "/tmp/ipykernel_1925610/474618250.py:42: SettingWithCopyWarning: \n",
      "A value is trying to be set on a copy of a slice from a DataFrame.\n",
      "Try using .loc[row_indexer,col_indexer] = value instead\n",
      "\n",
      "See the caveats in the documentation: https://pandas.pydata.org/pandas-docs/stable/user_guide/indexing.html#returning-a-view-versus-a-copy\n",
      "  df.loc[:,output_col] = scaler.inverse_transform(predictions)\n"
     ]
    },
    {
     "name": "stdout",
     "output_type": "stream",
     "text": [
      "71/71 [==============================] - 4s 50ms/step - loss: 0.0320\n",
      "Epoch 2/3\n",
      "71/71 [==============================] - 4s 50ms/step - loss: 1.0858e-05\n",
      "Epoch 3/3\n",
      "71/71 [==============================] - 4s 50ms/step - loss: 3.1435e-06\n",
      "Epoch 1/3\n"
     ]
    },
    {
     "name": "stderr",
     "output_type": "stream",
     "text": [
      "/tmp/ipykernel_1925610/474618250.py:42: SettingWithCopyWarning: \n",
      "A value is trying to be set on a copy of a slice from a DataFrame.\n",
      "Try using .loc[row_indexer,col_indexer] = value instead\n",
      "\n",
      "See the caveats in the documentation: https://pandas.pydata.org/pandas-docs/stable/user_guide/indexing.html#returning-a-view-versus-a-copy\n",
      "  df.loc[:,output_col] = scaler.inverse_transform(predictions)\n"
     ]
    },
    {
     "name": "stdout",
     "output_type": "stream",
     "text": [
      "71/71 [==============================] - 4s 50ms/step - loss: 0.0159\n",
      "Epoch 2/3\n",
      "71/71 [==============================] - 4s 50ms/step - loss: 2.7556e-06\n",
      "Epoch 3/3\n",
      "71/71 [==============================] - 4s 50ms/step - loss: 1.8994e-06\n",
      "Epoch 1/3\n"
     ]
    },
    {
     "name": "stderr",
     "output_type": "stream",
     "text": [
      "/tmp/ipykernel_1925610/474618250.py:42: SettingWithCopyWarning: \n",
      "A value is trying to be set on a copy of a slice from a DataFrame.\n",
      "Try using .loc[row_indexer,col_indexer] = value instead\n",
      "\n",
      "See the caveats in the documentation: https://pandas.pydata.org/pandas-docs/stable/user_guide/indexing.html#returning-a-view-versus-a-copy\n",
      "  df.loc[:,output_col] = scaler.inverse_transform(predictions)\n"
     ]
    },
    {
     "name": "stdout",
     "output_type": "stream",
     "text": [
      "71/71 [==============================] - 4s 50ms/step - loss: 0.0082\n",
      "Epoch 2/3\n",
      "71/71 [==============================] - 4s 50ms/step - loss: 1.1875e-06\n",
      "Epoch 3/3\n",
      "71/71 [==============================] - 4s 50ms/step - loss: 1.0201e-06\n",
      "Epoch 1/3\n"
     ]
    },
    {
     "name": "stderr",
     "output_type": "stream",
     "text": [
      "/tmp/ipykernel_1925610/474618250.py:42: SettingWithCopyWarning: \n",
      "A value is trying to be set on a copy of a slice from a DataFrame.\n",
      "Try using .loc[row_indexer,col_indexer] = value instead\n",
      "\n",
      "See the caveats in the documentation: https://pandas.pydata.org/pandas-docs/stable/user_guide/indexing.html#returning-a-view-versus-a-copy\n",
      "  df.loc[:,output_col] = scaler.inverse_transform(predictions)\n"
     ]
    },
    {
     "name": "stdout",
     "output_type": "stream",
     "text": [
      "71/71 [==============================] - 4s 50ms/step - loss: 0.0139\n",
      "Epoch 2/3\n",
      "71/71 [==============================] - 4s 50ms/step - loss: 2.2758e-06\n",
      "Epoch 3/3\n",
      "71/71 [==============================] - 4s 50ms/step - loss: 1.6308e-06\n",
      "Epoch 1/3\n"
     ]
    },
    {
     "name": "stderr",
     "output_type": "stream",
     "text": [
      "/tmp/ipykernel_1925610/474618250.py:42: SettingWithCopyWarning: \n",
      "A value is trying to be set on a copy of a slice from a DataFrame.\n",
      "Try using .loc[row_indexer,col_indexer] = value instead\n",
      "\n",
      "See the caveats in the documentation: https://pandas.pydata.org/pandas-docs/stable/user_guide/indexing.html#returning-a-view-versus-a-copy\n",
      "  df.loc[:,output_col] = scaler.inverse_transform(predictions)\n"
     ]
    },
    {
     "name": "stdout",
     "output_type": "stream",
     "text": [
      "71/71 [==============================] - 4s 50ms/step - loss: 0.0056\n",
      "Epoch 2/3\n",
      "71/71 [==============================] - 4s 50ms/step - loss: 5.8200e-07\n",
      "Epoch 3/3\n",
      "71/71 [==============================] - 4s 50ms/step - loss: 4.6604e-07\n",
      "Epoch 1/3\n"
     ]
    },
    {
     "name": "stderr",
     "output_type": "stream",
     "text": [
      "/tmp/ipykernel_1925610/474618250.py:42: SettingWithCopyWarning: \n",
      "A value is trying to be set on a copy of a slice from a DataFrame.\n",
      "Try using .loc[row_indexer,col_indexer] = value instead\n",
      "\n",
      "See the caveats in the documentation: https://pandas.pydata.org/pandas-docs/stable/user_guide/indexing.html#returning-a-view-versus-a-copy\n",
      "  df.loc[:,output_col] = scaler.inverse_transform(predictions)\n"
     ]
    },
    {
     "name": "stdout",
     "output_type": "stream",
     "text": [
      "71/71 [==============================] - 4s 50ms/step - loss: 0.0160\n",
      "Epoch 2/3\n",
      "71/71 [==============================] - 4s 50ms/step - loss: 1.8193e-06\n",
      "Epoch 3/3\n",
      "71/71 [==============================] - 4s 50ms/step - loss: 1.6550e-06\n",
      "Epoch 1/3\n"
     ]
    },
    {
     "name": "stderr",
     "output_type": "stream",
     "text": [
      "/tmp/ipykernel_1925610/474618250.py:42: SettingWithCopyWarning: \n",
      "A value is trying to be set on a copy of a slice from a DataFrame.\n",
      "Try using .loc[row_indexer,col_indexer] = value instead\n",
      "\n",
      "See the caveats in the documentation: https://pandas.pydata.org/pandas-docs/stable/user_guide/indexing.html#returning-a-view-versus-a-copy\n",
      "  df.loc[:,output_col] = scaler.inverse_transform(predictions)\n"
     ]
    },
    {
     "name": "stdout",
     "output_type": "stream",
     "text": [
      "71/71 [==============================] - 4s 50ms/step - loss: 0.0155\n",
      "Epoch 2/3\n",
      "71/71 [==============================] - 4s 50ms/step - loss: 3.0383e-06\n",
      "Epoch 3/3\n",
      "71/71 [==============================] - 4s 50ms/step - loss: 2.2433e-06\n",
      "Epoch 1/3\n"
     ]
    },
    {
     "name": "stderr",
     "output_type": "stream",
     "text": [
      "/tmp/ipykernel_1925610/474618250.py:42: SettingWithCopyWarning: \n",
      "A value is trying to be set on a copy of a slice from a DataFrame.\n",
      "Try using .loc[row_indexer,col_indexer] = value instead\n",
      "\n",
      "See the caveats in the documentation: https://pandas.pydata.org/pandas-docs/stable/user_guide/indexing.html#returning-a-view-versus-a-copy\n",
      "  df.loc[:,output_col] = scaler.inverse_transform(predictions)\n"
     ]
    },
    {
     "name": "stdout",
     "output_type": "stream",
     "text": [
      "71/71 [==============================] - 4s 50ms/step - loss: 0.0232\n",
      "Epoch 2/3\n",
      "71/71 [==============================] - 4s 50ms/step - loss: 3.4998e-06\n",
      "Epoch 3/3\n",
      "71/71 [==============================] - 4s 50ms/step - loss: 2.7208e-06\n",
      "Epoch 1/3\n"
     ]
    },
    {
     "name": "stderr",
     "output_type": "stream",
     "text": [
      "/tmp/ipykernel_1925610/474618250.py:42: SettingWithCopyWarning: \n",
      "A value is trying to be set on a copy of a slice from a DataFrame.\n",
      "Try using .loc[row_indexer,col_indexer] = value instead\n",
      "\n",
      "See the caveats in the documentation: https://pandas.pydata.org/pandas-docs/stable/user_guide/indexing.html#returning-a-view-versus-a-copy\n",
      "  df.loc[:,output_col] = scaler.inverse_transform(predictions)\n"
     ]
    },
    {
     "name": "stdout",
     "output_type": "stream",
     "text": [
      "71/71 [==============================] - 4s 50ms/step - loss: 0.0261\n",
      "Epoch 2/3\n",
      "71/71 [==============================] - 4s 50ms/step - loss: 9.4382e-06\n",
      "Epoch 3/3\n",
      "71/71 [==============================] - 4s 50ms/step - loss: 2.3887e-06\n",
      "Epoch 1/3\n"
     ]
    },
    {
     "name": "stderr",
     "output_type": "stream",
     "text": [
      "/tmp/ipykernel_1925610/474618250.py:42: SettingWithCopyWarning: \n",
      "A value is trying to be set on a copy of a slice from a DataFrame.\n",
      "Try using .loc[row_indexer,col_indexer] = value instead\n",
      "\n",
      "See the caveats in the documentation: https://pandas.pydata.org/pandas-docs/stable/user_guide/indexing.html#returning-a-view-versus-a-copy\n",
      "  df.loc[:,output_col] = scaler.inverse_transform(predictions)\n"
     ]
    },
    {
     "name": "stdout",
     "output_type": "stream",
     "text": [
      "71/71 [==============================] - 4s 51ms/step - loss: 0.0166\n",
      "Epoch 2/3\n",
      "71/71 [==============================] - 4s 50ms/step - loss: 4.2386e-06\n",
      "Epoch 3/3\n",
      "71/71 [==============================] - 4s 50ms/step - loss: 6.9864e-07\n",
      "Epoch 1/3\n"
     ]
    },
    {
     "name": "stderr",
     "output_type": "stream",
     "text": [
      "/tmp/ipykernel_1925610/474618250.py:42: SettingWithCopyWarning: \n",
      "A value is trying to be set on a copy of a slice from a DataFrame.\n",
      "Try using .loc[row_indexer,col_indexer] = value instead\n",
      "\n",
      "See the caveats in the documentation: https://pandas.pydata.org/pandas-docs/stable/user_guide/indexing.html#returning-a-view-versus-a-copy\n",
      "  df.loc[:,output_col] = scaler.inverse_transform(predictions)\n"
     ]
    },
    {
     "name": "stdout",
     "output_type": "stream",
     "text": [
      "71/71 [==============================] - 4s 50ms/step - loss: 0.0080\n",
      "Epoch 2/3\n",
      "71/71 [==============================] - 4s 50ms/step - loss: 9.7436e-07\n",
      "Epoch 3/3\n",
      "71/71 [==============================] - 4s 50ms/step - loss: 6.1955e-07\n",
      "Epoch 1/3\n"
     ]
    },
    {
     "name": "stderr",
     "output_type": "stream",
     "text": [
      "/tmp/ipykernel_1925610/474618250.py:42: SettingWithCopyWarning: \n",
      "A value is trying to be set on a copy of a slice from a DataFrame.\n",
      "Try using .loc[row_indexer,col_indexer] = value instead\n",
      "\n",
      "See the caveats in the documentation: https://pandas.pydata.org/pandas-docs/stable/user_guide/indexing.html#returning-a-view-versus-a-copy\n",
      "  df.loc[:,output_col] = scaler.inverse_transform(predictions)\n"
     ]
    },
    {
     "name": "stdout",
     "output_type": "stream",
     "text": [
      "71/71 [==============================] - 4s 50ms/step - loss: 0.0473\n",
      "Epoch 2/3\n",
      "71/71 [==============================] - 4s 50ms/step - loss: 1.3162e-05\n",
      "Epoch 3/3\n",
      "71/71 [==============================] - 4s 50ms/step - loss: 4.7884e-06\n",
      "Epoch 1/3\n"
     ]
    },
    {
     "name": "stderr",
     "output_type": "stream",
     "text": [
      "/tmp/ipykernel_1925610/474618250.py:42: SettingWithCopyWarning: \n",
      "A value is trying to be set on a copy of a slice from a DataFrame.\n",
      "Try using .loc[row_indexer,col_indexer] = value instead\n",
      "\n",
      "See the caveats in the documentation: https://pandas.pydata.org/pandas-docs/stable/user_guide/indexing.html#returning-a-view-versus-a-copy\n",
      "  df.loc[:,output_col] = scaler.inverse_transform(predictions)\n"
     ]
    },
    {
     "name": "stdout",
     "output_type": "stream",
     "text": [
      "71/71 [==============================] - 4s 50ms/step - loss: 8.3245e-04\n",
      "Epoch 2/3\n",
      "71/71 [==============================] - 4s 50ms/step - loss: 5.2242e-09\n",
      "Epoch 3/3\n",
      "71/71 [==============================] - 4s 50ms/step - loss: 4.0976e-09\n",
      "Epoch 1/3\n"
     ]
    },
    {
     "name": "stderr",
     "output_type": "stream",
     "text": [
      "/tmp/ipykernel_1925610/474618250.py:42: SettingWithCopyWarning: \n",
      "A value is trying to be set on a copy of a slice from a DataFrame.\n",
      "Try using .loc[row_indexer,col_indexer] = value instead\n",
      "\n",
      "See the caveats in the documentation: https://pandas.pydata.org/pandas-docs/stable/user_guide/indexing.html#returning-a-view-versus-a-copy\n",
      "  df.loc[:,output_col] = scaler.inverse_transform(predictions)\n"
     ]
    },
    {
     "name": "stdout",
     "output_type": "stream",
     "text": [
      "71/71 [==============================] - 4s 50ms/step - loss: 0.0074\n",
      "Epoch 2/3\n",
      "71/71 [==============================] - 4s 50ms/step - loss: 1.2477e-06\n",
      "Epoch 3/3\n",
      "71/71 [==============================] - 4s 50ms/step - loss: 9.5638e-07\n",
      "Epoch 1/3\n"
     ]
    },
    {
     "name": "stderr",
     "output_type": "stream",
     "text": [
      "/tmp/ipykernel_1925610/474618250.py:42: SettingWithCopyWarning: \n",
      "A value is trying to be set on a copy of a slice from a DataFrame.\n",
      "Try using .loc[row_indexer,col_indexer] = value instead\n",
      "\n",
      "See the caveats in the documentation: https://pandas.pydata.org/pandas-docs/stable/user_guide/indexing.html#returning-a-view-versus-a-copy\n",
      "  df.loc[:,output_col] = scaler.inverse_transform(predictions)\n"
     ]
    },
    {
     "name": "stdout",
     "output_type": "stream",
     "text": [
      "71/71 [==============================] - 4s 50ms/step - loss: 0.0084\n",
      "Epoch 2/3\n",
      "71/71 [==============================] - 4s 50ms/step - loss: 6.7759e-08\n",
      "Epoch 3/3\n",
      "71/71 [==============================] - 4s 50ms/step - loss: 3.0401e-08\n",
      "Epoch 1/3\n"
     ]
    },
    {
     "name": "stderr",
     "output_type": "stream",
     "text": [
      "/tmp/ipykernel_1925610/474618250.py:42: SettingWithCopyWarning: \n",
      "A value is trying to be set on a copy of a slice from a DataFrame.\n",
      "Try using .loc[row_indexer,col_indexer] = value instead\n",
      "\n",
      "See the caveats in the documentation: https://pandas.pydata.org/pandas-docs/stable/user_guide/indexing.html#returning-a-view-versus-a-copy\n",
      "  df.loc[:,output_col] = scaler.inverse_transform(predictions)\n"
     ]
    },
    {
     "name": "stdout",
     "output_type": "stream",
     "text": [
      "71/71 [==============================] - 4s 50ms/step - loss: 0.0225\n",
      "Epoch 2/3\n",
      "71/71 [==============================] - 4s 50ms/step - loss: 6.2209e-06\n",
      "Epoch 3/3\n",
      "71/71 [==============================] - 4s 50ms/step - loss: 1.3675e-06\n",
      "Epoch 1/3\n"
     ]
    },
    {
     "name": "stderr",
     "output_type": "stream",
     "text": [
      "/tmp/ipykernel_1925610/474618250.py:42: SettingWithCopyWarning: \n",
      "A value is trying to be set on a copy of a slice from a DataFrame.\n",
      "Try using .loc[row_indexer,col_indexer] = value instead\n",
      "\n",
      "See the caveats in the documentation: https://pandas.pydata.org/pandas-docs/stable/user_guide/indexing.html#returning-a-view-versus-a-copy\n",
      "  df.loc[:,output_col] = scaler.inverse_transform(predictions)\n"
     ]
    },
    {
     "name": "stdout",
     "output_type": "stream",
     "text": [
      "71/71 [==============================] - 4s 50ms/step - loss: 0.0494\n",
      "Epoch 2/3\n",
      "71/71 [==============================] - 4s 50ms/step - loss: 1.4133e-05\n",
      "Epoch 3/3\n",
      "71/71 [==============================] - 4s 50ms/step - loss: 5.2430e-06\n",
      "Epoch 1/3\n"
     ]
    },
    {
     "name": "stderr",
     "output_type": "stream",
     "text": [
      "/tmp/ipykernel_1925610/474618250.py:42: SettingWithCopyWarning: \n",
      "A value is trying to be set on a copy of a slice from a DataFrame.\n",
      "Try using .loc[row_indexer,col_indexer] = value instead\n",
      "\n",
      "See the caveats in the documentation: https://pandas.pydata.org/pandas-docs/stable/user_guide/indexing.html#returning-a-view-versus-a-copy\n",
      "  df.loc[:,output_col] = scaler.inverse_transform(predictions)\n"
     ]
    },
    {
     "name": "stdout",
     "output_type": "stream",
     "text": [
      "71/71 [==============================] - 4s 50ms/step - loss: 0.0075\n",
      "Epoch 2/3\n",
      "71/71 [==============================] - 4s 50ms/step - loss: 1.4622e-06\n",
      "Epoch 3/3\n",
      "71/71 [==============================] - 4s 50ms/step - loss: 1.0368e-06\n",
      "Epoch 1/3\n"
     ]
    },
    {
     "name": "stderr",
     "output_type": "stream",
     "text": [
      "/tmp/ipykernel_1925610/474618250.py:42: SettingWithCopyWarning: \n",
      "A value is trying to be set on a copy of a slice from a DataFrame.\n",
      "Try using .loc[row_indexer,col_indexer] = value instead\n",
      "\n",
      "See the caveats in the documentation: https://pandas.pydata.org/pandas-docs/stable/user_guide/indexing.html#returning-a-view-versus-a-copy\n",
      "  df.loc[:,output_col] = scaler.inverse_transform(predictions)\n"
     ]
    },
    {
     "name": "stdout",
     "output_type": "stream",
     "text": [
      "71/71 [==============================] - 4s 50ms/step - loss: 0.0217\n",
      "Epoch 2/3\n",
      "71/71 [==============================] - 4s 50ms/step - loss: 4.6816e-06\n",
      "Epoch 3/3\n",
      "71/71 [==============================] - 4s 50ms/step - loss: 9.9601e-07\n",
      "Epoch 1/3\n"
     ]
    },
    {
     "name": "stderr",
     "output_type": "stream",
     "text": [
      "/tmp/ipykernel_1925610/474618250.py:42: SettingWithCopyWarning: \n",
      "A value is trying to be set on a copy of a slice from a DataFrame.\n",
      "Try using .loc[row_indexer,col_indexer] = value instead\n",
      "\n",
      "See the caveats in the documentation: https://pandas.pydata.org/pandas-docs/stable/user_guide/indexing.html#returning-a-view-versus-a-copy\n",
      "  df.loc[:,output_col] = scaler.inverse_transform(predictions)\n"
     ]
    },
    {
     "name": "stdout",
     "output_type": "stream",
     "text": [
      "71/71 [==============================] - 4s 50ms/step - loss: 0.0117\n",
      "Epoch 2/3\n",
      "71/71 [==============================] - 4s 50ms/step - loss: 1.8773e-06\n",
      "Epoch 3/3\n",
      "71/71 [==============================] - 4s 50ms/step - loss: 1.4181e-06\n",
      "Epoch 1/3\n"
     ]
    },
    {
     "name": "stderr",
     "output_type": "stream",
     "text": [
      "/tmp/ipykernel_1925610/474618250.py:42: SettingWithCopyWarning: \n",
      "A value is trying to be set on a copy of a slice from a DataFrame.\n",
      "Try using .loc[row_indexer,col_indexer] = value instead\n",
      "\n",
      "See the caveats in the documentation: https://pandas.pydata.org/pandas-docs/stable/user_guide/indexing.html#returning-a-view-versus-a-copy\n",
      "  df.loc[:,output_col] = scaler.inverse_transform(predictions)\n"
     ]
    },
    {
     "name": "stdout",
     "output_type": "stream",
     "text": [
      "71/71 [==============================] - 4s 50ms/step - loss: 0.0133\n",
      "Epoch 2/3\n",
      "71/71 [==============================] - 4s 50ms/step - loss: 1.3398e-06\n",
      "Epoch 3/3\n",
      "71/71 [==============================] - 4s 50ms/step - loss: 8.8067e-07\n",
      "Epoch 1/3\n"
     ]
    },
    {
     "name": "stderr",
     "output_type": "stream",
     "text": [
      "/tmp/ipykernel_1925610/474618250.py:42: SettingWithCopyWarning: \n",
      "A value is trying to be set on a copy of a slice from a DataFrame.\n",
      "Try using .loc[row_indexer,col_indexer] = value instead\n",
      "\n",
      "See the caveats in the documentation: https://pandas.pydata.org/pandas-docs/stable/user_guide/indexing.html#returning-a-view-versus-a-copy\n",
      "  df.loc[:,output_col] = scaler.inverse_transform(predictions)\n"
     ]
    },
    {
     "name": "stdout",
     "output_type": "stream",
     "text": [
      "71/71 [==============================] - 4s 50ms/step - loss: 0.0188\n",
      "Epoch 2/3\n",
      "71/71 [==============================] - 4s 50ms/step - loss: 9.6893e-07\n",
      "Epoch 3/3\n",
      "71/71 [==============================] - 4s 50ms/step - loss: 8.3139e-07\n",
      "Epoch 1/3\n"
     ]
    },
    {
     "name": "stderr",
     "output_type": "stream",
     "text": [
      "/tmp/ipykernel_1925610/474618250.py:42: SettingWithCopyWarning: \n",
      "A value is trying to be set on a copy of a slice from a DataFrame.\n",
      "Try using .loc[row_indexer,col_indexer] = value instead\n",
      "\n",
      "See the caveats in the documentation: https://pandas.pydata.org/pandas-docs/stable/user_guide/indexing.html#returning-a-view-versus-a-copy\n",
      "  df.loc[:,output_col] = scaler.inverse_transform(predictions)\n"
     ]
    },
    {
     "name": "stdout",
     "output_type": "stream",
     "text": [
      "71/71 [==============================] - 4s 50ms/step - loss: 0.0170\n",
      "Epoch 2/3\n",
      "71/71 [==============================] - 4s 50ms/step - loss: 1.6682e-06\n",
      "Epoch 3/3\n",
      "71/71 [==============================] - 4s 50ms/step - loss: 1.2781e-06\n",
      "Epoch 1/3\n"
     ]
    },
    {
     "name": "stderr",
     "output_type": "stream",
     "text": [
      "/tmp/ipykernel_1925610/474618250.py:42: SettingWithCopyWarning: \n",
      "A value is trying to be set on a copy of a slice from a DataFrame.\n",
      "Try using .loc[row_indexer,col_indexer] = value instead\n",
      "\n",
      "See the caveats in the documentation: https://pandas.pydata.org/pandas-docs/stable/user_guide/indexing.html#returning-a-view-versus-a-copy\n",
      "  df.loc[:,output_col] = scaler.inverse_transform(predictions)\n"
     ]
    },
    {
     "name": "stdout",
     "output_type": "stream",
     "text": [
      "71/71 [==============================] - 4s 50ms/step - loss: 0.0225\n",
      "Epoch 2/3\n",
      "71/71 [==============================] - 4s 50ms/step - loss: 4.3302e-06\n",
      "Epoch 3/3\n",
      "71/71 [==============================] - 4s 50ms/step - loss: 3.2884e-06\n"
     ]
    },
    {
     "name": "stderr",
     "output_type": "stream",
     "text": [
      "/tmp/ipykernel_1925610/474618250.py:42: SettingWithCopyWarning: \n",
      "A value is trying to be set on a copy of a slice from a DataFrame.\n",
      "Try using .loc[row_indexer,col_indexer] = value instead\n",
      "\n",
      "See the caveats in the documentation: https://pandas.pydata.org/pandas-docs/stable/user_guide/indexing.html#returning-a-view-versus-a-copy\n",
      "  df.loc[:,output_col] = scaler.inverse_transform(predictions)\n"
     ]
    },
    {
     "name": "stdout",
     "output_type": "stream",
     "text": [
      "Epoch 1/3\n",
      "71/71 [==============================] - 4s 50ms/step - loss: 0.0284\n",
      "Epoch 2/3\n",
      "71/71 [==============================] - 4s 50ms/step - loss: 1.0012e-05\n",
      "Epoch 3/3\n",
      "71/71 [==============================] - 4s 50ms/step - loss: 2.6874e-06\n",
      "Epoch 1/3\n"
     ]
    },
    {
     "name": "stderr",
     "output_type": "stream",
     "text": [
      "/tmp/ipykernel_1925610/474618250.py:42: SettingWithCopyWarning: \n",
      "A value is trying to be set on a copy of a slice from a DataFrame.\n",
      "Try using .loc[row_indexer,col_indexer] = value instead\n",
      "\n",
      "See the caveats in the documentation: https://pandas.pydata.org/pandas-docs/stable/user_guide/indexing.html#returning-a-view-versus-a-copy\n",
      "  df.loc[:,output_col] = scaler.inverse_transform(predictions)\n"
     ]
    },
    {
     "name": "stdout",
     "output_type": "stream",
     "text": [
      "71/71 [==============================] - 4s 50ms/step - loss: 0.0032\n",
      "Epoch 2/3\n",
      "71/71 [==============================] - 4s 50ms/step - loss: 7.3681e-07\n",
      "Epoch 3/3\n",
      "71/71 [==============================] - 4s 50ms/step - loss: 3.5742e-07\n",
      "Epoch 1/3\n"
     ]
    },
    {
     "name": "stderr",
     "output_type": "stream",
     "text": [
      "/tmp/ipykernel_1925610/474618250.py:42: SettingWithCopyWarning: \n",
      "A value is trying to be set on a copy of a slice from a DataFrame.\n",
      "Try using .loc[row_indexer,col_indexer] = value instead\n",
      "\n",
      "See the caveats in the documentation: https://pandas.pydata.org/pandas-docs/stable/user_guide/indexing.html#returning-a-view-versus-a-copy\n",
      "  df.loc[:,output_col] = scaler.inverse_transform(predictions)\n"
     ]
    },
    {
     "name": "stdout",
     "output_type": "stream",
     "text": [
      "71/71 [==============================] - 4s 50ms/step - loss: 0.0151\n",
      "Epoch 2/3\n",
      "71/71 [==============================] - 4s 50ms/step - loss: 6.3868e-06\n",
      "Epoch 3/3\n",
      "71/71 [==============================] - 4s 50ms/step - loss: 9.8052e-07\n",
      "Epoch 1/3\n"
     ]
    },
    {
     "name": "stderr",
     "output_type": "stream",
     "text": [
      "/tmp/ipykernel_1925610/474618250.py:42: SettingWithCopyWarning: \n",
      "A value is trying to be set on a copy of a slice from a DataFrame.\n",
      "Try using .loc[row_indexer,col_indexer] = value instead\n",
      "\n",
      "See the caveats in the documentation: https://pandas.pydata.org/pandas-docs/stable/user_guide/indexing.html#returning-a-view-versus-a-copy\n",
      "  df.loc[:,output_col] = scaler.inverse_transform(predictions)\n"
     ]
    },
    {
     "name": "stdout",
     "output_type": "stream",
     "text": [
      "71/71 [==============================] - 4s 50ms/step - loss: 0.0089\n",
      "Epoch 2/3\n",
      "71/71 [==============================] - 4s 50ms/step - loss: 8.7696e-07\n",
      "Epoch 3/3\n",
      "71/71 [==============================] - 4s 50ms/step - loss: 5.1743e-07\n",
      "Epoch 1/3\n"
     ]
    },
    {
     "name": "stderr",
     "output_type": "stream",
     "text": [
      "/tmp/ipykernel_1925610/474618250.py:42: SettingWithCopyWarning: \n",
      "A value is trying to be set on a copy of a slice from a DataFrame.\n",
      "Try using .loc[row_indexer,col_indexer] = value instead\n",
      "\n",
      "See the caveats in the documentation: https://pandas.pydata.org/pandas-docs/stable/user_guide/indexing.html#returning-a-view-versus-a-copy\n",
      "  df.loc[:,output_col] = scaler.inverse_transform(predictions)\n"
     ]
    },
    {
     "name": "stdout",
     "output_type": "stream",
     "text": [
      "71/71 [==============================] - 4s 50ms/step - loss: 0.0104\n",
      "Epoch 2/3\n",
      "71/71 [==============================] - 4s 50ms/step - loss: 5.0411e-06\n",
      "Epoch 3/3\n",
      "71/71 [==============================] - 4s 50ms/step - loss: 4.9713e-07\n",
      "Epoch 1/3\n"
     ]
    },
    {
     "name": "stderr",
     "output_type": "stream",
     "text": [
      "/tmp/ipykernel_1925610/474618250.py:42: SettingWithCopyWarning: \n",
      "A value is trying to be set on a copy of a slice from a DataFrame.\n",
      "Try using .loc[row_indexer,col_indexer] = value instead\n",
      "\n",
      "See the caveats in the documentation: https://pandas.pydata.org/pandas-docs/stable/user_guide/indexing.html#returning-a-view-versus-a-copy\n",
      "  df.loc[:,output_col] = scaler.inverse_transform(predictions)\n"
     ]
    },
    {
     "name": "stdout",
     "output_type": "stream",
     "text": [
      "71/71 [==============================] - 4s 50ms/step - loss: 0.0069\n",
      "Epoch 2/3\n",
      "71/71 [==============================] - 4s 50ms/step - loss: 3.1355e-06\n",
      "Epoch 3/3\n",
      "71/71 [==============================] - 4s 50ms/step - loss: 1.6923e-07\n",
      "Epoch 1/3\n"
     ]
    },
    {
     "name": "stderr",
     "output_type": "stream",
     "text": [
      "/tmp/ipykernel_1925610/474618250.py:42: SettingWithCopyWarning: \n",
      "A value is trying to be set on a copy of a slice from a DataFrame.\n",
      "Try using .loc[row_indexer,col_indexer] = value instead\n",
      "\n",
      "See the caveats in the documentation: https://pandas.pydata.org/pandas-docs/stable/user_guide/indexing.html#returning-a-view-versus-a-copy\n",
      "  df.loc[:,output_col] = scaler.inverse_transform(predictions)\n"
     ]
    },
    {
     "name": "stdout",
     "output_type": "stream",
     "text": [
      "71/71 [==============================] - 4s 50ms/step - loss: 0.0157\n",
      "Epoch 2/3\n",
      "71/71 [==============================] - 4s 50ms/step - loss: 1.9606e-06\n",
      "Epoch 3/3\n",
      "71/71 [==============================] - 4s 51ms/step - loss: 8.3149e-07\n",
      "Epoch 1/3\n"
     ]
    },
    {
     "name": "stderr",
     "output_type": "stream",
     "text": [
      "/tmp/ipykernel_1925610/474618250.py:42: SettingWithCopyWarning: \n",
      "A value is trying to be set on a copy of a slice from a DataFrame.\n",
      "Try using .loc[row_indexer,col_indexer] = value instead\n",
      "\n",
      "See the caveats in the documentation: https://pandas.pydata.org/pandas-docs/stable/user_guide/indexing.html#returning-a-view-versus-a-copy\n",
      "  df.loc[:,output_col] = scaler.inverse_transform(predictions)\n"
     ]
    },
    {
     "name": "stdout",
     "output_type": "stream",
     "text": [
      "71/71 [==============================] - 4s 50ms/step - loss: 0.0067\n",
      "Epoch 2/3\n",
      "71/71 [==============================] - 4s 50ms/step - loss: 4.7366e-07\n",
      "Epoch 3/3\n",
      "71/71 [==============================] - 4s 50ms/step - loss: 3.5041e-07\n",
      "Epoch 1/3\n"
     ]
    },
    {
     "name": "stderr",
     "output_type": "stream",
     "text": [
      "/tmp/ipykernel_1925610/474618250.py:42: SettingWithCopyWarning: \n",
      "A value is trying to be set on a copy of a slice from a DataFrame.\n",
      "Try using .loc[row_indexer,col_indexer] = value instead\n",
      "\n",
      "See the caveats in the documentation: https://pandas.pydata.org/pandas-docs/stable/user_guide/indexing.html#returning-a-view-versus-a-copy\n",
      "  df.loc[:,output_col] = scaler.inverse_transform(predictions)\n"
     ]
    },
    {
     "name": "stdout",
     "output_type": "stream",
     "text": [
      "71/71 [==============================] - 4s 50ms/step - loss: 0.0218\n",
      "Epoch 2/3\n",
      "71/71 [==============================] - 4s 50ms/step - loss: 2.4342e-06\n",
      "Epoch 3/3\n",
      "71/71 [==============================] - 4s 50ms/step - loss: 5.2672e-07\n",
      "Epoch 1/3\n"
     ]
    },
    {
     "name": "stderr",
     "output_type": "stream",
     "text": [
      "/tmp/ipykernel_1925610/474618250.py:42: SettingWithCopyWarning: \n",
      "A value is trying to be set on a copy of a slice from a DataFrame.\n",
      "Try using .loc[row_indexer,col_indexer] = value instead\n",
      "\n",
      "See the caveats in the documentation: https://pandas.pydata.org/pandas-docs/stable/user_guide/indexing.html#returning-a-view-versus-a-copy\n",
      "  df.loc[:,output_col] = scaler.inverse_transform(predictions)\n"
     ]
    },
    {
     "name": "stdout",
     "output_type": "stream",
     "text": [
      "71/71 [==============================] - 4s 50ms/step - loss: 0.0083\n",
      "Epoch 2/3\n",
      "71/71 [==============================] - 4s 50ms/step - loss: 2.9968e-06\n",
      "Epoch 3/3\n",
      "71/71 [==============================] - 4s 50ms/step - loss: 1.5903e-06\n"
     ]
    },
    {
     "name": "stderr",
     "output_type": "stream",
     "text": [
      "/tmp/ipykernel_1925610/474618250.py:42: SettingWithCopyWarning: \n",
      "A value is trying to be set on a copy of a slice from a DataFrame.\n",
      "Try using .loc[row_indexer,col_indexer] = value instead\n",
      "\n",
      "See the caveats in the documentation: https://pandas.pydata.org/pandas-docs/stable/user_guide/indexing.html#returning-a-view-versus-a-copy\n",
      "  df.loc[:,output_col] = scaler.inverse_transform(predictions)\n"
     ]
    }
   ],
   "source": [
    "#Grid Search for Individual Parameters\n",
    "\n",
    "runs=range(0,3)\n",
    "row=0\n",
    "#list parameters to test\n",
    "layers=[1,2, 3, 4, 5] \n",
    "nodes=[50, 100, 250, 300, 400, 500]\n",
    "nbr_filters= [20, 50, 100, 150, 200]            #aka filters\n",
    "filter_len= [2, 5, 10, 15, 20]               #aka kernel_size\n",
    "batch_size=[25, 50, 100, 150, 200]\n",
    "optimizer=['SGD', 'RMSprop', 'Adagrad', 'Adadelta', 'Adam', 'Adamax', 'Nadam']\n",
    "activation = ['softmax', 'softplus', 'softsign', 'relu', 'tanh', 'sigmoid', 'hard_sigmoid', 'linear']\n",
    "\n",
    "#Make a list of all the Printed Results\n",
    "Nodes_Results=[]\n",
    "Layers_Results=[]\n",
    "Filters_Results=[]\n",
    "Kernels_Results=[]\n",
    "Batch_Sizes_Results=[]\n",
    "Optimizer_Results=[]\n",
    "Activation_Results=[]\n",
    "Results=[]\n",
    "\n",
    "\n",
    "#grid search nodes only\n",
    "#create data frame\n",
    "GS_Nodes=pd.DataFrame()\n",
    "GS_Nodes[\"Nodes\"]=\"\"\n",
    "GS_Nodes[\"R_Squared\"]=\"\"\n",
    "for z in runs:\n",
    "    for i in nodes:\n",
    "        model = train_model(seq_e_train, e_train['Count Freq'], nb_epoch=3,border_mode='same',\n",
    "                            inp_len=133, nodes=i, layers=3, nbr_filters=120, filter_len=8, dropout1=0,\n",
    "                            dropout2=0,dropout3=0.2, batch_size=128, optimizer=\"Adam\", avtivation=\"relu\")\n",
    "        e_test = test_data(df=e_test, model=model, obs_col='Count Freq',test_seq=seq_e_test)\n",
    "        r = r2(e_test['Count Freq'], e_test['pred'])\n",
    "        e_test['pred']\n",
    "        a= \"When there are\", i, \"nodes,  the r squared value is\", r\n",
    "        Nodes_Results.append(a) \n",
    "        GS_Nodes.loc[row]=(i,r)\n",
    "        row+=1\n",
    "\n",
    "#grid search layers only\n",
    "#create data frame\n",
    "GS_Layers=pd.DataFrame()\n",
    "GS_Layers[\"Layers\"]=\"\"\n",
    "GS_Layers[\"R_Squared\"]=\"\"\n",
    "for z in runs:\n",
    "    for j in layers:\n",
    "        model = train_model(seq_e_train, e_train['Count Freq'], nb_epoch=3,border_mode='same',\n",
    "                            inp_len=133, nodes=40, layers=j, nbr_filters=120, filter_len=8, dropout1=0,\n",
    "                            dropout2=0,dropout3=0.2, batch_size=128, optimizer=\"Adam\", avtivation=\"relu\")\n",
    "        e_test = test_data(df=e_test, model=model, obs_col='Count Freq',test_seq=seq_e_test)\n",
    "        r = r2(e_test['Count Freq'], e_test['pred'])\n",
    "        e_test['pred']\n",
    "        a= \"When there are\", j, \"layers,  the r squared value is\", r\n",
    "        Layers_Results.append(a)      \n",
    "        GS_Layers.loc[row]=(j,r)\n",
    "        row+=1\n",
    "        \n",
    "#grid search filters only\n",
    "#create data frame\n",
    "GS_Filters=pd.DataFrame()\n",
    "GS_Filters[\"Filters\"]=\"\"\n",
    "GS_Filters[\"R_Squared\"]=\"\"\n",
    "for z in runs:\n",
    "    for k in nbr_filters:\n",
    "        model = train_model(seq_e_train, e_train['Count Freq'], nb_epoch=3,border_mode='same',\n",
    "                            inp_len=133, nodes=40, layers=3, nbr_filters=k, filter_len=8, dropout1=0,\n",
    "                            dropout2=0,dropout3=0.2, batch_size=128, optimizer=\"Adam\", avtivation=\"relu\")\n",
    "        e_test = test_data(df=e_test, model=model, obs_col='Count Freq',test_seq=seq_e_test)\n",
    "        r = r2(e_test['Count Freq'], e_test['pred'])\n",
    "        e_test['pred']\n",
    "        a= \"When there are\", k, \"filters, the r squared value is\", r\n",
    "        Filters_Results.append(a)\n",
    "        GS_Filters.loc[row]=(k,r)\n",
    "        row+=1\n",
    "        \n",
    "    #grid search kernels only\n",
    "    #create data frame\n",
    "GS_Kernels=pd.DataFrame()\n",
    "GS_Kernels[\"Kernels\"]=\"\"\n",
    "GS_Kernels[\"R_Squared\"]=\"\"\n",
    "for z in runs:\n",
    "    for l in filter_len:\n",
    "        model = train_model(seq_e_train, e_train['Count Freq'], nb_epoch=3,border_mode='same',\n",
    "                            inp_len=133, nodes=40, layers=3, nbr_filters=120, filter_len=l, dropout1=0,\n",
    "                            dropout2=0,dropout3=0.2, batch_size=128, optimizer=\"Adam\", avtivation=\"relu\")\n",
    "        e_test = test_data(df=e_test, model=model, obs_col='Count Freq',test_seq=seq_e_test)\n",
    "        r = r2(e_test['Count Freq'], e_test['pred'])\n",
    "        e_test['pred']\n",
    "        a= \"When there are\", l, \"kernels, the r squared value is\", r\n",
    "        Kernels_Results.append(a) \n",
    "        GS_Kernels.loc[row]=(l,r)\n",
    "        row+=1\n",
    "\n",
    "#grid search batch size only\n",
    "#create data frame\n",
    "GS_Batch_Sizes=pd.DataFrame()\n",
    "GS_Batch_Sizes[\"Batch Sizes\"]=\"\"\n",
    "GS_Batch_Sizes[\"R_Squared\"]=\"\"\n",
    "for z in runs:\n",
    "    for m in batch_size:\n",
    "        model = train_model(seq_e_train, e_train['Count Freq'], nb_epoch=3,border_mode='same',\n",
    "                            inp_len=133, nodes=40, layers=3, nbr_filters=120, filter_len=8, dropout1=0,\n",
    "                            dropout2=0,dropout3=0.2, batch_size=m, optimizer=\"Adam\", avtivation=\"relu\")\n",
    "        e_test = test_data(df=e_test, model=model, obs_col='Count Freq',test_seq=seq_e_test)   \n",
    "        r = r2(e_test['Count Freq'], e_test['pred'])\n",
    "        e_test['pred']\n",
    "        a= \"When there is a\", m, \"batch size, the r squared value is\", r\n",
    "        Batch_Sizes_Results.append(a)  \n",
    "        GS_Batch_Sizes.loc[row]=(m,r)\n",
    "        row+=1\n",
    "\n",
    "#grid search optimizer only\n",
    "#create data frame\n",
    "GS_Optimizer=pd.DataFrame()\n",
    "GS_Optimizer[\"Optimizer\"]=\"\"\n",
    "GS_Optimizer[\"R_Squared\"]=\"\"\n",
    "for z in runs:\n",
    "    for n in optimizer:\n",
    "        model = train_model(seq_e_train, e_train['Count Freq'], nb_epoch=3,border_mode='same',\n",
    "                            inp_len=133, nodes=40, layers=3, nbr_filters=120, filter_len=8, dropout1=0,\n",
    "                            dropout2=0,dropout3=0.2, batch_size=128, optimizer=n, avtivation=\"relu\")\n",
    "        e_test = test_data(df=e_test, model=model, obs_col='Count Freq',test_seq=seq_e_test)   \n",
    "        r = r2(e_test['Count Freq'], e_test['pred'])\n",
    "        e_test['pred']\n",
    "        a= \"When there is a\", n, \"optimizer, the r squared value is\", r\n",
    "        Optimizer_Results.append(a)\n",
    "        GS_Optimizer.loc[row]=(n,r)\n",
    "        row+=1\n",
    "\n",
    "#grid search activation only\n",
    "#create data frame\n",
    "GS_Activation=pd.DataFrame()\n",
    "GS_Activation[\"Activation\"]=\"\"\n",
    "GS_Activation[\"R_Squared\"]=\"\"\n",
    "for z in runs:\n",
    "    for o in activation:\n",
    "        model = train_model(seq_e_train, e_train['Count Freq'], nb_epoch=3,border_mode='same',\n",
    "                            inp_len=133, nodes=40, layers=3, nbr_filters=120, filter_len=8, dropout1=0,\n",
    "                            dropout2=0,dropout3=0.2, batch_size=128, optimizer=\"Adam\", avtivation=o)\n",
    "        e_test = test_data(df=e_test, model=model, obs_col='Count Freq',test_seq=seq_e_test)   \n",
    "        r = r2(e_test['Count Freq'], e_test['pred'])\n",
    "        e_test['pred']\n",
    "        a= \"When there is a\", o, \"activation, the r squared value is\", r\n",
    "        Activation_Results.append(a)   \n",
    "        GS_Activation.loc[row]=(o,r)\n",
    "        row+=1"
   ]
  },
  {
   "cell_type": "code",
   "execution_count": 42,
   "metadata": {},
   "outputs": [
    {
     "name": "stdout",
     "output_type": "stream",
     "text": [
      "    Nodes  R_Squared\n",
      "0    50.0   0.007407\n",
      "1   100.0   0.000375\n",
      "2   250.0   0.008445\n",
      "3   300.0   0.001257\n",
      "4   400.0   0.021193\n",
      "5   500.0   0.000924\n",
      "6    50.0   0.006562\n",
      "7   100.0   0.000786\n",
      "8   250.0   0.007934\n",
      "9   300.0   0.013067\n",
      "10  400.0   0.000034\n",
      "11  500.0   0.000026\n",
      "12   50.0   0.006329\n",
      "13  100.0   0.005078\n",
      "14  250.0   0.008344\n",
      "15  300.0   0.002090\n",
      "16  400.0   0.000449\n",
      "17  500.0   0.000000\n",
      "('When there are', 50, 'nodes,  the r squared value is', 0.007407496658146181)\n",
      "('When there are', 100, 'nodes,  the r squared value is', 0.0003754278636220174)\n",
      "('When there are', 250, 'nodes,  the r squared value is', 0.008444772803547431)\n",
      "('When there are', 300, 'nodes,  the r squared value is', 0.0012571354631280714)\n",
      "('When there are', 400, 'nodes,  the r squared value is', 0.02119278936075678)\n",
      "('When there are', 500, 'nodes,  the r squared value is', 0.000923598561953334)\n",
      "('When there are', 50, 'nodes,  the r squared value is', 0.006561516789097121)\n",
      "('When there are', 100, 'nodes,  the r squared value is', 0.0007864574009724483)\n",
      "('When there are', 250, 'nodes,  the r squared value is', 0.007934473208261239)\n",
      "('When there are', 300, 'nodes,  the r squared value is', 0.013067444732906965)\n",
      "('When there are', 400, 'nodes,  the r squared value is', 3.370084053353334e-05)\n",
      "('When there are', 500, 'nodes,  the r squared value is', 2.6180921936217134e-05)\n",
      "('When there are', 50, 'nodes,  the r squared value is', 0.0063288986077400826)\n",
      "('When there are', 100, 'nodes,  the r squared value is', 0.005078230562007646)\n",
      "('When there are', 250, 'nodes,  the r squared value is', 0.008343561086552433)\n",
      "('When there are', 300, 'nodes,  the r squared value is', 0.0020898483624533014)\n",
      "('When there are', 400, 'nodes,  the r squared value is', 0.000448997224422598)\n",
      "('When there are', 500, 'nodes,  the r squared value is', 0.0)\n",
      "       R_Squared\n",
      "Nodes           \n",
      "50.0    0.006766\n",
      "100.0   0.002080\n",
      "250.0   0.008241\n",
      "300.0   0.005471\n",
      "400.0   0.007225\n",
      "500.0   0.000317\n",
      "    Layers  R_Squared\n",
      "18     1.0   0.000000\n",
      "19     2.0   0.000400\n",
      "20     3.0   0.002133\n",
      "21     4.0   0.000985\n",
      "22     5.0   0.000434\n",
      "23     1.0   0.000000\n",
      "24     2.0   0.000000\n",
      "25     3.0   0.001525\n",
      "26     4.0   0.008090\n",
      "27     5.0   0.000554\n",
      "28     1.0   0.000000\n",
      "29     2.0   0.000000\n",
      "30     3.0   0.000049\n",
      "31     4.0   0.000171\n",
      "32     5.0   0.000000\n",
      "('When there are', 1, 'layers,  the r squared value is', 0.0)\n",
      "('When there are', 2, 'layers,  the r squared value is', 0.00039997831319743413)\n",
      "('When there are', 3, 'layers,  the r squared value is', 0.0021328007718202533)\n",
      "('When there are', 4, 'layers,  the r squared value is', 0.0009849534684931737)\n",
      "('When there are', 5, 'layers,  the r squared value is', 0.00043396902782207237)\n",
      "('When there are', 1, 'layers,  the r squared value is', 0.0)\n",
      "('When there are', 2, 'layers,  the r squared value is', 0.0)\n",
      "('When there are', 3, 'layers,  the r squared value is', 0.001524675566020039)\n",
      "('When there are', 4, 'layers,  the r squared value is', 0.00808968048895044)\n",
      "('When there are', 5, 'layers,  the r squared value is', 0.0005535283309744484)\n",
      "('When there are', 1, 'layers,  the r squared value is', 0.0)\n",
      "('When there are', 2, 'layers,  the r squared value is', 0.0)\n",
      "('When there are', 3, 'layers,  the r squared value is', 4.87108945053863e-05)\n",
      "('When there are', 4, 'layers,  the r squared value is', 0.00017099326199254892)\n",
      "('When there are', 5, 'layers,  the r squared value is', 0.0)\n",
      "        R_Squared\n",
      "Layers           \n",
      "1.0      0.000000\n",
      "2.0      0.000133\n",
      "3.0      0.001235\n",
      "4.0      0.003082\n",
      "5.0      0.000329\n",
      "    Filters  R_Squared\n",
      "33     20.0   0.000585\n",
      "34     50.0   0.000005\n",
      "35    100.0   0.000000\n",
      "36    150.0   0.006476\n",
      "37    200.0   0.000761\n",
      "38     20.0   0.002751\n",
      "39     50.0   0.000000\n",
      "40    100.0   0.000004\n",
      "41    150.0   0.000476\n",
      "42    200.0   0.000964\n",
      "43     20.0   0.000000\n",
      "44     50.0   0.000000\n",
      "45    100.0   0.021785\n",
      "46    150.0   0.002039\n",
      "47    200.0   0.000139\n",
      "('When there are', 20, 'filters, the r squared value is', 0.0005849903220870329)\n",
      "('When there are', 50, 'filters, the r squared value is', 4.859689564710494e-06)\n",
      "('When there are', 100, 'filters, the r squared value is', 0.0)\n",
      "('When there are', 150, 'filters, the r squared value is', 0.006476051383624214)\n",
      "('When there are', 200, 'filters, the r squared value is', 0.0007607894307646228)\n",
      "('When there are', 20, 'filters, the r squared value is', 0.002751138364443125)\n",
      "('When there are', 50, 'filters, the r squared value is', 0.0)\n",
      "('When there are', 100, 'filters, the r squared value is', 4.499674767190664e-06)\n",
      "('When there are', 150, 'filters, the r squared value is', 0.0004755293815988807)\n",
      "('When there are', 200, 'filters, the r squared value is', 0.0009642140663415857)\n",
      "('When there are', 20, 'filters, the r squared value is', 0.0)\n",
      "('When there are', 50, 'filters, the r squared value is', 0.0)\n",
      "('When there are', 100, 'filters, the r squared value is', 0.021784805679619528)\n",
      "('When there are', 150, 'filters, the r squared value is', 0.0020387667108752562)\n",
      "('When there are', 200, 'filters, the r squared value is', 0.0001387921893612139)\n",
      "         R_Squared\n",
      "Filters           \n",
      "20.0      0.001112\n",
      "50.0      0.000002\n",
      "100.0     0.007263\n",
      "150.0     0.002997\n",
      "200.0     0.000621\n",
      "    Kernels     R_Squared\n",
      "48      2.0  6.236818e-04\n",
      "49      5.0  0.000000e+00\n",
      "50     10.0  4.347999e-03\n",
      "51     15.0  1.843432e-03\n",
      "52     20.0  1.524721e-04\n",
      "53      2.0  0.000000e+00\n",
      "54      5.0  0.000000e+00\n",
      "55     10.0  2.176577e-03\n",
      "56     15.0  3.961203e-03\n",
      "57     20.0  6.315647e-03\n",
      "58      2.0  6.007165e-07\n",
      "59      5.0  4.126484e-04\n",
      "60     10.0  1.234481e-03\n",
      "61     15.0  2.844241e-03\n",
      "62     20.0  0.000000e+00\n",
      "('When there are', 2, 'kernels, the r squared value is', 0.00062368183426378)\n",
      "('When there are', 5, 'kernels, the r squared value is', 0.0)\n",
      "('When there are', 10, 'kernels, the r squared value is', 0.004347999088842135)\n",
      "('When there are', 15, 'kernels, the r squared value is', 0.0018434321118032564)\n",
      "('When there are', 20, 'kernels, the r squared value is', 0.00015247214114619877)\n",
      "('When there are', 2, 'kernels, the r squared value is', 0.0)\n",
      "('When there are', 5, 'kernels, the r squared value is', 0.0)\n",
      "('When there are', 10, 'kernels, the r squared value is', 0.0021765765378634464)\n",
      "('When there are', 15, 'kernels, the r squared value is', 0.003961202834092407)\n",
      "('When there are', 20, 'kernels, the r squared value is', 0.006315647331239727)\n",
      "('When there are', 2, 'kernels, the r squared value is', 6.007164765415636e-07)\n",
      "('When there are', 5, 'kernels, the r squared value is', 0.000412648364334237)\n",
      "('When there are', 10, 'kernels, the r squared value is', 0.0012344810602296218)\n",
      "('When there are', 15, 'kernels, the r squared value is', 0.002844241085193867)\n",
      "('When there are', 20, 'kernels, the r squared value is', 0.0)\n",
      "         R_Squared\n",
      "Kernels           \n",
      "2.0       0.000208\n",
      "5.0       0.000138\n",
      "10.0      0.002586\n",
      "15.0      0.002883\n",
      "20.0      0.002156\n",
      "    Batch Sizes     R_Squared\n",
      "63         25.0  0.000000e+00\n",
      "64         50.0  4.046064e-04\n",
      "65        100.0  9.288445e-03\n",
      "66        150.0  0.000000e+00\n",
      "67        200.0  6.159938e-05\n",
      "68         25.0  3.654670e-04\n",
      "69         50.0  3.732497e-04\n",
      "70        100.0  1.893685e-08\n",
      "71        150.0  3.872502e-04\n",
      "72        200.0  5.393793e-04\n",
      "73         25.0  8.896930e-04\n",
      "74         50.0  1.176296e-03\n",
      "75        100.0  0.000000e+00\n",
      "76        150.0  5.339394e-03\n",
      "77        200.0  0.000000e+00\n",
      "('When there is a', 25, 'batch size, the r squared value is', 0.0)\n",
      "('When there is a', 50, 'batch size, the r squared value is', 0.00040460638827952687)\n",
      "('When there is a', 100, 'batch size, the r squared value is', 0.009288444575149801)\n",
      "('When there is a', 150, 'batch size, the r squared value is', 0.0)\n",
      "('When there is a', 200, 'batch size, the r squared value is', 6.159937526073605e-05)\n",
      "('When there is a', 25, 'batch size, the r squared value is', 0.0003654670166611424)\n",
      "('When there is a', 50, 'batch size, the r squared value is', 0.0003732496638548136)\n",
      "('When there is a', 100, 'batch size, the r squared value is', 1.8936850728815392e-08)\n",
      "('When there is a', 150, 'batch size, the r squared value is', 0.00038725019156950956)\n",
      "('When there is a', 200, 'batch size, the r squared value is', 0.000539379264757299)\n",
      "('When there is a', 25, 'batch size, the r squared value is', 0.0008896929813439853)\n",
      "('When there is a', 50, 'batch size, the r squared value is', 0.0011762960217155452)\n",
      "('When there is a', 100, 'batch size, the r squared value is', 0.0)\n",
      "('When there is a', 150, 'batch size, the r squared value is', 0.005339393757660614)\n",
      "('When there is a', 200, 'batch size, the r squared value is', 0.0)\n",
      "             R_Squared\n",
      "Batch Sizes           \n",
      "25.0          0.000418\n",
      "50.0          0.000651\n",
      "100.0         0.003096\n",
      "150.0         0.001909\n",
      "200.0         0.000200\n",
      "   Optimizer     R_Squared\n",
      "78       SGD  6.383027e-06\n",
      "79   RMSprop  1.081305e-05\n",
      "80   Adagrad  0.000000e+00\n",
      "81  Adadelta  2.224482e-05\n",
      "82      Adam  0.000000e+00\n",
      "83    Adamax  0.000000e+00\n",
      "84     Nadam  1.897662e-05\n",
      "85       SGD  7.417972e-04\n",
      "86   RMSprop  1.107121e-03\n",
      "87   Adagrad  0.000000e+00\n",
      "88  Adadelta  1.953461e-03\n",
      "89      Adam  0.000000e+00\n",
      "90    Adamax  8.000784e-03\n",
      "91     Nadam  5.657338e-03\n",
      "92       SGD  6.250754e-04\n",
      "93   RMSprop  2.818405e-03\n",
      "94   Adagrad  2.647474e-04\n",
      "95  Adadelta  7.514241e-03\n",
      "96      Adam  5.390408e-07\n",
      "97    Adamax  0.000000e+00\n",
      "98     Nadam  0.000000e+00\n",
      "('When there is a', 'SGD', 'optimizer, the r squared value is', 6.383027436285405e-06)\n",
      "('When there is a', 'RMSprop', 'optimizer, the r squared value is', 1.081305164108203e-05)\n",
      "('When there is a', 'Adagrad', 'optimizer, the r squared value is', 0.0)\n",
      "('When there is a', 'Adadelta', 'optimizer, the r squared value is', 2.2244822900681745e-05)\n",
      "('When there is a', 'Adam', 'optimizer, the r squared value is', 0.0)\n",
      "('When there is a', 'Adamax', 'optimizer, the r squared value is', 0.0)\n",
      "('When there is a', 'Nadam', 'optimizer, the r squared value is', 1.897661553088935e-05)\n",
      "('When there is a', 'SGD', 'optimizer, the r squared value is', 0.0007417972068991174)\n",
      "('When there is a', 'RMSprop', 'optimizer, the r squared value is', 0.0011071210978176984)\n",
      "('When there is a', 'Adagrad', 'optimizer, the r squared value is', 0.0)\n",
      "('When there is a', 'Adadelta', 'optimizer, the r squared value is', 0.001953461118235643)\n",
      "('When there is a', 'Adam', 'optimizer, the r squared value is', 0.0)\n",
      "('When there is a', 'Adamax', 'optimizer, the r squared value is', 0.008000783911020852)\n",
      "('When there is a', 'Nadam', 'optimizer, the r squared value is', 0.005657338456837655)\n",
      "('When there is a', 'SGD', 'optimizer, the r squared value is', 0.0006250753659484616)\n",
      "('When there is a', 'RMSprop', 'optimizer, the r squared value is', 0.0028184045912513973)\n",
      "('When there is a', 'Adagrad', 'optimizer, the r squared value is', 0.00026474743036381123)\n",
      "('When there is a', 'Adadelta', 'optimizer, the r squared value is', 0.00751424082558661)\n",
      "('When there is a', 'Adam', 'optimizer, the r squared value is', 5.390408333423138e-07)\n",
      "('When there is a', 'Adamax', 'optimizer, the r squared value is', 0.0)\n",
      "('When there is a', 'Nadam', 'optimizer, the r squared value is', 0.0)\n",
      "              R_Squared\n",
      "Optimizer              \n",
      "Adadelta   3.163316e-03\n",
      "Adagrad    8.824914e-05\n",
      "Adam       1.796803e-07\n",
      "Adamax     2.666928e-03\n",
      "Nadam      1.892105e-03\n",
      "RMSprop    1.312113e-03\n",
      "SGD        4.577519e-04\n",
      "       Activation  R_Squared\n",
      "99        softmax   0.004465\n",
      "100      softplus   0.000000\n",
      "101      softsign   0.000000\n",
      "102          relu   0.000551\n",
      "103          tanh   0.003412\n",
      "104       sigmoid   0.000000\n",
      "105  hard_sigmoid   0.000000\n",
      "106        linear   0.011617\n",
      "107       softmax   0.000000\n",
      "108      softplus   0.006837\n",
      "109      softsign   0.002928\n",
      "110          relu   0.000121\n",
      "111          tanh   0.013428\n",
      "112       sigmoid   0.000216\n",
      "113  hard_sigmoid   0.000000\n",
      "114        linear   0.005519\n",
      "115       softmax   0.000000\n",
      "116      softplus   0.000118\n",
      "117      softsign   0.000000\n",
      "118          relu   0.000000\n",
      "119          tanh   0.005278\n",
      "120       sigmoid   0.001575\n",
      "121  hard_sigmoid   0.000000\n",
      "122        linear   0.001805\n",
      "('When there is a', 'softmax', 'activation, the r squared value is', 0.004465199111513876)\n",
      "('When there is a', 'softplus', 'activation, the r squared value is', 0.0)\n",
      "('When there is a', 'softsign', 'activation, the r squared value is', 0.0)\n",
      "('When there is a', 'relu', 'activation, the r squared value is', 0.0005506890832063065)\n",
      "('When there is a', 'tanh', 'activation, the r squared value is', 0.003412152348104468)\n",
      "('When there is a', 'sigmoid', 'activation, the r squared value is', 0.0)\n",
      "('When there is a', 'hard_sigmoid', 'activation, the r squared value is', 0.0)\n",
      "('When there is a', 'linear', 'activation, the r squared value is', 0.01161729800638547)\n",
      "('When there is a', 'softmax', 'activation, the r squared value is', 0.0)\n",
      "('When there is a', 'softplus', 'activation, the r squared value is', 0.006836967617941668)\n",
      "('When there is a', 'softsign', 'activation, the r squared value is', 0.0029277192592831814)\n",
      "('When there is a', 'relu', 'activation, the r squared value is', 0.00012101164743017925)\n",
      "('When there is a', 'tanh', 'activation, the r squared value is', 0.0134278097427549)\n",
      "('When there is a', 'sigmoid', 'activation, the r squared value is', 0.00021625058112393196)\n",
      "('When there is a', 'hard_sigmoid', 'activation, the r squared value is', 0.0)\n",
      "('When there is a', 'linear', 'activation, the r squared value is', 0.005518652161455452)\n",
      "('When there is a', 'softmax', 'activation, the r squared value is', 0.0)\n",
      "('When there is a', 'softplus', 'activation, the r squared value is', 0.00011754239375873766)\n",
      "('When there is a', 'softsign', 'activation, the r squared value is', 0.0)\n",
      "('When there is a', 'relu', 'activation, the r squared value is', 0.0)\n",
      "('When there is a', 'tanh', 'activation, the r squared value is', 0.005278113892797342)\n",
      "('When there is a', 'sigmoid', 'activation, the r squared value is', 0.0015749184926851178)\n",
      "('When there is a', 'hard_sigmoid', 'activation, the r squared value is', 0.0)\n",
      "('When there is a', 'linear', 'activation, the r squared value is', 0.0018052268348713863)\n",
      "              R_Squared\n",
      "Activation             \n",
      "hard_sigmoid   0.000000\n",
      "linear         0.006314\n",
      "relu           0.000224\n",
      "sigmoid        0.000597\n",
      "softmax        0.001488\n",
      "softplus       0.002318\n",
      "softsign       0.000976\n",
      "tanh           0.007373\n"
     ]
    },
    {
     "data": {
      "text/plain": [
       "Text(0.5, 1.0, 'Grid Search-Activation')"
      ]
     },
     "execution_count": 42,
     "metadata": {},
     "output_type": "execute_result"
    },
    {
     "data": {
      "image/png": "[encoded data removed]",
      "text/plain": [
       "<Figure size 640x480 with 1 Axes>"
      ]
     },
     "metadata": {},
     "output_type": "display_data"
    },
    {
     "data": {
      "image/png": "[encoded data removed]",
      "text/plain": [
       "<Figure size 640x480 with 1 Axes>"
      ]
     },
     "metadata": {},
     "output_type": "display_data"
    },
    {
     "data": {
      "image/png": "[encoded data removed]",
      "text/plain": [
       "<Figure size 640x480 with 1 Axes>"
      ]
     },
     "metadata": {},
     "output_type": "display_data"
    },
    {
     "data": {
      "image/png": "[encoded data removed]",
      "text/plain": [
       "<Figure size 640x480 with 1 Axes>"
      ]
     },
     "metadata": {},
     "output_type": "display_data"
    },
    {
     "data": {
      "image/png": "[encoded data removed]",
      "text/plain": [
       "<Figure size 640x480 with 1 Axes>"
      ]
     },
     "metadata": {},
     "output_type": "display_data"
    },
    {
     "data": {
      "image/png": "[encoded data removed]",
      "text/plain": [
       "<Figure size 640x480 with 1 Axes>"
      ]
     },
     "metadata": {},
     "output_type": "display_data"
    },
    {
     "data": {
      "image/png": "[encoded data removed]",
      "text/plain": [
       "<Figure size 640x480 with 1 Axes>"
      ]
     },
     "metadata": {},
     "output_type": "display_data"
    }
   ],
   "source": [
    "#create new data frame that gives mean r squared and plot\n",
    "f1= plt.figure()\n",
    "f2= plt.figure()\n",
    "f3= plt.figure()\n",
    "f4= plt.figure() \n",
    "f5= plt.figure()\n",
    "f6= plt.figure()\n",
    "f7= plt.figure()\n",
    "\n",
    "\n",
    "print(GS_Nodes)\n",
    "for i in Nodes_Results:\n",
    "    print(i)\n",
    "    \n",
    "GS_Nodes_Grouped=(GS_Nodes.groupby(['Nodes']).mean())\n",
    "print(GS_Nodes_Grouped)\n",
    "\n",
    "# plot results\n",
    "ax1 = f1.add_subplot(111)\n",
    "ax1.plot(GS_Nodes_Grouped)\n",
    "ax1.set_xlabel(\"Nodes\")\n",
    "ax1.set_ylabel(\"Mean R Squared\")\n",
    "ax1.set_title (\"Grid Search-Nodes\")\n",
    "\n",
    "\n",
    "\n",
    "\n",
    "print(GS_Layers)\n",
    "for i in Layers_Results:\n",
    "    print(i)\n",
    "    \n",
    "GS_Layers_Grouped=(GS_Layers.groupby(['Layers']).mean())\n",
    "print(GS_Layers_Grouped)\n",
    "\n",
    "# plot results\n",
    "ax2 = f2.add_subplot(111)\n",
    "ax2.plot(GS_Layers_Grouped)\n",
    "ax2.set_xlabel(\"Layers\")\n",
    "ax2.set_ylabel(\"Mean R Squared\")\n",
    "ax2.set_title (\"Grid Search-Layers\")\n",
    "\n",
    "print(GS_Filters)\n",
    "for i in Filters_Results:\n",
    "    print(i)\n",
    "    \n",
    "GS_Filters_Grouped=(GS_Filters.groupby(['Filters']).mean())\n",
    "print(GS_Filters_Grouped)\n",
    "\n",
    "# plot results\n",
    "\n",
    "ax3 = f3.add_subplot(111)\n",
    "ax3.plot(GS_Filters_Grouped)\n",
    "ax3.set_xlabel(\"Filters\")\n",
    "ax3.set_ylabel(\"Mean R Squared\")\n",
    "ax3.set_title (\"Grid Search-Filters\")\n",
    "\n",
    "\n",
    "\n",
    "print(GS_Kernels)\n",
    "for i in Kernels_Results:\n",
    "    print(i)\n",
    "    \n",
    "GS_Kernels_Grouped=(GS_Kernels.groupby(['Kernels']).mean())\n",
    "print(GS_Kernels_Grouped)\n",
    "\n",
    "# plot results\n",
    "ax4 = f4.add_subplot(111)\n",
    "ax4.plot(GS_Kernels_Grouped)\n",
    "ax4.set_xlabel(\"Kernels\")\n",
    "ax4.set_ylabel(\"Mean R Squared\")\n",
    "ax4.set_title (\"Grid Search-Kernels\")\n",
    "\n",
    "\n",
    "print(GS_Batch_Sizes)\n",
    "for i in Batch_Sizes_Results:\n",
    "    print(i)\n",
    "    \n",
    "GS_Batch_Sizes_Grouped=(GS_Batch_Sizes.groupby(['Batch Sizes']).mean())\n",
    "print(GS_Batch_Sizes_Grouped)\n",
    "\n",
    "# plot results\n",
    "ax5 = f5.add_subplot(111)\n",
    "ax5.plot(GS_Batch_Sizes_Grouped)\n",
    "ax5.set_xlabel(\"Batch Size\")\n",
    "ax5.set_ylabel(\"Mean R Squared\")\n",
    "ax5.set_title (\"Grid Search-Batch Size\")\n",
    "\n",
    "\n",
    "print(GS_Optimizer)\n",
    "for i in Optimizer_Results:\n",
    "    print(i)\n",
    "    \n",
    "GS_Optimizer_Grouped=(GS_Optimizer.groupby(['Optimizer']).mean())\n",
    "print(GS_Optimizer_Grouped)\n",
    "\n",
    "# plot results\n",
    "ax6 = f6.add_subplot(111)\n",
    "ax6.plot(GS_Optimizer_Grouped)\n",
    "ax6.set_xlabel(\"Optimizer\")\n",
    "ax6.set_ylabel(\"Mean R Squared\")\n",
    "ax6.set_title (\"Grid Search-Optimizer\")\n",
    "\n",
    "\n",
    "print(GS_Activation)\n",
    "for i in Activation_Results:\n",
    "    print(i)\n",
    "    \n",
    "GS_Activation_Grouped=(GS_Activation.groupby(['Activation']).mean())\n",
    "print(GS_Activation_Grouped)\n",
    "\n",
    "# plot results\n",
    "ax7 = f7.add_subplot(111)\n",
    "ax7.plot(GS_Activation_Grouped)\n",
    "ax7.set_xlabel(\"Activation\")\n",
    "ax7.set_ylabel(\"Mean R Squared\")\n",
    "ax7.set_title (\"Grid Search-Activation\")\n",
    "\n"
   ]
  },
  {
   "cell_type": "code",
   "execution_count": 147,
   "metadata": {},
   "outputs": [
    {
     "name": "stdout",
     "output_type": "stream",
     "text": [
      "   Nodes  Layers  Epochs  Filters  Kernels  Batch_Sizes Optimizer Activation\n",
      "0     50       1       3       20        2           50       SGD    softmax\n",
      "1     50       1       3       20        2           50       SGD   softplus\n",
      "2     50       1       3       20        2           50       SGD   softsign\n",
      "3     50       1       3       20        2           50       SGD       relu\n",
      "4     50       1       3       20        2           50       SGD       tanh\n"
     ]
    },
    {
     "ename": "SyntaxError",
     "evalue": "'yield' outside function (2445889806.py, line 23)",
     "output_type": "error",
     "traceback": [
      "\u001b[0;36m  Cell \u001b[0;32mIn[147], line 23\u001b[0;36m\u001b[0m\n\u001b[0;31m    yield\u001b[0m\n\u001b[0m    ^\u001b[0m\n\u001b[0;31mSyntaxError\u001b[0m\u001b[0;31m:\u001b[0m 'yield' outside function\n"
     ]
    }
   ],
   "source": [
    "#for grid search of multiple parameters\n",
    "#Make a table of all the variations and output r squared\n",
    "Grid_Search=pd.DataFrame()\n",
    "row=0\n",
    "Grid_Search[\"Nodes\"]=\"\"\n",
    "Grid_Search[\"Layers\"]=\"\"\n",
    "Grid_Search[\"Filters\"]=\"\"\n",
    "Grid_Search[\"Kernels\"]=\"\"\n",
    "Grid_Search[\"Batch_Sizes\"]=\"\"\n",
    "Grid_Search[\"Optimizer\"]=\"\"\n",
    "Grid_Search[\"Activation\"]=\"\"\n",
    "for i in nodes:\n",
    "    for j in layers:\n",
    "        for k in nbr_filters:\n",
    "            for l in filter_len:\n",
    "                for m in batch_size:\n",
    "                    for n in optimizer:\n",
    "                        for o in activation:\n",
    "                                Grid_Search.loc[row]=(i,j,k,l,m,n, o)\n",
    "                                row+=1\n",
    "print(Grid_Search.head())\n",
    "yield\n",
    "\n",
    "for i in nodes:\n",
    "    for j in layers:\n",
    "            for k in nbr_filters:\n",
    "                for l in filter_len:\n",
    "                    for m in batch_size:\n",
    "                        for n in optimizer:\n",
    "                            for o in activation:\n",
    "                                model = train_model(seq_e_train, e_train['Count Freq'], nb_epoch=3,border_mode='same',\n",
    "                                            inp_len=133, nodes=i, layers=j, nbr_filters=k, filter_len=l, dropout1=0,\n",
    "                                           dropout2=0,dropout3=0.2, batch_size=m, optimizer=n, activation=o)\n",
    "                        e_test = test_data(df=e_test, model=model, obs_col='Count Freq',test_seq=seq_e_test)\n",
    "                        r = r2(e_test['Count Freq'], e_test['pred'])\n",
    "                        e_test['pred']\n",
    "                        R_Squared.append(r)\n",
    "                        a= \"When there are\", i,\"nodes\", j, \"layers\", k, \"filters\", l, \"kernels\", m, \"batch size\", n, \"optimizer, and\", o, \"activation,  the r squared value is\", r\n",
    "                        Results.append(a)\n",
    "                        \n",
    "Grid_Search[\"R Squared\"]=R_Squared\n",
    "\n",
    "print(Grid_Search)"
   ]
  }
 ],
 "metadata": {
  "kernelspec": {
   "display_name": "labwork",
   "language": "python",
   "name": "labwork"
  },
  "language_info": {
   "codemirror_mode": {
    "name": "ipython",
    "version": 3
   },
   "file_extension": ".py",
   "mimetype": "text/x-python",
   "name": "python",
   "nbconvert_exporter": "python",
   "pygments_lexer": "ipython3",
   "version": "3.10.9"
  }
 },
 "nbformat": 4,
 "nbformat_minor": 4
}
