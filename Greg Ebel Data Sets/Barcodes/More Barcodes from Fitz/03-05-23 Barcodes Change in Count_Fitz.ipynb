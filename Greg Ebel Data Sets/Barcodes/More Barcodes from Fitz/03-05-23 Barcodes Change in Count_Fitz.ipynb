{
 "cells": [
  {
   "cell_type": "code",
   "execution_count": 58,
   "metadata": {},
   "outputs": [
    {
     "name": "stdout",
     "output_type": "stream",
     "text": [
      "no duplicates\n"
     ]
    }
   ],
   "source": [
    "# import pandas as pd\n",
    "import numpy as np\n",
    "import pandas as pd\n",
    "\n",
    "\n",
    "#load data sets\n",
    "#create new column that is frequency of counts\n",
    "df=pd.read_csv(\"More Barcodes From Fitz/CSV Files/estimated_input.csv\", index_col=0)\n",
    "\n",
    "df2=pd.read_csv(\"More Barcodes From Fitz/CSV Files/cxt_12dpi_mg_all_true_barcodes_without_duplicates.csv\")\n",
    "\n",
    "df3=pd.DataFrame()\n",
    "\n",
    "#Make several empty lists to fill with dictionary values\n",
    "list1=[] #the sequences\n",
    "list2=[] #the input count frequency\n",
    "list3=[] #the 12dpi count frequency\n",
    "list4=[] #the difference in the counts\n",
    "\n",
    "Input= df.set_index('Barcode Sequence')[\"Frequency\"].to_dict()\n",
    "MG= df2.set_index('Barcode Sequence')[\"Frequency\"].to_dict() \n",
    "\n",
    "\n",
    "#fill the lists\n",
    "for x,y in Input.items():\n",
    "    if x in MG.keys():\n",
    "        list1.append(x)\n",
    "        list2.append(y)\n",
    "        a=MG.get(x)\n",
    "        list3.append(a)\n",
    "        \n",
    "#make list 3 the difference between the counts\n",
    "for a,b in zip(list3,list2):\n",
    "    list4.append(a-b)\n",
    "\n",
    "#make a dictionary with the duplicate sequences and the differences between the barcodes\n",
    "New_Counts={}\n",
    "\n",
    "for key in list1:\n",
    "    for value in list4:\n",
    "        New_Counts[key] = value\n",
    "        list4.remove(value)\n",
    "        break\n",
    "\n",
    "#Now lets turn the dictioanry into a dataframe\n",
    "\n",
    "df3[\"Barcode Sequence\"]=New_Counts.keys()\n",
    "df3[\"Change in Count Freq\"] = New_Counts.values()\n",
    "bool_series = df3.duplicated()\n",
    "if True in bool_series:\n",
    "    print(\"yes\")\n",
    "else:\n",
    "    print('no duplicates')\n",
    "\n",
    "df3.to_csv(\"More Barcodes From Fitz/Alligned Barcode/Input_vs_mg_all_barcodes.csv\")\n",
    "df3.to_pickle(\"More Barcodes From Fitz/Alligned Barcode/Input_vs_mg_all_barcodes.pkl\")"
   ]
  }
 ],
 "metadata": {
  "kernelspec": {
   "display_name": "labwork",
   "language": "python",
   "name": "labwork"
  },
  "language_info": {
   "codemirror_mode": {
    "name": "ipython",
    "version": 3
   },
   "file_extension": ".py",
   "mimetype": "text/x-python",
   "name": "python",
   "nbconvert_exporter": "python",
   "pygments_lexer": "ipython3",
   "version": "3.10.9"
  }
 },
 "nbformat": 4,
 "nbformat_minor": 4
}
